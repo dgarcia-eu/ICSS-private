{
 "cells": [
  {
   "cell_type": "markdown",
   "id": "6121185a",
   "metadata": {
    "tags": []
   },
   "source": [
    "<div style=\"text-align: center;\" >\n",
    "<h1 style=\"margin-top: 0.2em; margin-bottom: 0.1em;\">The Terminal</h1>\n",
    "<h4 style=\"margin-top: 0.7em; margin-bottom: 0.3em; font-style:italic\">Why and how the $@!* to use it!</h4>\n",
    "</div>\n",
    "<br>"
   ]
  },
  {
   "cell_type": "markdown",
   "id": "993a0296-480c-4d15-b54d-4de5c43b690b",
   "metadata": {},
   "source": [
    "***Notice: If you are viewing this file online via GitHub preview the included images won't load properly. To view the full and working notebook please download/pull the content to your local machine and open the notebook using your IDE (e.g. jupyter lab).***"
   ]
  },
  {
   "cell_type": "markdown",
   "id": "492e5076",
   "metadata": {},
   "source": [
    "Well, you might have heard of it, you might have even seen it already. What am I talking about, you might ask yourself? The terminal of course... Or console, or command line, or PowerShell. Well, you get it. It is kind of complicated or it at least seems like it.<br>\n",
    "All in all though it is not as bad as you might think. You can think of the terminal - this term will be used in the following to referr to the above mentioned different names for the same concept - as a way of passing line by line commands to your computer. Pretty much comparable to the coding you might do in Python. Though, instead of using the language 'Python' to achive your goals, you are actually using your operating system - Linux, Windows, or MacOS - as programming language. Of course it is a bit more complicated than that but I hope you either already got the gist or that you will over the course of this tutorial notebook.<br>\n",
    "Lets start out with getting a first look at the mysterious terminal and nailing down some of its basic features. In order to open the terminal there are several different ways. Here are the handiest appraches for each OS (operating system):"
   ]
  },
  {
   "cell_type": "markdown",
   "id": "8f0d0b5c",
   "metadata": {},
   "source": [
    "***\n",
    "***Disclaimer***\n",
    "\n",
    "In the winter semester 2024/25 we have asked all windows user, to install WSL (windows subsystem linux) prior to the tutorial session to ensure that we can all use the same commands.\n",
    "\n",
    "Windows user therefore need one additional step: they open the terminal and then have to state, that they want to work with the linux-subsystem.\n",
    "\n",
    "If, at one point, you need to work with your *actual* windows terminal instead, leaf out this step but be aware that commands then can be different from the Linux/Mac ones.\n",
    "***"
   ]
  },
  {
   "cell_type": "markdown",
   "id": "ae5c3739",
   "metadata": {},
   "source": [
    "<h2>Opening the terminal</h2>\n",
    "\n",
    "- Windows\n",
    "    - `right click`the windows logo in your taskbar\n",
    "    - Select `Terminal`or `Terminal (Admin)`\n",
    "    - Type `bash` and hit enter to open the Linux subsystem\n",
    "    - Voila\n",
    "    \n",
    "- Linux\n",
    "    - `press`the super key on your keyboard (on most keyboards this is the key with the windows logo on it)\n",
    "    - Type `terminal`into the search field and press `enter`\n",
    "    - Voila\n",
    "    \n",
    "- MacOS\n",
    "    - `click`the launchpad icon in your dock\n",
    "    - Type `terminal` into the search field and press `enter`\n",
    "    - Voila\n",
    "    \n",
    "Of course, there are a few other ways of opening the terminal on your respective machine. Some require less input from your side but you might have to first perform a small setup. Here are some sources documenting different approaches for each major OS:<br>\n",
    "[Windows](https://www.howtogeek.com/662611/9-ways-to-open-powershell-in-windows-10/#create-a-powershell-shortcut-on-the-desktop)<br>\n",
    "[Linux](https://www.redhat.com/sysadmin/linux-terminal-window)<br>\n",
    "[MacOS](https://support.apple.com/guide/terminal/open-or-quit-terminal-apd5265185d-f365-44cb-8b09-71a064a42125/mac)"
   ]
  },
  {
   "cell_type": "markdown",
   "id": "dd88fea7-352a-4766-92e5-3db54d58bf9a",
   "metadata": {},
   "source": [
    "***In this notebook we are working with the Windows Subsystem for Linux. With this we are able to use a Linux (Ubuntu) terminal on a Windows11 machine. All of the following code will work exactly the same way as presented on major Linux distributions and in most cases also on MacOS. Sadly, Windows is a bit different and some stuff works differently on Windows. If you have any questions don't hesistate to ask but the following code is mainly designed to show you the basics with an Ubuntu terminal***"
   ]
  },
  {
   "cell_type": "markdown",
   "id": "68f4cecb",
   "metadata": {},
   "source": [
    "$\\to$ in the current semester 2024/25, we asked all Windows user to install and use exactly this subsystem. So you can follow this notebook in the same way!"
   ]
  },
  {
   "cell_type": "markdown",
   "id": "d8b5f65b",
   "metadata": {},
   "source": [
    "Now that you have opened the terminal you should be confronted with a new window looking somewhat like this:<br>\n",
    "Please note that this is a Linux example and that the terminal window might look different on your machine. The important part is that it looks kinda Matrix(y)...\n",
    "![Terminal on Windows Subsystem for Linux (Ubuntu)](sources/terminal.png)"
   ]
  },
  {
   "cell_type": "markdown",
   "id": "899543e9",
   "metadata": {},
   "source": [
    "Of course it won't say `andri@Barad-dur` on your machine, presuming you didn't set up the user account on your computer using 'Andri' as account name. What this line tells you is very important when working with the terminal. Maybe you can already guess what information is displayed here. Think about it for a moment! Maybe you can even guess why this information is so important?"
   ]
  },
  {
   "cell_type": "code",
   "execution_count": null,
   "id": "5f887142-b38d-49a2-a6c8-d1f5cdf766f6",
   "metadata": {},
   "outputs": [],
   "source": [
    "# Time for action\n"
   ]
  },
  {
   "cell_type": "markdown",
   "id": "d5d705ae",
   "metadata": {},
   "source": [
    "<h2>Navigating the File System Using the Terminal</h2>\n",
    "<h3>Two Different Methods</h3>\n",
    "\n",
    "What all that mumbo jumbo in front of the `:` symbol tells you, is the location or source directory from which your terminal is working. Think about it like this:<br>\n",
    "Every time you pass a command to the terminal - you want to move or delete a file for example - you need to specify on what object - in this case the file - you want to perform the operation on and where this file is located. There are two ways of defining a location:\n",
    "1. With an absolute path\n",
    "2. With a relative path   \n",
    "\n",
    "Look at the two following paths. Which of them is relative and which is absolute:<br>\n",
    "a) `~/Users/Fake/documents/icss<3/session101/command_line.ipynb`<br>\n",
    "b) `icss<3/session101/command_line.ipynb`"
   ]
  },
  {
   "cell_type": "code",
   "execution_count": null,
   "id": "9e416453-8cca-47cb-a025-12004c1e313a",
   "metadata": {},
   "outputs": [],
   "source": [
    "# Time for action\n"
   ]
  },
  {
   "cell_type": "markdown",
   "id": "ab62f06a",
   "metadata": {},
   "source": [
    "Most of the time you will want to try and use a relative path. That saves you a lot of typing and reduces room for errors. In order for a relative path to be accepted as a valid location, though, you will need to be at the correct starting location. Another metaphor:<br>\n",
    "You are taking the train from Constance to Berlin. If you have ever taken that journey you will know that there is no direct train connection between the two cities. Depending on the connection of your choice you will have to change trains at least once, maybe even more often. For the sake of an easy argument we assume you have to transfer once at Baden-Baden.<br> What does your ticket say if you look at the detailed information? Does it simply read 'Constance $\\rightarrow$ Berlin' or does it read 'Constance $\\rightarrow$ Baden-Baden; Baden-Baden $\\rightarrow$ Berlin'?<br>\n",
    "What would happen if you wanted to go from Constance to Berlin but you only bought a ticket for the connection from Baden-Baden to Berlin?"
   ]
  },
  {
   "cell_type": "markdown",
   "id": "ac8fdfb7",
   "metadata": {},
   "source": [
    "Lets make some sense of this example and apply it to our terminal.<br>\n",
    "The detailed travel information is pretty much like your absolute path. You get on the train in Constance, ride it until Baden-Baden, then you change and go on until Berlin. If your ticked is checked anywhere along the way you won't encounter a problem and you'll arrive happily at Berlin<br>\n",
    "If you started out in Constance, though, and would have only bought a ticket for the Baden-Baden to Berlin connection, you would face a problem if your ticket was checked on the way from Constance to Baden-Baden. If it were checked on the way from Baden-Baden to Berlin, though, everything would be fine. This is our relative path<br>\n",
    "What is the difference and how might you apply this knowledge to navigate your file system using the terminal?<br>\n",
    "Assume that the correct file path to your target file `comand_line.ipynb`is `~/Users/Fake/documents/icss<3/session101/command_line.ipynb`."
   ]
  },
  {
   "cell_type": "markdown",
   "id": "f6090ea8-43bb-4196-93da-ab10ce6e297d",
   "metadata": {},
   "source": [
    "<h3>The Absolute Path</h3>"
   ]
  },
  {
   "cell_type": "markdown",
   "id": "ea18a518",
   "metadata": {},
   "source": [
    "The absolute path documents each single step from the very start of your journey to the very end of it.<br>\n",
    "`user@machine:~$ ~/Users/Fake/documents/icss<3/session101/command_line.ipynb`can be translated to:\n",
    "1. We are at `~` (this is the home directory ie. the parent directory of all other directories)\n",
    "2. Go to `Users`\n",
    "3. Go from `Users`to `Fake`\n",
    "4. Go from `Fake` to `documents`\n",
    "5. Go from `documents` to `icss<3`\n",
    "6. Go from `icss<3` to `session101`\n",
    "7. Select the file `command_line.ipynb` from the `session101`directory  \n",
    "\n",
    "No matter where along the way you might be you will always have a 'valid ticket' since each location aka directory and your target file is listed on your ticket: `~`, `Users`, `Fake`, `documents`, `icss<3`, `session101`, and `command_line.ipynb`."
   ]
  },
  {
   "cell_type": "markdown",
   "id": "9513e692-e8af-40ea-a189-9619180fe310",
   "metadata": {},
   "source": [
    "<h3>The Relative Path</h3>"
   ]
  },
  {
   "cell_type": "markdown",
   "id": "2a709641",
   "metadata": {},
   "source": [
    "The relative path on the other hand documents only a part of your journey from a certain point until the end.<br>\n",
    "`user@machine:~/Users/Fake$ icss<3/session101/command_line.ipynb` can be translated to:\n",
    "1. We are at `~/Users/Fake` (remember: home directory ie. the parent directory of all other directories)\n",
    "2. Go to `icss<3`\n",
    "3. Go from `icss<3`to `session101`\n",
    "4. Select `command_line.ipynb`from the `session101`directory\n",
    "\n",
    "Here you fill face an error. At the moment you are at `~/Users/Fake`. From there you hop on the train to go to `icss<3` but you do not have a ticket for the connection(s) inbetween `Fake/documents`and `documents/icss<3`. Once your ticket is checked the inspector will notice that you did not book a ticket to go from `Fake`to `documents`and from `documents`to `icss<3`. Though luck...<br>\n",
    "If you would have managed to get to `~/Users/Fake/documents>`without ticket check everything would be fine but sadly the terminal is a rather hard working ticket inspector that never misses a ticket check and it won't let the issue slide."
   ]
  },
  {
   "cell_type": "markdown",
   "id": "0ca223a8",
   "metadata": {
    "tags": []
   },
   "source": [
    "<h3>Pros and Cons</h3>\n",
    "<h4>Absolute Path</h4>\n",
    "Now, you might wonder why we do not simply use the absolute path at all times. As hinted above it can get tiresome to always have to type out the full file path of each individual file. Can you think of another reason why you might want to avoid using the absolute path of a file or directory?"
   ]
  },
  {
   "cell_type": "code",
   "execution_count": null,
   "id": "6c201ab9-fc79-4d77-83a9-20711fd1bf94",
   "metadata": {},
   "outputs": [],
   "source": [
    "# Time for some action!"
   ]
  },
  {
   "cell_type": "markdown",
   "id": "ce972cc4",
   "metadata": {},
   "source": [
    "- Collaboration\n",
    "- Ease of use (sometimes you might just not know all the steps from your home directory to the target directory)\n",
    "- ***Anything else?***"
   ]
  },
  {
   "cell_type": "markdown",
   "id": "3c8e210b",
   "metadata": {},
   "source": [
    "<h4>Relative Path</h4>\n",
    "Contrary to the absolute path the relative path can save you quite a lot of typed characters but navigating with it is only possible if you start out at the correct starting point.\n",
    "On the other hand, though, it can facilitate collaboration and makes sharing and running code across machines a lot simpler and more flexible."
   ]
  },
  {
   "cell_type": "markdown",
   "id": "3d43c86e-3196-49f3-8760-7d5001ac7f7e",
   "metadata": {
    "tags": []
   },
   "source": [
    "<h3>The Directory Structure as a Tree</h3>"
   ]
  },
  {
   "cell_type": "markdown",
   "id": "3437b111-d282-43fe-a65a-3bad2d3c4a6d",
   "metadata": {},
   "source": [
    "***Let's assume for a bit that we are working with a Windows terminal and directory structure. This is just another way to think of absolute and relative paths so MacOS and Linux users don't worry! Essentially everything in this example can be translated nearly 1:1 to MacOS and Linux.***"
   ]
  },
  {
   "cell_type": "markdown",
   "id": "c4d8f4f0-46e9-4fe2-8807-7dc01bf60e10",
   "metadata": {
    "tags": []
   },
   "source": [
    "Another way of thinking about navigatig your directory structure is to visualize it as a tree. Look at the following toy example of a Windows directory structure:"
   ]
  },
  {
   "cell_type": "markdown",
   "id": "418988e1",
   "metadata": {},
   "source": [
    "![Windows 11 Directory Structure Example](sources/directory_structure.png)<br>\n",
    "Imagine that you are at `C:/Users/Me`and you would like to select some random file from `C:/Users/Me/Now`."
   ]
  },
  {
   "cell_type": "markdown",
   "id": "ec4c716c",
   "metadata": {},
   "source": [
    "<h4>The Absolute Path</h4>\n",
    "\n",
    "Using the absolute path you enter the tree at the very top at `C:`. `C:`is your home directory, meaning that (for most users) everything you store on your machine is located somewhere in `C:`. Using a bottom up approach in combination with this tree diagram you can see that `Now`is a subdirectory of `Me`which in turn is a subdirectory of `Users` which is a subdirectory of `C:`.<br>\n",
    "This means that from `C:`you have to move to `Users`, from there to `Me`and finally to `Now`where you can then select some arbitrary file `someFile.txt`. Putting this together into a file path it would look like this: `C:/Users/Me/Now/someFile.txt`.<br>\n",
    "As we have seen earlier from the example of using a relative path, if we are at `C:/Users`and we then use `Now/someFile.txt`to select a file from the directory `Now`we face the problem that `Now`is not a direct subdirectory of `Users`- there is no direct edge connecting the two - and we are promted with an error message.<br>\n",
    "So, following this logic you might ask yourself why there is no error message if an absolute path `C:/Users/Me/Now/someFile.txt`is inserted. Do you have an idea why this might be the case?"
   ]
  },
  {
   "cell_type": "markdown",
   "id": "67ba29b6",
   "metadata": {},
   "source": [
    "As you can see `C:`is no subdirectory of `Users`, quite the contrary, it is actually its parent. The reason why it still works is that by using an absolute path you specify the path from the very root, in our case `C:` (or `~`on Linux). If you do this there is no room for mistaking your input since there must be no more than one root, `C:`, and the terminal knows this. As soon as you type `C:/...`it knows that you are starting at the root and therefore follows your specified absolute path. If you tried the same without including the root directory `C:`in your path, for example `Users/Me/Now/someFile.txt` the terminal would not know where to start looking. While it might be easy to see for us humans what is meant by this input considering this simple toy example it is impossible for the computer to deduce your intentions. There could be some other directory with the name `Users`somewhere in the directory structure. What to do then?"
   ]
  },
  {
   "cell_type": "markdown",
   "id": "6438afc2",
   "metadata": {},
   "source": [
    "<h4>The Relative Path</h4>\n",
    "\n",
    "Using the relative path you do not enter the directory structure at the very root but at the node where your terminal is currently running. In this example here we are at `C:/Users/Me`which means that our terminal is running and we are 'entering' the directory structure there. Looking at the tree diagram and using a bottom up approach, again, we see that `Now`is a direct subdirectory of `Me`.<br>\n",
    "This means that we are currently in the parent directory of our target directory and that we therefore might use a relative path to describe which file we wish to select. So the file path in this case would look like this: `Now/someFile.txt`. Since our terminal is running in `C:/Users/Me`it will look for a subdirectory of `Me`that is called `Now`and then select the file `someFile.txt`. Since there is a direct connection from `Me`to `Now`and from `Now`to `someFile.txt`no error promt will appear.<br>\n",
    "Now, you might ask yourself whether this means that every time we are not working with a file or directory that is some sort of subdirectory (direct or indirect) of the directory where the terminal is running, we must use an absolute path? Spoiler: there is a way around this but let's take a look at some of the most basic terminal commands first."
   ]
  },
  {
   "cell_type": "markdown",
   "id": "8c9d30c7",
   "metadata": {},
   "source": [
    "<h2>Basic Terminal Commands</h2>"
   ]
  },
  {
   "cell_type": "markdown",
   "id": "045b6b8e",
   "metadata": {},
   "source": [
    "***The following part works with a Linux Ubuntu terminal again. The table documents different basic terminal commands you can use on Linux operating systems. Please note that the individual use and command might be a bit different on Windows or MacOS. `curl`for example can be used on Windows but the command is spelled `Invoke-WebRequest`.***<br>\n",
    "When in doubt whether a specific command works on your machine just type it into the terminal and hit enter. Depending on the (error) message you should be able to tell whether you are using the right name for the command or not. If your terminal shows something like `commandYouEnterd is not recognized...` you are most likely using the wrong command for you operating system. In that case just open your browser and enter `commandYouNeed yourOperatingSystem equivalent` (eg: `curl windows equivalent`) or something along those lines into the search bar."
   ]
  },
  {
   "cell_type": "markdown",
   "id": "7eeb6c70-96e3-440a-b643-a9b8a853b392",
   "metadata": {},
   "source": [
    "<h3> Basic Terminal Command Collection</h3>"
   ]
  },
  {
   "cell_type": "markdown",
   "id": "1dbfa3e7",
   "metadata": {},
   "source": [
    "| Operation                                    |   Command  | Example                                                                                                                                                        |\n",
    "|:---------------------------------------------|:----------:|:---------------------------------------------------------------------------------------------------------------------------------------------------------------|\n",
    "| Navigate your directory structure            |    `cd`    | `cd moveTo/directory`<br>`cd ..`(used to move to parent directory)                                                                                             |\n",
    "| View  files/directories in current directory                          | `ls` | Use `ls -alh`to show hidden files/directories too                                                                                           |\n",
    "| Create directory at current location         |   `mkdir`  | `mkdir directoryName`<br>`mkdir parentDirectory/directoryName`                                                                                                 |\n",
    "| Move files/directories                       |    `mv`    | `mv fileName newDirectory/`<br>`mv parentDirectory/fileName newDirectory`                                                                                      |\n",
    "| Copy files/directories (to somewhere else)   |    `cp`    | `cp fileName copyName`<br>`cp fileName newDirectory/copyName`<br>`cp parentDirectory/fileName copyName`<br>`cp parentDirectory/fileName newDirectory/copyName` |\n",
    "| Remove files/directories                     |    `rm`    | `rm fileName`<br>`rm parentDirectory/fileName`                                                                                                                 |\n",
    "| Download files from URL                      |   `curl`   | `curl fileURL`<br>`curl fileURL > fileName.fileExtension`                                                                                                      |\n",
    "| Display content of a file                    |    `cat`   | `cat fileName`<br>`cat parentDirectory/fileName`                                                                                                               |\n",
    "| Interrupt current command and start new line | `Strg + C` | Interrupt a `curl`web request using `Strg + C`                                                                                                                 |\n",
    "| Clear your terminal                          | `Strg + L` | Use `Strg + L`to remove previous output and clear terminal                                                                                                     |"
   ]
  },
  {
   "cell_type": "markdown",
   "id": "39703903-c6cc-4def-b11e-4de497b3b2fc",
   "metadata": {
    "tags": []
   },
   "source": [
    "<h3>Application</h3>"
   ]
  },
  {
   "cell_type": "markdown",
   "id": "c0a7a275-9a7b-4231-9617-146b773b9ae0",
   "metadata": {},
   "source": [
    "Let's apply our (new found) knowledge and perform some simple tasks using the terminal.<br>\n",
    "Why don't we start by opening the terminal and navigating to a destination of your choice using ```cd``` (you might want to choose your study folder or something alike)."
   ]
  },
  {
   "cell_type": "markdown",
   "id": "2b06492b",
   "metadata": {},
   "source": [
    "***Tip***: Don't worry if you navigated to the wrong directory by mistake. Using the command ```cd ..```you can navigate one directory back. By chaining ```..```using ```/```you can navigate back several directories at once, like so: ```cd ../..```. This will navigate you back two directories."
   ]
  },
  {
   "cell_type": "code",
   "execution_count": 1,
   "id": "348dddd0-13d0-490c-9a54-20c04a1943c9",
   "metadata": {
    "execution": {
     "iopub.execute_input": "2023-10-11T12:01:20.127225Z",
     "iopub.status.busy": "2023-10-11T12:01:20.126224Z",
     "iopub.status.idle": "2023-10-11T12:01:20.134226Z",
     "shell.execute_reply": "2023-10-11T12:01:20.133227Z",
     "shell.execute_reply.started": "2023-10-11T12:01:20.127225Z"
    },
    "tags": []
   },
   "outputs": [],
   "source": [
    "# Time for some action!\n"
   ]
  },
  {
   "cell_type": "markdown",
   "id": "25fa9eec-0553-41cb-b4f3-c7c03492e0e1",
   "metadata": {},
   "source": [
    "Ok, next step. Now that you are at your target location why don't you try and create a new directory (folder) for all of your ICSS files, exercises and assignments. Consult the table above and try to figure out how you might create the directory 'icss' (feel free to name it whatever you like) at the current location in your directory structure."
   ]
  },
  {
   "cell_type": "code",
   "execution_count": 3,
   "id": "2a55a1d7-e23d-4feb-832a-bc159943148a",
   "metadata": {
    "execution": {
     "iopub.execute_input": "2023-10-11T12:06:45.530323Z",
     "iopub.status.busy": "2023-10-11T12:06:45.529324Z",
     "iopub.status.idle": "2023-10-11T12:06:45.543257Z",
     "shell.execute_reply": "2023-10-11T12:06:45.542256Z",
     "shell.execute_reply.started": "2023-10-11T12:06:45.530323Z"
    },
    "tags": []
   },
   "outputs": [],
   "source": [
    "# Time for some action!\n"
   ]
  },
  {
   "cell_type": "markdown",
   "id": "5f255129-45b4-4c0d-936b-3a6db29ad28f",
   "metadata": {},
   "source": [
    "Okidoki! You're getting there. Last of all, let's create a simply ```.txt```file and record our name and matriculation number. Try to figure it our yourselves again but if it doesn't work don't worry. It takes some time getting used to do stuff via the terminal."
   ]
  },
  {
   "cell_type": "code",
   "execution_count": 4,
   "id": "ddc15c70-db13-4d8f-9372-4eb9da60a7ff",
   "metadata": {
    "execution": {
     "iopub.execute_input": "2023-10-11T12:09:15.159532Z",
     "iopub.status.busy": "2023-10-11T12:09:15.158532Z",
     "iopub.status.idle": "2023-10-11T12:09:15.167214Z",
     "shell.execute_reply": "2023-10-11T12:09:15.165648Z",
     "shell.execute_reply.started": "2023-10-11T12:09:15.159532Z"
    }
   },
   "outputs": [],
   "source": [
    "# Time for some action!\n"
   ]
  },
  {
   "cell_type": "markdown",
   "id": "d3436b1d-ae57-4b61-a86d-c5d8d363376a",
   "metadata": {},
   "source": [
    "Ha, psych! The table above doesn't conain anything on creating a ```.txt```file... We'll let's go over it together because especially for windows users it's a bit more tricky."
   ]
  },
  {
   "cell_type": "markdown",
   "id": "d865856b-d4f1-455e-851f-3d9e80af0152",
   "metadata": {},
   "source": [
    "| Operation                                    |   Command  | Example                                                                                                                                                        |\n",
    "|:---------------------------------------------|:----------:|:---------------------------------------------------------------------------------------------------------------------------------------------------------------|\n",
    "| Create `.txt` file on Linux/MacOs            |    `pico`    | `pico fileName.txt`then add content|\n",
    "| Create `.txt` file on Windows11                          | `echo` | `echo textOfYourFile > fileName.txt`|"
   ]
  },
  {
   "cell_type": "code",
   "execution_count": 5,
   "id": "f5b2183b-43d8-44fe-82e5-9674dec4d05b",
   "metadata": {
    "execution": {
     "iopub.execute_input": "2023-10-11T12:19:41.670587Z",
     "iopub.status.busy": "2023-10-11T12:19:41.669588Z",
     "iopub.status.idle": "2023-10-11T12:19:41.681559Z",
     "shell.execute_reply": "2023-10-11T12:19:41.680559Z",
     "shell.execute_reply.started": "2023-10-11T12:19:41.669588Z"
    }
   },
   "outputs": [],
   "source": [
    "# Time for some action!\n"
   ]
  },
  {
   "cell_type": "markdown",
   "id": "312fb54b-a7fc-4da0-962c-520c5d245f55",
   "metadata": {},
   "source": [
    "Ok, now we got the folder and the file. Everything done... Well, not exactly. We created the ```.txt```file outside of the 'icss' directory. That's not to bad, though. Just look up the ```mv```command from the table above and try to move the ```.txt```file into the 'icss' directory."
   ]
  },
  {
   "cell_type": "code",
   "execution_count": 6,
   "id": "7abfb699-3cc4-451c-a90a-288f39f609e6",
   "metadata": {
    "execution": {
     "iopub.execute_input": "2023-10-11T12:21:50.732412Z",
     "iopub.status.busy": "2023-10-11T12:21:50.732412Z",
     "iopub.status.idle": "2023-10-11T12:21:50.740425Z",
     "shell.execute_reply": "2023-10-11T12:21:50.739433Z",
     "shell.execute_reply.started": "2023-10-11T12:21:50.732412Z"
    }
   },
   "outputs": [],
   "source": [
    "# Time for some action!\n"
   ]
  },
  {
   "cell_type": "markdown",
   "id": "67604def-9e8e-4bb2-a2ef-879acfdec812",
   "metadata": {},
   "source": [
    "Now, we are done. In case you need to delete a directory or file just check out `rm`. If you would like to view the content of your glorious new `.txt`file just use `cat`... You might have gotten the gist. There are many commands, many more than those above, and all of them have their uses so feel free to explore and discover!"
   ]
  },
  {
   "cell_type": "markdown",
   "id": "13bd5701",
   "metadata": {},
   "source": [
    "***\n",
    "<h2>Set Up SSH Connection</h2>"
   ]
  },
  {
   "cell_type": "markdown",
   "id": "4d26039c",
   "metadata": {},
   "source": [
    "Now that you have some experience using the terminal and might have gottan a bit familiar with it, we move on to some more advanced stuff. In particular we want to prepare our machine to work with [GitHub](https://github.com).<br>"
   ]
  },
  {
   "cell_type": "markdown",
   "id": "5561e733",
   "metadata": {},
   "source": [
    "We will now set up your machine to be able to communicate with your GitHub account. For this we have to follow a few steps:<br>\n",
    "1. Create a [GitHub account](https://github.com/join) (if you don't have one yet).\n",
    "2. Create an [SSH key pair](https://docs.github.com/en/authentication/connecting-to-github-with-ssh/generating-a-new-ssh-key-and-adding-it-to-the-ssh-agent) on your local machine (if you haven't already).\n",
    "3. Add your public [SSH key to your GitHub account](https://docs.github.com/en/authentication/connecting-to-github-with-ssh/adding-a-new-ssh-key-to-your-github-account).\n",
    "4. [Check connection](https://docs.github.com/en/authentication/connecting-to-github-with-ssh/testing-your-ssh-connection)."
   ]
  },
  {
   "cell_type": "markdown",
   "id": "4249c238",
   "metadata": {},
   "source": [
    "[Step 1](https://github.com/join) is pretty self explanatory. Just follow the prompts and you will be guided through the GitHub account creation process. You can think about signing up for [GitHub Education](https://education.github.com/benefits?type=student) with your newly created or already existing GitHub account to get some benefits like GitHub Pro for free but we won't cover that here."
   ]
  },
  {
   "cell_type": "markdown",
   "id": "1f860cf0",
   "metadata": {},
   "source": [
    "[Step 2](https://docs.github.com/en/authentication/connecting-to-github-with-ssh/generating-a-new-ssh-key-and-adding-it-to-the-ssh-agent) is a bit more unusual. We are creating a so called SSH key pair on your local machine. A key pair consists of a private and a public SSH key. Those you will need to create a secure and authenticated connection between your machine and your GitHub account.<br>\n",
    "You can think of the connection like this: You are going to this awsome concert and luckily you know the band through some friends of yours. They managed to get you onto the guest list. Free drinks, backstage access, and so on... Now, once you arrive at the event location you move past the queue and go straigt to the VIP entrance and state your name, claiming that you are on the guest list. Of course, the bouncers won't just let you pass but they will ask for your identification and check whether your name is on the list. Once you proof your identity and they confirm your on the guest list you can pass and the fun can start!<br>\n",
    "Your SSH keys work in a similar fashion only that GitHub might not be as much fun as backstage access... (I'll let you decide). The so called private SSH key is like your id. You wouldn't go about handing it to every person you meet but in case somebody need to confirm you are really you, you can always prove it your id. The public SSH key is something like your name. You give it to people you meet, when you sign up for newsletters, whatever...<br>\n",
    "When you create the SSH key pair you get both of them, the private and the public key. You use the public key to announce your identity in public - like giving your name to be added to the guest list. Once you try and connect to an online service it will check whether the pubilc key and your private key - your name on the guest list and the name on your id - match. If they do, connection established and access granted. Otherwise... well, no back stage for you I guess."
   ]
  },
  {
   "cell_type": "markdown",
   "id": "1fb70638",
   "metadata": {},
   "source": [
    "To create the SSH keypair follow these steps:<br>\n",
    "- Open your terminal\n",
    "- Enter `ssh-keygen -t ed25519 -C \"your_email@example.com\"` (don't forget to input your own email, especially *the one you create your GitHub account with* eg. your uni-konstanz one)<br>\n",
    "\n",
    "You will be prompted to enter a name and a password for your key. You don't have to do that, just press `enter` without inputting anything. Of course you can change the name of your key files or add a password if you'd like to. Be aware though that if you decide to change the file's name, you will have to input the whole file path and not just the name. If you don't input the whole file path your ssh keys will not be saved in the default `.ssh`directory but in the working directory of your terminal. This will cause issues down the line so I recommend keeping the default name!\n",
    "\n",
    "***Note:*** \n",
    "The windows and Mac file explorer often hide the `.ssh` folder, so you have to change the explorers setting to also show so-called `hidden files`.\n",
    "\n",
    "* Windows: in the explorer, select `View` - `Show` - `Hidden Items`\n",
    "* Mac: in the respective folder, where you want to show the subfolders press `Command` + `Shift` + `.` "
   ]
  },
  {
   "cell_type": "markdown",
   "id": "a346ee90",
   "metadata": {},
   "source": [
    "[Step 3](https://docs.github.com/en/authentication/connecting-to-github-with-ssh/adding-a-new-ssh-key-to-your-github-account) is about getting your name onto the guest list. We tell GitHub to expect us and what identity we will use when trying to establish a connection between our local machine and our GitHub account. Follow the steps below to succesfully 'put down your name on the GitHub guest list'."
   ]
  },
  {
   "cell_type": "markdown",
   "id": "dc0bf172",
   "metadata": {},
   "source": [
    "- Navigate to the location of your SSH key pair (you should be able to see the file path documented in the terminal output of the above command)\n",
    "    - Linux: Default location should be `~/yourUserName/.ssh`\n",
    "    - Windows: Default location should be `C:\\Users\\yourUserName\\.ssh`\n",
    "    - MacOS: Default location should be `/Users/yourUserName/.ssh`\n",
    "- Get the content of the public SSH key i.e. the one with the `.pub` file extension\n",
    "    - You can, for example, open the file with a text editor and copy the content or you might use `cat public_ssh_key_file.pub` to print its content to the terminal (eg. `cat ~/.ssh/id_ed25519.pub`)\n",
    "- Copy the content of your public SSh key to your GitHub account\n",
    "    - Log in on [GitHub](https://www.github.com)\n",
    "    - Click on your (nonexistent) profile picture in the top right\n",
    "    - Navigate to 'Settings'\n",
    "    - Navigate to 'SSH and GPG Keys'\n",
    "    - Select 'New SSH Key'\n",
    "        - Title: Give the Key a name (if you have multiple keys added to your GitHub account you can use this to identify them)\n",
    "        - Key type: just leave it at 'Authentication Key'\n",
    "        - Key: Paste the content of your PUBLIC (xx.pub) SSH key here (don't use your private key for this or connecting won't work later on)\n",
    "    - Select 'Add SSH key'"
   ]
  },
  {
   "cell_type": "markdown",
   "id": "187e5c83",
   "metadata": {},
   "source": [
    "Once you have pressed 'Add SSH key' you can log out and turn your attention to your terminal for the final step."
   ]
  },
  {
   "cell_type": "markdown",
   "id": "0e9a3301",
   "metadata": {},
   "source": [
    "[Step 4](https://docs.github.com/en/authentication/connecting-to-github-with-ssh/testing-your-ssh-connection) is about testing our connection. It's like actually going to the bouncer and anouncing your name. Did everything work out?<br>\n",
    "- Open your terminal\n",
    "- Type `ssh -T git@github.com` into your terminal<br>\n",
    "\n",
    "If you have never connected to GitHub via SSH you will get a message along the lines `authenticity of host 'github.com...' can't be established`. Don't worry about that. Just type `yes` into your terminal and hit `enter`.<br>\n",
    "If everything workes as it should you will see a message like: `Hi! You've successfully authenticated...`."
   ]
  },
  {
   "cell_type": "markdown",
   "id": "f31de117-a880-4489-b74f-b78fe79e9608",
   "metadata": {},
   "source": [
    "<h2>Something doesn't work?!</h2>"
   ]
  },
  {
   "cell_type": "markdown",
   "id": "6c49a528-8907-4371-8a45-69ccd79a71cf",
   "metadata": {},
   "source": [
    "Well that happens. Sometimes you miss something and suddenly shit goes down the drain. If you have any problems or open questions just ask! You can reach out via email or, if you want some 'real professional' (:p) one on one help, talk to the tutors at the end of (current) the session."
   ]
  }
 ],
 "metadata": {
  "kernelspec": {
   "display_name": "Python 3 (ipykernel)",
   "language": "python",
   "name": "python3"
  },
  "language_info": {
   "codemirror_mode": {
    "name": "ipython",
    "version": 3
   },
   "file_extension": ".py",
   "mimetype": "text/x-python",
   "name": "python",
   "nbconvert_exporter": "python",
   "pygments_lexer": "ipython3",
   "version": "3.12.0"
  }
 },
 "nbformat": 4,
 "nbformat_minor": 5
}
