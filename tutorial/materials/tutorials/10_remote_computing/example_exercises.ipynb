{
 "cells": [
  {
   "cell_type": "markdown",
   "metadata": {},
   "source": [
    "<div style=\"text-align: center;\" >\n",
    "<h1 style=\"margin-top: 0.2em; margin-bottom: 0.1em;\">Example Excercies</h1>\n",
    "<h4 style=\"margin-top: 0.7em; margin-bottom: 0.3em; font-style:italic\">Parallelisation and Remote Computing</h4>\n",
    "</div>\n",
    "<br>"
   ]
  },
  {
   "cell_type": "markdown",
   "metadata": {},
   "source": [
    "***\n",
    "#  Parallel Programming\n"
   ]
  },
  {
   "cell_type": "markdown",
   "metadata": {},
   "source": [
    "## Task using Asyncio\n",
    "\n",
    "In this task, we are again scraping information from [Books To Scrape](bookstoscrape.com). \n",
    "Have a look at the **code from the webscraping tutorial** session to see, if you can **reuse it**. \n",
    "\n",
    "Please write a function, which collects the \n",
    "\n",
    "- Name \n",
    "- URL\n",
    "- Price (as a float) \n",
    "\n",
    "for all the books on the first 10 pages (200 books). \n",
    "\n",
    "In order to do this fast, please use the ``asyncio`` module and a module that allows asynchronous web requests (e.g. ``aiohttp`` or ``httpx``). \n",
    "If everything works correctly, your function should complete the task in less than 5 seconds.\n",
    "\n",
    "Upload your results as a CSV file to your GitHub repository."
   ]
  },
  {
   "cell_type": "code",
   "execution_count": null,
   "metadata": {},
   "outputs": [],
   "source": [
    "# Your code\n",
    "\n"
   ]
  },
  {
   "cell_type": "markdown",
   "metadata": {},
   "source": [
    "## Task about Multiprocessing\n",
    "\n",
    "In this exercise we are again working with the CDCWhistleblower dataset and *partly* replicate Part 4 from Assignment 3. \n",
    "Feel free to go back to copy and reuse code, you wrote there.\n",
    "\n",
    "Apply VADER  [(see for help)](https://www.nltk.org/howto/sentiment.html) to the ``text`` column to get the polarity scores. (use previously written preprocessing tasks on the columns before applying VADER)\n",
    "\n",
    "\n",
    "**What you have to do:**\n",
    "\n",
    "Apply VADER. Use Python’s built-in ``multiprocessing`` module to parallelize the sentiment classification, and improve the runtime. \n",
    "\n",
    "First, check how many cores you have.\n",
    "Then, compare the runtime when using different numbers of cores (optionally on different length of data-rows) to achieve the best possible performance.\n",
    "\n",
    "Your function should take a list of tweets (the ``text`` column) as an input, and return a list of dictionaries, which contain the polarity scores assigned by the VADER sentiment intensity analyzer, as well as the assigned label. The label should be positive if the compound score is higher than 0, negative if it’s smaller, and neutral if it’s equal to 0.\n",
    "\n",
    "The result list should look like:\n",
    "\n",
    "``[{'neg': 0.0, 'neu': 1.0, 'pos': 0.0, 'compound': 0.0, 'sentiment': 'neutral'},\n",
    "{'neg': 0.146, 'neu': 0.854, 'pos': 0.0, 'compound': -0.34, 'sentiment': 'negative'},\n",
    "…]``\n",
    "\n",
    "Please also track the runtimes to i.e. visually compare them for different numbers of cores used ;)\n",
    "\n",
    "\n",
    "***Hint:*** The multiprocessing might only work if you write your function in a seperate .py file and import this file into the notebook.\n"
   ]
  },
  {
   "cell_type": "code",
   "execution_count": null,
   "metadata": {},
   "outputs": [],
   "source": [
    "# Your code\n",
    "\n",
    "\n"
   ]
  },
  {
   "cell_type": "markdown",
   "metadata": {},
   "source": [
    "***\n"
   ]
  },
  {
   "cell_type": "markdown",
   "metadata": {},
   "source": [
    "## Virtual Machine\n",
    "\n",
    "\n",
    "In this task, you are going to run code on a virtual machine (VM). We want to scrape data from the web over a longer timeframe.\n",
    "\n",
    "Please scrape the current temperature, date and time in your hometown (or any other city) from [here](https://www.timeanddate.com/worldclock/) . \n",
    "\n",
    "Write a function, which automatically scrapes this data every 30 minutes over a 6 hour timeframe.\n",
    "Please **connect to a VM** to accomplish this task, so that you don’t need to keep your computer running during the entire process.\n",
    "\n",
    "***Hint:*** you can use the ``time.sleep()`` function from the built-in ``time`` module. \n",
    "\n",
    "\n",
    "Steps to accomplish this task:\n",
    "\n",
    "- Start by writing the scraping-function locally on you laptop. It could make sense to do this in a separate notebook, which just contains this function\n",
    "- Make sure it runs properly, i.e. by testing it to scrape temperatures every 30 seconds for 3 minutes. If it does everything correctly, adapt the function to scrape every 30 minutes for 6 hours. \n",
    "\n",
    "\n"
   ]
  }
 ],
 "metadata": {
  "language_info": {
   "name": "python"
  }
 },
 "nbformat": 4,
 "nbformat_minor": 2
}
