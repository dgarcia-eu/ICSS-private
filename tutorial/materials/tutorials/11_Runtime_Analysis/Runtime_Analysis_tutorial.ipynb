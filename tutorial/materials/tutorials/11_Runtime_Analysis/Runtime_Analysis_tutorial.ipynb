{
 "cells": [
  {
   "cell_type": "markdown",
   "id": "2fbb2098-bfde-463c-830c-3773a6c478fe",
   "metadata": {},
   "source": [
    "<div style=\"text-align: center;\" >\n",
    "<h1 style=\"margin-top: 0.2em; margin-bottom: 0.1em;\">Runtime Analysis of Algorithms</h1>\n",
    "<h4 style=\"margin-top: 0.7em; margin-bottom: 0.3em; font-style:italic\"></h4>\n",
    "</div>\n",
    "<br>\n",
    "\n",
    "\n"
   ]
  },
  {
   "cell_type": "markdown",
   "id": "984858ed",
   "metadata": {},
   "source": [
    "## Course Evaluation\n",
    "\n",
    "\n",
    "Before we start, please take a few minutes to complete the course evalutaion. You can either follow this [link](https://evasys.uni-konstanz.de/evasys/online.php?pswd=WPKA6)"
   ]
  },
  {
   "cell_type": "markdown",
   "id": "3ff6cfa1",
   "metadata": {},
   "source": [
    "# Google Slides\n",
    "[Link](https://docs.google.com/presentation/d/1z47qngNk2k6xq-LMrWGKYIH-NR-Y6OZuNxk3GH-FeqE/edit?usp=sharing)"
   ]
  },
  {
   "cell_type": "markdown",
   "id": "6aa94d64",
   "metadata": {},
   "source": [
    "### __1. Implementing Algorithms__\n",
    "\n",
    "#### __1.1 Introduction__\n",
    "\n",
    "**What is an Algorithm?**\n",
    "\n",
    "An algorithm is a step-by-step procedure or set of instructions designed to perform a specific task or solve a particular problem. It is a finite sequence of well-defined, unambiguous, and computationally effective instructions that, when executed, produce a certain desired result.\n",
    "\n",
    "In simpler terms, an algorithm is like a recipe or a set of directions that guides someone (or, in the case of computers, something) through a series of steps to accomplish a particular goal. Algorithms are fundamental in computer science and programming, as they form the basis for solving problems, processing data, and performing various computational tasks.\n",
    "\n",
    "During the ICSS lecture you probably have encountered quite a few algorithms already. \n",
    "\n",
    "Algorithms are crucial in solving computational problems efficiently, and understanding their design and analysis is fundamental for any programmer.\n",
    "\n",
    "**Some Important Categories of Algorithms**\n",
    "\n",
    "\n",
    "\n",
    "- **Search** − Algorithm to search an item in a data structure.\n",
    "\n",
    "- **Sort** − Algorithm to sort items in a certain order.\n",
    "\n",
    "- **Insert** − Algorithm to insert item in a data structure.\n",
    "\n",
    "- **Update** − Algorithm to update an existing item in a data structure.\n",
    "\n",
    "- **Delete** − Algorithm to delete an existing item from a data structure.\n",
    "\n",
    "\n",
    "**Characteristics of an Algorithm**\n",
    "\n",
    "\n",
    "\n",
    "- **Unambiguous** − Algorithm should be clear and unambiguous. Each of its steps (or phases), and their inputs/outputs should be clear and must lead to only one meaning.\n",
    "\n",
    "- **Input** − An algorithm should have 0 or more well-defined inputs.\n",
    "\n",
    "- **Output** − An algorithm should have 1 or more well-defined outputs, and should match the desired output.\n",
    "\n",
    "- **Finiteness** − Algorithms must terminate after a finite number of steps.\n",
    "\n",
    "- **Feasibility** − Should be feasible with the available resources.\n",
    "\n",
    "- **Independent** − An algorithm should have step-by-step directions, which should be independent of any programming code.\n",
    "\n",
    "\n",
    "\n"
   ]
  },
  {
   "cell_type": "markdown",
   "id": "c4af9ed8",
   "metadata": {},
   "source": [
    "#### __1.2 Way and Workflow of Writing Algorithms__\n",
    "\n",
    "There are no well-defined standards for writing algorithms. Rather, it is problem and resource dependent. Algorithms are never written to support a particular programming code.\n",
    "\n",
    "As we know that all programming languages share basic code constructs like loops (do, for, while), flow-control (if-else), etc. These common constructs can be used to write an algorithm.\n",
    "\n",
    "We write algorithms in a step-by-step manner, but it is not always the case. Algorithm writing is a process and is executed after the problem domain is well-defined.\n",
    "\n",
    "**A. Understanding the Problem**\n",
    "\n",
    "\n",
    "- Clearly Define the Problem Statement: \n",
    "    -  Start by thoroughly understanding the problem you need to solve. Clearly define the input, output, and any constraints.\n",
    "\n",
    "- Identify Input and Output Requirements:\n",
    "    Determine the format and type of input data your algorithm will receive and the expected output.\n",
    "\n",
    "**B. Designing the Algorithm**\n",
    "- Choose Algorithmic Approach:\n",
    "   - Select an appropriate algorithmic approach based on the nature of the problem. Consider whether a greedy approach, dynamic programming, or divide and conquer is most suitable.\n",
    "\n",
    "- Pseudocode:\n",
    "   - Write pseudocode as a high-level description of your algorithm. Pseudocode serves as a roadmap before diving into actual code.\n",
    "\n",
    "- Illustrate with Simple Example:\n",
    "   - Take a simple example of the problem and walk through how your algorithm would solve it step by step. This helps in understanding and clarifying the algorithm's logic.\n",
    "\n",
    "**C. Testing and Debugging**\n",
    "\n",
    "- Strategies for Testing Algorithms:\n",
    "   - Develop test cases to verify the correctness of your algorithm. Test with various inputs, including edge cases, to ensure it handles all scenarios.\n",
    "\n",
    "- Debugging Code:\n",
    "   - Identify and fix any issues that arise during testing. \n",
    "\n",
    "**D. Simplify and Optimize**\n",
    "\n",
    "- Refine Algorithm for Simplicity:\n",
    "   - Review your code for unnecessary complexity. Simplify the algorithm while maintaining correctness.\n",
    "\n",
    "- Optimize for Efficiency:\n",
    "   - Analyze the time and space complexity of your algorithm. Identify opportunities for optimization without sacrificing correctness.\n",
    "\n",
    "- Iterative Process:\n",
    "   - Writing and optimizing code is an iterative process. Go back and forth between simplifying, optimizing, and testing until you are satisfied with the performance and correctness.\n",
    "\n",
    "**E. Process May Also Include Pseudocode?**\n",
    "\n",
    "- Yes, Include Pseudocode:\n",
    "   - Pseudocode is a valuable step in the algorithm design process. It helps in clarifying the logic before diving into code implementation.\n",
    "\n",
    "- Translate Algorithm from Pseudocode into Code:\n",
    "   - Consider translating your pseudocode directly into code, ensuring a smooth transition from your design to the actual implementation.\n",
    "\n",
    "- Write Code and Debug:\n",
    "  - Follow the steps mentioned earlier for writing code and debugging. Pseudocode serves as a guide during the implementation phase.\n",
    "\n"
   ]
  },
  {
   "cell_type": "markdown",
   "id": "114466ad",
   "metadata": {},
   "source": [
    "### Example: Finding the Maximum Element in an Array\n",
    "Problem Statement:\n",
    "\n",
    "Given an array of numbers, write an algorithm to find the maximum element in the array.\n",
    "Algorithm:\n",
    "\n",
    "A. Understanding the Problem\n",
    "\n",
    "    Define the Problem Statement:\n",
    "        Find the maximum element in an array.\n",
    "\n",
    "    Identify Input and Output Requirements:\n",
    "        Input: An array of numbers.\n",
    "        Output: The maximum element in the array.\n",
    "\n",
    "B. Designing the Algorithm\n",
    "\n",
    "    Choose Algorithmic Approach:\n",
    "        A simple linear scan will suffice for this problem.\n",
    "\n",
    "    Pseudocode:\n",
    "\n",
    "    \n",
    "\n"
   ]
  },
  {
   "cell_type": "code",
   "execution_count": 8,
   "id": "30a4da89",
   "metadata": {},
   "outputs": [],
   "source": [
    "def find_maximum(arr):\n",
    "    max_element = arr[0]\n",
    "    for element in arr:\n",
    "        if element > max_element:\n",
    "            max_element = element\n",
    "    return max_element\n",
    "\n"
   ]
  },
  {
   "cell_type": "markdown",
   "id": "2fa08214",
   "metadata": {},
   "source": [
    "Illustrate with Simple Example:\n"
   ]
  },
  {
   "cell_type": "code",
   "execution_count": 11,
   "id": "d8e76333",
   "metadata": {},
   "outputs": [
    {
     "data": {
      "text/plain": [
       "8"
      ]
     },
     "execution_count": 11,
     "metadata": {},
     "output_type": "execute_result"
    }
   ],
   "source": [
    "lst = [3, 8, 1, 6, 2]\n",
    "find_maximum(lst)"
   ]
  },
  {
   "cell_type": "markdown",
   "id": "fd7114ac",
   "metadata": {},
   "source": [
    "\n",
    "\n",
    "C. Testing and Debugging\n",
    "\n",
    "    Strategies for Testing Algorithms:\n",
    "        Test with different arrays, including edge cases like an empty array.\n",
    "\n",
    "    Debugging Code:\n",
    "        Address any issues that arise during testing.\n",
    "\n",
    "D. Simplify and Optimize\n",
    "\n",
    "    Refine Algorithm for Simplicity:\n",
    "        Review the code for unnecessary complexity.\n",
    "\n",
    "    Optimize for Efficiency:\n",
    "        Analyze the time and space complexity.\n",
    "\n"
   ]
  },
  {
   "cell_type": "markdown",
   "id": "b310180a",
   "metadata": {},
   "source": [
    "### __2. Evaluating Algorithms__\n",
    "\n",
    " **A. Correctness**\n",
    "\n",
    "- Correct Results:\n",
    "    - Ensure that your algorithm produces the expected and accurate results for various inputs.\n",
    "\n",
    "- Correct Exceptions:\n",
    "    - Handle exceptions and edge cases appropriately. Consider scenarios where unexpected inputs may occur.\n",
    "\n",
    "- Good Unit Test Cases:\n",
    "   - Develop comprehensive unit test cases to automate the verification of correctness.\n",
    "\n",
    "- Unit Testing:\n",
    "   - Implement automated verification through [unit testing](https://docs.python.org/3/library/unittest.html) to ensure the correctness of your implementation.\n",
    "\n",
    "\n",
    "\n",
    "    - Advantages of Unit Testing:\n",
    "        - Use unit testing to:\n",
    "            - Verify that code works properly.\n",
    "            - Ensure functionality across different scenarios.\n",
    "            - Anticipate and handle unusual conditions.\n",
    "            - Reveal logical errors.\n",
    "\n",
    "**B. Effectivity of Resources**\n",
    "- Space Usage:\n",
    "   - Evaluate the space complexity of your algorithm, though it can be challenging with the standard library. Monitor for runtime errors such as RuntimeError, MemoryError, IOError, etc.\n",
    "\n",
    "\n",
    "- Run Time:\n",
    "\n",
    "  - Track the runtime of your algorithm using the [time module](https://docs.python.org/3/library/time.html). Use various time-related functions to profile runtime.\n",
    "\n",
    "\n"
   ]
  },
  {
   "cell_type": "code",
   "execution_count": 5,
   "id": "04ee52d8",
   "metadata": {},
   "outputs": [
    {
     "name": "stdout",
     "output_type": "stream",
     "text": [
      "The factorial of 10 is: 402387260077093773543702433923003985719374864210714632543799910429938512398629020592044208486969404800479988610197196058631666872994808558901323829669944590997424504087073759918823627727188732519779505950995276120874975462497043601418278094646496291056393887437886487337119181045825783647849977012476632889835955735432513185323958463075557409114262417474349347553428646576611667797396668820291207379143853719588249808126867838374559731746136085379534524221586593201928090878297308431392844403281231558611036976801357304216168747609675871348312025478589320767169132448426236131412508780208000261683151027341827977704784635868170164365024153691398281264810213092761244896359928705114964975419909342221566832572080821333186116811553615836546984046708975602900950537616475847728421889679646244945160765353408198901385442487984959953319101723355556602139450399736280750137837615307127761926849034352625200015888535147331611702103968175921510907788019393178114194545257223865541461062892187960223838971476088506276862967146674697562911234082439208160153780889893964518263243671616762179168909779911903754031274622289988005195444414282012187361745992642956581746628302955570299024324153181617210465832036786906117260158783520751516284225540265170483304226143974286933061690897968482590125458327168226458066526769958652682272807075781391858178889652208164348344825993266043367660176999612831860788386150279465955131156552036093988180612138558600301435694527224206344631797460594682573103790084024432438465657245014402821885252470935190620929023136493273497565513958720559654228749774011413346962715422845862377387538230483865688976461927383814900140767310446640259899490222221765904339901886018566526485061799702356193897017860040811889729918311021171229845901641921068884387121855646124960798722908519296819372388642614839657382291123125024186649353143970137428531926649875337218940694281434118520158014123344828015051399694290153483077644569099073152433278288269864602789864321139083506217095002597389863554277196742822248757586765752344220207573630569498825087968928162753848863396909959826280956121450994871701244516461260379029309120889086942028510640182154399457156805941872748998094254742173582401063677404595741785160829230135358081840096996372524230560855903700624271243416909004153690105933983835777939410970027753472000000000000000000000000000000000000000000000000000000000000000000000000000000000000000000000000000000000000000000000000000000000000000000000000000000000000000000000000000000000000000000000000000000000000000000000000000000000000000000000000000000000\n",
      "Execution time: 0.0005483627319335938 seconds\n"
     ]
    }
   ],
   "source": [
    "import time\n",
    "\n",
    "def factorial(n):\n",
    "    result = 1\n",
    "    for i in range(1, n + 1):\n",
    "        result *= i\n",
    "    return result\n",
    "\n",
    "start_time = time.time()\n",
    "\n",
    "result = factorial(1000)\n",
    "\n",
    "end_time = time.time()\n",
    "\n",
    "print(f\"The factorial of 10 is: {result}\")\n",
    "print(f\"Execution time: {end_time - start_time} seconds\")\n"
   ]
  },
  {
   "cell_type": "code",
   "execution_count": 6,
   "id": "1c715bfd",
   "metadata": {},
   "outputs": [],
   "source": [
    "from tqdm import tqdm"
   ]
  },
  {
   "cell_type": "code",
   "execution_count": 7,
   "id": "bd43b1d4",
   "metadata": {},
   "outputs": [
    {
     "name": "stdout",
     "output_type": "stream",
     "text": [
      "The factorial of 10 is: 120\n",
      "Execution time: 5.0027077198028564 seconds\n"
     ]
    }
   ],
   "source": [
    "\n",
    "def factorial(n):\n",
    "    result = 1\n",
    "    for i in range(1, n + 1):\n",
    "        time.sleep(1)\n",
    "        result *= i\n",
    "    return result\n",
    "\n",
    "start_time = time.time()\n",
    "\n",
    "result = factorial(5)\n",
    "\n",
    "end_time = time.time()\n",
    "\n",
    "print(f\"The factorial of 10 is: {result}\")\n",
    "print(f\"Execution time: {end_time - start_time} seconds\")\n"
   ]
  },
  {
   "cell_type": "markdown",
   "id": "2e398078",
   "metadata": {},
   "source": [
    "You can also track the runtime using the [tqdm](https://tqdm.github.io/) package. "
   ]
  },
  {
   "cell_type": "code",
   "execution_count": 10,
   "id": "fb3fd03e",
   "metadata": {},
   "outputs": [
    {
     "name": "stderr",
     "output_type": "stream",
     "text": [
      "100%|██████████| 10000000/10000000 [00:02<00:00, 3440251.17it/s]\n"
     ]
    }
   ],
   "source": [
    "for i in tqdm(range(10000000)):\n",
    "    pass"
   ]
  },
  {
   "cell_type": "code",
   "execution_count": 11,
   "id": "e30621b7",
   "metadata": {},
   "outputs": [
    {
     "data": {
      "text/html": [
       "<div>\n",
       "<style scoped>\n",
       "    .dataframe tbody tr th:only-of-type {\n",
       "        vertical-align: middle;\n",
       "    }\n",
       "\n",
       "    .dataframe tbody tr th {\n",
       "        vertical-align: top;\n",
       "    }\n",
       "\n",
       "    .dataframe thead th {\n",
       "        text-align: right;\n",
       "    }\n",
       "</style>\n",
       "<table border=\"1\" class=\"dataframe\">\n",
       "  <thead>\n",
       "    <tr style=\"text-align: right;\">\n",
       "      <th></th>\n",
       "      <th>name</th>\n",
       "      <th>age</th>\n",
       "      <th>study</th>\n",
       "    </tr>\n",
       "  </thead>\n",
       "  <tbody>\n",
       "    <tr>\n",
       "      <th>0</th>\n",
       "      <td>Taylor</td>\n",
       "      <td>28</td>\n",
       "      <td>Anthropology</td>\n",
       "    </tr>\n",
       "    <tr>\n",
       "      <th>1</th>\n",
       "      <td>Nathan</td>\n",
       "      <td>21</td>\n",
       "      <td>Sociology</td>\n",
       "    </tr>\n",
       "    <tr>\n",
       "      <th>2</th>\n",
       "      <td>Katherine</td>\n",
       "      <td>28</td>\n",
       "      <td>Chemistry</td>\n",
       "    </tr>\n",
       "    <tr>\n",
       "      <th>3</th>\n",
       "      <td>Quinn</td>\n",
       "      <td>24</td>\n",
       "      <td>Anthropology</td>\n",
       "    </tr>\n",
       "    <tr>\n",
       "      <th>4</th>\n",
       "      <td>Peter</td>\n",
       "      <td>22</td>\n",
       "      <td>Communication</td>\n",
       "    </tr>\n",
       "    <tr>\n",
       "      <th>5</th>\n",
       "      <td>Charlie</td>\n",
       "      <td>23</td>\n",
       "      <td>History</td>\n",
       "    </tr>\n",
       "    <tr>\n",
       "      <th>6</th>\n",
       "      <td>Henry</td>\n",
       "      <td>25</td>\n",
       "      <td>Communication</td>\n",
       "    </tr>\n",
       "    <tr>\n",
       "      <th>7</th>\n",
       "      <td>David</td>\n",
       "      <td>26</td>\n",
       "      <td>History</td>\n",
       "    </tr>\n",
       "    <tr>\n",
       "      <th>8</th>\n",
       "      <td>Rose</td>\n",
       "      <td>25</td>\n",
       "      <td>Economics</td>\n",
       "    </tr>\n",
       "    <tr>\n",
       "      <th>9</th>\n",
       "      <td>Jack</td>\n",
       "      <td>23</td>\n",
       "      <td>Sociology</td>\n",
       "    </tr>\n",
       "    <tr>\n",
       "      <th>10</th>\n",
       "      <td>Ivy</td>\n",
       "      <td>18</td>\n",
       "      <td>Music</td>\n",
       "    </tr>\n",
       "    <tr>\n",
       "      <th>11</th>\n",
       "      <td>Leo</td>\n",
       "      <td>25</td>\n",
       "      <td>Chemistry</td>\n",
       "    </tr>\n",
       "    <tr>\n",
       "      <th>12</th>\n",
       "      <td>Grace</td>\n",
       "      <td>24</td>\n",
       "      <td>Philosophy</td>\n",
       "    </tr>\n",
       "    <tr>\n",
       "      <th>13</th>\n",
       "      <td>Alice</td>\n",
       "      <td>26</td>\n",
       "      <td>Physics</td>\n",
       "    </tr>\n",
       "    <tr>\n",
       "      <th>14</th>\n",
       "      <td>Bob</td>\n",
       "      <td>26</td>\n",
       "      <td>Art History</td>\n",
       "    </tr>\n",
       "    <tr>\n",
       "      <th>15</th>\n",
       "      <td>Frank</td>\n",
       "      <td>20</td>\n",
       "      <td>Anthropology</td>\n",
       "    </tr>\n",
       "    <tr>\n",
       "      <th>16</th>\n",
       "      <td>Mia</td>\n",
       "      <td>30</td>\n",
       "      <td>Political Science</td>\n",
       "    </tr>\n",
       "    <tr>\n",
       "      <th>17</th>\n",
       "      <td>Olivia</td>\n",
       "      <td>20</td>\n",
       "      <td>Sociology</td>\n",
       "    </tr>\n",
       "    <tr>\n",
       "      <th>18</th>\n",
       "      <td>Emma</td>\n",
       "      <td>21</td>\n",
       "      <td>Computer Science</td>\n",
       "    </tr>\n",
       "    <tr>\n",
       "      <th>19</th>\n",
       "      <td>Sam</td>\n",
       "      <td>24</td>\n",
       "      <td>Chemistry</td>\n",
       "    </tr>\n",
       "  </tbody>\n",
       "</table>\n",
       "</div>"
      ],
      "text/plain": [
       "         name  age              study\n",
       "0      Taylor   28       Anthropology\n",
       "1      Nathan   21          Sociology\n",
       "2   Katherine   28          Chemistry\n",
       "3       Quinn   24       Anthropology\n",
       "4       Peter   22      Communication\n",
       "5     Charlie   23            History\n",
       "6       Henry   25      Communication\n",
       "7       David   26            History\n",
       "8        Rose   25          Economics\n",
       "9        Jack   23          Sociology\n",
       "10        Ivy   18              Music\n",
       "11        Leo   25          Chemistry\n",
       "12      Grace   24         Philosophy\n",
       "13      Alice   26            Physics\n",
       "14        Bob   26        Art History\n",
       "15      Frank   20       Anthropology\n",
       "16        Mia   30  Political Science\n",
       "17     Olivia   20          Sociology\n",
       "18       Emma   21   Computer Science\n",
       "19        Sam   24          Chemistry"
      ]
     },
     "execution_count": 11,
     "metadata": {},
     "output_type": "execute_result"
    }
   ],
   "source": [
    "import pandas as pd\n",
    "import random\n",
    "\n",
    "# Generate random data\n",
    "names = [\"Alice\", \"Bob\", \"Charlie\", \"David\", \"Emma\", \"Frank\", \"Grace\", \"Henry\", \"Ivy\", \"Jack\",\n",
    "         \"Katherine\", \"Leo\", \"Mia\", \"Nathan\", \"Olivia\", \"Peter\", \"Quinn\", \"Rose\", \"Sam\", \"Taylor\"]\n",
    "\n",
    "ages = [random.randint(18, 30) for _ in range(20)]\n",
    "studies = [\"Computer Science\", \"Mathematics\", \"Physics\", \"Engineering\", \"Biology\",\n",
    "           \"Psychology\", \"History\", \"Economics\", \"English\", \"Art History\",\n",
    "           \"Chemistry\", \"Political Science\", \"Sociology\", \"Music\", \"Geology\",\n",
    "           \"Philosophy\", \"Communication\", \"Anthropology\", \"Statistics\", \"Foreign Languages\"]\n",
    "\n",
    "# Create DataFrame\n",
    "df = pd.DataFrame({\n",
    "    'name': random.sample(names, 20),\n",
    "    'age': ages,\n",
    "    'study': random.choices(studies, k=20)\n",
    "})\n",
    "\n",
    "# Display the DataFrame\n",
    "df"
   ]
  },
  {
   "cell_type": "code",
   "execution_count": 30,
   "id": "e5346127",
   "metadata": {},
   "outputs": [
    {
     "name": "stderr",
     "output_type": "stream",
     "text": [
      " 10%|█         | 1/10 [00:00<00:04,  1.97it/s]"
     ]
    },
    {
     "name": "stdout",
     "output_type": "stream",
     "text": [
      "Bob is 26 years old and is currently studying Economics\n"
     ]
    },
    {
     "name": "stderr",
     "output_type": "stream",
     "text": [
      " 20%|██        | 2/10 [00:01<00:04,  1.95it/s]"
     ]
    },
    {
     "name": "stdout",
     "output_type": "stream",
     "text": [
      "David is 21 years old and is currently studying Art History\n"
     ]
    },
    {
     "name": "stderr",
     "output_type": "stream",
     "text": [
      " 30%|███       | 3/10 [00:01<00:03,  1.94it/s]"
     ]
    },
    {
     "name": "stdout",
     "output_type": "stream",
     "text": [
      "Quinn is 23 years old and is currently studying English\n"
     ]
    },
    {
     "name": "stderr",
     "output_type": "stream",
     "text": [
      " 40%|████      | 4/10 [00:02<00:03,  1.95it/s]"
     ]
    },
    {
     "name": "stdout",
     "output_type": "stream",
     "text": [
      "Mia is 22 years old and is currently studying Music\n"
     ]
    },
    {
     "name": "stderr",
     "output_type": "stream",
     "text": [
      " 50%|█████     | 5/10 [00:02<00:02,  1.94it/s]"
     ]
    },
    {
     "name": "stdout",
     "output_type": "stream",
     "text": [
      "Alice is 28 years old and is currently studying Sociology\n"
     ]
    },
    {
     "name": "stderr",
     "output_type": "stream",
     "text": [
      " 60%|██████    | 6/10 [00:03<00:02,  1.96it/s]"
     ]
    },
    {
     "name": "stdout",
     "output_type": "stream",
     "text": [
      "Frank is 30 years old and is currently studying Psychology\n"
     ]
    },
    {
     "name": "stderr",
     "output_type": "stream",
     "text": [
      " 70%|███████   | 7/10 [00:03<00:01,  1.95it/s]"
     ]
    },
    {
     "name": "stdout",
     "output_type": "stream",
     "text": [
      "Katherine is 30 years old and is currently studying Physics\n"
     ]
    },
    {
     "name": "stderr",
     "output_type": "stream",
     "text": [
      " 80%|████████  | 8/10 [00:04<00:01,  1.97it/s]"
     ]
    },
    {
     "name": "stdout",
     "output_type": "stream",
     "text": [
      "Nathan is 28 years old and is currently studying Economics\n"
     ]
    },
    {
     "name": "stderr",
     "output_type": "stream",
     "text": [
      " 90%|█████████ | 9/10 [00:04<00:00,  1.96it/s]"
     ]
    },
    {
     "name": "stdout",
     "output_type": "stream",
     "text": [
      "Jack is 25 years old and is currently studying Biology\n"
     ]
    },
    {
     "name": "stderr",
     "output_type": "stream",
     "text": [
      "100%|██████████| 10/10 [00:05<00:00,  1.95it/s]"
     ]
    },
    {
     "name": "stdout",
     "output_type": "stream",
     "text": [
      "Olivia is 26 years old and is currently studying Political Science\n"
     ]
    },
    {
     "name": "stderr",
     "output_type": "stream",
     "text": [
      "\n"
     ]
    }
   ],
   "source": [
    "for col, row in tqdm(df[:10].iterrows(), total=df[:10].shape[0]):\n",
    "    time.sleep(0.5)\n",
    "    print(f\"{row['name']} is {row['age']} years old and is currently studying {row['study']}\")"
   ]
  },
  {
   "cell_type": "markdown",
   "id": "e5fa0377",
   "metadata": {},
   "source": [
    "\n",
    "**C. Style**\n",
    "\n",
    "- Layout:\n",
    "    - Pay attention to:\n",
    "        Indentation.\n",
    "        Proper use of imports.\n",
    "        Line lengths for readability.\n",
    "        Inclusion of blank lines for code organization.\n",
    "\n",
    "- Comments:\n",
    "    - Include:\n",
    "        Inline comments to explain specific lines of code.\n",
    "        Documentation strings to provide comprehensive information about functions and modules.\n",
    "\n",
    "- Naming Conventions:\n",
    "    Use descriptive and prescriptive names for variables, classes, and functions.\n",
    "\n",
    "- Programming Recommendations:\n",
    "    Follow programming recommendations, such as those outlined in [Google's Python Style Guide](https://github.com/google/styleguide/blob/gh-pages/pyguide.md)."
   ]
  },
  {
   "cell_type": "markdown",
   "id": "35ba00d7",
   "metadata": {},
   "source": [
    "### __2. Complexity and O-Notation__\n",
    "\n",
    "\n",
    "Nowadays, with all these data we consume and generate every single day, algorithms must be good enough to handle operations in large volumes of data.\n",
    "In this tutorial, we will understand a little more about time complexity, Big-O notation and why we need to be concerned about it when developing algorithms.\n",
    "\n",
    "![](o-notation.png)\n",
    "\n",
    "\n",
    "[source](https://www.bigocheatsheet.com/)"
   ]
  },
  {
   "cell_type": "markdown",
   "id": "bb89fee1",
   "metadata": {},
   "source": [
    "#### __2.1 Computational complexity__\n",
    "\n",
    "**Computational complexity** is a field from computer science which analyzes algorithms based on the amount resources required for running it. The amount of required resources varies based on the input size, so the complexity is generally expressed as a function of n, where n is the size of the input.\n",
    "\n",
    "It is important to note that when analyzing an algorithm we can consider the **time complexity** and **space complexity**. \n",
    "\n",
    "The space complexity is basically the amount of memory space required to solve a problem in relation to the input size. Even though the space complexity is important when analyzing an algorithm, today we will focus only on the time complexity.\n",
    "\n",
    "**Time Complexity:**\n",
    "\n",
    "*In computer science, the time complexity is the computational complexity that describes the amount of time it takes to run an algorithm. Time complexity is commonly estimated by counting the number of elementary operations performed by the algorithm, supposing that each elementary operation takes a fixed amount of time to perform.*\n",
    "\n",
    "When analyzing the time complexity of an algorithm we may find three cases: best-case, average-case and worst-case.\n",
    "- **Example:** \n",
    "\n",
    "\n",
    "Finding the index of a value in this list using linear search\n",
    "list = [1, 5, 3, 9, 2, 4, 6, 7, 8]\n",
    "\n",
    "- **best-case:** this is the complexity of solving the problem for the best input. In our example, the best case would be to search for the value 1. Since this is the first value of the list, it would be found in the first iteration.\n",
    "\n",
    "- **average-case:** this is the average complexity of solving the problem. This complexity is defined with respect to the distribution of the values in the input data. Maybe this is not the best example but, based on our sample, we could say that the average-case would be when we’re searching for some value in the “middle” of the list, for example, the value 2.\n",
    "\n",
    "- **worst-case:** this is the complexity of solving the problem for the worst input of size n. In our example, the worst-case would be to search for the value 8, which is the last element from the list.\n",
    "\n",
    "\n",
    "To describe the time complexity we us a mathematical notation called Big-O. \n",
    "\n",
    "- The o-notation describes the *Asymptotic Behavior* of a Function\n",
    "\n",
    "- Reduce Complexity to the Determining Values Only\n",
    "    - Exact Runtime Depends on Hardware etc., O-Notation as a More General Description of Complexity\n",
    "    - Constants and Constant Factors Often not of Interest\n",
    "\n",
    "- Some Algorithms Have Different Best-, Worst- and Average-Case Complexities"
   ]
  },
  {
   "cell_type": "markdown",
   "id": "25672a89",
   "metadata": {},
   "source": [
    "#### __2.2. O-notation/ Big-O__\n",
    "\n",
    "As you can see, there’s a lot of math involved in the formal definition of the notation, but informally we can assume that the Big-O notation gives us the algorithm’s approximate run time in the worst case. \n",
    "\n",
    "- Ω – Lower Bound\n",
    "f(n) ∈ Ω(g(n)) ⇔ (∃ c > 0) (∃ n0) (∀ n > n0) : [|f(n)| ≥ c ∙ |g(n)|]\n",
    "\n",
    "    Asymptotically, f does not grow slower than g\n",
    "\n",
    "- Θ – Exact Bound\n",
    "f(n) ∈ Θ(g(n)) ⇔ (∃ c0 > 0) (∃ c1 > 0) (∃ n0) (∀ n > n0) : [c0 ∙ |g(n)| ≤ |f(n)| ≤ c1 ∙ |g(n)|]\n",
    "\n",
    "    Asymptotically, f grows as fast as g\n",
    "\n",
    "- O – Upper Bound\n",
    "f(n) ∈ O(g(n)) ⇔ (∃c > 0) (∃ n0) (∀ n > n0) : [|f(n)| ≤ c ∙ |g(n)|]\n",
    "\n",
    "    Asymptotically, f does not grow faster than g\n",
    "\n",
    "\n",
    "\n",
    "When using the Big-O notation, we describe the algorithm’s efficiency based on the increasing size of the input data (n). For example, if the input is a string, the n will be the length of the string. If it is a list, the n will be the length of the list and so on."
   ]
  },
  {
   "cell_type": "markdown",
   "id": "3dc01410",
   "metadata": {},
   "source": [
    "**Table of most common time complexities**\n",
    "\n",
    "\n",
    "| Name             | Time Complexity |\n",
    "|------------------|------------------|\n",
    "| Constant Time    | O(1)             |\n",
    "| Logarithmic Time | O(log n)         |\n",
    "| Linear Time      | O(n)             |\n",
    "| Quasilinear Time | O(n log n)       |\n",
    "| Quadratic Time   | O(n^2)           |\n",
    "| Exponential Time | O(2^n)           |\n",
    "| Factorial Time   | O(n!)            |\n"
   ]
  },
  {
   "cell_type": "markdown",
   "id": "0718ae92",
   "metadata": {},
   "source": [
    "**Constant Time — O(1)**: An algorithm is said to have a constant time when it is not dependent on the input data (n). No matter the size of the input data, the running time will always be the same\n",
    "\n",
    "**Logarithmic Time — O(log n)**: An algorithm is said to have a logarithmic time complexity when it reduces the size of the input data in each step (it don’t need to look at all values of the input data)\n",
    "\n",
    "**Linear Time — O(n)**: An algorithm is said to have a linear time complexity when the running time increases at most linearly with the size of the input data. This is the best possible time complexity when the algorithm must examine all values in the input data.\n",
    "\n",
    "**Quasilinear Time — O(n log n)**: An algorithm is said to have a quasilinear time complexity when each operation in the input data have a logarithm time complexity. It is commonly seen in sorting algorithms\n",
    "\n",
    "**Quadratic Time — O(n²)**: An algorithm is said to have a quadratic time complexity when it needs to perform a linear time operation for each value in the input data\n",
    "\n",
    "**Exponential Time — O(2^n)**: An algorithm is said to have an exponential time complexity when the growth doubles with each addition to the input data set. This kind of time complexity is usually seen in brute-force algorithms. (i.e, itereating through all possible combinations of a password)\n",
    "\n",
    "**Factorial — O(n!)**: An algorithm is said to have a factorial time complexity when it grows in a factorial way based on the size of the input data\n"
   ]
  },
  {
   "cell_type": "markdown",
   "id": "01cd7eb8",
   "metadata": {},
   "source": [
    "### Exercise: Determine the (exact) runtime of the following algorithm\n",
    "\n",
    "\n",
    "![](fibonacci.png)"
   ]
  },
  {
   "cell_type": "markdown",
   "id": "b268cc6e",
   "metadata": {},
   "source": [
    "### Solution:\n",
    "\n",
    "- Exact Complexity:\n",
    "    - 3 ∙ 1 Time Units for Assignments\n",
    "    - Execute Loop n-1 times \n",
    "    - 3 ∙ 1 Assignments and 1 Arithmetic Operation in Loop \n",
    "    → 4 Time Units\n",
    "    - Overall: 3 + (n-1) ∙ 4 = 3 + 4n – 4 = 4n – 1\n",
    "- O-Notation: Ignore Constant Factors and Constants\n",
    "    - 4n – 1 ∈ O(n)\n",
    "- No Difference in Best, Worst, and Average Case "
   ]
  },
  {
   "cell_type": "markdown",
   "id": "48ab2851",
   "metadata": {},
   "source": [
    "### Exercise: Determine the best, average and worst case\n",
    "\n",
    "![](binary.png)"
   ]
  },
  {
   "cell_type": "markdown",
   "id": "e737d39c",
   "metadata": {},
   "source": [
    "### Solution:\n",
    "Best Case: element at first position m is equal to:\n",
    "- O(1)\n",
    "\n",
    "Worst Case: element is at lowest level of BST (or not in array)\n",
    "- Each iteration splits the array in (approximately) half, resulting in log(n + 1) comparisons (until length of array equals 1)\n",
    "- O(log n)\n",
    "\n",
    "Average Case: Exact value depends on if searches are successful and likelihood of elements to be found, but this results in O(log n) as well"
   ]
  },
  {
   "cell_type": "markdown",
   "id": "9956d727",
   "metadata": {},
   "source": [
    "### Stable vs. Unstable Sorting\n",
    "\n",
    "A sorting algorithm is said to be stable if two objects with equal keys appear in the same order in the sorted output, as they appear in the input data\n",
    "- E.g. the list[{‘name’: ‘Jane’, ‘age’: 20}, {‘name’: ‘John’, ‘age’: 20}] should keep the ordering of Jane and John, if we sort the list by age\n",
    "\n",
    "- Examples:\n",
    "\n",
    "    Stable – e.g. Mergesort\n",
    "\n",
    "    Unstable – e.g. Quicksort \n",
    "\n",
    "-  Sorting algorithms which are not stable can be modified to be stable\n"
   ]
  },
  {
   "cell_type": "markdown",
   "id": "790688f3",
   "metadata": {},
   "source": [
    "## Additional VM material\n",
    "\n",
    "### logging on to a VM using google cloud"
   ]
  },
  {
   "cell_type": "markdown",
   "id": "8b30f458",
   "metadata": {},
   "source": [
    "1. Login\n",
    "2. crate a new project\n",
    "\n",
    "3. naviagte to Compute ENgine --> VM Instance\n",
    "\n",
    "![](vm_instance.png)\n",
    "\n",
    "4. Launch Instance\n",
    "- choose e2.micrio\n",
    "\n",
    "![](instance_machine_type.png)\n",
    "\n",
    "- change the source to Ubuntu 20.04 LTS or Ubuntu 20.04 Minimal\n",
    "\n",
    "![](instance_change.png)\n",
    "\n",
    "5.  Firwall\n",
    "- enable HTTP and HTTPS traffic\n",
    "\n",
    "6. Associate ssh key\n",
    "\n",
    "under *Security* then *manage access* and *Add item*\n",
    "\n",
    "\n",
    "\n",
    "\n",
    "\n",
    "\n"
   ]
  },
  {
   "cell_type": "markdown",
   "id": "7944d4a9",
   "metadata": {},
   "source": [
    "Acces key, via terminal:\n",
    "\n",
    "- command : cat isa_rsa.pub\n",
    "\n",
    "\n",
    "- copy key and paste it into the field\n",
    "\n",
    "Finall, you can create the instance\n",
    "\n",
    "\n",
    "go to your terminal and access the server using:\n",
    "    ssh username@public_ip_adress\n",
    "\n",
    "\n",
    "From there you can follow the commands from the updated remote connection cheatsheet."
   ]
  },
  {
   "cell_type": "markdown",
   "id": "c8c362c9",
   "metadata": {},
   "source": [
    "### Stop your instance after you are done working on it!\n"
   ]
  },
  {
   "cell_type": "markdown",
   "id": "09371305",
   "metadata": {},
   "source": []
  }
 ],
 "metadata": {
  "kernelspec": {
   "display_name": "Python 3",
   "language": "python",
   "name": "python3"
  },
  "language_info": {
   "codemirror_mode": {
    "name": "ipython",
    "version": 3
   },
   "file_extension": ".py",
   "mimetype": "text/x-python",
   "name": "python",
   "nbconvert_exporter": "python",
   "pygments_lexer": "ipython3",
   "version": "3.13.0"
  }
 },
 "nbformat": 4,
 "nbformat_minor": 5
}
