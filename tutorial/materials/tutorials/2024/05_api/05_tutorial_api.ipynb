{
 "cells": [
  {
   "cell_type": "markdown",
   "id": "e9fc1372-454f-4108-906c-1fc73f920fd8",
   "metadata": {},
   "source": [
    "<div style=\"text-align: center;\" >\n",
    "<h1 style=\"margin-top: 0.2em; margin-bottom: 0.1em;\">APIs in Python</h1>\n",
    "<h4 style=\"margin-top: 0.7em; margin-bottom: 0.3em; font-style:italic\">Application Programming Interface</h4>\n",
    "</div>\n",
    "<br>"
   ]
  },
  {
   "cell_type": "markdown",
   "id": "1f9a5257",
   "metadata": {},
   "source": [
    "### __Google Slides__\n",
    "\n",
    "Find the slides here:\n",
    "[Slides API](https://docs.google.com/presentation/d/1AjiYJL5TblgwT1Ez-yW7sxlfe1UX5-NsePa4Q1jLXpE/edit?usp=sharing)"
   ]
  },
  {
   "cell_type": "markdown",
   "id": "863eb493-b109-4b26-98f5-40b07ec2d2df",
   "metadata": {},
   "source": [
    "### __Structure__\n",
    "\n",
    "1. What is an API \n",
    "\n",
    "    1.1 SOAP APIs\n",
    "    \n",
    "    1.2 REST APIs\n",
    "    \n",
    "    \n",
    "2. Why to use APIs\n",
    "\n",
    "\n",
    "3. Retriving data from an API\n",
    "\n",
    "    3.1 Making a request\n",
    "    \n",
    "    3.2 Dealing with the response\n",
    "\n",
    "\n",
    "4. Interactive Example"
   ]
  },
  {
   "cell_type": "markdown",
   "id": "598329b9-5789-476a-aebc-5787a1cdd853",
   "metadata": {},
   "source": [
    "## __1. What is an API?__\n",
    "\n",
    "An API (Application Programming Interface) is, as the name states, an interface that enables the exchange of information and data between two agents (i.e. a website or database and a user). The API itself is not the instance, that contains the data, but purely for the communication between the two sides, that want to exchange data. \n",
    "\n",
    "\n",
    "There are many kinds of API:\n",
    "\n",
    "* The big social media platforms usually have an API which you can use to retreive data i.e. \n",
    "    * [Twitter](https://developer.twitter.com/en/docs/twitter-api) (to retreive information on users and tweets, dates, likes and retweets - unfortunately behind a paywall now)\n",
    "    * [YouTube](https://developers.google.com/youtube/v3/docs) (for information on channels, videos, followers, clicks etc.)\n",
    "    * [Reddit]() (on subreddits and comments) \n",
    "    * [Spotify](https://developer.spotify.com/documentation/web-api) (on artists, songs, albums)\n",
    "* Imagine you have a company producing a product which you are selling online. Your website should display the correct stock of each item, which is stored in a (external) warehouse. The warehouse has its own system to keep track of the stocks (and could potentially be changed). If you are using an API to provide information on stocks from the warehouse system to your website, you are independant of the actualy system, the warehouse is using. \n",
    "* You can also use APIs for services like i.e. classification. \n",
    "    * The [Perspective API](https://perspectiveapi.com/) is an API which classifies the degree of toxicity in a text (on a scale of 0 to 1)\n",
    "    * The [Spotify API](https://developer.spotify.com/documentation/web-api) can determine some features of a song (danceability, tempo, instrumentalness, etc.)\n",
    "\n",
    "\n",
    "\n",
    "![title](src/API_Illustration.jpg)\n"
   ]
  },
  {
   "cell_type": "markdown",
   "id": "1bf081e6",
   "metadata": {},
   "source": [
    "There are different types of APIs, differing in their architectural structure and usage (for more information, see this [blog](https://blog.postman.com/soap-vs-rest/)). The two major types are:\n",
    "\n",
    "#### __1.1 SOAP APIs__\n",
    "\n",
    "SOAP stands for **S**imple **O**bject **A**ccess **P**rotocol and is a type of API that is usually associated with enterprises.\n",
    "SOAP APIs have\n",
    "\n",
    "* Strict security requirements and regulations (stricter contract-based usage)\n",
    "* Therefore, better fit for systems that send and receive highly sensitive data, i.e. financial and healthcare information\n",
    "* Mostly designed around actions\n",
    "\n",
    "\n",
    "#### __1.2 REST APIs__\n",
    "\n",
    "REST is an acronym for **RE**presentational **S**tate **T**ransfer and is an API architecture designed for access to web services (whose structure can change often).\n",
    "\n",
    "The REST architecture ensures consistent access based on some priciples:\n",
    "\n",
    "* Statelessness: the client (user) provides all necessary details so that the server does not have to care about the clients state \n",
    "* Consistent interface: ensures consistent and simple interactions using common HTTP methods like GET or POST\n",
    "* Standard media type support: provide resources in standard data formats like i.e. JSON\n",
    "* Separation of concerns: ensures that client (user) and server are completely de-coupled and can evolve independently from each other\n",
    "* Layered architecture: so that the system can be modular and maintainable\n",
    "\n",
    "\n",
    "REST APIs are typically used for public APIs and are ideal for fetching data from the Web. They are much lighter and closer to the HTTP specification than SOAP.\n",
    "REST APIs are what we are usually interestes in."
   ]
  },
  {
   "cell_type": "markdown",
   "id": "8d291999",
   "metadata": {},
   "source": [
    "***"
   ]
  },
  {
   "cell_type": "markdown",
   "id": "0bb7fe6c",
   "metadata": {},
   "source": [
    "## __2. Why to use an API?__\n",
    "\n",
    "Maybe you are wondering \"Why the hell should I care about APIs if I can also download a csv-file or scrape a website?\"\n",
    "\n",
    "Well, there are several reasons:\n",
    "\n",
    "* **1. APIs provide a standardised way to access the data.** In order to retreive the data, you *don't have to know or understand the internal structure* of how the data is stored, but just the command (sytax) on how to communicate, what you want to get. If you are webscraping a page, for example, you have to know the structure to specifically define the html-elements, you want to retreive. Image the website being updated or resturctured. Now, your code won't run again, because the html-structure changed. With an API, you have an interface between the actual data and yourself, the user, which *ensures that the data access remains consistent*, even if the websites layout or database layout changes.\n",
    "\n",
    "* **2. You want to retreive only small pices if data.** When downloading csv-files, you usually get the whole data and then need to filter for i.e. users or dates you are actually interested in. With APIs you can immediately define, which data you need (in i.e. terms of users, YouTube channels or time frames) and only collect this data.\n",
    "\n",
    "* **3. Less repeated computation.** You can use services and functions, someone else already programmed and do not have to do everything yourself. \n",
    "\n",
    "\n",
    "\n",
    "\n",
    "APIs therefore provide a standardised way of accessing the data and enable fast and efficient exchange, indepenadant of whether the websites layout or data base structure changes of not. \n",
    "\n"
   ]
  },
  {
   "cell_type": "markdown",
   "id": "060333ac",
   "metadata": {},
   "source": [
    "***"
   ]
  },
  {
   "cell_type": "markdown",
   "id": "8dc6d747-7c4f-40de-8787-d635c594f27a",
   "metadata": {},
   "source": [
    "## __3. Retriving data from an API__\n",
    "\n",
    "In the same way as with webscraping we also have to make *requests* to an API in order to get a *response*.\n",
    "\n",
    "![title](src/api-request.svg)\n",
    "\n",
    "\n",
    "* 1. The first step is to **request** a URL. \n",
    "    - APIs have (multiple) so called **endpoints**. These are different endings (suffixes) to the same base URL and provide access to different parts and pieces of information. For example with the YouTube API you have endpoints for channels, for videos, for comments for playlists etc. This way, you can clearly specify, which exact information you need to retreive. \n",
    "        - `https://www.googleapis.com/youtube/v3/videos`\n",
    "        - `https://www.googleapis.com/youtube/v3/channels`\n",
    "        - `https://www.googleapis.com/youtube/v3/comments`\n",
    "\n",
    "    - Using the APIs **parameters** you can further refine your request. For example specify certain channel ids, for which you would like to retrive data (instead of getting them for all channels)\n",
    "        - channel id \n",
    "        - statistics will encapsulate a channels statistics (like viewCount, commentCount etc.)\n",
    "        - status (privat or public channel)\n",
    " \n",
    "\n",
    "* 2. Once you've send the request, you will **get a response** in return (usually in JSON format) which you have to further process to extract and store the desired data.\n",
    "\n",
    "\n",
    "**Documentation pages**\n",
    "\n",
    "If you are wondering how to find out about the possible endpoints and parameters, each **APIs documentation page** will give you an overview. \n",
    "* The documentation pages might seem quiet messy and complex at first. Take your time to read and understand them. Usually, they are built in similar ways so you will get used to working with them.\n",
    "* You will find all relevant information on there\n",
    "    - i.e. regarding possible endpoints\n",
    "    - or regarding query parameters\n",
    "    \n",
    "* Usually, there are also some examples or a sandbox, where you can pre-test your query to see, if it works\n",
    "* Additionally, the documentation pages provide information the the returned response, its content and format\n",
    "\n",
    "**API-Keys**\n",
    "\n",
    "Not all APIs are free and publically available. Often, you will have to register for the API access. \n",
    "This means, you need to sign in in some way (usually by providing an e-mail adress) in order to get a so called API-key for authentication.\n",
    "It depends on the specific API if this is free or if you need to pay for the access.\n",
    "\n",
    "Once you've got an API-key it needs to be provided as a parameter in you API call.\n",
    "Additionally, you have to be aware that for some APIs there can be a limit in i.e. the number of requests, you can make using this key. "
   ]
  },
  {
   "cell_type": "markdown",
   "id": "cab8657e",
   "metadata": {},
   "source": [
    "#### __3.1 Request__\n",
    "\n",
    "In the same way as we had to make requests to websites when scraping them, we also have to make requests to an API. Therefore, we again use the `requests`-package. "
   ]
  },
  {
   "cell_type": "code",
   "execution_count": null,
   "id": "17a3879d-7257-4960-86c6-100a4849c580",
   "metadata": {},
   "outputs": [],
   "source": [
    "import requests"
   ]
  },
  {
   "cell_type": "markdown",
   "id": "29a678e9-052a-445c-9eab-b367f39c2708",
   "metadata": {},
   "source": [
    "There are three easy (and free) APIs that predict a persons [age](https://agify.io/), [gender](https://genderize.io/) and [nationality](https://nationalize.io) based on a given name.\n",
    "\n",
    "We are going to start with the **age-API**. \n",
    "\n",
    "The documentation tells us that, in order to request the predicted age of a name, we have to access the following url where we hand over the query-parameter, here the name for example michael: https://api.agify.io?name=michael"
   ]
  },
  {
   "cell_type": "code",
   "execution_count": null,
   "id": "02bfdb32-ae74-4732-99df-3e495f34d16a",
   "metadata": {},
   "outputs": [],
   "source": [
    "# Defining the name, we want to predict\n",
    "name = 'Elena'\n",
    "\n",
    "# defining the url\n",
    "age_api_url =  f'https://api.agify.io?name={name}'\n",
    "\n",
    "# sending the request\n",
    "resp = requests.get(age_api_url)\n",
    "resp"
   ]
  },
  {
   "cell_type": "markdown",
   "id": "a217d214-8be0-4e86-8d3e-f344f70e74fa",
   "metadata": {},
   "source": [
    "#### __3.2 Response__\n",
    "\n",
    "Like with scraping websites, the response is a status code, indicating if the request worked. \n",
    "\n",
    "Apart from that, we also get the response content.\n",
    "This content-body is stored in a JSON-format, which is similar to a python dictionary.\n",
    "\n",
    "To access the prediction (the data) we have to transform the response into a JSON-file using  `.json()` on the response\n",
    "(analogous with websites we had `soup = BeautifulSoup(response.content, 'html.parser')` to transform it into html-code)."
   ]
  },
  {
   "cell_type": "code",
   "execution_count": null,
   "id": "24d56524-c92c-45c3-b004-2645fe566d4f",
   "metadata": {},
   "outputs": [],
   "source": [
    "# Transform into JSON\n",
    "resp.json()"
   ]
  },
  {
   "cell_type": "markdown",
   "id": "07732ba8-1c1f-4440-af3e-2e2959375558",
   "metadata": {},
   "source": [
    "**JSON files in Python**\n",
    "\n",
    "JSON is the short version for 'JavaScript Object Notation' and is an easy to read file format.\n",
    "Since it is independant of a programming language is is mainly used to exchange information between applications.\n",
    "\n",
    "JSON-files are in their structure similar to dictionaries. Below you can see a response-example from the Twitter API:\n",
    "\n",
    "![title](src/JSON_response.png)"
   ]
  },
  {
   "cell_type": "markdown",
   "id": "41db392d-0777-4786-b190-1d920788693f",
   "metadata": {},
   "source": [
    "Turning back to our example with the age-API. We already got a response which we turned into JSON-format:"
   ]
  },
  {
   "cell_type": "code",
   "execution_count": null,
   "id": "e5cef80f-cb2b-4d68-bca4-0f1b6dc8cb8c",
   "metadata": {},
   "outputs": [],
   "source": [
    "resp.json()"
   ]
  },
  {
   "cell_type": "markdown",
   "id": "d0363c52-8070-41e2-8341-024b214364b5",
   "metadata": {},
   "source": [
    "The syntax to access the desired data within the JSON response is similar to dictionaries."
   ]
  },
  {
   "cell_type": "code",
   "execution_count": null,
   "id": "4f784b19-7fe2-425e-b668-b9a4bbcdca89",
   "metadata": {},
   "outputs": [],
   "source": [
    "data = resp.json()\n",
    "\n",
    "data[\"age\"]"
   ]
  },
  {
   "cell_type": "markdown",
   "id": "e12f12b5",
   "metadata": {},
   "source": [
    "***"
   ]
  },
  {
   "cell_type": "markdown",
   "id": "11ed9579-904d-4764-a533-cd71a6bd13b6",
   "metadata": {},
   "source": [
    "## __4. Interactive Tutorial Part:__\n",
    "\n",
    "\n",
    "\n",
    "Have a look at the documentatios for the [gender](https://genderize.io/) and [nationality](https://nationalize.io) APIs and get familiar with their way of working."
   ]
  },
  {
   "cell_type": "markdown",
   "id": "53f571c4-e176-4313-8508-ae46e2cb6de3",
   "metadata": {},
   "source": [
    "<div class=\"alert alert-block alert-info\">\n",
    "    <b>Exercise 1 </b>: Write a function (predict_personal_data()) which returs the predicted age, gender and nationality for a given name. \n",
    "    <b>Bonus; </b> Try to handle exceptions, i.e. if you hand over a name that is not valid or featured by the API\n",
    "</div>"
   ]
  },
  {
   "cell_type": "code",
   "execution_count": null,
   "id": "a7b7c9d5-fb88-49e9-b23c-7278abfe8430",
   "metadata": {},
   "outputs": [],
   "source": [
    "def predict_personal_data(name):\n",
    "    \n",
    "   "
   ]
  },
  {
   "cell_type": "code",
   "execution_count": null,
   "id": "3394d665-e355-4c95-acf7-f6572f192679",
   "metadata": {},
   "outputs": [],
   "source": [
    "# Test your function\n",
    "\n",
    "predict_personal_data()\n",
    "\n",
    "# Test if the error-catching works\n",
    "predict_personal_data()"
   ]
  },
  {
   "cell_type": "markdown",
   "id": "b7a9feb1",
   "metadata": {},
   "source": [
    "<div class=\"alert alert-block alert-info\">\n",
    "    <b>Exercise 2 </b>: News API  \n",
    "</div>"
   ]
  },
  {
   "cell_type": "markdown",
   "id": "fbd826af",
   "metadata": {},
   "source": [
    "We now want to retreive data from the [News API](https://newsapi.org/).\n",
    "\n",
    "This [website](https://newsapi.org/docs/authentication) tells us that we need to authenticate in in order to get access.\n",
    "\n",
    "* 1.) Take some minutes to familiarize yourself with the website and documentation\n",
    "* 2.) Sign up to get a key and be able to use the API\n",
    "* 3.) Inspect the [documentation page](https://newsapi.org/docs):\n",
    "    - What is the baseline URL?\n",
    "    - Can you find information on the available endpoints?\n",
    "    - What are parameters you can use to refine your search?\n",
    "        * We want to get all englisch articles, that were published during the last month and had a headline in which contained (Donald) Trump and sort them by popularity."
   ]
  },
  {
   "cell_type": "code",
   "execution_count": null,
   "id": "03450014",
   "metadata": {},
   "outputs": [],
   "source": [
    "import requests\n",
    "import pandas as pd"
   ]
  },
  {
   "cell_type": "code",
   "execution_count": null,
   "id": "8b6e45ac",
   "metadata": {},
   "outputs": [],
   "source": [
    "# 2) Sign in for an API key\n",
    "\n",
    "API_key = '' # Add your personal API key here\n",
    "\n"
   ]
  },
  {
   "cell_type": "markdown",
   "id": "980d605e",
   "metadata": {},
   "source": [
    "The baseline URL is:\n",
    "\n",
    "`GET https://newsapi.org`\n",
    "\n",
    "\n",
    "and the three possible endpoints:\n",
    "\n",
    "* everything: `/v2/everything`\n",
    "* top-headlines: `/v2/top-headlines`\n",
    "* sources: `/v2/top-headlines/sources`"
   ]
  },
  {
   "cell_type": "markdown",
   "id": "6c40a720",
   "metadata": {},
   "source": [
    "<div class=\"alert alert-block alert-info\">\n",
    "    <b>Exercise 2 a) </b> Which endpoint and parameters you need to use to request: all englisch articles, that were published during the last month and had a headline in which contained (Donald) Trump and sort them by popularity. \n",
    "</div>"
   ]
  },
  {
   "cell_type": "markdown",
   "id": "5287f9b5",
   "metadata": {},
   "source": [
    "Parameters we need:\n",
    "\n",
    "\n"
   ]
  },
  {
   "cell_type": "markdown",
   "id": "c4835a15",
   "metadata": {},
   "source": [
    "<div class=\"alert alert-block alert-info\">\n",
    "    <b>Exercise 2 b) </b> Define the parameters and built the URL in order to request it from the API. Send the request and receive a response. Store it as a json-object.\n",
    "</div>"
   ]
  },
  {
   "cell_type": "code",
   "execution_count": null,
   "id": "5005cbd4",
   "metadata": {},
   "outputs": [],
   "source": [
    "# Solution\n",
    "\n",
    "\n",
    "\n",
    "\n",
    "\n",
    "\n"
   ]
  },
  {
   "cell_type": "markdown",
   "id": "7b25a646",
   "metadata": {},
   "source": [
    "<div class=\"alert alert-block alert-info\">\n",
    "    <b>Exercise 2 c) </b>: Process and store the response. How many articles have been published during this time about Donald Trump? And how many does your response contain? Try to group the output by date and vizualize how many articles have been publsihed each day.\n",
    "</div>"
   ]
  },
  {
   "cell_type": "markdown",
   "id": "dd52b5a6",
   "metadata": {},
   "source": [
    "*Hint:* Have a look at the pandas `json_normalize` function."
   ]
  },
  {
   "cell_type": "code",
   "execution_count": null,
   "id": "58a90e0d",
   "metadata": {},
   "outputs": [],
   "source": [
    "# Solution\n",
    "\n",
    "\n",
    "\n",
    "\n"
   ]
  },
  {
   "cell_type": "markdown",
   "id": "115622a5",
   "metadata": {},
   "source": [
    "<div class=\"alert alert-block alert-info\">\n",
    "    <b>Exercise 2 d) </b>: Find out, which Newspaper has published most articles about Trump?\n",
    "</div>"
   ]
  },
  {
   "cell_type": "code",
   "execution_count": null,
   "id": "3b628910",
   "metadata": {},
   "outputs": [],
   "source": [
    "# Solution\n",
    "\n"
   ]
  }
 ],
 "metadata": {
  "kernelspec": {
   "display_name": "Python 3 (ipykernel)",
   "language": "python",
   "name": "python3"
  },
  "language_info": {
   "codemirror_mode": {
    "name": "ipython",
    "version": 3
   },
   "file_extension": ".py",
   "mimetype": "text/x-python",
   "name": "python",
   "nbconvert_exporter": "python",
   "pygments_lexer": "ipython3",
   "version": "3.9.13"
  }
 },
 "nbformat": 4,
 "nbformat_minor": 5
}
