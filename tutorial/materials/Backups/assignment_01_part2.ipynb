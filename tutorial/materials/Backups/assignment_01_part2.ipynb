{
 "cells": [
  {
   "cell_type": "markdown",
   "id": "4379fd43-8c5e-4e2e-a4c5-4f53819b2b0b",
   "metadata": {
    "execution": {
     "iopub.execute_input": "2023-10-12T19:28:58.497573Z",
     "iopub.status.busy": "2023-10-12T19:28:58.496574Z",
     "iopub.status.idle": "2023-10-12T19:28:58.515065Z",
     "shell.execute_reply": "2023-10-12T19:28:58.513545Z",
     "shell.execute_reply.started": "2023-10-12T19:28:58.497573Z"
    },
    "tags": []
   },
   "source": [
    "<div style=\"text-align: center;\" >\n",
    "<h1 style=\"margin-top: 0.2em; margin-bottom: 0.1em;\">Introduction to Computation for the Social Sciences</h1>\n",
    "<h2 style=\"margin-top: 0.7em; margin-bottom: 0.3em;\">Assignment 1</h2>\n",
    "<h3 style=\"margin-top: 0.7em; margin-bottom: 0.3em;\">Deadline Part 1: Oct 29, 23:59</h3>\n",
    "<h3 style=\"margin-top: 0.7em; margin-bottom: 0.3em;\">Deadline Parts 2-4: Nov 10, 23:59</h3>\n",
    "\n",
    "</div>\n",
    "<br>"
   ]
  },
  {
   "cell_type": "markdown",
   "id": "7f1e2332-b04b-4772-a791-6239188ce41a",
   "metadata": {},
   "source": [
    "<h4 style=\"margin-top: 0.7em; margin-bottom: 0.3em; font-style:italic\">\n",
    "Please push your solutions to your personal repository in our <a href='https://classroom.github.com/a/tGD_7t85'>GitHub Classroom</a></h4><br>\n",
    "\n",
    "***"
   ]
  },
  {
   "cell_type": "markdown",
   "id": "271d6d5c-c2cf-4417-a79b-720c491d9d6b",
   "metadata": {},
   "source": [
    "<h3>Part 1 - GitHub Setup</h3>\n"
   ]
  },
  {
   "cell_type": "markdown",
   "id": "b37d054a",
   "metadata": {},
   "source": [
    "If you got this second part, the first part of the assignment obviously worked. Well done!"
   ]
  },
  {
   "cell_type": "markdown",
   "id": "ec7d227c-6957-4681-8f3a-760fba6917d6",
   "metadata": {},
   "source": [
    "***"
   ]
  },
  {
   "cell_type": "markdown",
   "id": "72c6e642-70a4-4326-b010-71123fcca713",
   "metadata": {},
   "source": [
    "<h1>Deadline for the following Parts (2-4) is November 10, 2024</h1>"
   ]
  },
  {
   "cell_type": "markdown",
   "id": "76fb5f81-af9b-4fe8-90d3-4fc34212f791",
   "metadata": {},
   "source": [
    "<h3>Part 2 - Pandas Data Frames and Data Visualization</h3>"
   ]
  },
  {
   "cell_type": "markdown",
   "id": "b03adeee-97c5-4c67-9de1-02b7a1afb27d",
   "metadata": {},
   "source": [
    "<h4>Task 5</h4>"
   ]
  },
  {
   "cell_type": "markdown",
   "id": "f1bc8d61-b48b-45c2-bf20-35fac60bdc2f",
   "metadata": {},
   "source": [
    "***a) Import the csv-file on world population***\n",
    "\n",
    "In the Git Hub, where you pulled the assignment, you were also provided two csv-files. Please import the file on world population and store it as a data frame. Remember to load the pandas library first. "
   ]
  },
  {
   "cell_type": "code",
   "execution_count": 29,
   "id": "9f97d906",
   "metadata": {},
   "outputs": [],
   "source": [
    "import pandas as pd\n",
    "pop_data = pd.read_csv(\"world-population-by-country-2020.csv\", index_col=None, na_values=\"N.A.\")"
   ]
  },
  {
   "cell_type": "markdown",
   "id": "f6a44194-c785-419d-a0b7-846b712b171c",
   "metadata": {},
   "source": [
    "***b) Data Types***\n",
    "\n",
    "Familiarize yourself with the data on world population per country. \n",
    "\n",
    "Often, it might be useful to rename some columns or change the data type of values.\n",
    "Therefore, investigate what data types do the different columns have.\n"
   ]
  },
  {
   "cell_type": "code",
   "execution_count": 30,
   "id": "699b7732",
   "metadata": {
    "tags": []
   },
   "outputs": [
    {
     "data": {
      "text/plain": [
       "no                           int64\n",
       "Country (or dependency)     object\n",
       "Population 2020             object\n",
       "Yearly Change               object\n",
       "Net Change                  object\n",
       "Density  (P/Km²)            object\n",
       "Land Area (Km²)             object\n",
       "Migrants (net)              object\n",
       "Fert. Rate                 float64\n",
       "Med. Age                   float64\n",
       "Urban Pop %                 object\n",
       "World Share                 object\n",
       "dtype: object"
      ]
     },
     "execution_count": 30,
     "metadata": {},
     "output_type": "execute_result"
    }
   ],
   "source": [
    "pop_data.dtypes"
   ]
  },
  {
   "cell_type": "markdown",
   "id": "ed6a0d4d",
   "metadata": {},
   "source": [
    "Rename the columns using the following dictionary:\n",
    "\n",
    "`{'no' : 'Nr.', 'Country (or dependency)' : 'Country', 'Population 2020' : 'Population', 'Yearly Change' : 'Yearly_%_Change',\n",
    "'Net Change' : 'Net_Change', 'Density  (P/Km²)' : 'Density', 'Land Area (Km²)' : 'Area', 'Migrants (net)' : 'Net_Migrants',\n",
    "'Fert. Rate' : 'Fert_Rate', 'Med. Age' : 'Median_Age', 'Urban Pop %' : 'Urban_Pop_%', 'World Share' : 'World_Share'}`"
   ]
  },
  {
   "cell_type": "code",
   "execution_count": 31,
   "id": "4cd1b19b",
   "metadata": {},
   "outputs": [],
   "source": [
    "pop_data.rename(columns={'no' : 'Nr.', 'Country (or dependency)' : 'Country', 'Population 2020' : 'Population', 'Yearly Change' : 'Yearly_%_Change',\n",
    "'Net Change' : 'Net_Change', 'Density  (P/Km²)' : 'Density', 'Land Area (Km²)' : 'Area', 'Migrants (net)' : 'Net_Migrants',\n",
    "'Fert. Rate' : 'Fert_Rate', 'Med. Age' : 'Median_Age', 'Urban Pop %' : 'Urban_Pop_%', 'World Share' : 'World_Share'},inplace=True)"
   ]
  },
  {
   "cell_type": "markdown",
   "id": "a654e170-bb43-4af6-8230-0643a9bb28f3",
   "metadata": {},
   "source": [
    "***c) Filter out all counties, that have missing values somewhere in the table. Do they contribute a relevant share to the world-population? If not, simply drop these rows (countires)***\n"
   ]
  },
  {
   "cell_type": "code",
   "execution_count": 32,
   "id": "57f2145b",
   "metadata": {},
   "outputs": [
    {
     "name": "stdout",
     "output_type": "stream",
     "text": [
      "     Nr.                   Country  Population Yearly_%_Change Net_Change  \\\n",
      "49    50                 Venezuela  28,435,940          -0.28%    -79,889   \n",
      "103  104                 Hong Kong   7,496,981           0.82%     60,827   \n",
      "113  114                 Singapore   5,850,342           0.79%     46,005   \n",
      "128  129                    Kuwait   4,270,571           1.51%     63,488   \n",
      "140  141               Puerto Rico   2,860,853          -2.47%    -72,555   \n",
      "166  167                     Macao     649,335           1.39%      8,890   \n",
      "176  177                Guadeloupe     400,124           0.02%         68   \n",
      "201  202               Isle of Man      85,033           0.53%        449   \n",
      "202  203                   Andorra      77,265           0.16%        123   \n",
      "203  204                  Dominica      71,986           0.25%        178   \n",
      "204  205            Cayman Islands      65,722           1.19%        774   \n",
      "205  206                   Bermuda      62,278          -0.36%       -228   \n",
      "206  207          Marshall Islands      59,190           0.68%        399   \n",
      "207  208  Northern Mariana Islands      57,559           0.60%        343   \n",
      "208  209                 Greenland      56,770           0.17%         98   \n",
      "209  210            American Samoa      55,191          -0.22%       -121   \n",
      "210  211       Saint Kitts & Nevis      53,199           0.71%        376   \n",
      "211  212            Faeroe Islands      48,863           0.38%        185   \n",
      "212  213              Sint Maarten      42,876           1.15%        488   \n",
      "213  214                    Monaco      39,242           0.71%        278   \n",
      "214  215          Turks and Caicos      38,717           1.38%        526   \n",
      "215  216              Saint Martin      38,666           1.75%        664   \n",
      "216  217             Liechtenstein      38,128           0.29%        109   \n",
      "217  218                San Marino      33,931           0.21%         71   \n",
      "218  219                 Gibraltar      33,691          -0.03%        -10   \n",
      "219  220    British Virgin Islands      30,231           0.67%        201   \n",
      "220  221     Caribbean Netherlands      26,223           0.94%        244   \n",
      "221  222                     Palau      18,094           0.48%         86   \n",
      "222  223              Cook Islands      17,564           0.09%         16   \n",
      "223  224                  Anguilla      15,003           0.90%        134   \n",
      "224  225                    Tuvalu      11,792           1.25%        146   \n",
      "225  226           Wallis & Futuna      11,239          -1.69%       -193   \n",
      "226  227                     Nauru      10,824           0.63%         68   \n",
      "227  228          Saint Barthelemy       9,877           0.30%         30   \n",
      "228  229              Saint Helena       6,077           0.30%         18   \n",
      "229  230   Saint Pierre & Miquelon       5,794          -0.48%        -28   \n",
      "230  231                Montserrat       4,992           0.06%          3   \n",
      "231  232          Falkland Islands       3,480           3.05%        103   \n",
      "232  233                      Niue       1,626           0.68%         11   \n",
      "233  234                   Tokelau       1,357           1.27%         17   \n",
      "234  235                  Holy See         801           0.25%          2   \n",
      "\n",
      "    Density     Area Net_Migrants  Fert_Rate  Median_Age Urban_Pop_%  \\\n",
      "49       32  882,050     -653,249        2.3        30.0         NaN   \n",
      "103   7,140    1,050       29,308        1.3        45.0         NaN   \n",
      "113   8,358      700       27,028        1.2        42.0         NaN   \n",
      "128     240   17,820       39,520        2.1        37.0         NaN   \n",
      "140     323    8,870      -97,986        1.2        44.0         NaN   \n",
      "166  21,645       30        5,000        1.2        39.0         NaN   \n",
      "176     237    1,690       -1,440        2.2        44.0         NaN   \n",
      "201     149      570          NaN        NaN         NaN         53%   \n",
      "202     164      470          NaN        NaN         NaN         88%   \n",
      "203      96      750          NaN        NaN         NaN         74%   \n",
      "204     274      240          NaN        NaN         NaN         97%   \n",
      "205   1,246       50          NaN        NaN         NaN         97%   \n",
      "206     329      180          NaN        NaN         NaN         70%   \n",
      "207     125      460          NaN        NaN         NaN         88%   \n",
      "208       0  410,450          NaN        NaN         NaN         87%   \n",
      "209     276      200          NaN        NaN         NaN         88%   \n",
      "210     205      260          NaN        NaN         NaN         33%   \n",
      "211      35    1,396          NaN        NaN         NaN         43%   \n",
      "212   1,261       34          NaN        NaN         NaN         96%   \n",
      "213  26,337        1          NaN        NaN         NaN         NaN   \n",
      "214      41      950          NaN        NaN         NaN         89%   \n",
      "215     730       53          NaN        NaN         NaN          0%   \n",
      "216     238      160          NaN        NaN         NaN         15%   \n",
      "217     566       60          NaN        NaN         NaN         97%   \n",
      "218   3,369       10          NaN        NaN         NaN         NaN   \n",
      "219     202      150          NaN        NaN         NaN         52%   \n",
      "220      80      328          NaN        NaN         NaN         75%   \n",
      "221      39      460          NaN        NaN         NaN         NaN   \n",
      "222      73      240          NaN        NaN         NaN         75%   \n",
      "223     167       90          NaN        NaN         NaN         NaN   \n",
      "224     393       30          NaN        NaN         NaN         62%   \n",
      "225      80      140          NaN        NaN         NaN          0%   \n",
      "226     541       20          NaN        NaN         NaN         NaN   \n",
      "227     470       21          NaN        NaN         NaN          0%   \n",
      "228      16      390          NaN        NaN         NaN         27%   \n",
      "229      25      230          NaN        NaN         NaN        100%   \n",
      "230      50      100          NaN        NaN         NaN         10%   \n",
      "231       0   12,170          NaN        NaN         NaN         66%   \n",
      "232       6      260          NaN        NaN         NaN         46%   \n",
      "233     136       10          NaN        NaN         NaN          0%   \n",
      "234   2,003        0          NaN        NaN         NaN         NaN   \n",
      "\n",
      "    World_Share  \n",
      "49        0.36%  \n",
      "103       0.10%  \n",
      "113       0.08%  \n",
      "128       0.05%  \n",
      "140       0.04%  \n",
      "166       0.01%  \n",
      "176       0.01%  \n",
      "201       0.00%  \n",
      "202       0.00%  \n",
      "203       0.00%  \n",
      "204       0.00%  \n",
      "205       0.00%  \n",
      "206       0.00%  \n",
      "207       0.00%  \n",
      "208       0.00%  \n",
      "209       0.00%  \n",
      "210       0.00%  \n",
      "211       0.00%  \n",
      "212       0.00%  \n",
      "213       0.00%  \n",
      "214       0.00%  \n",
      "215       0.00%  \n",
      "216       0.00%  \n",
      "217       0.00%  \n",
      "218       0.00%  \n",
      "219       0.00%  \n",
      "220       0.00%  \n",
      "221       0.00%  \n",
      "222       0.00%  \n",
      "223       0.00%  \n",
      "224       0.00%  \n",
      "225       0.00%  \n",
      "226       0.00%  \n",
      "227       0.00%  \n",
      "228       0.00%  \n",
      "229       0.00%  \n",
      "230       0.00%  \n",
      "231       0.00%  \n",
      "232       0.00%  \n",
      "233       0.00%  \n",
      "234       0.00%  \n"
     ]
    }
   ],
   "source": [
    "na_countries = pop_data[pop_data.isnull().any(axis=1)]\n",
    "print(na_countries)\n",
    "\n",
    "pop_data.dropna(inplace=True) # just 5 countries have more than a million inhabitants, should be fine to drop"
   ]
  },
  {
   "cell_type": "markdown",
   "id": "648db0ce",
   "metadata": {},
   "source": [
    "***d) Change the data type of all numeric columns to int (or float). Find a way to deal with the percentage-columns and comma.***\n"
   ]
  },
  {
   "cell_type": "code",
   "execution_count": 33,
   "id": "554268a9",
   "metadata": {},
   "outputs": [],
   "source": [
    "pop_data.replace([\"%\",\",\"],[\"\",\"\"], regex=True, inplace=True) # the only intended string column `country` doesn't contain a reasonable \",\" so I was able to delete all \",\" in the df\n",
    "\n",
    "pop_data[[\"Population\",\"Net_Change\",\"Density\",\"Area\",\"Net_Migrants\"]] = pop_data[[\"Population\",\"Net_Change\",\"Density\",\"Area\",\"Net_Migrants\"]].astype(int) # transform to integer\n",
    "pop_data[\"Urban_Pop_%\"] = pop_data[\"Urban_Pop_%\"].astype(int) / 100 # transform percentage into decimal represenation\n",
    "pop_data[[\"Yearly_%_Change\",\"World_Share\"]] = (pop_data[[\"Yearly_%_Change\",\"World_Share\"]].astype(float) / 100).round(5) # transform percentage to decimal representaion\n",
    "\n",
    "pop_data.rename(columns={\"Urban_Pop_%\":\"Urban_Pop_Ratio\",\"Yearly_%_Change\": \"Yearly_Change_Ratio\",\"World_Share\":\"World_Share_Fraction\"},inplace=True) # this was no necessity, but for clarity I decided to do it"
   ]
  },
  {
   "cell_type": "markdown",
   "id": "fcc13ec4",
   "metadata": {},
   "source": [
    "***e) Import the second csv-file containing countries, their capital and continent. For nice visualisations later, please merge the information on continents on to your population-data-frame.***\n",
    "\n",
    "*Hint: use the pandas function `.merge()` and see the documentation [here](https://pandas.pydata.org/docs/reference/api/pandas.DataFrame.merge.html) for details*."
   ]
  },
  {
   "cell_type": "code",
   "execution_count": 34,
   "id": "46351733",
   "metadata": {},
   "outputs": [],
   "source": [
    "country_data = pd.read_csv(\"countries-continents-capitals.csv\",index_col=None, encoding=\"ISO-8859-1\") # there are still some capitals left where the encoding didn't work\n",
    "pop_data = pop_data.merge(country_data,left_on=\"Country\",right_on=\"Country/Territory\").drop(\"Country/Territory\",axis=1)"
   ]
  },
  {
   "cell_type": "markdown",
   "id": "6dfaf76c",
   "metadata": {},
   "source": [
    "***f) For some basic descriptive statistics, please find the following countries:***\n",
    "\n",
    "- *Top 5* countries in absolute population numbers\n",
    "- The country with the *highest* population density\n",
    "- The counrty with the *highest* and *lowest* yearly %-change"
   ]
  },
  {
   "cell_type": "code",
   "execution_count": 35,
   "id": "39ab14cb",
   "metadata": {},
   "outputs": [
    {
     "data": {
      "text/html": [
       "<div>\n",
       "<style scoped>\n",
       "    .dataframe tbody tr th:only-of-type {\n",
       "        vertical-align: middle;\n",
       "    }\n",
       "\n",
       "    .dataframe tbody tr th {\n",
       "        vertical-align: top;\n",
       "    }\n",
       "\n",
       "    .dataframe thead th {\n",
       "        text-align: right;\n",
       "    }\n",
       "</style>\n",
       "<table border=\"1\" class=\"dataframe\">\n",
       "  <thead>\n",
       "    <tr style=\"text-align: right;\">\n",
       "      <th></th>\n",
       "      <th>Country</th>\n",
       "      <th>Population</th>\n",
       "    </tr>\n",
       "  </thead>\n",
       "  <tbody>\n",
       "    <tr>\n",
       "      <th>0</th>\n",
       "      <td>China</td>\n",
       "      <td>1439323776</td>\n",
       "    </tr>\n",
       "    <tr>\n",
       "      <th>1</th>\n",
       "      <td>India</td>\n",
       "      <td>1380004385</td>\n",
       "    </tr>\n",
       "    <tr>\n",
       "      <th>2</th>\n",
       "      <td>United States</td>\n",
       "      <td>331002651</td>\n",
       "    </tr>\n",
       "    <tr>\n",
       "      <th>3</th>\n",
       "      <td>Indonesia</td>\n",
       "      <td>273523615</td>\n",
       "    </tr>\n",
       "    <tr>\n",
       "      <th>4</th>\n",
       "      <td>Pakistan</td>\n",
       "      <td>220892340</td>\n",
       "    </tr>\n",
       "  </tbody>\n",
       "</table>\n",
       "</div>"
      ],
      "text/plain": [
       "         Country  Population\n",
       "0          China  1439323776\n",
       "1          India  1380004385\n",
       "2  United States   331002651\n",
       "3      Indonesia   273523615\n",
       "4       Pakistan   220892340"
      ]
     },
     "execution_count": 35,
     "metadata": {},
     "output_type": "execute_result"
    }
   ],
   "source": [
    "# 1. top 5\n",
    "top5_pop = pop_data.sort_values(\"Population\",ascending=False).head(5)\n",
    "top5_pop[[\"Country\",\"Population\"]]"
   ]
  },
  {
   "cell_type": "code",
   "execution_count": 36,
   "id": "cf7f2db0",
   "metadata": {},
   "outputs": [
    {
     "data": {
      "text/html": [
       "<div>\n",
       "<style scoped>\n",
       "    .dataframe tbody tr th:only-of-type {\n",
       "        vertical-align: middle;\n",
       "    }\n",
       "\n",
       "    .dataframe tbody tr th {\n",
       "        vertical-align: top;\n",
       "    }\n",
       "\n",
       "    .dataframe thead th {\n",
       "        text-align: right;\n",
       "    }\n",
       "</style>\n",
       "<table border=\"1\" class=\"dataframe\">\n",
       "  <thead>\n",
       "    <tr style=\"text-align: right;\">\n",
       "      <th></th>\n",
       "      <th>Country</th>\n",
       "      <th>Density</th>\n",
       "    </tr>\n",
       "  </thead>\n",
       "  <tbody>\n",
       "    <tr>\n",
       "      <th>142</th>\n",
       "      <td>Bahrain</td>\n",
       "      <td>2239</td>\n",
       "    </tr>\n",
       "  </tbody>\n",
       "</table>\n",
       "</div>"
      ],
      "text/plain": [
       "     Country  Density\n",
       "142  Bahrain     2239"
      ]
     },
     "execution_count": 36,
     "metadata": {},
     "output_type": "execute_result"
    }
   ],
   "source": [
    "# 2. max()\n",
    "high_dens = pop_data.sort_values(\"Density\",ascending=False).head(1)\n",
    "high_dens[[\"Country\",\"Density\"]]"
   ]
  },
  {
   "cell_type": "code",
   "execution_count": 12,
   "id": "3a364036",
   "metadata": {},
   "outputs": [
    {
     "name": "stdout",
     "output_type": "stream",
     "text": [
      "Max Change:\n",
      "   Country  Yearly_Change_Ratio\n",
      "55   Niger               0.0384\n",
      "\n",
      "Min Change:\n",
      "       Country  Yearly_Change_Ratio\n",
      "141  Lithuania              -0.0135\n"
     ]
    }
   ],
   "source": [
    "# 3. max() and min()\n",
    "max_change = pop_data.sort_values(\"Yearly_Change_Ratio\",ascending=False).head(1)\n",
    "min_change = pop_data.sort_values(\"Yearly_Change_Ratio\").head(1)\n",
    "\n",
    "print(\"Max Change:\")\n",
    "print(max_change[[\"Country\",\"Yearly_Change_Ratio\"]])\n",
    "print(\"\\nMin Change:\")\n",
    "print(min_change[[\"Country\",\"Yearly_Change_Ratio\"]])"
   ]
  },
  {
   "cell_type": "markdown",
   "id": "db39203d",
   "metadata": {},
   "source": [
    "***g) Find the absolute population number, the mean population and %-share among the world-population, when grouping the countires on continent. Save the resulting table into a separate data frame.***\n",
    " "
   ]
  },
  {
   "cell_type": "code",
   "execution_count": 37,
   "id": "12936bd7",
   "metadata": {},
   "outputs": [
    {
     "data": {
      "text/html": [
       "<div>\n",
       "<style scoped>\n",
       "    .dataframe tbody tr th:only-of-type {\n",
       "        vertical-align: middle;\n",
       "    }\n",
       "\n",
       "    .dataframe tbody tr th {\n",
       "        vertical-align: top;\n",
       "    }\n",
       "\n",
       "    .dataframe thead th {\n",
       "        text-align: right;\n",
       "    }\n",
       "</style>\n",
       "<table border=\"1\" class=\"dataframe\">\n",
       "  <thead>\n",
       "    <tr style=\"text-align: right;\">\n",
       "      <th></th>\n",
       "      <th>Absolute_Population</th>\n",
       "      <th>Mean_Population</th>\n",
       "      <th>World_Share_Pop</th>\n",
       "    </tr>\n",
       "    <tr>\n",
       "      <th>Continent</th>\n",
       "      <th></th>\n",
       "      <th></th>\n",
       "      <th></th>\n",
       "    </tr>\n",
       "  </thead>\n",
       "  <tbody>\n",
       "    <tr>\n",
       "      <th>Africa</th>\n",
       "      <td>1307025251</td>\n",
       "      <td>25135101.0</td>\n",
       "      <td>0.1699</td>\n",
       "    </tr>\n",
       "    <tr>\n",
       "      <th>Asia</th>\n",
       "      <td>4616478773</td>\n",
       "      <td>102588417.2</td>\n",
       "      <td>0.6000</td>\n",
       "    </tr>\n",
       "    <tr>\n",
       "      <th>Europe</th>\n",
       "      <td>737603587</td>\n",
       "      <td>18912912.5</td>\n",
       "      <td>0.0959</td>\n",
       "    </tr>\n",
       "    <tr>\n",
       "      <th>North America</th>\n",
       "      <td>587909443</td>\n",
       "      <td>26723156.5</td>\n",
       "      <td>0.0764</td>\n",
       "    </tr>\n",
       "    <tr>\n",
       "      <th>Oceania</th>\n",
       "      <td>42867268</td>\n",
       "      <td>3297482.2</td>\n",
       "      <td>0.0056</td>\n",
       "    </tr>\n",
       "    <tr>\n",
       "      <th>South America</th>\n",
       "      <td>402320346</td>\n",
       "      <td>33526695.5</td>\n",
       "      <td>0.0523</td>\n",
       "    </tr>\n",
       "  </tbody>\n",
       "</table>\n",
       "</div>"
      ],
      "text/plain": [
       "               Absolute_Population  Mean_Population  World_Share_Pop\n",
       "Continent                                                           \n",
       "Africa                  1307025251       25135101.0           0.1699\n",
       "Asia                    4616478773      102588417.2           0.6000\n",
       "Europe                   737603587       18912912.5           0.0959\n",
       "North America            587909443       26723156.5           0.0764\n",
       "Oceania                   42867268        3297482.2           0.0056\n",
       "South America            402320346       33526695.5           0.0523"
      ]
     },
     "execution_count": 37,
     "metadata": {},
     "output_type": "execute_result"
    }
   ],
   "source": [
    "world_pop_abs = pop_data[\"Population\"].sum()\n",
    "continent_df = pop_data.groupby([\"Continent\"]).agg(Absolute_Population = (\"Population\",\"sum\"),\n",
    "                                                   Mean_Population = (\"Population\",\"mean\"))\n",
    "continent_df[\"World_Share_Pop\"] = continent_df[\"Absolute_Population\"] / world_pop_abs\n",
    "continent_df[\"Mean_Population\"] = continent_df[\"Mean_Population\"].round(1) # to display it nicely in Jupyter\n",
    "continent_df[\"World_Share_Pop\"] = continent_df[\"World_Share_Pop\"].round(4)\n",
    "continent_df"
   ]
  },
  {
   "cell_type": "markdown",
   "id": "46f65df0",
   "metadata": {},
   "source": [
    "***h) Plot the absolute population per continent in descending order, using a bar chart. Don't forget to add a header, axis-labels, a legend (if required) and so on.***\n",
    " "
   ]
  },
  {
   "cell_type": "code",
   "execution_count": 38,
   "id": "301895a4",
   "metadata": {},
   "outputs": [
    {
     "data": {
      "image/png": "[encoded data removed]",
      "text/plain": [
       "<Figure size 640x480 with 1 Axes>"
      ]
     },
     "metadata": {},
     "output_type": "display_data"
    }
   ],
   "source": [
    "import matplotlib.pyplot as plt\n",
    "import numpy as np\n",
    "\n",
    "continent_df_sorted = continent_df.sort_values(by=\"Absolute_Population\", ascending=False)\n",
    "plt.bar(continent_df_sorted.index,continent_df_sorted[\"Absolute_Population\"])\n",
    "plt.title(\"Absolute Population per Continent\")\n",
    "plt.xlabel(\"Continent\")\n",
    "plt.ylabel(\"Population (in Billion)\")\n",
    "plt.xticks(np.arange(6), ['Asia', 'Africa', 'Europe','North\\nAmerica','South\\nAmerica','Oceania']) #not necessary, used for better readability\n",
    "plt.show()"
   ]
  },
  {
   "cell_type": "markdown",
   "id": "81ae82da",
   "metadata": {},
   "source": [
    "***i) Visualize the distribution of the continents populations by using a violin plot (if you are not familiar with violin plots, read for example [here](https://mode.com/blog/violin-plot-examples/)). Describe your findings from the two plots in 2 - 3 sentences.***"
   ]
  },
  {
   "cell_type": "code",
   "execution_count": 39,
   "id": "514436a7",
   "metadata": {},
   "outputs": [
    {
     "data": {
      "image/png": "[encoded data removed]",
      "text/plain": [
       "<Figure size 1400x600 with 2 Axes>"
      ]
     },
     "metadata": {},
     "output_type": "display_data"
    }
   ],
   "source": [
    "import seaborn as sns\n",
    "\n",
    "# Violin plot without y-axis limits\n",
    "plt.figure(figsize=(14,6))\n",
    "plt.subplot(1, 2, 1)\n",
    "sns.violinplot(data = pop_data, x = \"Continent\", y=\"Population\")\n",
    "plt.title(\"Population Distribution Across Continents\")\n",
    "plt.xlabel(\"Continent\")\n",
    "plt.ylabel(\"Population (in Billion)\")\n",
    "plt.xticks(np.arange(6), ['Asia', 'Africa', 'Europe','North\\nAmerica','South\\nAmerica','Oceania'])\n",
    "\n",
    "# Violin plot with y-axis limits for better visualization of continents beside Asia\n",
    "plt.subplot(1, 2, 2)\n",
    "sns.violinplot(data = pop_data, x = \"Continent\", y=\"Population\")\n",
    "plt.title(\"Population Distribution Across Continents\")\n",
    "plt.xlabel(\"Continent\")\n",
    "plt.ylabel(\"Population (in Billion)\")\n",
    "plt.xticks(np.arange(6), ['Asia', 'Africa', 'Europe','North\\nAmerica','South\\nAmerica','Oceania'])\n",
    "plt.ylim(-75000000, 200000000)\n",
    "plt.tight_layout() # for better horizontal alignment\n",
    "plt.show()"
   ]
  },
  {
   "cell_type": "markdown",
   "id": "8c277d18",
   "metadata": {},
   "source": [
    "***Interprete your plot here:***\n",
    "\n",
    "- The left violin plot shows the population distribution across continents without limits on the y-axis, making interpretation difficult due to the significant distortion caused by Asia's highly populated countries. To aid interpretation, the right plot presents the data on a more restricted scale. Interestingly, although Africa has a higher overall population than Europe and the Americas, the median population per country is lower, likely due to a few highly populated African countries skewing the distribution. The appearance of negative values results from interquartile range calculation and does not hold any real-world meaning in this context.\n"
   ]
  },
  {
   "cell_type": "markdown",
   "id": "41ffef9b-3dd9-485a-aca9-bf6ccc12ef67",
   "metadata": {},
   "source": [
    "<h3>Part 3 - Lambda Functions and List/Dictionary Comprehension</h3>"
   ]
  },
  {
   "cell_type": "markdown",
   "id": "ce19df07-430c-4f1b-811d-c59d1f6bdf29",
   "metadata": {},
   "source": [
    "<h4>Task 6</h4>"
   ]
  },
  {
   "cell_type": "markdown",
   "id": "67180c2b-85e6-4152-8266-2144efdfc34f",
   "metadata": {},
   "source": [
    "***a) Lambda Functions***\n",
    "\n",
    "Lambda functions are a handy way to define small, helpful functions. The basic syntax was: \n",
    "\n",
    "`lambda <parameter>, … : expression`\n",
    "\n",
    "Use a lambda function to obtain the dictionary representing the person closest to their 50th birthday from a list of dictionaries in the following form (if there are multiple people with the same distance, it is enough to return one):\n"
   ]
  },
  {
   "cell_type": "code",
   "execution_count": 40,
   "id": "3615b84c-0f77-4bdb-9852-08e1ade0911d",
   "metadata": {},
   "outputs": [
    {
     "data": {
      "text/plain": [
       "[{'name': 'Laurie Pineda', 'age': 39},\n",
       " {'name': 'Tommy Harper', 'age': 21},\n",
       " {'name': 'Jeffery Short', 'age': 54}]"
      ]
     },
     "execution_count": 40,
     "metadata": {},
     "output_type": "execute_result"
    }
   ],
   "source": [
    "people = [{'name': 'Laurie Pineda', 'age': 39}, {'name': 'Tommy Harper', 'age': 21}, \n",
    "                    {'name': 'Jeffery Short', 'age': 54}]\n",
    "\n",
    "people "
   ]
  },
  {
   "cell_type": "code",
   "execution_count": 41,
   "id": "2f1190fd-d2b5-4ad9-b86f-72418782feca",
   "metadata": {},
   "outputs": [
    {
     "data": {
      "text/plain": [
       "{'name': 'Jeffery Short', 'age': 54}"
      ]
     },
     "execution_count": 41,
     "metadata": {},
     "output_type": "execute_result"
    }
   ],
   "source": [
    "people_sorted = sorted(people,key=lambda x: abs(50 - x['age']))\n",
    "people_sorted[0]"
   ]
  },
  {
   "cell_type": "markdown",
   "id": "fd716bdf-2edb-4f15-8c61-af5a19ff038f",
   "metadata": {},
   "source": [
    "***b) List Comprehension***\n",
    "\n",
    "We’ve also learned about list comprehension. Here, the syntax was:\n",
    "`L = [<element> for <element> in <list> if <Condition>]`\n",
    "\n",
    "Use list comprehensions to write a Python function `remove_long_words()` that:\n",
    "- accepts a sentence and an integer n as input parameters\n",
    "- uses the split() function of String objects to split the sentence into words\n",
    "- stores the individual words in a list\n",
    "- removes all words that are longer than n characters from the list, thereby creating a new list (*hint:* here, you need to use the list comprehension )\n",
    "- prints the new list\n",
    "\n",
    "Make sure to include comments and a function description."
   ]
  },
  {
   "cell_type": "code",
   "execution_count": 50,
   "id": "a2f24fd9-71f1-42d7-a5d5-18c9b91d7b3b",
   "metadata": {},
   "outputs": [],
   "source": [
    "def remove_long_words(sentence, number): \n",
    "    \"\"\"\n",
    "    Function that removes words that are larger than a specified integer from a sentence\n",
    "    \n",
    "    Parameters\n",
    "    ----------\n",
    "    sentence: String\n",
    "        sentence from where you want to remove longer words\n",
    "        \n",
    "    number: integer\n",
    "        minimum length words get cut off\n",
    "    \"\"\"\n",
    "    words = sentence.split(\" \") # splits the sentence into words\n",
    "    short_words = [word for word in words if len(word) <= number] # list comprehension that just keeps the words with a length smaller or equal to the specified integer \n",
    "\n",
    "    print(short_words)"
   ]
  },
  {
   "cell_type": "code",
   "execution_count": 51,
   "id": "ebff9080",
   "metadata": {},
   "outputs": [
    {
     "name": "stdout",
     "output_type": "stream",
     "text": [
      "['I', 'like']\n"
     ]
    }
   ],
   "source": [
    "# Test\n",
    "sentence = \"I like bananas\"\n",
    "\n",
    "remove_long_words(sentence = sentence, number = 6) "
   ]
  },
  {
   "cell_type": "markdown",
   "id": "8fb7b4fc-55e7-46a5-a4df-75752703bf66",
   "metadata": {},
   "source": [
    "<h4>Task 7 - Social Science Application</h4>\n",
    "\n",
    "\n",
    "***a) Senat Election Predictions***\n",
    "\n",
    "In the GitHub folder for the first assignment, you will find a JSON file containing the US Senate 2022 Midterm Election predictions from fivethirtyeight.com\n",
    "\n",
    "- Open and load the JSON file data into Python\n",
    "- Using list/dictionary comprehension and lambda functions, extract the state-code, name and party affiliation of the candidate with the highest winning probability (``winprob``) in each state.\n",
    "\n",
    "*Hints:*\n",
    "- Start by printing one dictionary (for one state), to get an idea of the nested structure\n",
    "    * Then, try to access each of the requested info for this first dictionary\n",
    "    * When you have the correct info from the first dictionary, built the comprehension, to run over all dictionaries\n",
    "- Ideally, you have one dictionary comprehension, running over all sub-dictionaries and extracting the desired information. Use a lambda-function to always find the candidate with the highest winning probability. \n"
   ]
  },
  {
   "cell_type": "code",
   "execution_count": 52,
   "id": "76d3f91b-b449-4d6b-a448-5810acdb53f1",
   "metadata": {},
   "outputs": [],
   "source": [
    "import json\n",
    "\n",
    "file = \"senate_predictions_11_08.json\"\n",
    "with open(file, \"r\") as read_file:\n",
    "    prediction_data= json.load(read_file)"
   ]
  },
  {
   "cell_type": "code",
   "execution_count": 53,
   "id": "beda5abe",
   "metadata": {},
   "outputs": [],
   "source": [
    "prediction_infos = {race[\"race\"]:\n",
    "                    (sorted(race['candidates'],key=lambda x:x[\"winprob\"],reverse=True)[0][\"candidate\"],\n",
    "                     sorted(race['candidates'],key=lambda x:x[\"winprob\"],reverse=True)[0][\"party\"])\n",
    "                     for race in prediction_data[\"races\"]}\n",
    "#prediction_infos # wow, that cost me 2h"
   ]
  },
  {
   "cell_type": "markdown",
   "id": "3c9caf67-06f6-4d25-bbf7-c539d36a93a6",
   "metadata": {},
   "source": [
    "***b) Senat Election Results***\n",
    "\n",
    "Additionally, you can find another JSON file with the (preliminary) US Senate Midterm Election results from “cnn.com”.\n",
    "- Also, open and load this data\n",
    "- Using a list/dictionary comprehension and lambda functions, extract the state-code, name and party affiliation of the winner in each state. \n",
    "    * Here, the same hints as in a) apply\n",
    "- Compare the results from the prediction and the result. How many percent of the states were predicted correctly?"
   ]
  },
  {
   "cell_type": "code",
   "execution_count": 54,
   "id": "e4c890a1-938e-4761-89a9-9fd1aeb0168c",
   "metadata": {},
   "outputs": [],
   "source": [
    "import json\n",
    "\n",
    "file = \"senate_results_11_10.json\"\n",
    "with open(file, \"r\") as read_file:\n",
    "    election_data= json.load(read_file)"
   ]
  },
  {
   "cell_type": "markdown",
   "id": "b3b2bc58-9b5d-4713-b7ae-aeecd5a53758",
   "metadata": {},
   "source": [
    "***"
   ]
  },
  {
   "cell_type": "code",
   "execution_count": null,
   "id": "b71c3163",
   "metadata": {},
   "outputs": [],
   "source": [
    "election_infos = {} # create an empty dictionary \n",
    "for state in election_data: # iterates over each state in election_data\n",
    "    candidates = state[\"candidates\"] # initialize all candidates in each state\n",
    "    if any(candidate[\"winner\"] for candidate in candidates): # check if one of the candidate is a direct winner\n",
    "        candidate = [candidate for candidate in candidates if candidate[\"winner\"]][0]\n",
    "    else:\n",
    "        candidate = max(candidates, key=lambda x: float(x[\"votePercentStr\"])) # if there's no direct winner than use the candidate with the highest vote percentage\n",
    "    election_infos[state[\"stateName\"]] = (candidate[\"fullName\"],candidate[\"candidatePartyCode\"])# create final dictionary with the two required columns\n",
    "\n",
    "election_infos[\"Oklahoma 1\"] = ('Markwayne Mullin','R') # Oklahoma has 2 Senate races due to the retirement of a former member of senate. Since no duplicate keys are allowed some allocation is needed\n",
    "election_infos[\"Oklahoma 2\"] = election_infos[\"Oklahoma\"]\n",
    "del election_infos[\"Oklahoma\"]\n",
    "\n",
    "#election_infos #wow that cost me more than 3h"
   ]
  },
  {
   "cell_type": "code",
   "execution_count": 56,
   "id": "07d0e1fd",
   "metadata": {},
   "outputs": [],
   "source": [
    "name_mapping = {'AK-S3': 'Alaska', 'AL-S3': 'Alabama', 'AR-S3': 'Arkansas', 'AZ-S3': 'Arizona', 'CA-S3': 'California', 'CO-S3': 'Colorado', 'CT-S3': 'Connecticut', 'FL-S3': 'Florida', 'GA-S3': 'Georgia', 'HI-S3': 'Hawaii', 'IA-S3': 'Iowa', 'ID-S3': 'Idaho', 'IL-S3': 'Illinois', 'IN-S3': 'Indiana', 'KS-S3': 'Kansas', 'KY-S3': 'Kentucky', 'LA-S3': 'Louisiana', 'MD-S3': 'Maryland', 'MO-S3': 'Missouri', 'NC-S3': 'North Carolina', 'ND-S3': 'North Dakota', 'NH-S3': 'New Hampshire', 'NV-S3': 'Nevada', 'NY-S3': 'New York', 'OH-S3': 'Ohio', 'OK-S2': 'Oklahoma 1', 'OK-S3': 'Oklahoma 2', 'OR-S3': 'Oregon', 'PA-S3': 'Pennsylvania', 'SC-S3': 'South Carolina', 'SD-S3': 'South Dakota', 'UT-S3': 'Utah', 'VT-S3': 'Vermont', 'WA-S3': 'Washington', 'WI-S3': 'Wisconsin'}\n",
    "\n",
    "prediction_infos = {name_mapping[key]: value for key, value in prediction_infos.items()} # map new names for easier comparison with election_data\n",
    "\n",
    "# Change some minor differences in the spelling of the names for automized comparison\n",
    "prediction_infos[\"Nevada\"] = ('Adam Laxalt', 'R')\n",
    "prediction_infos[\"New York\"] = ('Charles Schumer', 'D')\n",
    "prediction_infos[\"Ohio\"] = ('JD Vance', 'R')\n",
    "prediction_infos[\"South Dakota\"] = ('John Thune', 'R')"
   ]
  },
  {
   "cell_type": "code",
   "execution_count": 57,
   "id": "cfa4bc0d",
   "metadata": {},
   "outputs": [
    {
     "name": "stdout",
     "output_type": "stream",
     "text": [
      "In the 2022 Senate Elections, 32 out of 35 states were correctly predicted, that equals 91.43%.\n",
      "\n",
      "States with distinct outcome than predicted:\n"
     ]
    },
    {
     "data": {
      "text/plain": [
       "{'Alaska': (('Lisa Murkowski', 'R'), ('Kelly Tshibaka', 'R')),\n",
       " 'Georgia': (('Herschel Junior Walker', 'R'), ('Raphael Warnock', 'D')),\n",
       " 'Pennsylvania': (('Mehmet Oz', 'R'), ('John Fetterman', 'D'))}"
      ]
     },
     "execution_count": 57,
     "metadata": {},
     "output_type": "execute_result"
    }
   ],
   "source": [
    "differences = {key: (prediction_infos[key], election_infos[key]) \n",
    "               for key in prediction_infos if prediction_infos[key] != election_infos[key]}\n",
    "similarities = {key: (prediction_infos[key], election_infos[key])\n",
    "               for key in prediction_infos if prediction_infos[key] == election_infos[key]}\n",
    "\n",
    "print(f\"In the 2022 Senate Elections, {len(similarities)} out of {len(election_infos)} states were correctly predicted, that equals {round(len(similarities) / len(election_infos) * 100, 2)}%.\")\n",
    "print(\"\\nStates with distinct outcome than predicted:\")\n",
    "differences"
   ]
  },
  {
   "cell_type": "markdown",
   "id": "65b8f21e",
   "metadata": {},
   "source": [
    "***Interpretation of Election Prediction***\n",
    "\n",
    "- The analysis showed that in the 2022 Senate election, 32 out of 35 states were correctly predicted. Candidates coded as winners in the preliminary results were those who either won their state outright (`winner` = True) or received the highest percentage of votes, if the race was too close to call (`votePercentStr`). \n",
    "\n",
    "- In Oklahoma, an additional election was held for a second Senate seat due to Senator Jim Inhofe's resignation (coded as Oklahoma 1 and Oklahoma 2).Both predictions were also correct.\n",
    "\n",
    "- In three states, there was a discrepancy between the forecast and the actual election outcome according to the given data: Alaska, Georgia, and Pennsylvania. However, caution is needed. Research showed that in Alaska, Lisa Murkowski ultimately won the election, contrary to the preliminary final results, which had shown Kelly Tshibaka as the winner. Therefore, the forecast for Alaska was also correct.\n",
    "\n",
    "- In the other two states, Georgia and Pennsylvania — both highly contested swing states — the Democratic candidates ultimately prevailed over the Republican candidates, who had previously been favored in the polls."
   ]
  },
  {
   "cell_type": "markdown",
   "id": "c63ea9b7-8d3c-419c-8251-80da1ac7e1b1",
   "metadata": {},
   "source": [
    "<h3>Part 4 - Bonus</h3>"
   ]
  },
  {
   "cell_type": "markdown",
   "id": "63437813-4c31-4c07-9705-47f160c612f6",
   "metadata": {},
   "source": [
    "In the lecture, you discussed an algorithm that converts integer numbers in decimal representation to binary representation. You may use any suitable data type as output as long as the resulting number is clearly identifiable.\n",
    "\n",
    "***a) Number Conversion - Part 1***\n",
    "\n",
    "Write a corresponding algorithm decimal_int_to_octal() in Python to convert non-negative integer numbers in decimal representation to octal.\n"
   ]
  },
  {
   "cell_type": "code",
   "execution_count": 58,
   "id": "237af379-0da2-43da-9041-95673660adfc",
   "metadata": {},
   "outputs": [],
   "source": [
    "def decimal_int_to_octal(integer):\n",
    "    \"\"\"\n",
    "    Function that converts a positive integer in decimal representation to octal\n",
    "    \n",
    "    Parameters\n",
    "    ----------\n",
    "    integer: integer\n",
    "        positive integer in decimal representation\n",
    "    \n",
    "    Returns\n",
    "    -------\n",
    "    Integer\n",
    "        converted number in octal representation\n",
    "    \"\"\"\n",
    "    octal_list = []\n",
    "    octal = \"\"\n",
    "    while integer > 0:\n",
    "        i = integer % 8\n",
    "        octal_list.insert(0,str(i))\n",
    "        integer = integer // 8\n",
    "    for i in octal_list:\n",
    "        octal += i\n",
    "    octal = int(octal)\n",
    "\n",
    "    return octal      \n"
   ]
  },
  {
   "cell_type": "markdown",
   "id": "db15efe4-50f3-4db3-895c-ba8413eab281",
   "metadata": {},
   "source": [
    "***b) Number Conversion - Part 2***\n",
    "\n",
    "Develop a more general algorithm decimal_to_octal() that also converts numbers that include decimal places from decimal representation to octal."
   ]
  },
  {
   "cell_type": "code",
   "execution_count": 59,
   "id": "1486edc3-cb09-4b72-b939-e891a618a21f",
   "metadata": {},
   "outputs": [],
   "source": [
    "def decimal_to_octal(number):\n",
    "    \"\"\"\n",
    "    Function that converts a positive number in decimal representation to octal\n",
    "    \n",
    "    Parameters\n",
    "    ----------\n",
    "    number: float\n",
    "        positive number in decimal representation\n",
    "    \n",
    "    Returns\n",
    "    -------\n",
    "    Float\n",
    "        converted number in octal representation (including decimal values)\n",
    "    \"\"\"\n",
    "    # Check if provided number is a integer or a float -> if integer I can use the algorithm from a) \n",
    "    if number % 1 == 0:\n",
    "        octal_list = []\n",
    "        octal = \"\"\n",
    "        while number > 0:\n",
    "            i = number % 8\n",
    "            octal_list.insert(0,str(i))\n",
    "            number = number // 8\n",
    "        for i in octal_list:\n",
    "            octal += i\n",
    "        octal = int(octal)\n",
    "\n",
    "    else: # if it's not a integer I have to use the following algorithm\n",
    "        # Split positive integer and decimal values\n",
    "        float_split = str(number).split(\".\")\n",
    "        integer = int(float_split[0])\n",
    "        decimal = int(float_split[1])\n",
    "\n",
    "        # Convert integer to octal representation (as in a))\n",
    "        octal_list = []\n",
    "        octal_int = \"\"\n",
    "        while integer > 0:\n",
    "            i = integer % 8\n",
    "            octal_list.insert(0,str(i))\n",
    "            integer = integer // 8\n",
    "        for i in octal_list:\n",
    "            octal_int += i\n",
    "        octal_int += \".\" # add decimal point\n",
    "\n",
    "        # Convert decimals to octal representation\n",
    "        decimal_list = []\n",
    "        decimals = \"\"\n",
    "        while decimal > 0:\n",
    "            i = (decimal * 8) // 1\n",
    "            decimal_list.append(str(i))\n",
    "            decimal = decimal * 5 - i\n",
    "        for i in decimal_list:\n",
    "            decimals += i\n",
    "\n",
    "        # Merge Integer and decimals\n",
    "        for i in decimal_list:\n",
    "            octal_int += i\n",
    "        octal = float(octal_int)\n",
    "    return octal"
   ]
  },
  {
   "cell_type": "markdown",
   "id": "35864932-91c2-4142-beb5-1b69ae1581ea",
   "metadata": {},
   "source": [
    "***c) Counting bits***\n",
    "\n",
    "Write a program that counts the number of (non-zero) bits in a nonnegative integer. Do not use strings but bitwise operations (hint: Use bitshifts and masking)."
   ]
  },
  {
   "cell_type": "markdown",
   "id": "9ee64c12",
   "metadata": {},
   "source": [
    "No idea I'm sorry"
   ]
  }
 ],
 "metadata": {
  "kernelspec": {
   "display_name": "Python 3",
   "language": "python",
   "name": "python3"
  },
  "language_info": {
   "codemirror_mode": {
    "name": "ipython",
    "version": 3
   },
   "file_extension": ".py",
   "mimetype": "text/x-python",
   "name": "python",
   "nbconvert_exporter": "python",
   "pygments_lexer": "ipython3",
   "version": "3.13.0"
  }
 },
 "nbformat": 4,
 "nbformat_minor": 5
}
