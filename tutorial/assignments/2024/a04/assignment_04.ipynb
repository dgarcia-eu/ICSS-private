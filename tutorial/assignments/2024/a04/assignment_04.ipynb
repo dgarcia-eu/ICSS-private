{
 "cells": [
  {
   "cell_type": "markdown",
   "id": "c50d0534-436b-4ca3-80fa-340c4b4a2ead",
   "metadata": {
    "execution": {
     "iopub.execute_input": "2023-10-12T19:28:58.497573Z",
     "iopub.status.busy": "2023-10-12T19:28:58.496574Z",
     "iopub.status.idle": "2023-10-12T19:28:58.515065Z",
     "shell.execute_reply": "2023-10-12T19:28:58.513545Z",
     "shell.execute_reply.started": "2023-10-12T19:28:58.497573Z"
    },
    "tags": []
   },
   "source": [
    "<div style=\"text-align: center;\" >\n",
    "<h1 style=\"margin-top: 0.2em; margin-bottom: 0.1em;\">Introduction to Computation for the Social Sciences</h1>\n",
    "<h2 style=\"margin-top: 0.7em; margin-bottom: 0.3em;\">Assignment 4</h2>\n",
    "<h3 style=\"margin-top: 0.7em; margin-bottom: 0.3em;\">Deadline: 26.01.2025 23:59</h3>\n",
    "\n",
    "</div>\n",
    "<br>"
   ]
  },
  {
   "cell_type": "markdown",
   "id": "c331da00-ae95-4f9a-ba1a-7df50558b58e",
   "metadata": {},
   "source": [
    "<h4 style=\"margin-top: 0.7em; margin-bottom: 0.3em; font-style:italic\">\n",
    "Please push your solutions to your personal repository in our <a href='https://classroom.github.com/a/xjo-U8gM'>GitHub Classroom</a></h4><br>\n",
    "\n",
    "***"
   ]
  },
  {
   "cell_type": "markdown",
   "id": "44a03996-1421-4f37-a555-e5945634772b",
   "metadata": {},
   "source": [
    "In this assignment, you will implement runtime comparisons and improvements of algorithms. Additionally, you will have to create, load and query a database using SQLite.<br>\n",
    "\n",
    "As always: In case of questions feel free to reach out to us tutors in person, via mail, or over discord as soon, as you face an issue!<br>\n",
    "\n",
    "***Important: Submit a solution for every single task and do not skip any of them. Even if your solution is not perfect or doesn't work you might still receive some points that way!***"
   ]
  },
  {
   "cell_type": "markdown",
   "id": "3bb213ad-f59c-45e9-b8f7-75b3910be47a",
   "metadata": {},
   "source": [
    "\n",
    "***"
   ]
  },
  {
   "cell_type": "code",
   "execution_count": 1,
   "id": "38639719-207a-4192-a784-ce57072d170c",
   "metadata": {
    "execution": {
     "iopub.execute_input": "2023-12-12T15:22:14.892836Z",
     "iopub.status.busy": "2023-12-12T15:22:14.892836Z",
     "iopub.status.idle": "2023-12-12T15:22:14.895933Z",
     "shell.execute_reply": "2023-12-12T15:22:14.895407Z",
     "shell.execute_reply.started": "2023-12-12T15:22:14.892836Z"
    }
   },
   "outputs": [],
   "source": [
    "# Import the modules you use throughout the assignment here (this is called a setup chunk/cell)\n",
    "# e.g import pandas as pd\n",
    "# e.g import numpy as np and so on...\n"
   ]
  },
  {
   "cell_type": "markdown",
   "id": "c2d97434",
   "metadata": {},
   "source": [
    "***"
   ]
  },
  {
   "cell_type": "markdown",
   "id": "c4811d77-1ca4-49a8-ae2f-7cc044d94d2f",
   "metadata": {},
   "source": [
    "# Part 1 - Sorting and Runtime Analysis\n"
   ]
  },
  {
   "cell_type": "markdown",
   "id": "6880a6dc-180c-4f59-99b5-2a036d16e964",
   "metadata": {},
   "source": [
    "In GitHub, you will find a dataset on empirical conflict data (ACLED_South-Sudan_2017.csv).\n",
    "We are going to use this data set in order to compare runtime gains from efficient and systematic comparison of time-stamped data.\n",
    "\n",
    "*Note:* Please use the ``event_date`` column for timestamp and use the Python module ``time`` to **track runtimes**.\n",
    "\n",
    "\n",
    "- Begin by writing a simple function ``sliding_window()`` that takes a dataframe and an integer X as inputs and checks for each pair of events (their given timestamp in ``event_date``) whether they lie within the X days of each other (before and after, inclusive). The function should, for each event, return a list of those events (i.e the id) that do lie within the timeframe.\n",
    "    * for example: the event with ID 'SSD5376' has the following events within a range of two days: ['SSD5373', 'SSD5374', 'SSD5375', 'SSD5372']\n",
    "- Then, we write a new function `sliding_window_optimized()`, which improves the runtime of the frist function by *first sorting* the data by timestamp and then doing the comparison by iterating through the sorted index of events (forward and backward). In doing so, we use the minimal number of steps to decide if an event before or after a given event in the index is within our X-day window.\n",
    "- Systematically compare the runtime of the two variants (for different window-sizes) and vizualize the results.\n",
    "\n",
    "## Task 1.1\n",
    "\n",
    "\n",
    "Write the ``sliding_window()`` function. (Not optimized - use a naiive algorithm)"
   ]
  },
  {
   "cell_type": "code",
   "execution_count": 2,
   "id": "55e3181c-41f1-4f75-b5c8-8fab85400b97",
   "metadata": {},
   "outputs": [],
   "source": [
    "# Your code\n",
    "\n"
   ]
  },
  {
   "cell_type": "markdown",
   "id": "1a81343c",
   "metadata": {},
   "source": [
    "## Task 1.2 \n",
    "\n",
    "\n",
    "Write the optimized function `sliding_window_optimized()` by first sorting the data accoding to the time-stamp.\n"
   ]
  },
  {
   "cell_type": "code",
   "execution_count": null,
   "id": "9d4469e3",
   "metadata": {},
   "outputs": [],
   "source": [
    "# Your code\n",
    "\n"
   ]
  },
  {
   "cell_type": "markdown",
   "id": "92379ebb",
   "metadata": {},
   "source": [
    "## Task 1.3\n",
    "\n",
    "Systematically compare the runtime of both functions for different window sizes and visualize you results. "
   ]
  },
  {
   "cell_type": "code",
   "execution_count": null,
   "id": "25f6cd2a",
   "metadata": {},
   "outputs": [],
   "source": [
    "# Your code\n",
    "\n"
   ]
  },
  {
   "cell_type": "markdown",
   "id": "7a71040c-758d-4269-8ff8-eb1f552c81ca",
   "metadata": {},
   "source": [
    "***\n",
    "# Part 2 - Runtime of Sorting Algorithms\n",
    "\n",
    "\n",
    "\n"
   ]
  },
  {
   "cell_type": "markdown",
   "id": "4a0672b9-bd4e-4fe0-b0a0-6dfe1681d8e1",
   "metadata": {},
   "source": [
    "## Task 2.1\n",
    "\n",
    "\n",
    "\n",
    "In this task, we want to compare runtime of two sorting-algorithms. Again, please use ``time`` to measure the runtime.\n",
    "\n",
    "Therefore:\n",
    "\n",
    "- Implement the Selection Sort Algorithm, learned in the lecture, for a list-input\n",
    "- Implement the Merge Sort Algorithm, learned in the lecture, for a list-input\n",
    "- Compare the runtime on lists of different length (i.e. 1.000, 2.0000, 3.000 up to 10.000) with random integers.\n",
    "- Visualize the runtimes in a plot "
   ]
  },
  {
   "cell_type": "code",
   "execution_count": 5,
   "id": "1e1f8596-a86d-4160-8ab8-2f36ed35fa71",
   "metadata": {
    "execution": {
     "iopub.execute_input": "2023-12-11T19:43:29.414658Z",
     "iopub.status.busy": "2023-12-11T19:43:29.414658Z",
     "iopub.status.idle": "2023-12-11T19:43:29.419560Z",
     "shell.execute_reply": "2023-12-11T19:43:29.418544Z",
     "shell.execute_reply.started": "2023-12-11T19:43:29.414658Z"
    }
   },
   "outputs": [],
   "source": [
    "# Your code\n"
   ]
  },
  {
   "cell_type": "markdown",
   "id": "2f207f3a",
   "metadata": {},
   "source": [
    "## Task 2.2 \n",
    "\n",
    "\n",
    "Now, test the runtime of (**only**) mergesort on lists of 100.000 up to 1.000.000 (in intervals of 100.000). Test different input cases:\n",
    "\n",
    "- A list of random integers\n",
    "- A list of sortes integers in descending order\n",
    "- A list of sorted integers in ascending order\n",
    "\n",
    "Again, please visualize the results."
   ]
  },
  {
   "cell_type": "code",
   "execution_count": null,
   "id": "d77a1b70",
   "metadata": {},
   "outputs": [],
   "source": [
    "# Your code\n"
   ]
  },
  {
   "cell_type": "markdown",
   "id": "6e3b6df4-aeb0-4f6a-851b-b1533d95ddc3",
   "metadata": {},
   "source": [
    "***\n",
    "# Part 3 - Relational Databases \n",
    "### (SQLite)"
   ]
  },
  {
   "cell_type": "markdown",
   "id": "9e925d42-9437-41ec-ba8b-f608a2fbada0",
   "metadata": {},
   "source": [
    "## Task 3.1 *Pen-On-Paper*: Create a relational schema\n",
    "\n",
    "### The Relational Model\n",
    "Design a relational schema for a movie database.\n",
    "Your schema should include the following:\n",
    "- Movies and their attributes <br>\n",
    "(make sure to include all attributes you will need to answer the questions in the following subtasks)\n",
    "- Genres and their relationship to movies.\n",
    "- Directors and their relationship to movies.\n",
    "\n",
    "Please, provide a pictue of your schema as a __pdf file__ (Feel free to write it on a paper and scan it). <br>\n",
    "As learned in the lecture. Think about how to relate the tables/relations to each other to avoid redundancies. Make sure to demonstrate the primary key for each relation/table and show all foreign key relations.\n",
    "Optionally, you can also provide the data types/domains for each column(attribute) - Thinking about this early on will make your life easier when implementing the schema later.\n",
    "\n",
    "### The data:\n",
    "\n",
    "1. __bechdel_tmdb__:\n",
    "- Contains information about movies, including titles, release dates, ratings, genres and Bechdel test scores.\n",
    "- It is the ['Bechdel Test Movie List'](https://bechdeltest.com/) enhanced with information regarding the movies from the [The Movie DB - TMDB](https://www.themoviedb.org/) website. \n",
    "- Learn more about the Bechdel test [here](https://en.wikipedia.org/wiki/Bechdel_test)\n",
    "\n",
    "2. __movies_directors__:\n",
    "- Links movies to their directors, with additional metadata about the directors.\n",
    "\n",
    "3. __genres__:\n",
    "- In addition to these datasets, you will have to retrieve __genre__ information using the [TMDB API](https://developer.themoviedb.org/docs/getting-started). This data must also be integrated into your database. <br>\n"
   ]
  },
  {
   "cell_type": "markdown",
   "id": "cc008925",
   "metadata": {},
   "source": [
    "## Task 3.2 Implement the schema of the movie database with SQLite\n",
    "\n",
    "Once you have prepared the schema theoretically, please implement it <br>\n",
    "(no need to fill it with data yet - we will do this during the next step). <br>\n",
    "\n",
    "(You may write a SQL script if you prefer (you do not have to - you can define everything directly here in python). If you do, please make sure to include it your submission)"
   ]
  },
  {
   "cell_type": "code",
   "execution_count": 4,
   "id": "90dd681d",
   "metadata": {},
   "outputs": [],
   "source": [
    "# Your code\n",
    "\n",
    "\n"
   ]
  },
  {
   "cell_type": "markdown",
   "id": "959474a0",
   "metadata": {},
   "source": [
    "# Task 3.3 Prepare the data and load it to the database\n",
    "Once the schema is all set, prepare the datasets and insert them into your prepared database/schema."
   ]
  },
  {
   "cell_type": "code",
   "execution_count": null,
   "id": "956ea736",
   "metadata": {},
   "outputs": [],
   "source": [
    "# your code ..."
   ]
  },
  {
   "cell_type": "markdown",
   "id": "04c7895a",
   "metadata": {},
   "source": [
    "# Task 3.4 Query the database and visualize your results\n",
    "\n",
    "Please, answer the following questions using the movie database.\n",
    "(You have to write SQL queries!) <br>\n",
    "Additionally, you have to visualize some of the resulting data in a meaningful way.\n",
    "\n",
    "At the end we want you to shortly reflect on the data quality and potential issues that might bias the results. \n",
    "\n",
    "1. a <br>\n",
    "Return the title , the year and the average vote of all movies in your database that passed the bechdel test with 3 points and were the rating is not considered dubious by the bechdel coder. "
   ]
  },
  {
   "cell_type": "code",
   "execution_count": null,
   "id": "f2c052bc",
   "metadata": {},
   "outputs": [],
   "source": [
    "# your code"
   ]
  },
  {
   "cell_type": "markdown",
   "id": "82e1b173",
   "metadata": {},
   "source": [
    "1. b. <br> \n",
    "For each year return the mean of the average vote, the amount of movies released of all movies that passed the bechdel test with 3 points and are not considered dubious by the bechdel coders. Do not include entries where the year is missing. <br>\n",
    "Hint: Check out aggregation in SQL, especially 'GROUP BY' <br>\n",
    "\n",
    "__Please, add a visualisation of the data.__"
   ]
  },
  {
   "cell_type": "code",
   "execution_count": null,
   "id": "f11f4e61",
   "metadata": {},
   "outputs": [],
   "source": [
    "# your code"
   ]
  },
  {
   "cell_type": "markdown",
   "id": "4786663b",
   "metadata": {},
   "source": [
    "2. a <br>\n",
    " Return the title of all movies that belong to the genre 'Western', have a bechdel rating of at least 1 and were the rating is not considered to be dubious. Sort them ascendingly by their release date. <br>\n",
    "Hint: Check out 'ORDER BY'"
   ]
  },
  {
   "cell_type": "code",
   "execution_count": null,
   "id": "755dc8a9",
   "metadata": {},
   "outputs": [],
   "source": [
    "# your code"
   ]
  },
  {
   "cell_type": "markdown",
   "id": "d5f02ceb",
   "metadata": {},
   "source": [
    "2. b <br>\n",
    "Return the title of all movies that belong to the genre 'Western' __and to the genre 'Drama'__, have a bechdel rating of at least 1 and were the rating is not considered to be dubious. Sort them ascendingly by their release date. <br>"
   ]
  },
  {
   "cell_type": "code",
   "execution_count": null,
   "id": "64a88b8a",
   "metadata": {},
   "outputs": [],
   "source": [
    "# your code"
   ]
  },
  {
   "cell_type": "markdown",
   "id": "1916f61a",
   "metadata": {},
   "source": [
    "3. What is the title, year, bechdel rating and name(s) of the directors of the 10 movies with the highst vote_average in the database? <br>\n",
    "Hint: Check out 'DISTINCT' and 'LIMIT'. <br>"
   ]
  },
  {
   "cell_type": "code",
   "execution_count": null,
   "id": "aa69781b",
   "metadata": {},
   "outputs": [],
   "source": [
    "# your code"
   ]
  },
  {
   "cell_type": "markdown",
   "id": "9e51cafa",
   "metadata": {},
   "source": [
    "\n",
    "4. a<br>\n",
    "What is the average bechdel rating for each genre?<br>\n",
    "Hint: Check out aggregation in SQL, especially 'GROUP BY' <br>\n",
    "\n",
    "__Please, add a visualisation of the data.__"
   ]
  },
  {
   "cell_type": "code",
   "execution_count": null,
   "id": "933489f9",
   "metadata": {},
   "outputs": [],
   "source": [
    "# your code"
   ]
  },
  {
   "cell_type": "markdown",
   "id": "82c9e5aa",
   "metadata": {},
   "source": [
    "4. b <br>\n",
    "What can you add to the query in 4a to only get the genre with the highest (lowest) average bechdel rating? <br>\n",
    "Write one query for each - lowerst and highest."
   ]
  },
  {
   "cell_type": "code",
   "execution_count": null,
   "id": "3a1dfbb1",
   "metadata": {},
   "outputs": [],
   "source": [
    "# your code"
   ]
  },
  {
   "cell_type": "markdown",
   "id": "b7adc735",
   "metadata": {},
   "source": [
    "5. __Reflection on the data__ <br>\n",
    "Please, write a few sentences about potential issues with the data and how it reflects in the results aquired above. Could there be any bias in the data? How would that bias be manifested? How could we check for that bias?"
   ]
  },
  {
   "cell_type": "markdown",
   "id": "ce2ee499",
   "metadata": {},
   "source": []
  },
  {
   "cell_type": "markdown",
   "id": "46347b33",
   "metadata": {},
   "source": [
    "***\n",
    "# Part 4 - Bonus\n",
    "### The Mondial Database\n",
    "\n",
    "## Task 4.1 \n",
    "In this task we will work with the [Mondial Database](https://www.dbis.informatik.uni-goettingen.de/Mondial/). The database has been constructed for teaching purposes and we will use the version provided by the Institute for Informatics of the the Georg-August-Universität in Göttingen, Germany.\n",
    "\n",
    "The database consists of information about countries, their cities and their geography. You can find plenty of description of the database on the website linked above. Especially helpful for writing queries is the [referential dependency diagram](https://www.dbis.informatik.uni-goettingen.de/Mondial/mondial-abh.pdf) <br>\n",
    "\n",
    "Using the two SQL scripts provided (mondial-schema-sqlite.sql and mondial-inputs-sqlite.sql) please generate the database locally on your machine using the sqlite3 package and load in the data. "
   ]
  },
  {
   "cell_type": "code",
   "execution_count": 1,
   "id": "ef4c192f",
   "metadata": {},
   "outputs": [],
   "source": [
    "# Your code"
   ]
  },
  {
   "cell_type": "markdown",
   "id": "f64d0cba",
   "metadata": {},
   "source": [
    "## Task 4.2 \n",
    "\n",
    "Please write queries for the following questions:\n",
    "\n",
    "1. Through which of the provinces of \"Germany\" does the \"Rhein\" flow?\n"
   ]
  },
  {
   "cell_type": "code",
   "execution_count": null,
   "id": "029cbeac",
   "metadata": {},
   "outputs": [],
   "source": [
    "# Your code"
   ]
  },
  {
   "cell_type": "markdown",
   "id": "df2903f0",
   "metadata": {},
   "source": [
    "2. \n",
    "    a. For all continents return the name of the continent as well as the number of countries within each continent. (hint: you might need to use aggregation)\n"
   ]
  },
  {
   "cell_type": "code",
   "execution_count": null,
   "id": "58d4af64",
   "metadata": {},
   "outputs": [],
   "source": [
    "# Your code"
   ]
  },
  {
   "cell_type": "markdown",
   "id": "5de9fe77",
   "metadata": {},
   "source": [
    "2. b. Include a statement ensuring only highly populated continents (more than 50 inhabitants/km²) are returned. (hint: use the provided total area for this)\n",
    "\n"
   ]
  },
  {
   "cell_type": "code",
   "execution_count": null,
   "id": "8b71065c",
   "metadata": {},
   "outputs": [],
   "source": [
    "# Your code"
   ]
  },
  {
   "cell_type": "markdown",
   "id": "e9d043c8",
   "metadata": {},
   "source": [
    "3. Return the capitals of all EU-countries, the country name and the population sorted (descending) by the population."
   ]
  },
  {
   "cell_type": "code",
   "execution_count": null,
   "id": "9138af3b",
   "metadata": {},
   "outputs": [],
   "source": [
    "# Your code"
   ]
  }
 ],
 "metadata": {
  "kernelspec": {
   "display_name": "icss_env",
   "language": "python",
   "name": "python3"
  },
  "language_info": {
   "codemirror_mode": {
    "name": "ipython",
    "version": 3
   },
   "file_extension": ".py",
   "mimetype": "text/x-python",
   "name": "python",
   "nbconvert_exporter": "python",
   "pygments_lexer": "ipython3",
   "version": "3.12.4"
  }
 },
 "nbformat": 4,
 "nbformat_minor": 5
}
