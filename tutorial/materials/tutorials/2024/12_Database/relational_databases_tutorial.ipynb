{
 "cells": [
  {
   "cell_type": "markdown",
   "id": "2fbb2098-bfde-463c-830c-3773a6c478fe",
   "metadata": {},
   "source": [
    "<div style=\"text-align: center;\" >\n",
    "<h1 style=\"margin-top: 0.2em; margin-bottom: 0.1em;\">Object-oriented Programming</h1>\n",
    "<h4 style=\"margin-top: 0.7em; margin-bottom: 0.3em; font-style:italic\"></h4>\n",
    "</div>\n",
    "<br>\n",
    "\n",
    "\n"
   ]
  },
  {
   "cell_type": "markdown",
   "id": "0ab857bd",
   "metadata": {},
   "source": [
    "Here the link to the google slides: [Slides](https://docs.google.com/presentation/d/1w6nxd6O6-mvI0ut7msu7v15-gISxmIz1p7MJj6q4caI/edit?usp=sharing)"
   ]
  },
  {
   "cell_type": "markdown",
   "id": "7d1ee4bf",
   "metadata": {},
   "source": [
    "### __1. Databases introduction__\n",
    "\n",
    "A database is any logically modeled collection of information. This sounds overly simplified, but a database can be a lot of things and it means, it does not necessarily have to be stored on a computer.\n",
    "\n",
    "An excel sheet, a stack of patient files in a hospital or a list of names in a text file could also be considered a database. \n",
    "\n",
    "But usually, in the context of computer science, it is more often thought as a set of structured tables that can be accessed via a *database management system* (DBMS). \n",
    "\n",
    "Could you give me examples where you think or know databases are used?"
   ]
  },
  {
   "cell_type": "markdown",
   "id": "703f405a",
   "metadata": {},
   "source": [
    "#### __1.1 Data Stroage: Demands__\n",
    "\n",
    "**Space Efficiency** \n",
    "\n",
    "In computational sciences datasets can be massive, which is why it is crucial to ensure space efficiency. Redundant information (storing the same data multiple times) can lead to unnecessary consumption of storage resources. To achieve space efficiency it is helpful to organize data into tables and linking the related information throug relationships. This minimizes storage requirements and ensures that each piece of data is stored in a single place. \n",
    "\n",
    "**Consistency**  \n",
    "\n",
    "This refers to the accuracy and reliability of data. It ensures that the information retrieved from a database is always valid and up-to-date. This is achieved by:\n",
    "- Transaction Management: implement transactions to gorup multitple database operations into a single, atomic unit. This ensures that either all operations within a transaction are executed, or none of them are. \n",
    "- Concurrency Control: data storage should remain stable even when it is accessed by multitple users or processes concurrently. \n",
    "\n",
    "- Database Transaction-Properties: ACID\n",
    "\n",
    "    - **A**tomicity : all or no transactions are committed\n",
    "    - **C**onsistency: transaction completed or previous state is returned\n",
    "    - **I**solation: transations are isolated from each other\n",
    "    - **D**urability: completed transactions are saved securely\n",
    "\n",
    "**Flexibility**\n",
    "\n",
    "\n",
    "- Comfortable User Interface:\n",
    " Tools like SQL clients or custom applications should have intuitive layouts, making it easy for users to perform queries, updates, and other operations.\n",
    "\n",
    "\n",
    "- All relevant information should be accessible\n",
    "\n",
    "#### __1.2 Data Storage Solutions__\n",
    "\n",
    "\n",
    "**Relational Databases:**\n",
    "- representation through sets of linked tables that share a common key\n",
    "- Suitable for structured data with well-defined relationships.\n",
    "- SQL-based (Structured Query Language) systems like PostgreSQL, MySQL, or SQLite.\n",
    "\n",
    "**NoSQL Databases:**\n",
    "- allows different structures than a SQL database (not rows and columns) . \n",
    "    - Column-oriented\n",
    "    - Key-value stores\n",
    "    - Document stores\n",
    "    - Graph databases\n",
    "- more flexibility to use a format that best fits the data.\n",
    "- NoSQL databases do sometimes support some SQL commands (sometimes defined as 'not only SQL')\n",
    "- Examples include MongoDB, Cassandra, or CouchDB.\n",
    "\n",
    "\n",
    "\n"
   ]
  },
  {
   "cell_type": "markdown",
   "id": "98af8cbd",
   "metadata": {},
   "source": [
    "###  (bad) Example \n",
    "\n",
    "Assume, we want to store purchase information for some store:\n",
    "- There is a set of Users with names, e-mail addresses, and IDs\n",
    "- There is a set of Products with names, prices and IDs\n",
    "- Users can make purchases which may consist of several products"
   ]
  },
  {
   "cell_type": "code",
   "execution_count": 1,
   "id": "2cbce37c",
   "metadata": {},
   "outputs": [
    {
     "data": {
      "text/html": [
       "<div>\n",
       "<style scoped>\n",
       "    .dataframe tbody tr th:only-of-type {\n",
       "        vertical-align: middle;\n",
       "    }\n",
       "\n",
       "    .dataframe tbody tr th {\n",
       "        vertical-align: top;\n",
       "    }\n",
       "\n",
       "    .dataframe thead th {\n",
       "        text-align: right;\n",
       "    }\n",
       "</style>\n",
       "<table border=\"1\" class=\"dataframe\">\n",
       "  <thead>\n",
       "    <tr style=\"text-align: right;\">\n",
       "      <th></th>\n",
       "      <th>cust_ID</th>\n",
       "      <th>cust_name</th>\n",
       "      <th>e_mail</th>\n",
       "      <th>purch_id</th>\n",
       "      <th>prod_ID</th>\n",
       "      <th>prod_name</th>\n",
       "      <th>price</th>\n",
       "    </tr>\n",
       "  </thead>\n",
       "  <tbody>\n",
       "    <tr>\n",
       "      <th>0</th>\n",
       "      <td>C1</td>\n",
       "      <td>Hans-Peter</td>\n",
       "      <td>hp@uni.de</td>\n",
       "      <td>C1_1</td>\n",
       "      <td>P1</td>\n",
       "      <td>Toothpicks</td>\n",
       "      <td>1.99</td>\n",
       "    </tr>\n",
       "    <tr>\n",
       "      <th>1</th>\n",
       "      <td>C1</td>\n",
       "      <td>Hans-Peter</td>\n",
       "      <td>hp@uni.de</td>\n",
       "      <td>C1_1</td>\n",
       "      <td>P2</td>\n",
       "      <td>Shampoo</td>\n",
       "      <td>3.99</td>\n",
       "    </tr>\n",
       "    <tr>\n",
       "      <th>2</th>\n",
       "      <td>C1</td>\n",
       "      <td>Hans-Peter</td>\n",
       "      <td>hp@uni.de</td>\n",
       "      <td>C1_2</td>\n",
       "      <td>P3</td>\n",
       "      <td>Razor</td>\n",
       "      <td>9.99</td>\n",
       "    </tr>\n",
       "    <tr>\n",
       "      <th>3</th>\n",
       "      <td>C1</td>\n",
       "      <td>Hans-Peter</td>\n",
       "      <td>hp@uni.de</td>\n",
       "      <td>C1_2</td>\n",
       "      <td>P4</td>\n",
       "      <td>Comb</td>\n",
       "      <td>5.99</td>\n",
       "    </tr>\n",
       "    <tr>\n",
       "      <th>4</th>\n",
       "      <td>C2</td>\n",
       "      <td>Lea</td>\n",
       "      <td>lea@uni.de</td>\n",
       "      <td>C2_1</td>\n",
       "      <td>P1</td>\n",
       "      <td>Toothpicks</td>\n",
       "      <td>1.99</td>\n",
       "    </tr>\n",
       "    <tr>\n",
       "      <th>5</th>\n",
       "      <td>C2</td>\n",
       "      <td>Lea</td>\n",
       "      <td>lea@uni.de</td>\n",
       "      <td>C2_1</td>\n",
       "      <td>P4</td>\n",
       "      <td>Comb</td>\n",
       "      <td>5.99</td>\n",
       "    </tr>\n",
       "  </tbody>\n",
       "</table>\n",
       "</div>"
      ],
      "text/plain": [
       "  cust_ID   cust_name      e_mail purch_id prod_ID   prod_name  price\n",
       "0      C1  Hans-Peter   hp@uni.de     C1_1      P1  Toothpicks   1.99\n",
       "1      C1  Hans-Peter   hp@uni.de     C1_1      P2     Shampoo   3.99\n",
       "2      C1  Hans-Peter   hp@uni.de     C1_2      P3       Razor   9.99\n",
       "3      C1  Hans-Peter   hp@uni.de     C1_2      P4        Comb   5.99\n",
       "4      C2         Lea  lea@uni.de     C2_1      P1  Toothpicks   1.99\n",
       "5      C2         Lea  lea@uni.de     C2_1      P4        Comb   5.99"
      ]
     },
     "execution_count": 1,
     "metadata": {},
     "output_type": "execute_result"
    }
   ],
   "source": [
    "import pandas as pd\n",
    "\n",
    "data = {\n",
    "    'cust_ID': ['C1', 'C1', 'C1', 'C1', 'C2', 'C2'],\n",
    "    'cust_name': ['Hans-Peter', 'Hans-Peter', 'Hans-Peter', 'Hans-Peter', 'Lea', 'Lea'],\n",
    "    'e_mail': ['hp@uni.de', 'hp@uni.de', 'hp@uni.de', 'hp@uni.de', 'lea@uni.de', 'lea@uni.de'],\n",
    "    'purch_id': ['C1_1', 'C1_1', 'C1_2', 'C1_2', 'C2_1', 'C2_1'],\n",
    "    'prod_ID': ['P1', 'P2', 'P3', 'P4', 'P1', 'P4'],\n",
    "    'prod_name': ['Toothpicks', 'Shampoo', 'Razor', 'Comb', 'Toothpicks', 'Comb'],\n",
    "    'price': [1.99, 3.99, 9.99, 5.99, 1.99, 5.99]\n",
    "}\n",
    "\n",
    "df = pd.DataFrame(data)\n",
    "\n",
    "df\n"
   ]
  },
  {
   "cell_type": "markdown",
   "id": "d4be8e63",
   "metadata": {},
   "source": [
    "What are possible problems with this structure?"
   ]
  },
  {
   "cell_type": "markdown",
   "id": "874aa613",
   "metadata": {},
   "source": [
    "#### __1.3 Anomalies__\n",
    "\n",
    "- Insertion Anomaly\n",
    "    - Adding information is artificially restricted by unrelated missing information\n",
    "    - E.g. We can only add a Product to our Table if it has been purchased at least once\n",
    "- Deletion Anomaly\n",
    "    - Deletion of some Data may unintentionally destroy other information\n",
    "    - E.g. Assume Hans-Peter cancels his second order and it gets deleted, all information on product P3 (Razor) is gone as well\n",
    "- Modifying Anomaly\n",
    "    - Data Structure is not robust against incorrect/partial changes\n",
    "    - E.g. If we want to raise the price of toothpicks, we have to assure that both appearances get changed"
   ]
  },
  {
   "cell_type": "markdown",
   "id": "17b68056",
   "metadata": {},
   "source": [
    "What could we change to get a better structure?\n",
    "\n"
   ]
  },
  {
   "cell_type": "markdown",
   "id": "bb4ff962",
   "metadata": {},
   "source": [
    "#### solution\n",
    "\n",
    "\n"
   ]
  },
  {
   "cell_type": "code",
   "execution_count": 2,
   "id": "9ac3d10b",
   "metadata": {},
   "outputs": [],
   "source": [
    "import sqlite3"
   ]
  },
  {
   "cell_type": "code",
   "execution_count": 3,
   "id": "49f23ac0",
   "metadata": {},
   "outputs": [],
   "source": [
    "conn = sqlite3.connect('purchases.db')\n",
    "cursor = conn.cursor()\n",
    "\n",
    "cursor.execute(\"\"\"CREATE TABLE IF NOT EXISTS purchases (\n",
    "  purch_id INT PRIMARY KEY,\n",
    "  purch_date DATETIME\n",
    ");\n",
    "               \"\"\")\n",
    "\n",
    "cursor.execute(\"\"\"CREATE TABLE IF NOT EXISTS customer (\n",
    "  cust_id INT PRIMARY KEY,\n",
    "  cust_name text,\n",
    "  e_mail text\n",
    ");\n",
    "               \"\"\")\n",
    "cursor.execute(\"\"\"CREATE TABLE IF NOT EXISTS products (\n",
    "  prod_id INT PRIMARY KEY,\n",
    "  prod_name text,\n",
    "  price FLOAT             \n",
    ");\"\"\")\n",
    "\n",
    "cursor.execute(\"\"\"CREATE TABLE IF NOT EXISTS sales (\n",
    "  cust_id INT,\n",
    "  purch_id INT,\n",
    "  product_id INT,\n",
    "  PRIMARY KEY(cust_id, purch_id, product_id),\n",
    "  FOREIGN KEY(cust_id)\n",
    "  \tREFERENCES customer(cust_id),\n",
    "  FOREIGN KEY(purch_id)\n",
    "  \tREFERENCES purchases(purch_id),\n",
    "  FOREIGN KEY(product_id)\n",
    "    REFERENCES products(prod_id)\n",
    ");\"\"\")\n",
    "\n",
    "\n",
    "rows = cursor.fetchall()\n",
    "for row in rows:\n",
    "    print(row)\n",
    "\n",
    "conn.commit()\n",
    "\n",
    "conn.close()\n",
    "\n"
   ]
  },
  {
   "cell_type": "code",
   "execution_count": 4,
   "id": "65120a17",
   "metadata": {},
   "outputs": [
    {
     "name": "stdout",
     "output_type": "stream",
     "text": [
      "Tables in the database:\n",
      "purchases\n",
      "customer\n",
      "products\n",
      "sales\n"
     ]
    }
   ],
   "source": [
    "conn = sqlite3.connect('purchases.db')\n",
    "cursor = conn.cursor()\n",
    "\n",
    "\n",
    "cursor.execute(\"SELECT name FROM sqlite_master WHERE type='table';\")\n",
    "tables = cursor.fetchall()\n",
    "\n",
    "# Print table names\n",
    "print(\"Tables in the database:\")\n",
    "for table in tables:\n",
    "    print(table[0])  # Extract table name from the tuple\n",
    "\n",
    "# Close the connection\n",
    "conn.close()"
   ]
  },
  {
   "cell_type": "code",
   "execution_count": null,
   "id": "9ebf9623",
   "metadata": {},
   "outputs": [],
   "source": [
    "# if you are done early: read in the data"
   ]
  },
  {
   "cell_type": "markdown",
   "id": "750a1f6f",
   "metadata": {},
   "source": [
    "<div class=\"alert alert-block alert-info\">\n",
    "    <b>Exercise</b>: Assume a University with lecturers, students, courses and faculties. \n",
    "    \n",
    "Find a Database scheme that expresses the following information:\n",
    "- Each lecturer is an employee of a single faculty\n",
    "- Students are enrolled in Faculties\n",
    "- Lecturers give courses which belong to a faculty (not necessarily to the lecturer’s faculty). Only one teacher per course\n",
    "- Students visit Courses and score Grades in them\n",
    "- Lecturers and Students have a unique ID and a name\n",
    "- Courses have a unique ID and a name, they give a fixed amount \n",
    "of credits\n",
    "- Additionally, we want to store the number of semesters a \n",
    "students took so far and the lecturers’ salaries.\n",
    "\n",
    "</div>"
   ]
  },
  {
   "cell_type": "markdown",
   "id": "0a0f1938",
   "metadata": {},
   "source": [
    "#### solution\n",
    "\n"
   ]
  },
  {
   "cell_type": "markdown",
   "id": "0f30c5e9",
   "metadata": {},
   "source": [
    "### __2. SQL__"
   ]
  },
  {
   "cell_type": "markdown",
   "id": "a9a299d9",
   "metadata": {},
   "source": [
    "Declarative Database Language\n",
    "\n",
    "consists of three (co-dependent) language definitions\n",
    "- data definition language (DDL)\n",
    "    - define relational schemata\n",
    "    - create/ alter/ delete tables and their attributes\n",
    "- data manipulation language (DML)\n",
    "    - insert/ delete/ modify entries in tables\n",
    "    - query one or more tables\n",
    "- data control language (DCL)\n",
    "    - control access to data stored in database\n",
    "    - grant/ revoke/ modify user access rights"
   ]
  },
  {
   "cell_type": "markdown",
   "id": "09b4358f",
   "metadata": {},
   "source": [
    "#### __2.1 DDL__\n",
    "\n",
    "The basic task of a **D**ata **D**efinition **L**anguage is to be able to declare the elements of a database schema, i.e., to communicate the result of the database design process to the database system. \n",
    "\n",
    "**CREATE TABLE**\n",
    "\n",
    "    CREATE TABLE table_name AS (\n",
    "    column1 datatype,\n",
    "    column2 datatype,\n",
    "    column2 datatype,\n",
    "    PRIMARY KEY(column1) \n",
    "    )\n",
    "\n",
    "- Large List of possible Datatypes: e.g. (var)char, integer, float\n",
    "- Add foreign Keys by adding row\n",
    "\n",
    "    `FOREIGN KEY(column1) REFERENCES other_table(key_attr)`\n",
    "\n",
    "**ALTER TABLE**\n",
    "\n",
    "    ALTER TABLE table_name ADD (column99 datatype)\n",
    "\n",
    "\n",
    "**DROP TABLE**\n",
    "\n",
    "    DROP TABLE table_name"
   ]
  },
  {
   "cell_type": "markdown",
   "id": "c9129003",
   "metadata": {},
   "source": [
    "#### __2.2 DML__\n",
    "\n",
    "The **D**ata **M**anipulation **L**anguage is used to modify the state of a database, i.e., to add, modify in and remove from tables\n",
    "\n",
    "\n",
    "**INSERT INTO**\n",
    "\n",
    "\n",
    "    INSERT INTO table_name\n",
    "    VALUES\n",
    "    (val_1_1, val_1_2, … val_1_m),\n",
    "    (val_1_1, val_1_2, … val_1_m),\n",
    "    …\n",
    "    (val_n_1, val_n_2, … val_n_m)\n",
    "\n",
    "- The Inserted Values must fit the column datatypes of the table\n",
    "- SQL automatically checks for violation of key or other constraint\n",
    "\n",
    "**DELETE FROM**\n",
    "\n",
    "    DELETE FROM table_name [WHERE condition]\n",
    "\n",
    "- if the search condition is emitted, all tuples are deleted. \n",
    "\n",
    "**UPDATE**\n",
    "\n",
    "    UPDATE table_name \n",
    "    set val_1_1 = new_val_1_1\n",
    "    [where condition]"
   ]
  },
  {
   "cell_type": "markdown",
   "id": "4108d034",
   "metadata": {},
   "source": [
    "**Queries**"
   ]
  },
  {
   "cell_type": "markdown",
   "id": "2c73f930",
   "metadata": {},
   "source": [
    "basic syntax:\n",
    "\n",
    "    SELECT (DISTINCT) column1, column2, …\n",
    "    FROM table_name\n",
    "    WHERE Condition \n",
    "\n",
    "\n",
    "Further possibility:\n",
    "\n",
    "    SELECT\n",
    "    FROM            JOIN        ON \n",
    "    WHERE       \n",
    "    (AND)\n",
    "    GROUP BY\n",
    "    HAVING\n",
    "    ORDER BY\n"
   ]
  },
  {
   "cell_type": "markdown",
   "id": "1456c287",
   "metadata": {},
   "source": [
    "- We can merge multiple tables in FROM statement using JOIN-Operations\n",
    "- We can also order return data\n",
    "- We may even group data and compute some group attributes using GROUP BY\n",
    "- Set Operations like INTERSECT and UNION are allowed as well"
   ]
  },
  {
   "cell_type": "markdown",
   "id": "be1ea773",
   "metadata": {},
   "source": [
    "# __3. SQL in Python__"
   ]
  },
  {
   "cell_type": "markdown",
   "id": "142ba335",
   "metadata": {},
   "source": [
    "### Execute the following cell only once! and then delete or comment out the create table and insert into statements!"
   ]
  },
  {
   "cell_type": "code",
   "execution_count": 5,
   "id": "ebca7c50",
   "metadata": {},
   "outputs": [],
   "source": [
    "# Implement the schema\n",
    "\n",
    "# Connect to a database (creates a new database if it doesn't exist)\n",
    "conn = sqlite3.connect('DB_tutorial.db')\n",
    "\n",
    "# Create a cursor\n",
    "cursor = conn.cursor()\n",
    "\n",
    "# Query data\n",
    "cursor.execute(\"\"\"CREATE TABLE IF NOT EXISTS students (\n",
    "  id INT PRIMARY KEY,\n",
    "  name text\n",
    ");\n",
    "               \"\"\")\n",
    "\n",
    "cursor.execute(\"\"\"CREATE TABLE IF NOT EXISTS courses (\n",
    "  code INT PRIMARY KEY,\n",
    "  title text,\n",
    "  credits INT\n",
    ");\n",
    "               \"\"\")\n",
    "cursor.execute(\"\"\"CREATE TABLE IF NOT EXISTS professors (\n",
    "  id INT PRIMARY KEY,\n",
    "  name text\n",
    ");\"\"\")\n",
    "\n",
    "cursor.execute(\"\"\"CREATE TABLE IF NOT EXISTS teaches (\n",
    "  professor_id INT,\n",
    "  course_code INT,\n",
    "  semester CHAR(7),\n",
    "  PRIMARY KEY(professor_id, course_code, semester),\n",
    "  FOREIGN KEY(professor_id)\n",
    "  \tREFERENCES professors(id),\n",
    "  FOREIGN KEY(course_code)\n",
    "  \tREFERENCES courses(code)\n",
    ");\"\"\")\n",
    "\n",
    "cursor.execute(\"\"\"CREATE TABLE IF NOT EXISTS takes_course (\n",
    "  student_id INT,\n",
    "  course_code INT,\n",
    "  semester CHAR(7),\n",
    "  grade FLOAT,\n",
    "  PRIMARY KEY(student_id, course_code, semester),\n",
    "  FOREIGN KEY(student_id)\n",
    "  \tREFERENCES students(id),\n",
    "  FOREIGN KEY(course_code)\n",
    "  \tREFERENCES courses(code)\n",
    ");\"\"\")\n",
    "\n",
    "rows = cursor.fetchall()\n",
    "for row in rows:\n",
    "    print(row)\n",
    "\n",
    "\n",
    "# Commit the changes\n",
    "conn.commit()\n",
    "\n",
    "# Close the connection\n",
    "conn.close()\n",
    "\n"
   ]
  },
  {
   "cell_type": "markdown",
   "id": "1d1d14ec",
   "metadata": {},
   "source": [
    "Here a code chunk to demonstrate how to check what tables are now in your database. \n",
    "If you want to redo the database completely, just delete the file that has been created when you ran the first command <br>\n",
    "(Here the file name is: DB_tutorial.db)"
   ]
  },
  {
   "cell_type": "code",
   "execution_count": 6,
   "id": "98905de9",
   "metadata": {},
   "outputs": [
    {
     "name": "stdout",
     "output_type": "stream",
     "text": [
      "Tables in the database:\n",
      "students\n",
      "courses\n",
      "professors\n",
      "teaches\n",
      "takes_course\n"
     ]
    }
   ],
   "source": [
    "# Print all tables in the database:\n",
    "\n",
    "conn = sqlite3.connect('DB_tutorial.db')\n",
    "cursor = conn.cursor()\n",
    "\n",
    "\n",
    "# Query to fetch all table names\n",
    "cursor.execute(\"SELECT name FROM sqlite_master WHERE type='table';\")\n",
    "tables = cursor.fetchall()\n",
    "\n",
    "# Print table names\n",
    "print(\"Tables in the database:\")\n",
    "for table in tables:\n",
    "    print(table[0])  # Extract table name from the tuple\n",
    "\n",
    "# Close the connection\n",
    "conn.close()"
   ]
  },
  {
   "cell_type": "code",
   "execution_count": null,
   "id": "0d92a66e",
   "metadata": {},
   "outputs": [],
   "source": [
    "# Load the data\n",
    "\n",
    "# Connect to a database (creates a new database if it doesn't exist)\n",
    "conn = sqlite3.connect('DB_tutorial.db')\n",
    "\n",
    "# Create a cursor\n",
    "cursor = conn.cursor()\n",
    "\n",
    "# Query data\n",
    "\n",
    "cursor.execute(\"\"\"INSERT INTO students \n",
    "VALUES \n",
    "(1, 'Dora Nynke'),\n",
    "(2, 'Stefan Anit'),\n",
    "(3, 'Tone Callista'),\n",
    "(4, 'Amira Imtiyaz'),\n",
    "(5, 'Anna Hamed')\n",
    ";\"\"\")\n",
    "\n",
    "cursor.execute(\"\"\"INSERT INTO courses \n",
    "VALUES \n",
    "(111, 'Biology', 6),\n",
    "(222, 'ICSS', 9),\n",
    "(333, 'Introduction to Finance', 8)\n",
    ";\"\"\")\n",
    "cursor.execute(\"\"\"INSERT INTO professors \n",
    "VALUES \n",
    "(11, 'Brychan Ritu'),\n",
    "(22, 'David Garcia'),\n",
    "(33, 'Steph Victoriano'),\n",
    "(44, 'Miroslava Bernarda')\n",
    ";\n",
    "\"\"\")\n",
    "\n",
    "cursor.execute(\"\"\"INSERT INTO teaches \n",
    "VALUES\n",
    "(11, 111, 'WS22/23'),\n",
    "(22, 222, 'WS22/23'),\n",
    "(33, 333, 'WS22/23'),\n",
    "(44, 333, 'WS22/23')\n",
    ";\"\"\")\n",
    "cursor.execute(\"\"\"INSERT INTO takes_course \n",
    "VALUES\n",
    "(1, 111, 'WS22/23', 1.7),\n",
    "(2, 222, 'WS22/23', 2.3),\n",
    "(2, 333, 'WS22/23', 1.3),\n",
    "(4, 333, 'WS22/23', 1.0),\n",
    "(5, 111, 'WS22/23', 3.0),\n",
    "(5, 222, 'WS22/23', 1.3),\n",
    "(5, 333, 'WS22/23', 2.0)\n",
    ";\"\"\")\n",
    "\n",
    "\n",
    "# Commit the changes\n",
    "conn.commit()\n",
    "\n",
    "# Close the connection\n",
    "conn.close()\n"
   ]
  },
  {
   "cell_type": "code",
   "execution_count": 8,
   "id": "f450ba2a",
   "metadata": {},
   "outputs": [
    {
     "data": {
      "text/plain": [
       "[(1, 111, 'WS22/23', 1.7),\n",
       " (2, 222, 'WS22/23', 2.3),\n",
       " (2, 333, 'WS22/23', 1.3),\n",
       " (4, 333, 'WS22/23', 1.0),\n",
       " (5, 111, 'WS22/23', 3.0),\n",
       " (5, 222, 'WS22/23', 1.3),\n",
       " (5, 333, 'WS22/23', 2.0)]"
      ]
     },
     "execution_count": 8,
     "metadata": {},
     "output_type": "execute_result"
    }
   ],
   "source": [
    "# Check the data upload\n",
    "# Connect to a database (creates a new database if it doesn't exist)\n",
    "conn = sqlite3.connect('DB_tutorial.db')\n",
    "\n",
    "# Create a cursor\n",
    "cursor = conn.cursor()\n",
    "\n",
    "# Query data\n",
    "\n",
    "cursor.execute(\"\"\"SELECT * FROM takes_course\n",
    ";\"\"\")\n",
    "\n",
    "takes_course = cursor.fetchall()\n",
    "\n",
    "\n",
    "# Commit the changes\n",
    "conn.commit()\n",
    "\n",
    "# Close the connection\n",
    "conn.close()\n",
    "\n",
    "takes_course\n"
   ]
  },
  {
   "cell_type": "code",
   "execution_count": null,
   "id": "23ed7c1d",
   "metadata": {},
   "outputs": [],
   "source": []
  },
  {
   "cell_type": "markdown",
   "id": "aa7aedb8",
   "metadata": {},
   "source": [
    "<div class=\"alert alert-block alert-info\">\n",
    "    <b>Exercise</b>: \n",
    "Write the following queries:\n",
    "\n",
    "- Select the names from all the students\n",
    "- Select all students' names and id that take ICSS\n",
    "- Select all students' names and id taught by David Garcia\n",
    "- Could the database be improved? How?\n",
    "\n",
    "</div>"
   ]
  },
  {
   "cell_type": "code",
   "execution_count": 9,
   "id": "7c5eba5c",
   "metadata": {},
   "outputs": [
    {
     "data": {
      "text/plain": [
       "[('Dora Nynke',),\n",
       " ('Stefan Anit',),\n",
       " ('Tone Callista',),\n",
       " ('Amira Imtiyaz',),\n",
       " ('Anna Hamed',)]"
      ]
     },
     "execution_count": 9,
     "metadata": {},
     "output_type": "execute_result"
    }
   ],
   "source": [
    "conn = sqlite3.connect('DB_tutorial.db')\n",
    "cursor = conn.cursor()\n",
    "\n",
    "cursor.execute(\"\"\"SELECT name FROM students\n",
    ";\"\"\")\n",
    "\n",
    "student_names = cursor.fetchall()\n",
    "conn.commit()\n",
    "\n",
    "conn.close()\n",
    "\n",
    "student_names"
   ]
  },
  {
   "cell_type": "code",
   "execution_count": 10,
   "id": "fc99b6d1",
   "metadata": {},
   "outputs": [
    {
     "data": {
      "text/plain": [
       "[(2, 'Stefan Anit'), (5, 'Anna Hamed')]"
      ]
     },
     "execution_count": 10,
     "metadata": {},
     "output_type": "execute_result"
    }
   ],
   "source": [
    "conn = sqlite3.connect('DB_tutorial.db')\n",
    "cursor = conn.cursor()\n",
    "\n",
    "cursor.execute(\"\"\"SELECT students.id,students.name\n",
    "                  FROM students\n",
    "                  INNER JOIN takes_course ON students.id = takes_course.student_id\n",
    "                  INNER JOIN courses ON takes_course.course_code = courses.code\n",
    "                  WHERE courses.title = 'ICSS'\n",
    ";\"\"\")\n",
    "\n",
    "student_names = cursor.fetchall()\n",
    "conn.commit()\n",
    "\n",
    "conn.close()\n",
    "\n",
    "student_names"
   ]
  },
  {
   "cell_type": "code",
   "execution_count": 11,
   "id": "d3c2d224",
   "metadata": {},
   "outputs": [
    {
     "data": {
      "text/plain": [
       "[('ICSS',)]"
      ]
     },
     "execution_count": 11,
     "metadata": {},
     "output_type": "execute_result"
    }
   ],
   "source": [
    "conn = sqlite3.connect('DB_tutorial.db')\n",
    "cursor = conn.cursor()\n",
    "\n",
    "cursor.execute(\"\"\"SELECT title\n",
    "                  FROM courses\n",
    "                  INNER JOIN teaches ON courses.code = teaches.course_code\n",
    "                  INNER JOIN professors ON teaches.professor_id = professors.id\n",
    "                  WHERE professors.name = 'David Garcia'\n",
    ";\"\"\")\n",
    "\n",
    "student_names = cursor.fetchall()\n",
    "conn.commit()\n",
    "\n",
    "conn.close()\n",
    "\n",
    "student_names"
   ]
  }
 ],
 "metadata": {
  "kernelspec": {
   "display_name": "Python 3",
   "language": "python",
   "name": "python3"
  },
  "language_info": {
   "codemirror_mode": {
    "name": "ipython",
    "version": 3
   },
   "file_extension": ".py",
   "mimetype": "text/x-python",
   "name": "python",
   "nbconvert_exporter": "python",
   "pygments_lexer": "ipython3",
   "version": "3.13.0"
  }
 },
 "nbformat": 4,
 "nbformat_minor": 5
}
