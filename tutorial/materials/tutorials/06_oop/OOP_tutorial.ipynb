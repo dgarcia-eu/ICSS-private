{
 "cells": [
  {
   "cell_type": "markdown",
   "id": "2fbb2098-bfde-463c-830c-3773a6c478fe",
   "metadata": {},
   "source": [
    "<div style=\"text-align: center;\" >\n",
    "<h1 style=\"margin-top: 0.2em; margin-bottom: 0.1em;\">Object-oriented Programming</h1>\n",
    "<h4 style=\"margin-top: 0.7em; margin-bottom: 0.3em; font-style:italic\"></h4>\n",
    "</div>\n",
    "<br>\n",
    "\n",
    "\n"
   ]
  },
  {
   "cell_type": "markdown",
   "metadata": {},
   "source": [
    "### __Structure__\n",
    "\n",
    "1. Programming Paradigms\n",
    "\n",
    "    1.1 Imperative Programming Languages\n",
    "    \n",
    "        - Procedural Programming\n",
    "        \n",
    "        - Object Oriented Programming\n",
    "    \n",
    "    1.2 Declarative Programming Languages\n",
    "    \n",
    "        - Functional Programming\n",
    "        \n",
    "        - Logical Programming\n",
    "        \n",
    "        - Database/Data driven Programming\n",
    "\n",
    "2. Features\n",
    "\n",
    "    2.1 Objects\n",
    "    \n",
    "    2.2 Classes\n",
    "\n",
    "    2.3 Instance Attributes and Methods\n",
    "    \n",
    "\n",
    "\n",
    "3. Concepts of OOP\n",
    "\n",
    "    3.1 Encapsulation\n",
    "    \n",
    "    3.2 Abstraction\n",
    "    \n",
    "    3.3 Inheritance\n",
    "    \n",
    "    3.4 Polymorphism\n",
    "\n",
    "4. Creating Tkinter Apps    \n",
    "\n",
    "5. Exception Handling\n"
   ]
  },
  {
   "cell_type": "markdown",
   "metadata": {},
   "source": [
    "### __1. Programming Paradigms__\n",
    "\n",
    "There are lots for programming languages that are known but all of them need to follow some strategy when they are implemented. Programming paradigms are different ways or styles in which a given program or programming language can be organized. Each paradigm consists of certain structures, features, and opinions about how common programming problems should be handled. There are so many of them, because certain paradigms are better suited for certain types of problems.\n",
    "You can't \"build\" anything with a paradigm. They're more like a set of ideals and guidelines that many people have agreed on, followed, and expanded upon.\n",
    "\n",
    "There are languages that have been built with a certain paradigm in mind and have features that facilitate that kind of programming more than others (Haskel and functional programming is a good example).\n",
    "\n",
    "But there are also \"multi-paradigm\" languages, meaning you can adapt your code to fit a certain paradigm or another (like Python for example).\n",
    "\n",
    "#### __1.1 Imperative Programming Languages__\n",
    "\n",
    "Imperative programming consists of sets of detailed instructions that are given to the computer to execute in a given order. It's called \"imperative\" because as programmers we dictate exactly what the computer has to do, in a very specific way.\n",
    "Imperative programming focuses on describing how a program operates, step by step.\n",
    "It works by changing the program state through assignment statements. The main focus is on how to achieve the goal. The paradigm consist of several statements and after execution of all the result is stored.\n",
    "\n",
    "- **Procedural programming** is a derivation of imperative programming, adding to it the feature of functions (also known as \"procedures\" or \"subroutines\"). In procedural programming, the user is encouraged to subdivide the program execution into functions, as a way of improving modularity and organization.\n",
    "\n",
    "- **Object-oriented programming**, or short **OOP**, is a programming paradigm which provides a means of organizing code and structuring programs such that properties and behaviors are bundled into a collection of **classes** and **objects** which are meant for communication. \n",
    "It is a software development methodology that focuses on representing real-world entities and their interactions in a structured, modular, and efficient way. This is great for building frameworks and tools, which makes the code maintainable and reusable. The smallest and basic entity is the object and all kind of computation is performed on the objects only. More emphasis is on data rather procedure. It can handle almost all kind of real life problems which are today in scenario.\n",
    "\n",
    "#### __1.2 Declarative Programming Languages__\n",
    "\n",
    "In computer science the declarative programming is a style of building programs that expresses logic of computation without talking about its control flow. It may simplify writing parallel programs. The focus is on what needs to be done rather how it should be done by emphasizing on what code is actually doing. It just declares the result we want rather how it has be produced. This is the only difference between imperative (how to do) and declarative (what to do) programming paradigms. Getting into deeper we would see logic, functional and database.\n",
    "\n",
    "- Functional Programming: has its roots in mathematics and it is language independent. The key principle of this paradigms is the execution of series of mathematical functions. The central model for the abstraction is the function which are meant for some specific computation and not the data structure. Data are loosely coupled to functions.The function hide their implementation. Function can be replaced with their values without changing the meaning of the program.\n",
    "\n",
    "- logical programming: an abstract model of computation. It would solve logical problems like puzzles, series etc. In logic programming we have a knowledge base which we know before and along with the question and knowledge base which is given to machine, it produces result. In normal programming languages, such concept of knowledge base is not available but while using the concept of artificial intelligence, machine learning we have some models like Perception model which is using the same mechanism. \n",
    "In logical programming the main emphasize is on knowledge base and the problem. The execution of the program is very much like proof of mathematical statement.\n",
    "\n",
    "\n",
    "- Database/Data driven programming: is based on data and its movement. Program statements are defined by data rather than hard-coding a series of steps. A database program is the heart of a business information system and provides file creation, data entry, update, query and reporting functions. There are several programming languages that are developed mostly for database application. For example SQL. It is applied to streams of structured data, for filtering, transforming, aggregating (such as computing statistics), or calling other programs. So it has its own wide application. (More of this will be covered in the last Tutorial)\n"
   ]
  },
  {
   "cell_type": "markdown",
   "id": "59954281",
   "metadata": {},
   "source": [
    "### __2. Features of OOP__\n",
    "\n",
    "#### __2.1 Objects__\n",
    "\n",
    " **Objects** are at the center of the object-oriented programming paradigm, not only representing the data, as in procedural programming, but in the overall structure of the program as well. An object may have a pyhsical or a conceptual existence. \n",
    " **States** determine the characteristic properties of an object and their values. Objects also have a **behavior** representing externally visible activities perfomed by an object in terms of changes in its state. \n",
    "\n",
    " Focusing first on the data, each thing or object is an **instance** of some **class**.\n",
    "\n",
    "<span style=\"color:green\">Examples: </span> a car, a person, a house\n",
    "\n",
    "\n",
    "#### __2.1 Classes__\n",
    "\n",
    "A **class** is a **blueprint** for an **object**. A class contains all the **attributes** and **methods** related to the real-world object. With the **keyword** `class` you can create such a class, followed by the **class name** and a **colon** `:`. \n",
    "\n",
    "General Syntax:\n",
    "\n",
    "``` \n",
    "class <ClassName>:\n",
    "... <Shared Variable Declarations>\n",
    "... <Constructor>\n",
    "... <Class Functions>\n",
    "\n",
    "```\n",
    "\n",
    "Note that is a convention in Python to name your classes starting with a capital letter, f.e. 'YoungPerson' (so called CamelCase convention). You can initialize an object of a class exactly like you use a function.  ` c = class_name(<variables>)`\n"
   ]
  },
  {
   "cell_type": "code",
   "execution_count": 1,
   "id": "f936b037",
   "metadata": {},
   "outputs": [],
   "source": [
    "# this is a class without any attributes or methods\n",
    "class Cat:\n",
    "    \"\"\"\n",
    "    Class Cat\n",
    "    \"\"\"\n",
    "    pass"
   ]
  },
  {
   "cell_type": "code",
   "execution_count": 2,
   "id": "42a65d68",
   "metadata": {},
   "outputs": [
    {
     "name": "stdout",
     "output_type": "stream",
     "text": [
      "<class '__main__.Cat'>\n"
     ]
    }
   ],
   "source": [
    "# initialize a cat\n",
    "cat1 = Cat()\n",
    "\n",
    "print(type(cat1))\n"
   ]
  },
  {
   "cell_type": "markdown",
   "id": "fa6ebe88",
   "metadata": {},
   "source": [
    "As you can see you can initialize an instance like a **parameterless function** and assign it to a variable. Then you can work with the instance using the corresponding variable. So far our objects can not do really do anything. So let us add two **methods** to the class to give the objects some functionality."
   ]
  },
  {
   "cell_type": "code",
   "execution_count": 3,
   "id": "814addea",
   "metadata": {},
   "outputs": [],
   "source": [
    "class Cat:\n",
    "    \"\"\"\n",
    "    Class Cat\n",
    "    \"\"\"\n",
    "    \n",
    "    def sleep(self):\n",
    "        print(\"Cat sleeps\")\n",
    "\n",
    "    def scratch(self):\n",
    "        print(\"Cat scratched the couch (again...)\")"
   ]
  },
  {
   "cell_type": "code",
   "execution_count": 4,
   "id": "c6024cf0",
   "metadata": {},
   "outputs": [
    {
     "name": "stdout",
     "output_type": "stream",
     "text": [
      "Cat sleeps\n",
      "Cat scratched the couch (again...)\n"
     ]
    }
   ],
   "source": [
    "cat2 = Cat()\n",
    "\n",
    "cat2.sleep()\n",
    "\n",
    "cat2.scratch()"
   ]
  },
  {
   "cell_type": "markdown",
   "id": "4c2783fb",
   "metadata": {},
   "source": [
    "So this object has **methods**, but no **attributes**. There are 2 ways of adding attributes to an object. \n",
    "\n",
    "You can for example simply assign attributes using `object.attribute`, which is also the way you  **reference the attribute**. \n",
    "\n",
    "The assignment of values to the objects attributes can also be done in the initialization/creation of the object. To do this, you can write an **initialization method** `__init__`, the so called **constructor**. When you create your object, you can pass the **parameters** for that specific object into the class. This syntax is basically the same as with a function again. \n",
    "\n",
    "In the initialization method, `self` refers to the newly created object. In any other method, it refers to the instance whose method was called. However it is nothing more than a **convention**: the name `self` has absolutely no special meaning to Python.\n",
    "\n"
   ]
  },
  {
   "cell_type": "code",
   "execution_count": 6,
   "id": "9e320bfc",
   "metadata": {},
   "outputs": [
    {
     "name": "stdout",
     "output_type": "stream",
     "text": [
      "Findus\n",
      "3\n"
     ]
    }
   ],
   "source": [
    "# give cats a name and age\n",
    "cat2.name = \"Findus\"\n",
    "cat3 = Cat()\n",
    "cat3.name = 'simba'\n",
    "cat2.age = 3\n",
    "cat3.age = 5\n",
    "# print the cat name and age\n",
    "print(cat2.name)\n",
    "print(cat2.age)"
   ]
  },
  {
   "cell_type": "code",
   "execution_count": 7,
   "id": "7c9c6962",
   "metadata": {},
   "outputs": [
    {
     "data": {
      "text/plain": [
       "True"
      ]
     },
     "execution_count": 7,
     "metadata": {},
     "output_type": "execute_result"
    }
   ],
   "source": [
    "cat2.age < cat3.age"
   ]
  },
  {
   "cell_type": "markdown",
   "id": "5e5cff8d",
   "metadata": {},
   "source": [
    "Let us create a **class** where we can **specify** its objects in more detail. "
   ]
  },
  {
   "cell_type": "code",
   "execution_count": 8,
   "id": "366084e0",
   "metadata": {},
   "outputs": [],
   "source": [
    "class Cat:\n",
    "    \"\"\"\n",
    "    Class Cat\n",
    "    \"\"\"\n",
    "\n",
    "    def __init__(self, name, age):\n",
    "        self.name = name\n",
    "        self.age = age\n",
    "              \n",
    "    def sleep(self):\n",
    "        print(\"Cat sleeps\")\n",
    "\n",
    "    def scratch(self):\n",
    "        print(f\"{self.name} scratched the couch (again...)\")"
   ]
  },
  {
   "cell_type": "code",
   "execution_count": 9,
   "id": "d7ee8316",
   "metadata": {},
   "outputs": [
    {
     "name": "stdout",
     "output_type": "stream",
     "text": [
      "Findus\n",
      "5\n",
      "Findus scratched the couch (again...)\n"
     ]
    }
   ],
   "source": [
    "# initialize cat1 again\n",
    "cat1 = Cat(name=\"Findus\", age=5)\n",
    "\n",
    "# print name cat\n",
    "print(cat1.name)\n",
    "\n",
    "# print age cat\n",
    "print(cat1.age)\n",
    "\n",
    "# let cat scratch\n",
    "cat1.scratch()"
   ]
  },
  {
   "cell_type": "code",
   "execution_count": 10,
   "id": "f25cb49d",
   "metadata": {},
   "outputs": [
    {
     "ename": "TypeError",
     "evalue": "Cat.__init__() missing 2 required positional arguments: 'name' and 'age'",
     "output_type": "error",
     "traceback": [
      "\u001b[1;31m---------------------------------------------------------------------------\u001b[0m",
      "\u001b[1;31mTypeError\u001b[0m                                 Traceback (most recent call last)",
      "Cell \u001b[1;32mIn[10], line 3\u001b[0m\n\u001b[0;32m      1\u001b[0m \u001b[38;5;66;03m#now, if we try to initialize an object without attributes...\u001b[39;00m\n\u001b[1;32m----> 3\u001b[0m cat2 \u001b[38;5;241m=\u001b[39m \u001b[43mCat\u001b[49m\u001b[43m(\u001b[49m\u001b[43m)\u001b[49m\n",
      "\u001b[1;31mTypeError\u001b[0m: Cat.__init__() missing 2 required positional arguments: 'name' and 'age'"
     ]
    }
   ],
   "source": [
    "#now, if we try to initialize an object without attributes...\n",
    "\n",
    "cat2 = Cat()"
   ]
  },
  {
   "cell_type": "markdown",
   "id": "f0feffb2",
   "metadata": {},
   "source": [
    "We don't always want to assign values to the attributes. We can define default values for those cases. "
   ]
  },
  {
   "cell_type": "code",
   "execution_count": null,
   "id": "eb904bee",
   "metadata": {},
   "outputs": [
    {
     "data": {
      "text/plain": [
       "5"
      ]
     },
     "execution_count": 11,
     "metadata": {},
     "output_type": "execute_result"
    }
   ],
   "source": [
    "class Student:\n",
    "    \"\"\"\n",
    "    Class Student\n",
    "    \"\"\"\n",
    "\n",
    "    def __init__(self, name, age=5):\n",
    "        self.name = name\n",
    "        self.age = age\n",
    "\n",
    "cat_without_age = Cat(name = 'Bella')\n",
    "cat_without_age.age"
   ]
  },
  {
   "cell_type": "code",
   "execution_count": null,
   "id": "42e44eaa",
   "metadata": {},
   "outputs": [],
   "source": [
    "student1 = Student(name=\"Findus\", age=5)"
   ]
  },
  {
   "cell_type": "markdown",
   "metadata": {},
   "source": [
    "<div class=\"alert alert-block alert-info\">\n",
    "    <b>Exercise</b>: Create the class Student. \n",
    "    A Student has an id, first and last name.\n",
    "    Add a method that allows a student to present themselves. This method should return a String:\n",
    "    \"Hello, my name is first_name last_name and my id is ...\"\n",
    "    </div>"
   ]
  },
  {
   "cell_type": "code",
   "execution_count": null,
   "metadata": {},
   "outputs": [],
   "source": [
    "# Solution\n",
    "class Student: # Naming Convention -> CatAndMouse\n",
    "    '''\n",
    "    Class Student\n",
    "    '''\n",
    "\n",
    "    def __init__(self, id, first, last):\n",
    "        self.id = id\n",
    "        self.first = first\n",
    "        self.last = last\n",
    "\n",
    "    def introduce(self):\n",
    "        print(f\"Hello, my name is {self.first} {self.last} and my id is {self.id}.\")"
   ]
  },
  {
   "cell_type": "code",
   "execution_count": 17,
   "id": "3a0a1701",
   "metadata": {},
   "outputs": [
    {
     "name": "stdout",
     "output_type": "stream",
     "text": [
      "Hello, my name is Niklas Bacher and my id is 01/1081503.\n"
     ]
    }
   ],
   "source": [
    "student1 = Student(\"01/1081503\",\"Niklas\",\"Bacher\")\n",
    "student1.introduce()"
   ]
  },
  {
   "cell_type": "markdown",
   "metadata": {},
   "source": [
    "\n",
    "#### __2.3 Instance Attributes and Methods__\n"
   ]
  },
  {
   "cell_type": "markdown",
   "metadata": {},
   "source": [
    "In general, the attributes can be divided into two categories: \n",
    "- **instance  attributes** which are declared within the methods and can be **different** between each object of the same class.\n",
    "We have already seen the implementation of instance attributes, when we talked about the classes. \n",
    "- **class attributes** which are declared outside the methods and are the **same** between every object of the same class.\n",
    "\n",
    "In the following we will add a class attribute to our example."
   ]
  },
  {
   "cell_type": "code",
   "execution_count": 18,
   "metadata": {},
   "outputs": [],
   "source": [
    "class Cat:\n",
    "    \"\"\"\n",
    "    Class Cat\n",
    "    \"\"\"\n",
    "    fluffy = True\n",
    "\n",
    "    def __init__(self, name, age = 5):\n",
    "        self.name = name\n",
    "        self.age = age\n",
    "        \n",
    "    def sleep(self):\n",
    "        print(\"Cat sleeps\")\n",
    "\n",
    "    def scratch(self):\n",
    "        print(f\"{self.name} scratched the couch (again...)\")"
   ]
  },
  {
   "cell_type": "code",
   "execution_count": 19,
   "metadata": {},
   "outputs": [
    {
     "data": {
      "text/plain": [
       "True"
      ]
     },
     "execution_count": 19,
     "metadata": {},
     "output_type": "execute_result"
    }
   ],
   "source": [
    "cat = Cat(name= 'Baloo')\n",
    "cat.fluffy"
   ]
  },
  {
   "cell_type": "markdown",
   "metadata": {},
   "source": [
    "It might be useful to know all attributes of an object. For this we can use the funtion `dir()`. This lists all standard attributes and methods, as well as the attributes you defined yourself. \n",
    "\n",
    "In this list are many **default attributes** which contain different information. Here is a brief **overview** of common attributes:\n",
    "\n",
    "| Attribute | Description |\n",
    "| -------- | ------- |\n",
    "| `__doc__` | documentation string of instance |\n",
    "| `__module__` | name of module where instance is defined |\n",
    "| `__dict__` | namespace of instance |"
   ]
  },
  {
   "cell_type": "code",
   "execution_count": 20,
   "metadata": {},
   "outputs": [
    {
     "name": "stdout",
     "output_type": "stream",
     "text": [
      "['__class__', '__delattr__', '__dict__', '__dir__', '__doc__', '__eq__', '__format__', '__ge__', '__getattribute__', '__gt__', '__hash__', '__init__', '__init_subclass__', '__le__', '__lt__', '__module__', '__ne__', '__new__', '__reduce__', '__reduce_ex__', '__repr__', '__setattr__', '__sizeof__', '__str__', '__subclasshook__', '__weakref__', 'fluffy', 'scratch', 'sleep']\n"
     ]
    }
   ],
   "source": [
    "print(dir(Cat))\n"
   ]
  },
  {
   "cell_type": "markdown",
   "metadata": {},
   "source": [
    "The **methods** of an instance generally provide its **functionalities**. They are called in the same way as the attributes, but with round brackets `(` `)` after the method's name, wherein possible parameters can be passed. These functions can output one or more parameters like normal functions too.\n",
    "\n",
    "There are different categories of methods: First, there are **dynamic methods** where the **instance** itself is passed with the **keyword** `self` and whose results can differ from instance to instance. Second, there are **static methods** where the instance itself is not passed because the results of the methods are the same from instance to instance. Static methods must be declared with the **decorator** `@staticmethod`."
   ]
  },
  {
   "cell_type": "markdown",
   "metadata": {},
   "source": [
    "There are also many **default methods** which provide different functionalities. Here is a brief **overview** of common methods:\n",
    "\n",
    "| Method | Description |\n",
    "| -------- | ------- |\n",
    "| `__init__` | initialize instance |\n",
    "| `__str__` | nicely printable string representation of instance |\n",
    "| `__del__` | delete instance |\n",
    "| `__eq__` | comparison operator for instance |"
   ]
  },
  {
   "cell_type": "markdown",
   "metadata": {},
   "source": [
    "For example, if we have not specified any **string representation** in our class, then the **memory location** of the object is shown by default. However, this is not very informative for us. Therefore, we overwrite this default method and return an **understandable description** of the object instead.\n",
    "\n"
   ]
  },
  {
   "cell_type": "code",
   "execution_count": 21,
   "metadata": {},
   "outputs": [
    {
     "name": "stdout",
     "output_type": "stream",
     "text": [
      "<__main__.Cat object at 0x0000023589B5CA30>\n"
     ]
    }
   ],
   "source": [
    "print(cat)"
   ]
  },
  {
   "cell_type": "code",
   "execution_count": 20,
   "metadata": {},
   "outputs": [],
   "source": [
    "class Cat:\n",
    "    \"\"\"\n",
    "    Class Cat\n",
    "    \"\"\"\n",
    "    fluffy = True\n",
    "\n",
    "    def __init__(self, name, age = 5):\n",
    "        self.name = name\n",
    "        self.age = age\n",
    "        \n",
    "    def __str__(self):\n",
    "        return \"Cat Class Object\"    \n",
    "\n",
    "    def sleep(self):\n",
    "        print(\"Cat sleeps\")\n",
    "\n",
    "    def scratch(self):\n",
    "        print(f\"{self.name} scratched the couch (again...)\")"
   ]
  },
  {
   "cell_type": "code",
   "execution_count": 21,
   "metadata": {},
   "outputs": [
    {
     "name": "stdout",
     "output_type": "stream",
     "text": [
      "Cat Class Object\n"
     ]
    }
   ],
   "source": [
    "cat = Cat('Baloo')\n",
    "print(cat)"
   ]
  },
  {
   "cell_type": "markdown",
   "id": "5b784637",
   "metadata": {},
   "source": [
    "#### Class Methods vs. Static Methods"
   ]
  },
  {
   "cell_type": "markdown",
   "id": "305f38ec",
   "metadata": {},
   "source": [
    "What are Class Methods?\n",
    "\n",
    "The built-in function decorator @classmethod is an expression that is evaluated just after the definition of your function. The result of such a evaluation casts a shadow over your function definition. Similar to how an instance method receives the instance, a class method also takes the class as an implicit first argument\n",
    "\n",
    "\n",
    "- A class method is one that is attached to the class itself rather than the class's object.\n",
    "- As it takes a class parameter that points to the class and not the object instance, they have access to the class's state.\n",
    "- It has the ability to change a class state that would impact every instance of the class. For instance, it could change a class variable that would affect all instances."
   ]
  },
  {
   "cell_type": "code",
   "execution_count": 22,
   "metadata": {},
   "outputs": [],
   "source": [
    "#Class methods\n",
    "\n",
    "class Student():\n",
    "    \n",
    "    STATUS = 'Student'\n",
    "\n",
    "\n",
    "    def set_status(self, status):\n",
    "        self.status = status\n",
    "        \n",
    "    @classmethod\n",
    "    def set_class_status(cls, status):\n",
    "        cls.STATUS = status  \n",
    "        "
   ]
  },
  {
   "cell_type": "code",
   "execution_count": 24,
   "metadata": {},
   "outputs": [
    {
     "name": "stdout",
     "output_type": "stream",
     "text": [
      "Student.STATUS:  Student\n",
      "Student.STATUS:  Student\n"
     ]
    }
   ],
   "source": [
    "print('Student.STATUS: ', Student.STATUS)\n",
    "student1 = Student()\n",
    "student2 = Student()\n",
    "\n",
    "student1.set_status('A')\n",
    "student2.set_status('B')\n",
    "print('Student.STATUS: ', Student.STATUS)"
   ]
  },
  {
   "cell_type": "code",
   "execution_count": 25,
   "metadata": {},
   "outputs": [
    {
     "name": "stdout",
     "output_type": "stream",
     "text": [
      "student1.STATUS:  Student\n",
      "student1.status:  A\n",
      "Drop out\n"
     ]
    }
   ],
   "source": [
    "student1.set_status('A')\n",
    "student2.set_status('B')\n",
    "\n",
    "print('student1.STATUS: ', student1.STATUS)\n",
    "print('student1.status: ', student1.status)\n",
    "\n",
    "Student.set_class_status('Drop out')\n",
    "\n",
    "print(student2.STATUS)"
   ]
  },
  {
   "cell_type": "markdown",
   "id": "c7e6766c",
   "metadata": {},
   "source": [
    "What are Static Methods?\n",
    "\n",
    "A static method is a method that is tied to the class instead of the class's object. It is not possible to pass an implicit first argument to a static method. The class state cannot be accessed or changed by this method.\n"
   ]
  },
  {
   "cell_type": "code",
   "execution_count": 26,
   "id": "bef3a87e",
   "metadata": {},
   "outputs": [],
   "source": [
    "import math\n"
   ]
  },
  {
   "cell_type": "code",
   "execution_count": 27,
   "id": "4159253c",
   "metadata": {},
   "outputs": [],
   "source": [
    "\n",
    "class Pizza:\n",
    "    def __init__(self, radius, ingredients):\n",
    "        self.radius = radius\n",
    "        self.ingredients = ingredients\n",
    "\n",
    "    def __repr__(self):\n",
    "        return (f'Pizza({self.radius!r}, '\n",
    "                f'{self.ingredients!r})')\n",
    "\n",
    "    def area(self):\n",
    "        return self.circle_area(self.radius)\n",
    "\n",
    "    @staticmethod\n",
    "    def circle_area(r):\n",
    "        return r ** 2 * math.pi"
   ]
  },
  {
   "cell_type": "code",
   "execution_count": 28,
   "id": "e4213ab8",
   "metadata": {},
   "outputs": [
    {
     "name": "stdout",
     "output_type": "stream",
     "text": [
      "50.26548245743669\n",
      "50.26548245743669\n"
     ]
    }
   ],
   "source": [
    "p = Pizza(4, ['mozarella', 'tomatoes'])\n",
    "\n",
    "print(p.area())\n",
    "\n",
    "print(Pizza.circle_area(4))\n"
   ]
  },
  {
   "cell_type": "markdown",
   "id": "5b5787f1",
   "metadata": {},
   "source": [
    "The Difference between Class Method and Static method is stated below.\n",
    "\n",
    "- While a static method requires no specific parameters, a class method takes cls as its first argument.\n",
    "- While a static method cannot access or modify the class state, a class method can.\n",
    "- Static methods are typically unaware of the class state. They are utility methods that operate on some parameters after receiving them. On the other hand, class must be a parameter for class methods.\n"
   ]
  },
  {
   "cell_type": "markdown",
   "id": "fb3881ce",
   "metadata": {},
   "source": [
    "Now let's have a look at some of the other methods"
   ]
  },
  {
   "cell_type": "code",
   "execution_count": 29,
   "metadata": {},
   "outputs": [],
   "source": [
    "# __repr__ tells python what to print\n",
    "class Student():\n",
    "    \n",
    "    def __init__(self, name):\n",
    "        self.name = name\n",
    "        \n",
    "    def __repr__(self):\n",
    "        return f'Student {self.name}'\n",
    "    "
   ]
  },
  {
   "cell_type": "code",
   "execution_count": 66,
   "metadata": {},
   "outputs": [
    {
     "name": "stdout",
     "output_type": "stream",
     "text": [
      "Student Stuart\n"
     ]
    }
   ],
   "source": [
    "student = Student('Stuart')\n",
    "print(student)"
   ]
  },
  {
   "cell_type": "code",
   "execution_count": 30,
   "metadata": {},
   "outputs": [],
   "source": [
    "# __add__\n",
    "class Student():\n",
    "    \n",
    "    def __init__(self, name):\n",
    "        self.name = name\n",
    "        \n",
    "    def __repr__(self):\n",
    "        return f'Student {self.name}'\n",
    "    \n",
    "    def __add__(self, other):\n",
    "        if isinstance(other, Student):\n",
    "            return [self] + [other]\n",
    "        if isinstance(other, str):\n",
    "            return self.name + other\n",
    "        else:\n",
    "            raise TypeError(f'addition between types Student and {type(other)} is not defined')\n"
   ]
  },
  {
   "cell_type": "code",
   "execution_count": 31,
   "metadata": {},
   "outputs": [
    {
     "ename": "TypeError",
     "evalue": "addition between types Student and <class 'int'> is not defined",
     "output_type": "error",
     "traceback": [
      "\u001b[1;31m---------------------------------------------------------------------------\u001b[0m",
      "\u001b[1;31mTypeError\u001b[0m                                 Traceback (most recent call last)",
      "Cell \u001b[1;32mIn[31], line 8\u001b[0m\n\u001b[0;32m      4\u001b[0m student \u001b[38;5;241m+\u001b[39m student2\n\u001b[0;32m      6\u001b[0m student \u001b[38;5;241m+\u001b[39m \u001b[38;5;124m'\u001b[39m\u001b[38;5;124m Hello\u001b[39m\u001b[38;5;124m'\u001b[39m\n\u001b[1;32m----> 8\u001b[0m \u001b[43mstudent\u001b[49m\u001b[43m \u001b[49m\u001b[38;5;241;43m+\u001b[39;49m\u001b[43m \u001b[49m\u001b[38;5;241;43m5\u001b[39;49m\n",
      "Cell \u001b[1;32mIn[30], line 16\u001b[0m, in \u001b[0;36mStudent.__add__\u001b[1;34m(self, other)\u001b[0m\n\u001b[0;32m     14\u001b[0m     \u001b[38;5;28;01mreturn\u001b[39;00m \u001b[38;5;28mself\u001b[39m\u001b[38;5;241m.\u001b[39mname \u001b[38;5;241m+\u001b[39m other\n\u001b[0;32m     15\u001b[0m \u001b[38;5;28;01melse\u001b[39;00m:\n\u001b[1;32m---> 16\u001b[0m     \u001b[38;5;28;01mraise\u001b[39;00m \u001b[38;5;167;01mTypeError\u001b[39;00m(\u001b[38;5;124mf\u001b[39m\u001b[38;5;124m'\u001b[39m\u001b[38;5;124maddition between types Student and \u001b[39m\u001b[38;5;132;01m{\u001b[39;00m\u001b[38;5;28mtype\u001b[39m(other)\u001b[38;5;132;01m}\u001b[39;00m\u001b[38;5;124m is not defined\u001b[39m\u001b[38;5;124m'\u001b[39m)\n",
      "\u001b[1;31mTypeError\u001b[0m: addition between types Student and <class 'int'> is not defined"
     ]
    }
   ],
   "source": [
    "student = Student('Stuart')\n",
    "student2 = Student('Stuart'[::-1].lower().capitalize())\n",
    "\n",
    "student + student2\n",
    "\n",
    "student + ' Hello'\n",
    "\n",
    "student + 5\n"
   ]
  },
  {
   "cell_type": "code",
   "execution_count": 32,
   "metadata": {},
   "outputs": [],
   "source": [
    "# __len__\n",
    "class Student():\n",
    "    \n",
    "    def __init__(self, name):\n",
    "        self.name = name\n",
    "        \n",
    "    def __repr__(self):\n",
    "        return f'Student {self.name}'\n",
    "    \n",
    "    def __len__(self):\n",
    "        return len(self.name)"
   ]
  },
  {
   "cell_type": "code",
   "execution_count": 33,
   "metadata": {},
   "outputs": [
    {
     "data": {
      "text/plain": [
       "5"
      ]
     },
     "execution_count": 33,
     "metadata": {},
     "output_type": "execute_result"
    }
   ],
   "source": [
    "student = 'Elena'\n",
    "\n",
    "student.__len__()"
   ]
  },
  {
   "cell_type": "markdown",
   "metadata": {},
   "source": [
    "## 3 Concepts of OOP\n",
    "\n",
    "#### __3.1 Encapsulation__\n"
   ]
  },
  {
   "cell_type": "markdown",
   "metadata": {},
   "source": [
    "**Encapsulation** is achieved when each object keeps its **state private**, inside a class. Other objects do not have direct access to this state. Instead, they can only call a list of **public functions** - called methods. That is why we have **access modifiers** in Python which we can use to restrict access to objects. There are **public**, **protected** and **private** modifiers. \n",
    "\n",
    "- To use **private modifiers**, we must prefix the name of the attributes or methods with **two underscores**. These are then private and can only be accessed **inside** the **object** itself. \n",
    "- To use **protected modifiers**, we must prefix the name of the attributes or methods with **one underscore**. These are then protected and can only be accessed **within** their **package**. \n",
    "- To use **public modifiers**, it is best to write the name of the attributes or methods **without** a leading **underscore**. They are then public and can be accessed from **anywhere**. "
   ]
  },
  {
   "cell_type": "markdown",
   "metadata": {},
   "source": [
    "In this format, the attributes and methods would look as follows:\n",
    "\n",
    "| Modifier | Attribute | Method |\n",
    "| -------- | ------- | ------- |\n",
    "| Private | `__private_var` | `__private_method()` |\n",
    "| Protected | `_protected_var` | `_protected_method()` |\n",
    "| Public | `public_var` | `public_method()` |\n",
    "\n",
    "Let us see how you **do not** and **do** access **private attributes** and **methods**. "
   ]
  },
  {
   "cell_type": "code",
   "execution_count": 34,
   "metadata": {},
   "outputs": [],
   "source": [
    "class Cat:\n",
    "    \"\"\"\n",
    "    Class Cat\n",
    "    \"\"\"\n",
    "    __FLUFFY = True\n",
    "\n",
    "    def __init__(self, name, age = 5):\n",
    "        self.name = name\n",
    "        self.age = age\n",
    "        \n",
    "    def __str__(self):\n",
    "        return \"Cat Class Object\"    \n",
    "\n",
    "    def __vaccinate(self):\n",
    "        print(\"Cat is vaccinated\")\n",
    "\n",
    "    def doctor(self):\n",
    "        self.__vaccinate()       \n",
    "\n",
    "    def pet(self):\n",
    "        return self.__FLUFFY"
   ]
  },
  {
   "cell_type": "code",
   "execution_count": 35,
   "metadata": {},
   "outputs": [
    {
     "ename": "AttributeError",
     "evalue": "'Cat' object has no attribute '__FLUFFY'",
     "output_type": "error",
     "traceback": [
      "\u001b[1;31m---------------------------------------------------------------------------\u001b[0m",
      "\u001b[1;31mAttributeError\u001b[0m                            Traceback (most recent call last)",
      "Cell \u001b[1;32mIn[35], line 5\u001b[0m\n\u001b[0;32m      2\u001b[0m cat \u001b[38;5;241m=\u001b[39m Cat(name\u001b[38;5;241m=\u001b[39m\u001b[38;5;124m\"\u001b[39m\u001b[38;5;124mSunny\u001b[39m\u001b[38;5;124m\"\u001b[39m, age\u001b[38;5;241m=\u001b[39m\u001b[38;5;241m3\u001b[39m)\n\u001b[0;32m      4\u001b[0m \u001b[38;5;66;03m# access private attribute directly\u001b[39;00m\n\u001b[1;32m----> 5\u001b[0m \u001b[38;5;28mprint\u001b[39m(\u001b[43mcat\u001b[49m\u001b[38;5;241;43m.\u001b[39;49m\u001b[43m__FLUFFY\u001b[49m)\n",
      "\u001b[1;31mAttributeError\u001b[0m: 'Cat' object has no attribute '__FLUFFY'"
     ]
    }
   ],
   "source": [
    "# initialize dog\n",
    "cat = Cat(name=\"Sunny\", age=3)\n",
    "\n",
    "# access private attribute directly\n",
    "print(cat.__FLUFFY)"
   ]
  },
  {
   "cell_type": "code",
   "execution_count": 36,
   "metadata": {},
   "outputs": [
    {
     "ename": "AttributeError",
     "evalue": "'Cat' object has no attribute '__vaccinate'",
     "output_type": "error",
     "traceback": [
      "\u001b[1;31m---------------------------------------------------------------------------\u001b[0m",
      "\u001b[1;31mAttributeError\u001b[0m                            Traceback (most recent call last)",
      "Cell \u001b[1;32mIn[36], line 2\u001b[0m\n\u001b[0;32m      1\u001b[0m \u001b[38;5;66;03m# access private method directly\u001b[39;00m\n\u001b[1;32m----> 2\u001b[0m \u001b[43mcat\u001b[49m\u001b[38;5;241;43m.\u001b[39;49m\u001b[43m__vaccinate\u001b[49m()\n",
      "\u001b[1;31mAttributeError\u001b[0m: 'Cat' object has no attribute '__vaccinate'"
     ]
    }
   ],
   "source": [
    "\n",
    "# access private method directly\n",
    "cat.__vaccinate()"
   ]
  },
  {
   "cell_type": "code",
   "execution_count": 37,
   "metadata": {},
   "outputs": [
    {
     "name": "stdout",
     "output_type": "stream",
     "text": [
      "True\n",
      "Cat is vaccinated\n"
     ]
    }
   ],
   "source": [
    "# access private attribute indirectly\n",
    "print(cat.pet())\n",
    "\n",
    "# access private method indirectly\n",
    "cat.doctor()"
   ]
  },
  {
   "cell_type": "markdown",
   "metadata": {},
   "source": [
    "#### __3.2 Abstraction__\n",
    "\n",
    "**Abstraction** can be thought of as a natural extension of **encapsulation**. It is a process of **hiding** the **implementation details** from the user, only the **functionality** will be provided to the user. In object-oriented design, programs are often extremely large. And separate objects communicate with each other a lot. So maintaining a large codebase like this for years - with changes along the way - is difficult. Abstraction is a concept aiming to ease this problem.\n",
    "\n",
    "Applying abstraction means that each object should only expose a high-level mechanism for using it. This mechanism should hide internal implementation details. It should only reveal operations relevant for the other objects. Instead of how it does it, the user will have the information on what it does.\n"
   ]
  },
  {
   "cell_type": "markdown",
   "metadata": {},
   "source": [
    "The **idea** of **abstraction** can be described by the use of a coffee machine. When we use a coffee machine, we need to know how to use the coffee machine to make coffee: We need to provide water and coffee beans, switch it on and select the kind of coffee we want to get. The thing we don’t need to know is how the coffee machine is working internally to brew a fresh cup of delicious coffee. We don’t need to know the ideal temperature of the water or the amount of ground coffee we need to use. In the same way, a Python class Human would just use the making coffe method of the class CoffeeMachine, but it would not need to know about all the details of the implementation of the CoffeeMachine class.\n"
   ]
  },
  {
   "cell_type": "markdown",
   "metadata": {},
   "source": [
    "In the following we will **abstract** our **object** according to its **components**. So the class dog has e.g. a mouth, nose, fur, but these will be implemented as classes by themselves. These classes can then be further divided into their components. The goal is to implement attributes and methods along with their actual object. This way the high-level class remains clear. \n",
    "\n",
    "Let us start **abstracting** our **example**. "
   ]
  },
  {
   "cell_type": "code",
   "execution_count": 38,
   "metadata": {},
   "outputs": [],
   "source": [
    "class Dog:\n",
    "    \"\"\"\n",
    "    Class Dog\n",
    "    \"\"\"\n",
    "    \n",
    "    __fluffy = True\n",
    "\n",
    "    def __init__(self, name, age, mouth, nose, fur):\n",
    "        self.name = name\n",
    "        self.age = age\n",
    "        self.mouth = mouth\n",
    "        self.nose = nose\n",
    "        self.fur = fur\n",
    "\n",
    "    def __str__(self):\n",
    "        return \"Dog Class Object\"\n"
   ]
  },
  {
   "cell_type": "code",
   "execution_count": 39,
   "metadata": {},
   "outputs": [],
   "source": [
    "class Mouth:\n",
    "    \"\"\"\n",
    "    Class Mouth\n",
    "    \"\"\"\n",
    "    \n",
    "    def __init__(self, tongue, teeth):\n",
    "        self.teeth = teeth\n",
    "        self.tongue = tongue\n",
    "        \n",
    "    def __str__(self):\n",
    "        return \"Mouth Class Object\"\n"
   ]
  },
  {
   "cell_type": "code",
   "execution_count": 40,
   "metadata": {},
   "outputs": [],
   "source": [
    "class Tooth:\n",
    "    \"\"\"\n",
    "    Class Tooth\n",
    "    \"\"\"\n",
    "    \n",
    "    def __init__(self, color, caries):\n",
    "        self.color = color\n",
    "        self.caries = caries\n",
    "        \n",
    "    def __str__(self):\n",
    "        return \"Tooth Class Object\""
   ]
  },
  {
   "cell_type": "code",
   "execution_count": 41,
   "metadata": {},
   "outputs": [
    {
     "name": "stdout",
     "output_type": "stream",
     "text": [
      "Dog Class Object\n"
     ]
    }
   ],
   "source": [
    "# Create Tooth objects\n",
    "tooth1 = Tooth(color=\"white\", caries=False)\n",
    "tooth2 = Tooth(color=\"yellow\", caries=True)\n",
    "\n",
    "# Create Mouth object with the created Tooth objects\n",
    "mouth = Mouth(tongue=\"pink\", teeth=[tooth1, tooth2])\n",
    "\n",
    "# Create a Dog object with the created Mouth object\n",
    "dog = Dog(name=\"Buddy\", age=3, mouth=mouth, nose=\"black\", fur=\"brown\")\n",
    "\n",
    "print(dog)"
   ]
  },
  {
   "cell_type": "markdown",
   "metadata": {},
   "source": [
    "#### __3.3 Inheritance__\n",
    "**Inheritance** is the process by which one class takes on the attributes and methods of another. Newly formed classes are called **child** classes, and the classes that child classes are derived from are called **parent** classes. Child classes override or extend the functionality (e.g., attributes and behaviors) of parent classes. In other words, child classes **inherit** all of the **parent’s attributes** and **methods** but can also specify different functionalities to follow."
   ]
  },
  {
   "cell_type": "code",
   "execution_count": 42,
   "metadata": {},
   "outputs": [],
   "source": [
    "class Animal:\n",
    "    \"\"\"\n",
    "    Class Animal\n",
    "    \"\"\"\n",
    "\n",
    "    EATS = ['meat', 'plants']\n",
    "    \n",
    "    def __init__(self, name, age):\n",
    "        self.age = age\n",
    "        self.name = name\n",
    "    \n",
    "    def sleep(self):\n",
    "        print(\"I am sleeping\")\n",
    "\n",
    "    def __str__(self):\n",
    "        return \"Animal Class Object\""
   ]
  },
  {
   "cell_type": "code",
   "execution_count": 43,
   "metadata": {},
   "outputs": [],
   "source": [
    "class Dog(Animal):\n",
    "    \"\"\"\n",
    "    Class Dog\n",
    "    \"\"\"\n",
    "\n",
    "    def __init__(self, name, age, owner):\n",
    "        self.name = name\n",
    "        self.age = age\n",
    "        self.owner = owner\n",
    "    \n",
    "    def play(self):\n",
    "        print(\"Dog plays\")\n",
    "        \n",
    "    def __str__(self):\n",
    "        return \"Dog Class Object\""
   ]
  },
  {
   "cell_type": "code",
   "execution_count": 44,
   "metadata": {},
   "outputs": [],
   "source": [
    "class Cat(Animal):\n",
    "    \"\"\"\n",
    "    Class Cat\n",
    "    \"\"\"\n",
    "\n",
    "    def __init__(self, name, age):\n",
    "        self.name = name\n",
    "        self.age = age\n",
    "        \n",
    "\n",
    "    def scratch(self):\n",
    "        print(f\"{self.name} scratched the couch (again...)\")"
   ]
  },
  {
   "cell_type": "code",
   "execution_count": 45,
   "metadata": {},
   "outputs": [
    {
     "name": "stdout",
     "output_type": "stream",
     "text": [
      "Animal calling method:\n",
      "I am sleeping\n",
      "Dog calling method:\n",
      "I am sleeping\n",
      "I am sleeping\n"
     ]
    }
   ],
   "source": [
    "# initialize animal\n",
    "animal = Animal(name='Paul', age=99)\n",
    "\n",
    "# animal sleeps\n",
    "print('Animal calling method:')\n",
    "animal.sleep()\n",
    "\n",
    "# initialize dog\n",
    "dog = Dog(name='Lassie', age=5, owner='Marie')\n",
    "cat = Cat('Tigris', 3)\n",
    "# dog sleeps\n",
    "print('Dog calling method:')\n",
    "dog.sleep()\n",
    "cat.sleep()"
   ]
  },
  {
   "cell_type": "code",
   "execution_count": 46,
   "metadata": {},
   "outputs": [
    {
     "data": {
      "text/plain": [
       "['meat', 'plants']"
      ]
     },
     "execution_count": 46,
     "metadata": {},
     "output_type": "execute_result"
    }
   ],
   "source": [
    "# not only methods but also attributes from the parent class are inherited\n",
    "dog.EATS"
   ]
  },
  {
   "cell_type": "code",
   "execution_count": 47,
   "metadata": {},
   "outputs": [
    {
     "name": "stdout",
     "output_type": "stream",
     "text": [
      "Dog plays\n",
      "Tigris scratched the couch (again...)\n"
     ]
    },
    {
     "data": {
      "text/plain": [
       "'Marie'"
      ]
     },
     "execution_count": 47,
     "metadata": {},
     "output_type": "execute_result"
    }
   ],
   "source": [
    "# child class has specified additional attributes & methods which only dogs, but not all animals have\n",
    "dog.play()\n",
    "cat.scratch()\n",
    "dog.owner"
   ]
  },
  {
   "cell_type": "code",
   "execution_count": 48,
   "metadata": {},
   "outputs": [
    {
     "ename": "AttributeError",
     "evalue": "'Animal' object has no attribute 'play'",
     "output_type": "error",
     "traceback": [
      "\u001b[1;31m---------------------------------------------------------------------------\u001b[0m",
      "\u001b[1;31mAttributeError\u001b[0m                            Traceback (most recent call last)",
      "Cell \u001b[1;32mIn[48], line 1\u001b[0m\n\u001b[1;32m----> 1\u001b[0m \u001b[43manimal\u001b[49m\u001b[38;5;241;43m.\u001b[39;49m\u001b[43mplay\u001b[49m()\n",
      "\u001b[1;31mAttributeError\u001b[0m: 'Animal' object has no attribute 'play'"
     ]
    }
   ],
   "source": [
    "animal.play()"
   ]
  },
  {
   "cell_type": "markdown",
   "metadata": {},
   "source": [
    "Child classes can also call the constructor (\\__init\\__) of the parent class, so you do not have to define all initial attributes in the child classes constructor. The syntax is `ParentClass.\\__init\\__(self, ...)`."
   ]
  },
  {
   "cell_type": "code",
   "execution_count": 49,
   "metadata": {},
   "outputs": [
    {
     "data": {
      "text/plain": [
       "'Lassie'"
      ]
     },
     "execution_count": 49,
     "metadata": {},
     "output_type": "execute_result"
    }
   ],
   "source": [
    "class Dog(Animal):\n",
    "    \"\"\"\n",
    "    Class Dog\n",
    "    \"\"\"\n",
    "\n",
    "    def __init__(self, name, age, owner):\n",
    "        Animal.__init__(self, name, age)\n",
    "        self.owner = owner\n",
    "    \n",
    "    def play(self):\n",
    "        print(\"Dog plays\")\n",
    "        \n",
    "    def __str__(self):\n",
    "        return \"Dog Class Object\"\n",
    "\n",
    "\n",
    "\n",
    "dog = Dog(name='Lassie', age=5, owner='Marie')\n",
    "dog.name"
   ]
  },
  {
   "cell_type": "markdown",
   "metadata": {},
   "source": [
    "If you want to know if a **class** is **subclass** of another class, you can check this with the **function** `issubclass(subclass, class)`.\n",
    "\n",
    "If you want to know if an **object** is an **instance** of a certain class, you can check this with the **function** `isinstance(object, class)`.\n",
    "\n",
    "Let us check our classes and objects once. "
   ]
  },
  {
   "cell_type": "code",
   "execution_count": 50,
   "metadata": {},
   "outputs": [
    {
     "name": "stdout",
     "output_type": "stream",
     "text": [
      "True\n",
      "True\n"
     ]
    }
   ],
   "source": [
    "# print whether animal subclass of dog\n",
    "print(issubclass(Dog, Animal))\n",
    "# initialize dog\n",
    "dog = Dog(name=\"Sunny\", age=3, owner='Paul')\n",
    "\n",
    "# print whether dog instance of dog\n",
    "print(isinstance(dog, Dog))"
   ]
  },
  {
   "cell_type": "markdown",
   "metadata": {},
   "source": [
    "#### __3.4 Polymorphism__\n",
    "\n",
    "**Polymorphism** is the characteristic of being able to assign **different meanings** or **usages** to something in different contexts - specifically, to allow an entity such as a function, or an object to have more than one form. The term polymorphism literally means having **multiple forms**. In the context of object-oriented programming, polymorphism refers to the ability of an object to behave in **multiple ways**.\n",
    "\n",
    "Polymorphism is implemented via **method-overloading** and **method-overriding**.\n",
    "\n",
    "**Method overloading** refers to the ability that different **numbers of parameters** can be passed into a method by making some parameters **optional**. If more parameters are passed, the method gets overloaded, and also involves the optional parameters.\n",
    "\n",
    "**Method overriding**, on the other hand, refers to the **same method** being implemented in a **subclass** and in a **superclass**. This means that the name of the method remains the same. In this case, the method in the subclass overwrites the method in the superclass. \n",
    "\n",
    "Let us illustrate **method overriding** with our **example**. "
   ]
  },
  {
   "cell_type": "code",
   "execution_count": 51,
   "metadata": {},
   "outputs": [],
   "source": [
    "class Animal:\n",
    "    \"\"\"\n",
    "    Class Animal\n",
    "    \"\"\"\n",
    "    \n",
    "    SLEEPS = True\n",
    "    EATS = [\"Meat\", \"Plants\"]\n",
    "\n",
    "    def __init__(self, age, name=None):\n",
    "        self.age = age\n",
    "        self.name = name\n",
    "\n",
    "    def __str__(self):\n",
    "        return \"Animal Class Object\"\n",
    "    \n",
    "    def play(self):\n",
    "        print(\"Animal plays\")"
   ]
  },
  {
   "cell_type": "code",
   "execution_count": 52,
   "metadata": {},
   "outputs": [],
   "source": [
    "class Dog(Animal):\n",
    "    \"\"\"\n",
    "    Class Dog\n",
    "    \"\"\"\n",
    "    \n",
    "    EATS = [\"Meat\"]\n",
    "\n",
    "    def __init__(self, age, name):\n",
    "        Animal.__init__(self, age, name)\n",
    "\n",
    "    def __str__(self):\n",
    "        return \"Dog Class Object\"\n",
    "    \n",
    "    def play(self):\n",
    "        print(\"Dog plays\")\n",
    "\n",
    "        "
   ]
  },
  {
   "cell_type": "code",
   "execution_count": 53,
   "metadata": {},
   "outputs": [
    {
     "name": "stdout",
     "output_type": "stream",
     "text": [
      "Animal plays\n"
     ]
    }
   ],
   "source": [
    "# initialize animal\n",
    "animal = Animal(age=99)\n",
    "\n",
    "# play animal\n",
    "animal.play()"
   ]
  },
  {
   "cell_type": "code",
   "execution_count": 54,
   "metadata": {},
   "outputs": [
    {
     "name": "stdout",
     "output_type": "stream",
     "text": [
      "Dog plays\n"
     ]
    },
    {
     "data": {
      "text/plain": [
       "['Meat']"
      ]
     },
     "execution_count": 54,
     "metadata": {},
     "output_type": "execute_result"
    }
   ],
   "source": [
    "# initialize dog\n",
    "dog = Dog(name=\"Sunny\", age=3)\n",
    "\n",
    "# play dog\n",
    "\n",
    "dog.play()\n",
    "dog.EATS"
   ]
  },
  {
   "cell_type": "markdown",
   "metadata": {},
   "source": [
    "<div class=\"alert alert-block alert-info\">\n",
    "    <b>Exercise</b>: Create the classes animal and bird as parents of the class parrot. Define some attributes and methods in the appropriate classes and inherit them to your class parrot. \n",
    "</div>"
   ]
  },
  {
   "cell_type": "code",
   "execution_count": null,
   "id": "b738cb01",
   "metadata": {},
   "outputs": [],
   "source": [
    "class Parrot:\n",
    "    \"\"\"\n",
    "    Class Parrot\n",
    "    \"\"\"\n",
    "\n",
    "    MAX_WORDS = 5\n",
    "    \n",
    "    def __init__(self, name, age, words):\n",
    "        self.name = name\n",
    "        self.age = age\n",
    "        self.words = words\n",
    "\n",
    "    def __str__(self):\n",
    "        return \"Parrot Class Object\"\n",
    "        \n",
    "    def train_word(self, word):\n",
    "        if len(self.words) < Parrot.MAX_WORDS:\n",
    "            self.words.append(word)\n",
    "        else:\n",
    "            print('Maximum words are already reached.')\n",
    "        \n",
    "    def count_words(self):\n",
    "        return len(self.words)\n",
    "\n",
    "    def describe(self):\n",
    "        if len(self.words) == 0:\n",
    "            description = f'Parrot is called {self.name}, {self.age} years old and has not trained words yet'\n",
    "        else:\n",
    "            words = \" and \".join(self.words)\n",
    "            description = f'Parrot is called {self.name}, {self.age} years old and trained the words {words}.'\n",
    "        \n",
    "        return description"
   ]
  },
  {
   "cell_type": "code",
   "execution_count": null,
   "metadata": {},
   "outputs": [],
   "source": [
    "class Bird(Animal):\n",
    "    '''\n",
    "    Class Bird\n",
    "    '''\n",
    "    WINGS = True\n",
    "    def __init__(self,name,species):\n",
    "        Animal.__init__(self, name, species)\n",
    "    \n",
    "    def fly(self):\n",
    "        print(\"Bird flies\")\n",
    "\n",
    "    def picks(self):\n",
    "        print(\"Bird picks\")\n",
    "        \n",
    "    def __str__(self):\n",
    "        return \"Bird Class Object\""
   ]
  },
  {
   "cell_type": "code",
   "execution_count": null,
   "metadata": {},
   "outputs": [],
   "source": [
    "class Parrot(Bird):\n",
    "    \"\"\"\n",
    "    Class Parrot\n",
    "    \"\"\"\n",
    "    \n",
    "    def __init__(self, name, age, words):\n",
    "        Bird.__init__(self,age,name)\n",
    "        self.words = words\n",
    "\n",
    "    def __str__(self):\n",
    "        return \"Parrot Class Object\"\n",
    "        \n",
    "    def train_word(self, word):\n",
    "        if len(self.words) < Parrot.MAX_WORDS:\n",
    "            self.words.append(word)\n",
    "        else:\n",
    "            print('Maximum words are already reached.')\n",
    "        \n",
    "    def count_words(self):\n",
    "        return len(self.words)\n",
    "\n",
    "    def describe(self):\n",
    "        if len(self.words) == 0:\n",
    "            description = f'Parrot is called {self.name}, {self.age} years old and has not trained words yet'\n",
    "        else:\n",
    "            words = \" and \".join(self.words)\n",
    "            description = f'Parrot is called {self.name}, {self.age} years old and trained the words {words}.'\n",
    "        \n",
    "        return description"
   ]
  },
  {
   "cell_type": "markdown",
   "metadata": {},
   "source": [
    "## 4. Creating Tkinter apps\n"
   ]
  },
  {
   "cell_type": "markdown",
   "metadata": {},
   "source": [
    "Tkinter is a Python library that can be used to construct basic graphical user interface (GUI) applications. In Python, it is the most widely used module for GUI applications."
   ]
  },
  {
   "cell_type": "code",
   "execution_count": 57,
   "metadata": {},
   "outputs": [],
   "source": [
    "import tkinter as tk\n",
    "import pandas as pd\n"
   ]
  },
  {
   "cell_type": "code",
   "execution_count": 58,
   "metadata": {},
   "outputs": [],
   "source": [
    "# simple tkinter app\n",
    "window= tk.Tk()\n",
    "\n",
    "# set title\n",
    "window.title('ICSS example')\n",
    "\n",
    "# set size - width*height\n",
    "window.geometry('400x300')\n",
    "\n",
    "# should it be resizable?\n",
    "window.resizable(False, False)\n",
    "\n",
    "\n",
    "def callback():\n",
    "    #print('thanks')\n",
    "    label.config(text = 'thanks')\n",
    "    \n",
    "    \n",
    "    \n",
    "# frame to organize elements\n",
    "content = tk.Frame() # replace window with this\n",
    "\n",
    "# button to make the app interactive\n",
    "button = tk.Button(window, text='Click me', command=callback)\n",
    "button.pack()\n",
    "# or \n",
    "#button.grid(row=0, column=0)\n",
    "\n",
    "# label you change based on user actions\n",
    "label = tk.Label(window, text='Click the button')\n",
    "label.pack()\n",
    "\n",
    "\n",
    "\n"
   ]
  },
  {
   "cell_type": "code",
   "execution_count": 59,
   "metadata": {},
   "outputs": [],
   "source": [
    "# run tkinter app\n",
    "window.mainloop()"
   ]
  },
  {
   "cell_type": "markdown",
   "metadata": {},
   "source": [
    "Other helpful Tkinter methods:\n",
    "\n",
    "- `tk.Message`: to display messages in a Tkinter app window\n",
    "- `lable.grid ` : to align the elements within the window using a grid. This is not visible, this is more a hidden way of structuring thigs. There are also other wys of organizing content in a window. Feel free to check the documentation for these. \n",
    "- `tk.Intvar` : to construct an integer variable\n",
    "\n",
    "- `tk.Checkbutton` : to Construct a checkbutton widget\n",
    "\n",
    "- `tk.Text`: to construct a text widget"
   ]
  },
  {
   "cell_type": "code",
   "execution_count": 60,
   "id": "1c020a67",
   "metadata": {},
   "outputs": [],
   "source": [
    "class TkinterTesting():\n",
    "\n",
    "    \"\"\"\n",
    "    This class is used to test the Tkinter library in Python.\n",
    "\n",
    "    Attributes\n",
    "    ----------\n",
    "    title : str\n",
    "        title of show in the Interface\n",
    "    geometry: str\n",
    "        size of the window\n",
    "\n",
    "    Methods\n",
    "    -------\n",
    "    __init__()\n",
    "        Initializes the TkinterTesting class.\n",
    "    setup()\n",
    "        builds the window and content of the interface\n",
    "\n",
    "    \"\"\"\n",
    "\n",
    "    def __init__(self, title, geometry = '400x300'):\n",
    "\n",
    "        self.title = title\n",
    "        self.geometry = geometry\n",
    "\n",
    "    def setup(self):\n",
    "\n",
    "        window = tk.Tk()\n",
    "\n",
    "        window.title(self.title)\n",
    "        window.geometry(self.geometry)\n",
    "\n",
    "\n",
    "        window.resizable(False, False)\n",
    "\n",
    "        def callback():\n",
    "\n",
    "            label.config(text = 'Thank You!')\n",
    "\n",
    "        content = tk.Frame() # replace window with this\n",
    "\n",
    "        # button to make the app interactive\n",
    "        button = tk.Button(window, text='Click me', command=callback)\n",
    "        button.pack()\n",
    "        # or \n",
    "        #button.grid(row=0, column=0)\n",
    "\n",
    "        # label you change based on user actions\n",
    "        label = tk.Label(window, text='Click the button')\n",
    "        label.pack()   \n",
    "\n",
    "\n",
    "        window.mainloop()         \n"
   ]
  },
  {
   "cell_type": "code",
   "execution_count": 61,
   "id": "aad3c57a",
   "metadata": {},
   "outputs": [],
   "source": [
    "test = TkinterTesting('Tkinter App example')\n",
    "test.setup()"
   ]
  },
  {
   "cell_type": "code",
   "execution_count": 62,
   "metadata": {},
   "outputs": [],
   "source": [
    "class TkinterTestingExtended():\n",
    "    \"\"\"\n",
    "    A class to create a game interface using Tkinter to match countries with their respective continents.\n",
    "\n",
    "    Attributes\n",
    "    ----------\n",
    "    title : str\n",
    "        the title of the window.\n",
    "    geometry : str, optional\n",
    "        The size of the window in the format 'widthxheight'\n",
    "    input_file_name : str\n",
    "        the name of the input file containing the data.\n",
    "\n",
    "    Methods\n",
    "    -------\n",
    "    __init__(title, input_file_name, geometry='500x400'):\n",
    "        Initializes the class with a title, file name, and optional window size.\n",
    "    load_data():\n",
    "        loads the data from the specified file into a df.\n",
    "    next_country():\n",
    "        selects a random country from the data and updates the interface to display it.\n",
    "    setup():\n",
    "        Sets up the window and initializes the user interface elements.\n",
    "    start_game():\n",
    "        initializes the game interface with continent selection buttons and starts the game loop.\n",
    "\n",
    "    \"\"\"\n",
    "\n",
    "    def __init__(self, title, input_file_name, geometry='500x400'):\n",
    "        self.title = title\n",
    "        self.geometry = geometry\n",
    "        self.input_file_name = input_file_name\n",
    "\n",
    "    def load_data(self):\n",
    "        self.input_file = pd.read_csv(self.input_file_name, encoding='unicode_escape')\n",
    "        \n",
    "\n",
    "    def next_country(self):\n",
    "\n",
    "        self.get_started_button.destroy()\n",
    "\n",
    "        random_row = self.input_file.sample(n=1).iloc[0]\n",
    "\n",
    "        self.country_text = random_row['Country/Territory']\n",
    "        self.country.config(text = f'{self.country_text}')\n",
    "\n",
    "        self.current_continent = random_row['Continent']\n",
    "\n",
    "        self.label.config(text='On which contintent can you find this country?')\n",
    "\n",
    "\n",
    "    def setup(self):\n",
    "\n",
    "        self.window = tk.Tk()\n",
    "        self.window.title(self.title)\n",
    "        self.window.geometry(self.geometry)\n",
    "        self.window.resizable(True, True)\n",
    "\n",
    "        self.load_data()\n",
    "\n",
    "        self.country = tk.Label(self.window, text = '', wraplength=700, anchor= 'center') # these parameters avoid that the text is wrapped/ split in the interface\n",
    "        self.country.pack(side=tk.TOP, pady=10)\n",
    "\n",
    "        self.label = tk.Label(self.window, text='Press the \"Get Started Button\" to assign Countries to Continents')\n",
    "        self.label.pack(side=tk.TOP, pady=10)\n",
    "\n",
    "        self.get_started_button = tk.Button(self.window, text='Get Started', command=self.start_game)\n",
    "        self.get_started_button.pack()\n",
    "\n",
    "        self.window.mainloop()\n",
    "\n",
    "\n",
    "    def start_game(self):\n",
    "\n",
    "        self.get_started_button.destroy()\n",
    "\n",
    "        \n",
    "        button_frame = tk.Frame(self.window)\n",
    "        button_frame.pack(side=tk.TOP, pady=10)  # pady includes a space of 10 screenunits around the element in the y axis\n",
    "\n",
    "        def callback(continent):\n",
    "\n",
    "            if continent == self.current_continent:\n",
    "                self.label.config(text='Correct!')\n",
    "\n",
    "            else:\n",
    "                self.label.config(text='Incorrect')\n",
    "        \n",
    "\n",
    "        asia = tk.Button(button_frame, text='Asia', command=lambda: callback('Asia'))\n",
    "        europe = tk.Button(button_frame, text='Europe', command=lambda: callback('Europe'))\n",
    "        africa = tk.Button(button_frame, text='Africa', command=lambda: callback('Africa'))\n",
    "        oceania = tk.Button(button_frame, text='Oceania', command=lambda: callback('Oceania'))\n",
    "        north_am = tk.Button(button_frame, text='North America', command=lambda: callback('North America'))\n",
    "        south_am = tk.Button(button_frame, text='South America', command=lambda: callback('South America'))\n",
    "\n",
    "        next = tk.Button(self.window, text = 'Next Country', command = self.next_country)\n",
    "\n",
    "\n",
    "        asia.pack(side=tk.LEFT, padx=5)\n",
    "        europe.pack(side=tk.LEFT, padx=5)\n",
    "        africa.pack(side=tk.LEFT, padx=5)\n",
    "        oceania.pack(side=tk.LEFT, padx=5)\n",
    "        north_am.pack(side=tk.LEFT, padx=5)\n",
    "        south_am.pack(side=tk.LEFT, padx=5)\n",
    "\n",
    "        next.pack(pady=10)\n",
    "\n",
    "        self.next_country()\n",
    "\n"
   ]
  },
  {
   "cell_type": "code",
   "execution_count": 63,
   "metadata": {},
   "outputs": [],
   "source": [
    "test = TkinterTestingExtended('Tkinter App example', 'countries-continents-capitals.csv')\n",
    "test.setup()"
   ]
  },
  {
   "cell_type": "markdown",
   "id": "4e6d6d52",
   "metadata": {},
   "source": [
    "<div class=\"alert alert-block alert-info\">\n",
    "    <b>Exercise</b>: Change this class to include 2 counters. One counting how many countries you have already guessed and another counting how many of these have been guessed correctly.\n",
    "</div>"
   ]
  },
  {
   "cell_type": "code",
   "execution_count": 155,
   "id": "8d453e2f",
   "metadata": {},
   "outputs": [],
   "source": []
  },
  {
   "cell_type": "code",
   "execution_count": 154,
   "id": "f376681d",
   "metadata": {},
   "outputs": [],
   "source": [
    "test = TkinterTestingExtended('Tkinter App example', 'countries-continents-capitals.csv')\n",
    "test.setup()"
   ]
  },
  {
   "cell_type": "markdown",
   "id": "15bff067",
   "metadata": {},
   "source": [
    "<h3> 5 Exception handeling </h3>\n",
    "\n",
    "\n",
    "*adapted from: Prof. Dr. Karsten Donnay, Stefan Scholz (see the [github repo](https://github.com/stefan-scholz/python-block-course-2019)) and from the lectures of András Fülöp (see the [github repo](https://github.com/fulibacsi/notebooks/tree/master/lectures/python101))*"
   ]
  },
  {
   "cell_type": "markdown",
   "id": "2b3257d3",
   "metadata": {},
   "source": [
    "Until now you have probably strumbled across several **error messages** when you wrote Python code. In general, these error messages are divided into two categories: \n",
    "\n",
    "- First, there are **syntax errors**, which indicate that at some point in your code you used an **invalid command**, e.g. you forgot an indent or wrote a colon too much. The interpreter checks for these syntax errors before you code is actually executed. But we do not want to go into detail here. \n",
    "- Instead, we want to discuss the second category of error messages. These error messages are problems which the interpreter encounters when it actually executes your code. These errors are also called **exceptions**. By default, they are **fatal** and stop your program immediately when the exception occurs. \n",
    "\n",
    "In the following is a list of common exceptions: "
   ]
  },
  {
   "cell_type": "markdown",
   "id": "ca8ed1f9",
   "metadata": {},
   "source": [
    "| Exception | Cause |\n",
    "| -------- | ------- |\n",
    "| Attribute Error | Raised when attribute assignment or reference fails |\n",
    "| Import Error | Raised when the imported module is not found |\n",
    "| Index Error | Raised when index of a sequence is out of range |\n",
    "| KeyError | Raised when a key is not found in a dictionary | \n",
    "| Keyboard Interrupt | Raised when the user hits interrupt key(Ctrl + C or Delete) |\n",
    "| Memory Error | Raised when an operation runs out of memory | \n",
    "| Name Error | Raised when a variable is not found in local or global scope | \n",
    "| Syntax Error | Raised by parser when syntax error is encountered |\n",
    "| IndentationError | Raised when there is incorrect indentation | \n",
    "| Type Error | Raised when a function or operation is applied to an object of incorrect type | \n",
    "| Value Error | Raised when a function gets argument of correct type but improper value |\n",
    "| Zero Division Error | Raised when second operand of division or modulo operation is zero |"
   ]
  },
  {
   "cell_type": "markdown",
   "id": "2db9a527",
   "metadata": {},
   "source": [
    "If you are working with data streams, e.g. from websites and APIs, it is advisable that you take certain **errors** into **account** such that not the whole program aborts because of an **unimportant detail** in the data stream. Besides the data stream itself, there is an endless number of potential causes for errors. \n",
    "\n",
    "In these cases, we wrap our code with a `try` **statement**, and catch a possible **exception** with an `except` statement. You can also catch **multiple exceptions** at the same time by adding underneath more `except` statements. If you want to have the respective **message** of the exception available in the `exception` block give it a **variable name**, like in the `with` statement. If you use a `finally` **statement** at the end of your `try` statement, the **clause** inside the `finally` statement will be **executed last**, whether or not the `try` statement raised an exception. \n",
    "\n",
    "Let us **catch** some trivial **exceptions**. "
   ]
  },
  {
   "cell_type": "code",
   "execution_count": null,
   "id": "cb5c3b7d",
   "metadata": {},
   "outputs": [
    {
     "ename": "NameError",
     "evalue": "name 'w' is not defined",
     "output_type": "error",
     "traceback": [
      "\u001b[1;31m---------------------------------------------------------------------------\u001b[0m\n",
      "\u001b[1;31mNameError\u001b[0m                                 Traceback (most recent call last)\n",
      "Cell \u001b[1;32mIn[61], line 2\u001b[0m\n",
      "\u001b[0;32m      1\u001b[0m \u001b[38;5;66;03m# error prone code\u001b[39;00m\n",
      "\u001b[1;32m----> 2\u001b[0m size \u001b[38;5;241m=\u001b[39m \u001b[38;5;28mlen\u001b[39m(w)\n",
      "\n",
      "\u001b[1;31mNameError\u001b[0m: name 'w' is not defined"
     ]
    }
   ],
   "source": [
    "# error prone code\n",
    "size = len(w)"
   ]
  },
  {
   "cell_type": "code",
   "execution_count": null,
   "id": "74eb9b53",
   "metadata": {},
   "outputs": [
    {
     "name": "stdout",
     "output_type": "stream",
     "text": [
      "Got error: name 'x' is not defined\n"
     ]
    }
   ],
   "source": [
    "try:\n",
    "    # error prone code\n",
    "    size = len(x)\n",
    "except NameError as e:\n",
    "    # report name error\n",
    "    print(f\"Got error: {e}\")"
   ]
  },
  {
   "cell_type": "code",
   "execution_count": null,
   "id": "4cdc5d01",
   "metadata": {},
   "outputs": [
    {
     "name": "stdout",
     "output_type": "stream",
     "text": [
      "Got type error: object of type 'int' has no len()\n"
     ]
    }
   ],
   "source": [
    "try: \n",
    "    # error prone code\n",
    "    y = 12\n",
    "    size = len(y)\n",
    "except NameError as e:\n",
    "    # report name error\n",
    "    print(f\"Got name error: {e}\")\n",
    "except TypeError as e:\n",
    "    # report type error\n",
    "    print(f\"Got type error: {e}\")"
   ]
  },
  {
   "cell_type": "code",
   "execution_count": null,
   "id": "15f03acd",
   "metadata": {},
   "outputs": [
    {
     "name": "stdout",
     "output_type": "stream",
     "text": [
      "Got name error: name 'z' is not defined\n",
      "Finished try block\n"
     ]
    }
   ],
   "source": [
    "try: \n",
    "    # error prone code\n",
    "    size = len(z)\n",
    "except NameError as e:\n",
    "    # report name error\n",
    "    print(f\"Got name error: {e}\")\n",
    "except TypeError as e:\n",
    "    # report type error\n",
    "    print(f\"Got type error: {e}\")\n",
    "finally:\n",
    "    # report finished block\n",
    "    print(\"Finished try block\")"
   ]
  },
  {
   "cell_type": "markdown",
   "id": "6eb49a0d",
   "metadata": {},
   "source": [
    "Please keep in mind, however, that you should not **abuse** `try` statements to make **poor code** run, but only to deal with **unavoidable problems**. This is also the reason why we have not introduced exception handling earlier on. "
   ]
  }
 ],
 "metadata": {
  "kernelspec": {
   "display_name": "Python 3",
   "language": "python",
   "name": "python3"
  },
  "language_info": {
   "codemirror_mode": {
    "name": "ipython",
    "version": 3
   },
   "file_extension": ".py",
   "mimetype": "text/x-python",
   "name": "python",
   "nbconvert_exporter": "python",
   "pygments_lexer": "ipython3",
   "version": "3.13.0"
  }
 },
 "nbformat": 4,
 "nbformat_minor": 5
}
