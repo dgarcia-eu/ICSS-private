{
 "cells": [
  {
   "cell_type": "markdown",
   "metadata": {},
   "source": [
    "## Detailed description of how to connect to a Virtual Machine using Google Cloud\n",
    "\n"
   ]
  },
  {
   "cell_type": "markdown",
   "metadata": {},
   "source": [
    "1. Login\n",
    "2. crate a new project\n",
    "\n",
    "3. naviagte to Compute Engine --> VM Instance\n",
    "\n",
    "![](images/vm_instance.png)\n",
    "\n",
    "Create a new instance\n",
    "\n",
    "\n",
    "\n",
    "\n",
    "\n",
    "\n",
    "\n",
    "\n"
   ]
  },
  {
   "cell_type": "markdown",
   "metadata": {},
   "source": [
    "4. Detailed steps to check, when creating a new instance:\n",
    "\n",
    "#### machine configuration\n",
    "\n",
    "![](images/machine_config.png)\n",
    "\n",
    "and set machine type to e2.micro\n",
    "\n",
    "\n",
    "![](images/instance_machine_type.png)\n",
    "\n",
    "#### OS and Storage\n",
    "\n",
    "- boot disk --> click \"change\"\n",
    "- Change operating System to Ubuntu and the version to either <span style=\"color:red\">Ubuntu 22.04 LTS or Ubuntu 22.04 Minimal</span>\n",
    "\n",
    "\n",
    "![](images/instance_change.png)\n",
    "\n",
    "#### Networking\n",
    "\n",
    "- Firewall\n",
    "-   enable HTTP and HTTPS traffic\n",
    "\n",
    "#### Security\n",
    "\n",
    "- There click on *manage access* and then *Add item*\n",
    "\n",
    "![](images/add_item.png)"
   ]
  },
  {
   "cell_type": "markdown",
   "metadata": {},
   "source": [
    "### How to get the ssh key via the terminal\n",
    "\n",
    "\n",
    "- navigate to your .ssh folder \n",
    "\n",
    "- command : cat key_file_name.pub\n",
    "\n",
    "\n",
    "- copy key and paste it into the field in google cloud\n",
    "\n",
    "Finally, you can create the instance!\n",
    "\n",
    "\n",
    "\n",
    "\n"
   ]
  },
  {
   "cell_type": "markdown",
   "metadata": {},
   "source": [
    "#### Once your instance is created:\n",
    "\n",
    "in your terminal, connect to your server by typing\n",
    "\n",
    "    ssh username@external_ip_adress\n",
    "\n",
    "\n",
    "From there you can follow the commands from the remote connection cheatsheet. Once all commands are executed, continue here:"
   ]
  },
  {
   "cell_type": "markdown",
   "metadata": {},
   "source": [
    "Open a browser, navigate to localhost:5001 and sign in using the token (see \n",
    "terminal, simply copy paste, \n",
    "e.g. “http://localhost:5000/?token=05c1a785c30b46532618a”). \n",
    "\n",
    "\n",
    "Congratulations! You can now code in jupyter notebook, running on the external server"
   ]
  },
  {
   "cell_type": "markdown",
   "metadata": {},
   "source": [
    "### Important: Stop your instance after you are done working on it!\n"
   ]
  },
  {
   "cell_type": "markdown",
   "metadata": {},
   "source": []
  }
 ],
 "metadata": {
  "language_info": {
   "name": "python"
  }
 },
 "nbformat": 4,
 "nbformat_minor": 2
}
