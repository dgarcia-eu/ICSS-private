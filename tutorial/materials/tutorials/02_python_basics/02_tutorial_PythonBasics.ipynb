{
 "cells": [
  {
   "cell_type": "markdown",
   "id": "d1236a08",
   "metadata": {},
   "source": [
    "<div style=\"text-align: center;\" >\n",
    "<h1 style=\"margin-top: 0.2em; margin-bottom: 0.1em;\">Python and Basics in Python</h1>\n",
    "<h4 style=\"margin-top: 0.7em; margin-bottom: 0.3em; font-style:italic\">The full Python Basics Notebook.</h4>\n",
    "</div>\n",
    "<br>\n",
    "\n",
    "*partly adapted from: Prof. Dr. Karsten Donnay, Stefan Scholz (see the [github repo](https://github.com/stefan-scholz/python-block-course-2019))*"
   ]
  },
  {
   "cell_type": "markdown",
   "id": "c05b579f",
   "metadata": {},
   "source": [
    "### __Structure__\n",
    "\n",
    "1. What is Python and Why Python?\n",
    "\n",
    "\n",
    "2. Where Python?\n",
    "\n",
    "\n",
    "3. How to write Python Code?\n",
    "    \n",
    "    Style Guidelines\n",
    "\n",
    "\n",
    "4. Data Structures in Python\n",
    "    \n",
    "    4.1 Primitive Data Types in Python\n",
    "    \n",
    "    4.2 Type Conversions in Python\n",
    "    \n",
    "    4.3 Abstract Data Structures in Python\n",
    "    \n",
    "    \n",
    "5. Advanced Techniques\n",
    "    \n",
    "    5.1 Functions\n",
    "    \n",
    "    5.2 Loops and Control Flow\n",
    "    \n",
    "    5.3 Methods\n",
    "    \n",
    "    5.4 List Comprehension\n",
    "    \n",
    "    5.5 Lambda Functions\n",
    "    \n"
   ]
  },
  {
   "cell_type": "markdown",
   "id": "8031945a",
   "metadata": {},
   "source": [
    "### __1. What is Python and Why Python?__\n",
    "\n",
    "Advantages of Python:\n",
    "- Fast to learn\n",
    "- Easy to write and read code\n",
    "    - High level language that highly abstracts from the assembly language by the CPU\n",
    "    - Automatically manages memory and type declarations for the user\n",
    "    - Formatting/indentations of the code have a meaning \n",
    "- Flexible\n",
    "    - Widely used in Data Science and Statistical Learning\n",
    "- Extensive library support \n",
    "- Uses an Interpreter\n",
    "    - Can be used as a calculator\n",
    "- Allows for Object Oriented Programming and functional programming"
   ]
  },
  {
   "cell_type": "markdown",
   "id": "0b6aad76",
   "metadata": {},
   "source": [
    "### __2. Where Python?__\n",
    "\n",
    "Of course, you could also write (Python) code in text editor programms (not Microsoft Word, but i.e. Sublime Text, Notepad++ or Atom) and later run in with an exteral compiler. This, however, is not really recommended as you can't check or debug the code by running/executing it immediately, while working on it. \n",
    "\n",
    "You should, rather, use an IDE (Integrated Development Environment) which has an integrated compiler that executes your code. By highlighting and formatting the written code, IDEs further support you coding.\n",
    "\n",
    "![title](source/Differences_TextEditor_IDE.png)\n",
    "\n",
    "IDE's you could use are:\n",
    "- Visual Studio Code\n",
    "    - Intelligent Code Editor (one of the most popular ones)\n",
    "    - Built-In Developer Tools\n",
    "    - Provides debugging and git support\n",
    "    - Lightweight with options to extend it\n",
    "    - Supports almost every major programming language\n",
    "    - Download and Install: [here](https://code.visualstudio.com/)\n",
    "\n",
    "\n",
    "- PyCharm\n",
    "    - Intelligent Code Editor\n",
    "    - Built-In Developer Tools\n",
    "    - Cross-Platform Support\n",
    "    - Provides nice Oython Courses in the Educational Edition\n",
    "    - Free Student Licenses for Professional Edition\n",
    "    - Download and Install: [here](https://www.jetbrains.com/pycharm/)\n",
    "    \n",
    "    \n",
    "- Jupyter Notebook (what you are looking at, right now)\n",
    "    - Interactive IDE in Web Application \n",
    "    - Sharable Notebooks (containing Code, Visualizations, Text)\n",
    "    - Free and Open Source\n",
    "    - Supports over 40 Programming Languages\n",
    "    - Download and Install: [here](https://jupyter.org/install)"
   ]
  },
  {
   "cell_type": "markdown",
   "id": "f36ce12d",
   "metadata": {},
   "source": [
    "### __3. How to write Python Code?__\n",
    "\n",
    "Within such IDE's the code is structured in boxes, the cells. \n",
    "When running a code-snippet (by pressing the \"Play\" button or \"Shift\" + \"Enter\") the whole cell is executed and the result printed below. \n",
    "This way, you can immediately check, and eventually adapt, you code. \n",
    "\n",
    "You can use Python just like a usual calculator with the operators `+`, `-`, `*`, `/`  and parentheses `()`. \n",
    "For some operations there are special commands, i.e. power is `**`.\n",
    "\n",
    "Although it might seem unneccessary in some situations, it is good practice to wirte comments in you code. \n",
    "A comment always starts with a hashtag `#`.\n",
    "\n",
    "**For example:** \n",
    "- What is the result of $\\sqrt{5-3}$?"
   ]
  },
  {
   "cell_type": "code",
   "execution_count": 1,
   "id": "84284bd3",
   "metadata": {},
   "outputs": [
    {
     "data": {
      "text/plain": [
       "1.4142135623730951"
      ]
     },
     "execution_count": 1,
     "metadata": {},
     "output_type": "execute_result"
    }
   ],
   "source": [
    "# Calculate result \n",
    "(5-3) ** (1/2)"
   ]
  },
  {
   "cell_type": "markdown",
   "id": "b2752354",
   "metadata": {},
   "source": [
    "Apart from the basic arithmetic operators there are many functions in Python.\n",
    "Functions are indicated by round brackets, apperaring after the functions name.\n",
    "The functions inputs (if required) are handed over within the brackets. \n",
    "\n",
    "While there are built-in functions in Python you can of course also define your own functions. \n",
    "But more on that later.\n",
    "\n",
    "For now, we are going to look at some very basic functions, i.e the `print()` function.\n",
    "Above, we saw that Python prints the output of a cell below the cell. \n",
    "But have a look at the following:"
   ]
  },
  {
   "cell_type": "code",
   "execution_count": 2,
   "id": "9e2466d1",
   "metadata": {},
   "outputs": [
    {
     "data": {
      "text/plain": [
       "4"
      ]
     },
     "execution_count": 2,
     "metadata": {},
     "output_type": "execute_result"
    }
   ],
   "source": [
    "# Calculate first result \n",
    "(5-3) ** (1/2)\n",
    "\n",
    "# Calculate second result \n",
    "(5-3) ** (2)"
   ]
  },
  {
   "cell_type": "markdown",
   "id": "16119d4b",
   "metadata": {},
   "source": [
    "Apparently, only the output from the last line of code is printed. \n",
    "If you want to force Python to print both outputs, you need the `print()` function and hand over the input:"
   ]
  },
  {
   "cell_type": "code",
   "execution_count": 3,
   "id": "d78eb81c",
   "metadata": {},
   "outputs": [
    {
     "name": "stdout",
     "output_type": "stream",
     "text": [
      "1.4142135623730951\n",
      "4\n"
     ]
    }
   ],
   "source": [
    "# Calculate and print first result \n",
    "print((5-3) ** (1/2))\n",
    "\n",
    "# Calculate and print second result \n",
    "print((5-3) ** (2))"
   ]
  },
  {
   "cell_type": "markdown",
   "id": "1abaced6",
   "metadata": {},
   "source": [
    "Now, we get both results printed out (note that its not necessary, but also not harmful to add print() on the second (last) calculation).\n",
    "\n",
    "However, the print-function can do more than simply prompting the result.\n",
    "You can also format numbers (i.e. to round them to a certain digit) or combine text with calculated numbers:"
   ]
  },
  {
   "cell_type": "code",
   "execution_count": 8,
   "id": "1939a595",
   "metadata": {},
   "outputs": [
    {
     "name": "stdout",
     "output_type": "stream",
     "text": [
      "The first result (no rounding) is: 1.4142135623730951\n",
      "The first result (rounded) is: 1.41\n",
      "The second result is:  4\n"
     ]
    }
   ],
   "source": [
    "# Calculate, print and format first result \n",
    "\n",
    "print(\"The first result (no rounding) is: {}\".format((5-3)**(1/2)))\n",
    "print(\"The first result (rounded) is: {:.2f}\".format((5-3)**(1/2)))\n",
    "\n",
    "# Calculate and print second result \n",
    "print(\"The second result is: \", (5-3) ** (2))"
   ]
  },
  {
   "cell_type": "markdown",
   "id": "7d72456f",
   "metadata": {},
   "source": [
    "Another helpfull function is the `help()` function. \n",
    "Typing it around another function gives you an explanation of what the function does, which inputs it takes and what it returns, i.e. `help(print)`.\n",
    "Or you just google stuff ;)\n",
    "\n",
    "Other useful functions you might need:\n",
    "\n",
    "| Function | Purpose |\n",
    "| -------- | ------- |\n",
    "| `abs()` | absolute value of the argument |\n",
    "| `dir()` | list of arguments and methods |\n",
    "| `len()` | number of items in a container |\n",
    "| `max()` | with a single iterable argument, return its biggest item |\n",
    "| `min()` | With a single iterable argument, return its smallest item |\n",
    "| `open()` | open file and return a stream |\n",
    "| `range()` | produces a sequence of integers from start (inclusive) to stop (exclusive) by step |\n",
    "| `round()` | round a number to a given precision in decimal digits (default 0 digits) |\n",
    "| `sorted()` | new list containing all items from the iterable in ascending order |\n",
    "| `sum()` | sum of iterable of numbers|\n",
    "| `type()` | objects type |\n",
    "| `zip()` | tuple where the i-th element comes from the i-th iterable argument |\n",
    "\n",
    "For a complete list of functions, please have a look at the [Python documentation](https://docs.python.org/3/library/functions.html)."
   ]
  },
  {
   "cell_type": "markdown",
   "id": "f30ac80f",
   "metadata": {},
   "source": [
    "As you code becomes more and more complex, it might be helpful to store numbers as variables, which you can reuse and recall from different point in your code. \n",
    "Variable names can be any combination of letters, underscores and numbers, but they can't start with a number. \n",
    "For readability, you usually use lower case letters and underscores to separate words.\n",
    "The equal sign `=` is used to assign the variable name to a number. \n",
    "\n",
    "A basic example would be:"
   ]
  },
  {
   "cell_type": "code",
   "execution_count": 10,
   "id": "2fdcd394",
   "metadata": {},
   "outputs": [
    {
     "name": "stdout",
     "output_type": "stream",
     "text": [
      "1.4142135623730951\n"
     ]
    }
   ],
   "source": [
    "# define variables\n",
    "base = 5 - 3\n",
    "exponent = 1 / 2\n",
    "\n",
    "# calculate result\n",
    "result = base ** exponent\n",
    "\n",
    "# print result\n",
    "print(result)"
   ]
  },
  {
   "cell_type": "markdown",
   "id": "1c199245",
   "metadata": {},
   "source": [
    "<div class=\"alert alert-block alert-info\">\n",
    "    <b>Exercise 1 </b>: Compute the sum and average of all integers from 0 to 1,000. Use variables for intermediate results. Print your results\n",
    "</div>"
   ]
  },
  {
   "cell_type": "code",
   "execution_count": 8,
   "id": "c9f832c5",
   "metadata": {},
   "outputs": [],
   "source": [
    "# Let's get active:\n",
    "\n",
    "print(1+1)  # ignore please... its a github error test"
   ]
  },
  {
   "cell_type": "markdown",
   "id": "d49248c1",
   "metadata": {},
   "source": [
    "<div class=\"alert alert-block alert-info\">\n",
    "    <b>Exercise 2</b>: Compute the following. Store your results in a variables named a1 and a2 and print your results.\n",
    "    <br>1. (2<sup>3</sup> + 3<sup>2</sup>) / 2\n",
    "    <br>2. (3<sup>2</sup> - 2<sup>4</sup>)<sup>2</sup>\n",
    "</div>"
   ]
  },
  {
   "cell_type": "code",
   "execution_count": 7,
   "id": "7453fe11",
   "metadata": {},
   "outputs": [],
   "source": [
    "# Let's get active:\n",
    "\n"
   ]
  },
  {
   "cell_type": "markdown",
   "id": "13abd6c9",
   "metadata": {},
   "source": [
    "While you are generally free in choosing your variable names, there are a few keywords, which have a fixed meaning for the Python interpreter and can therefore not be used as variable names:"
   ]
  },
  {
   "cell_type": "code",
   "execution_count": 6,
   "id": "b2f48666",
   "metadata": {},
   "outputs": [
    {
     "name": "stdout",
     "output_type": "stream",
     "text": [
      "['False', 'None', 'True', '__peg_parser__', 'and', 'as', 'assert', 'async', 'await', 'break', 'class', 'continue', 'def', 'del', 'elif', 'else', 'except', 'finally', 'for', 'from', 'global', 'if', 'import', 'in', 'is', 'lambda', 'nonlocal', 'not', 'or', 'pass', 'raise', 'return', 'try', 'while', 'with', 'yield']\n"
     ]
    }
   ],
   "source": [
    "import keyword\n",
    "\n",
    "# print keywords occupied by interpreter\n",
    "print(keyword.kwlist)"
   ]
  },
  {
   "cell_type": "markdown",
   "id": "d7ad1a54",
   "metadata": {},
   "source": [
    "**Style Guidlines**\n",
    "\n",
    "- Use lower case letters (only) for variable function names and add underscoreds for readability\n",
    "    - i.e. my_function()\n",
    "    - round_no, personal_id\n",
    "- Comment your code (to explain what you are doing)\n",
    "    - use '#' to add a comment to a line (enerything behind the '#' will not be evaluated\n",
    "- When defining functions yourself (see later), these should have a header/description\n",
    "    - See 5.1 Functions in this notebook"
   ]
  },
  {
   "cell_type": "markdown",
   "id": "fa84c14d",
   "metadata": {},
   "source": [
    "### __4. Data Structures in Python__\n",
    "\n",
    "In Python, every variable we assign has a certain data type/structure. \n",
    "\n",
    "\n",
    "> **Data structures** are a way of organizing and storing data so that they can be accessed and worked with efficiently. They define the *relationship between the data*, and the *operations* that can be performed on the data ([Source](https://www.datacamp.com/tutorial/data-structures-python)).\n",
    "\n",
    "![title](source/Python_Data_Structures.png)\n",
    "\n",
    "\n",
    "There are two kinds of data types/structures, primitive and non-primitive ones. \n",
    "- **Primitive data structures**\n",
    "    - simplest form of representing data\n",
    "    - contain pure, simple values\n",
    "    - in general, the different primitive data types are: ![title](source/Primitive_Data_Types.png)\n",
    "    - however, Python only distinguishes:\n",
    "        - Boolean\n",
    "        - Integer\n",
    "        - Float\n",
    "        - String\n",
    "\n",
    "\n",
    "\n",
    "- **Non-primitive (abstract) data structures**\n",
    "    - more advanced/complex structures to serve special purposes\n",
    "    - within these structures, they contain primitive data types\n",
    "    - in Python the abstract data types are\n",
    "        - List (linear vs. non-linear)\n",
    "        - Array\n",
    "        - Dictionary\n",
    "        - Tuples\n",
    "        - Set\n",
    "        - File\n"
   ]
  },
  {
   "cell_type": "markdown",
   "id": "3aaa02db",
   "metadata": {},
   "source": [
    "### __4.1 Primitive Data Types in Python__\n",
    "\n",
    "Python features four basic variable types, namely booleans, numbers, strings and colections. \n",
    "\n",
    "These variables are assigned by using the \"=\" operator. It is even possible to assign multiple variables at once \n",
    "\n",
    "> i.e. \n",
    "> - ``x = 1; y = \"a\"; z = [1, \"a\"]``\n",
    "> - ``x, y, z = 1, \"a\", [1, \"a\"]``\n",
    "> - ``x = y = z = 1``\n",
    "\n",
    "*Note:* In Python you don't have to explicitly declare the data type when initializing a variable. Python dynamically/automatically assigns the correct storage type (other than i.e. Java).  \n"
   ]
  },
  {
   "cell_type": "code",
   "execution_count": 2,
   "id": "ce07a838",
   "metadata": {},
   "outputs": [
    {
     "name": "stdout",
     "output_type": "stream",
     "text": [
      "1\n",
      "a\n",
      "[1, 'a']\n"
     ]
    }
   ],
   "source": [
    "# assigning multiple variables\n",
    "x, y, z = 1, \"a\", [1, \"a\"]\n",
    "\n",
    "# printing them individually \n",
    "print(x)\n",
    "print(y)\n",
    "print(z)"
   ]
  },
  {
   "cell_type": "code",
   "execution_count": 3,
   "id": "3e7fcac8",
   "metadata": {},
   "outputs": [
    {
     "name": "stdout",
     "output_type": "stream",
     "text": [
      "1\n",
      "1\n",
      "1\n"
     ]
    }
   ],
   "source": [
    "# assigning the variables again\n",
    "x = y = z = 1\n",
    "\n",
    "# printing them individually \n",
    "\n",
    "print(x)\n",
    "print(y)\n",
    "print(z)"
   ]
  },
  {
   "cell_type": "markdown",
   "id": "aea526db",
   "metadata": {},
   "source": [
    "**Booleans**\n",
    "\n",
    "Booleans are logical values. They can either be ``True`` or ``False`` and are for example returned by comparative operators.\n",
    "\n",
    "*Logical Operators*:\n",
    "- Logical AND: ``<Boolean> & <Boolean>``\n",
    "- Logical OR: ``<Boolean> | <Boolean>``\n",
    "- Logical exclusive OR: ``<Boolean> ^ <Boolean>``\n",
    "- Negation: ``not<Boolean>``\n",
    "\n",
    "\n",
    "*Comparators*:\n",
    "\n",
    "Comparators are used to compare inputs and return booleans. This way, booleans are widely used in flow control or conditional statements.\n",
    "- Equality: ``<Input> == <Input>``\n",
    "- Not equal: ``<Input> != <Input>``\n",
    "- Greater (equal): ``<Input> >= <Input>``\n",
    "- Lower (equal): ``<Input> <= <Input>``\n",
    "\n",
    "> i.e. \n",
    "> - ``x = 2``,  ``y = 4``\n",
    "> - ``x == y`` = False\n",
    "> - ``x > y`` = True\n",
    "> - ``z = (x == y)`` = False\n",
    "> - ``if z: print(\"True\")``\n",
    "    - ``else: print(\"False\")``\n",
    "\n",
    "\n",
    "Due to their binary nature, they can also be expressed as 1 (True) and 0 (False).\n",
    "\n",
    "If you are working with binary numbers:\n",
    "- Bitwise Operators (only for integers)\n",
    "    - ``~`` bitwise complememt\n",
    "    - ``&`` bitwise *and* (1&1 = 1, else 0)\n",
    "    - ``|`` bitwise *or* (0|0 = 0, else 1)\n",
    "    - ``^`` bitwise exclusive *or* (1^0 = 1, 0^1 = 1, else 0)\n",
    "    - ``<<`` bitwise shift to the left (0010 << 2 = 1000)\n",
    "    - ``>>`` bitwiese shift to the right (0110 >> 2 = 0001)\n"
   ]
  },
  {
   "cell_type": "code",
   "execution_count": 54,
   "id": "26efa6ed",
   "metadata": {},
   "outputs": [
    {
     "data": {
      "text/plain": [
       "True"
      ]
     },
     "execution_count": 54,
     "metadata": {},
     "output_type": "execute_result"
    }
   ],
   "source": [
    "1 == 1"
   ]
  },
  {
   "cell_type": "code",
   "execution_count": 55,
   "id": "90bf92b0",
   "metadata": {},
   "outputs": [
    {
     "data": {
      "text/plain": [
       "False"
      ]
     },
     "execution_count": 55,
     "metadata": {},
     "output_type": "execute_result"
    }
   ],
   "source": [
    "2 > 3"
   ]
  },
  {
   "cell_type": "code",
   "execution_count": 57,
   "id": "856b50db",
   "metadata": {},
   "outputs": [
    {
     "name": "stdout",
     "output_type": "stream",
     "text": [
      "X was False\n"
     ]
    }
   ],
   "source": [
    "x = True\n",
    "#x = False\n",
    "\n",
    "if x:\n",
    "    print(\"X was True\")\n",
    "else:\n",
    "    print(\"X was False\")"
   ]
  },
  {
   "cell_type": "markdown",
   "id": "db27d9a4",
   "metadata": {},
   "source": [
    "<div class=\"alert alert-block alert-info\">\n",
    "    <b>Exercise 3</b>: In Exercise 2 you computed a1 and a2. Now check the following and print the results.\n",
    "    <br>1. a1 equal to  a2\n",
    "    <br>2. a1 smaller than a2\n",
    "    <br>3. a1 greater than a2\n",
    "</div>"
   ]
  },
  {
   "cell_type": "code",
   "execution_count": 9,
   "id": "42f2445b",
   "metadata": {},
   "outputs": [],
   "source": [
    "# Let's get active!\n",
    "\n",
    "\n"
   ]
  },
  {
   "cell_type": "markdown",
   "id": "04578fbc",
   "metadata": {},
   "source": [
    "**Numbers**\n",
    "\n",
    "Python features two types of numbers (important for us), integers and floats.\n",
    "\n",
    "- **Integers** are whole numbers, i.e. ``x = 1``\n",
    "    - you can cast other data types to integers by using ``int()`` i.e. ``int(\"1\")`` = 1\n",
    "- **Floats** (floating point numbers) are real numbers, i.e. ``x = 1.0`` or ``y = 3.1415``\n",
    "    - you can cast other data types to floating point numbers by using ``float()`` i.e. ``float(2)`` = 2.0\n",
    "    \n",
    "*Arithmetic Operators*:\n",
    "- Basic Operators: ``+, -, *. /``\n",
    "- Raise to the power of: ``<Number> ** <Number>``\n",
    "- Modulo: ``<Number> % <Number>``\n",
    "- Integer/Float division: ``<Number> / <Number>``\n",
    "\n",
    "\n"
   ]
  },
  {
   "cell_type": "code",
   "execution_count": 46,
   "id": "bab95863",
   "metadata": {},
   "outputs": [
    {
     "data": {
      "text/plain": [
       "5"
      ]
     },
     "execution_count": 46,
     "metadata": {},
     "output_type": "execute_result"
    }
   ],
   "source": [
    "3+2"
   ]
  },
  {
   "cell_type": "code",
   "execution_count": 45,
   "id": "397a3066",
   "metadata": {},
   "outputs": [
    {
     "data": {
      "text/plain": [
       "1"
      ]
     },
     "execution_count": 45,
     "metadata": {},
     "output_type": "execute_result"
    }
   ],
   "source": [
    "3-2"
   ]
  },
  {
   "cell_type": "code",
   "execution_count": 48,
   "id": "da54e42e",
   "metadata": {},
   "outputs": [
    {
     "data": {
      "text/plain": [
       "2.5"
      ]
     },
     "execution_count": 48,
     "metadata": {},
     "output_type": "execute_result"
    }
   ],
   "source": [
    "# Note that the result is automatically a floating point number\n",
    "5 / 2 "
   ]
  },
  {
   "cell_type": "code",
   "execution_count": 52,
   "id": "34c15681",
   "metadata": {},
   "outputs": [
    {
     "name": "stdout",
     "output_type": "stream",
     "text": [
      "14\n",
      "20\n"
     ]
    }
   ],
   "source": [
    "# Parenthesis work, as you would expect them to work:\n",
    "print(2 + 3 * 4)\n",
    "print((2 + 3) * 4)"
   ]
  },
  {
   "cell_type": "code",
   "execution_count": 53,
   "id": "6e7e726b",
   "metadata": {},
   "outputs": [
    {
     "data": {
      "text/plain": [
       "2.2"
      ]
     },
     "execution_count": 53,
     "metadata": {},
     "output_type": "execute_result"
    }
   ],
   "source": [
    "# Floating point numbers\n",
    "1.1 + 1.1"
   ]
  },
  {
   "cell_type": "markdown",
   "id": "0d4b77fd",
   "metadata": {},
   "source": [
    "**Strings**\n",
    "\n",
    "Strings are sequences of characters, i.e. ``x = \"abc\"`` (you can use single ``'abc'`` or double ``\"abc\"`` quotation marks). Other data types can be cast to strings by using: ``str(<Input>)`` i.e. ``str(1)`` = \"1\".\n",
    "\n",
    "For strings over multiple lines, you use three quotation marks.\n",
    "\n",
    "`\n",
    "sentence = '''I love Python!\n",
    "It is so much fun.'''\n",
    "`\n",
    "\n",
    "*Operations*:\n",
    "- Slicing and indexing\n",
    "    - ``\"abc\"[1]`` = \"b\"\n",
    "    - ``\"abc[1:]\"`` = \"bc\"\n",
    "- Concatenation (combining strings): ``<String> + <String>``\n",
    "    - ``\"a\" + \"b\"`` = \"ab\"\n",
    "    - ``\"Hello\" + \" \" + \"World\" + \"!\"`` = \"Hello World!\"\n",
    "    - Note the blank space, we had to include.\n",
    "- Repeating: ``<String> * <Number>``\n",
    "    - ``\"a\" * 3`` = \"aaa\"\n",
    "- ``in`` to query for a character within a string\n",
    "    - ``\"a\" in \"Daniel\"`` = True\n",
    "- String comparison\n",
    "    - ``s1 = \"Hello World\"`` ; ``s2 = \"\"Hello World\"``, ``s1 == s2`` = True\n",
    "\n",
    "Additionally, Python has many built in functions for strings like: ``string_1 = \"Hello World\"``\n",
    "- Captitalize : ``str.capitalize(\"hello\")`` = \"Hello\"\n",
    "- Get the length: ``len(string_1)`` = 11\n",
    "- Check if a string contains only digits: ``string_1.isdigit()`` = False\n",
    "- Replace parts of a string ``string_1.replace(\"World\", \"Elena\")`` = \"Hello Elena\"\n",
    "- Split strings ``string_1.split(\" \")`` = \"Hello\",  \"World\"\n",
    "- Find substrings within strings: ``string_1.find(\"llo\")`` = 2 (because \"llo\" starts at index position 2)\n",
    "\n",
    "\n",
    "Be aware, that strings can also contain numeric characters, i.e. ``x = \"1\"``, ``y = \"4\"``, ``z = x + y = \"14\"``"
   ]
  },
  {
   "cell_type": "code",
   "execution_count": 5,
   "id": "5e0f7116",
   "metadata": {},
   "outputs": [
    {
     "name": "stdout",
     "output_type": "stream",
     "text": [
      "I love Python!\n",
      "I love Python!\n"
     ]
    }
   ],
   "source": [
    "first_string = \"I love Python!\"\n",
    "\n",
    "# is the same as \n",
    "second_string = 'I love Python!'\n",
    "\n",
    "print(first_string)\n",
    "print(second_string)"
   ]
  },
  {
   "cell_type": "code",
   "execution_count": 8,
   "id": "fa825f97",
   "metadata": {},
   "outputs": [
    {
     "name": "stdout",
     "output_type": "stream",
     "text": [
      "eric\n",
      "Eric\n",
      "Eric\n"
     ]
    }
   ],
   "source": [
    "first_name = \"eric\"\n",
    "print(first_name)\n",
    "\n",
    "# Change the first letter to upper case:\n",
    "first_name = first_name.title()\n",
    "print(first_name)\n",
    "\n",
    "# capitalize does the same\n",
    "first_name = first_name.capitalize()\n",
    "print(first_name)"
   ]
  },
  {
   "cell_type": "code",
   "execution_count": 9,
   "id": "0a76f3bf",
   "metadata": {},
   "outputs": [
    {
     "name": "stdout",
     "output_type": "stream",
     "text": [
      "eric\n",
      "ERIC\n",
      "eric\n"
     ]
    }
   ],
   "source": [
    "first_name = \"eric\"\n",
    "print(first_name)\n",
    "\n",
    "# changing all letters to upper case\n",
    "first_name = first_name.upper()\n",
    "print(first_name)\n",
    "\n",
    "# and to lower again\n",
    "first_name = first_name.lower()\n",
    "print(first_name)"
   ]
  },
  {
   "cell_type": "code",
   "execution_count": 25,
   "id": "344ce377",
   "metadata": {},
   "outputs": [
    {
     "name": "stdout",
     "output_type": "stream",
     "text": [
      "Eric said, 'I love Python!'\n"
     ]
    }
   ],
   "source": [
    "# Quotations\n",
    "quote = \"Eric said, 'I love Python!'\"\n",
    "\n",
    "print(quote)"
   ]
  },
  {
   "cell_type": "code",
   "execution_count": 27,
   "id": "dfc23158",
   "metadata": {},
   "outputs": [
    {
     "name": "stdout",
     "output_type": "stream",
     "text": [
      "Python is the new favorite language of Eric\n"
     ]
    }
   ],
   "source": [
    "# Creating strings with the .format() - method\n",
    "\n",
    "favorite_language = \"Python\"\n",
    "person = \"Eric\"\n",
    "\n",
    "# create a new string by using .format() method\n",
    "quote = \"{} is the new favorite language of {}\".format(favorite_language, person)\n",
    "print(quote)"
   ]
  },
  {
   "cell_type": "code",
   "execution_count": 28,
   "id": "5bb2a116",
   "metadata": {},
   "outputs": [
    {
     "name": "stdout",
     "output_type": "stream",
     "text": [
      "Python\n"
     ]
    }
   ],
   "source": [
    "# Slicing strings\n",
    "string = \"I love Python!\"\n",
    "\n",
    "\n",
    "# Extracting the \"Python\": it starts at index position 7 (the beginning is inclusive)\n",
    "# Note that blankspace count as well.\n",
    "# It ends at 12 (but ending is exclusive), therefor until 13\n",
    "\n",
    "print(string[7:13])"
   ]
  },
  {
   "cell_type": "code",
   "execution_count": 16,
   "id": "097bd848",
   "metadata": {},
   "outputs": [
    {
     "name": "stdout",
     "output_type": "stream",
     "text": [
      "True\n",
      "False\n",
      "True\n"
     ]
    }
   ],
   "source": [
    "# More string methods\n",
    "print(string.startswith(\"I\"))\n",
    "\n",
    "# note that it is case sensitive (upper or lower case)\n",
    "print(string.startswith(\"i\"))\n",
    "\n",
    "print(string.endswith(\"thon!\"))"
   ]
  },
  {
   "cell_type": "code",
   "execution_count": 19,
   "id": "26ed0656",
   "metadata": {},
   "outputs": [
    {
     "name": "stdout",
     "output_type": "stream",
     "text": [
      "I love R!\n",
      "I hate Python!\n"
     ]
    }
   ],
   "source": [
    "print(string.replace(\"Python\", \"R\"))\n",
    "\n",
    "print(string.replace(\"love\", \"hate\"))"
   ]
  },
  {
   "cell_type": "markdown",
   "id": "f31b3499",
   "metadata": {},
   "source": [
    "Note, how the change of \"Python\" to \"R\" is not permanent? It is only for the specific line. We did not replace the ols string with the new one.\n",
    "\n",
    "Therefore, when changing \"love\" to \"hate\", the orignal string is taken, and the programming language is again Python.\n"
   ]
  },
  {
   "cell_type": "code",
   "execution_count": 22,
   "id": "0d2521d5",
   "metadata": {},
   "outputs": [
    {
     "name": "stdout",
     "output_type": "stream",
     "text": [
      "I hate R!\n"
     ]
    }
   ],
   "source": [
    "# overwriting the old string with the new one\n",
    "string = string.replace(\"Python\", \"R\")\n",
    "\n",
    "string = string.replace(\"love\", \"hate\")\n",
    "\n",
    "# now it works\n",
    "print(string)"
   ]
  },
  {
   "cell_type": "markdown",
   "id": "2dff89cf",
   "metadata": {},
   "source": [
    "<div class=\"alert alert-block alert-info\">\n",
    "    <b>Exercise 4</b>: Find and store a sentence you like into a variable. Store a person (first and last name), who said the sentence.\n",
    "    <br>1. Print the sentence in the format \"X once said, 'your_sentence'.\"\n",
    "    <br>2. Store the first and last name of the person in two single variables (split and extract the words).\n",
    "    <br>3. Change first and last name both to lower case letters.\n",
    "</div>"
   ]
  },
  {
   "cell_type": "code",
   "execution_count": 10,
   "id": "38d39da1",
   "metadata": {},
   "outputs": [],
   "source": [
    "# Let's get active!\n",
    "\n",
    "\n"
   ]
  },
  {
   "cell_type": "code",
   "execution_count": 11,
   "id": "4dfe65de",
   "metadata": {},
   "outputs": [],
   "source": [
    "# Let's get active! \n",
    "\n",
    "\n"
   ]
  },
  {
   "cell_type": "code",
   "execution_count": 12,
   "id": "333467be",
   "metadata": {},
   "outputs": [],
   "source": [
    "# Let's get active!\n",
    "\n",
    "\n"
   ]
  },
  {
   "cell_type": "markdown",
   "id": "8c27f0b0",
   "metadata": {},
   "source": [
    "**Checking the Data Type with: type()**\n",
    "\n",
    "Calling the function `type()` on any variable will tell you the data type of the object.\n",
    "\n",
    "- `type(2)` = ìnt\n",
    "- `type(\"Hello\")` = str\n",
    "\n"
   ]
  },
  {
   "cell_type": "markdown",
   "id": "b135a2c1",
   "metadata": {},
   "source": [
    "### __4.2 Type Conversions in Python__\n",
    "\n",
    "\n",
    "> You can turn expressions/variables from one type into other types. This is done by so called type conversions. \n",
    "\n",
    "In general conversion to \"larger\" data types can be done without any loss of information.\n",
    "Conversions to \"smaller\" data types will usually lead to a loss of information (i.e. precision). If you, for example, need to convert a floating point number to an integer, the decimal places simply get cut off (= loss of precision). \n",
    "The general type hierarch is:\n",
    "- byte $\\subset$ short = char $\\subset$ int $\\subset$ long \n",
    "- float $\\subset$ double \n",
    "\n",
    "Such type castings can either be done *implicitly* or *explicitly*. \n",
    "\n",
    "- **Implicit type casting**:\n",
    "    - Assume you have a float ``x = 6.4`` and an integer ``y = 2``. If you cant to devide them ``z = x/y`` this works without problems and gives you ``z = 3.2`` (a float). \n",
    "- **Explicit type casting:**\n",
    "    - If you have a integer ``x = 2`` and a string ``y = \"Hello u \"``, the following won't work: ``z = y + x``. This is because Python does not know how to combine an integer and a string. To make it work, wou would need to do ``z = y + str(x)`` = \"Hello u 2\". This way, the 2 is first converted into a string and then the two strings can get concartinated.\n",
    "    \n",
    "To check the type of a variable in Python, simply use ``type(<Variable>)``.\n",
    " \n",
    "\n",
    "Luckily, Python \"hides\" most of this complexity and most of the times automatically takes care of the proper conversions of types. In other languages (like Java) you might have to explicitly do such conversions. "
   ]
  },
  {
   "cell_type": "code",
   "execution_count": 25,
   "id": "1be3103b",
   "metadata": {},
   "outputs": [
    {
     "name": "stdout",
     "output_type": "stream",
     "text": [
      "1\n"
     ]
    }
   ],
   "source": [
    "# define float\n",
    "result = 1.4142\n",
    "\n",
    "# convert float to integer\n",
    "result = int(result)\n",
    "\n",
    "# print integer\n",
    "print(result)"
   ]
  },
  {
   "cell_type": "code",
   "execution_count": 28,
   "id": "c6aaf422",
   "metadata": {},
   "outputs": [
    {
     "name": "stdout",
     "output_type": "stream",
     "text": [
      "1.4142\n",
      "<class 'float'>\n"
     ]
    }
   ],
   "source": [
    "# define string\n",
    "result = \"1.4142\"\n",
    "\n",
    "# convert string to float\n",
    "result = float(result)\n",
    "\n",
    "# print float\n",
    "print(result)\n",
    "print(type(result))"
   ]
  },
  {
   "cell_type": "code",
   "execution_count": 29,
   "id": "f7580207",
   "metadata": {},
   "outputs": [
    {
     "name": "stdout",
     "output_type": "stream",
     "text": [
      "['I', ' ', 'l', 'o', 'v', 'e', ' ', 'P', 'y', 't', 'h', 'o', 'n', '!']\n"
     ]
    }
   ],
   "source": [
    "# define string\n",
    "sentence = \"I love Python!\"\n",
    "\n",
    "# convert string to list\n",
    "sentence = list(sentence)\n",
    "\n",
    "# print list\n",
    "print(sentence)"
   ]
  },
  {
   "cell_type": "markdown",
   "id": "77f0fbfe",
   "metadata": {},
   "source": [
    "**Overflows**\n",
    "\n",
    "The Data Types limit the value range (in terms of memory storage). If the maximum is reaches, an arithmetic overflow occurs.\n",
    "\n"
   ]
  },
  {
   "cell_type": "markdown",
   "id": "08b948fc",
   "metadata": {},
   "source": [
    "### __4.3 Abstract Data Types in Python__\n",
    "\n",
    "Non-Primitive/Abstract data structures do not just store a value, but rather are a collection of different values in various formats. \n",
    "\n",
    "\n",
    "**Basic Collection: List**\n",
    "\n",
    "Lists in Python are ordered collections of items, sepataed by a comma. These items can be of different variable type and lists have variable lengths. \n",
    "You can even have lists as items within other lists (= nested lists). Since lists are ordered you access the elements within the list using their index-position in squared brackets. Note that the index starts at 0.\n",
    "\n",
    "Additionally, lists are mutable. This means you can initialize a list with a certain content and later delete or modify the content/parts of the content. Later on you will get to know other data types where this is not possible.  \n",
    "\n",
    "*Basic Operations*:\n",
    "- Generate an empty list called l: ``l = []``\n",
    "- Adding a single value to the list: ``l.append(<Value>)``\n",
    "- Insert a value at a specific position x: ``l.insert(x, <Value>)``\n",
    "- Remove the value from a certain position: ``l.pop(<IndexPos>)``\n",
    "- Remove a certain value: ``l.remove(<Value>)``\n",
    "    - Removes the first occurance of the specified value (in case, multiple are present) \n",
    "- Concatenating two lists: ``<list> + <list>``\n",
    "- Extract or slice lists: ``<List>[<IndexPos>]`` or ``<List>[<Slice>]``\n",
    "    - For Example: ``l = [2, 1, 4, 3]``\n",
    "    - ``l[1]`` = 1\n",
    "    - ``l[-1]`` = 3\n",
    "    - ``l[:3]`` = [2, 1, 4]\n",
    "    - ``l[1:3]`` = [1, 4]\n",
    "    - ``l[-2:]`` = [4, 3]\n",
    "    - ``l[:-2]`` = [2, 1]\n",
    "- Change a value at a certain position: ``l[0] = 99`` results in ``l`` being [99, 1, 4, 3]\n",
    "- Nested List: ``nl = [[1, \"Hello\"], [3.4, True, 8]]``\n",
    "    - Note that the lists within lists may be of different length.\n",
    "    - If you need to index them, ``nl[0]`` = [1, \"Hello\"] and ``nl[1]`` = [3.4, True, 8]. Therefore, if you want to access the 3.4 you need to type: ``nl[1][0]``\n",
    "- Sort lists: ``l.sort()`` = [1, 2, 3, 4]\n",
    "- Reverse lists: ``l.reverse()`` = [3, 4, 1, 2]\n",
    "\n",
    "Lists can be linear or non-linear. A linear list means, that the elements are ordered sequentially and traversed each after another (linear). In a non-linear list, one elements can be connected to multiple other ones, or none at all. The connections themself reflect a specific relation. Such non-linear list are for example trees or graphs. But we will learn more about them later on this semester. Stay tuned ;)\n"
   ]
  },
  {
   "cell_type": "code",
   "execution_count": 70,
   "id": "77ecee8e",
   "metadata": {},
   "outputs": [
    {
     "name": "stdout",
     "output_type": "stream",
     "text": [
      "['Claire', 'Andri']\n",
      "['Claire', 'Andri', 'Elena']\n"
     ]
    }
   ],
   "source": [
    "# define a first list\n",
    "list_1 = [\"Claire\", \"Andri\"]\n",
    "print(list_1)\n",
    "\n",
    "# append a new tutor\n",
    "list_1.append(\"Elena\")\n",
    "print(list_1)"
   ]
  },
  {
   "cell_type": "code",
   "execution_count": 71,
   "id": "ffe0f896",
   "metadata": {},
   "outputs": [
    {
     "name": "stdout",
     "output_type": "stream",
     "text": [
      "['Claire', 'Andri', 'Max', 'Elena']\n"
     ]
    }
   ],
   "source": [
    "# insert at specified index position\n",
    "\n",
    "list_1.insert(2, \"Max\")\n",
    "print(list_1)"
   ]
  },
  {
   "cell_type": "code",
   "execution_count": 72,
   "id": "53e0b633",
   "metadata": {},
   "outputs": [
    {
     "name": "stdout",
     "output_type": "stream",
     "text": [
      "['Claire', 'Andri', 'Elena']\n",
      "['Claire', 'Andri']\n"
     ]
    }
   ],
   "source": [
    "# remove an element by index position\n",
    "list_1.pop(2)\n",
    "print(list_1)\n",
    "\n",
    "# or by the specified element\n",
    "list_1.remove(\"Elena\")\n",
    "print(list_1)"
   ]
  },
  {
   "cell_type": "code",
   "execution_count": 73,
   "id": "578d7dd6",
   "metadata": {},
   "outputs": [
    {
     "name": "stdout",
     "output_type": "stream",
     "text": [
      "['Claire', 'Andri', 'Student_2', 'Student_1']\n"
     ]
    }
   ],
   "source": [
    "# concatenate two lists\n",
    "list_2 = [\"Student_2\", \"Student_1\"]\n",
    "\n",
    "final_list = list_1 + list_2\n",
    "print(final_list)"
   ]
  },
  {
   "cell_type": "code",
   "execution_count": 76,
   "id": "c9dedf6f",
   "metadata": {},
   "outputs": [
    {
     "name": "stdout",
     "output_type": "stream",
     "text": [
      "['Andri', 'Claire', 'Student_1', 'Student_2']\n",
      "[2, 3, 39, 566]\n"
     ]
    }
   ],
   "source": [
    "# Sorting for strings is alphabetic\n",
    "final_list.sort()\n",
    "print(final_list)\n",
    "\n",
    "# And for numers\n",
    "list_numbers = [3, 2, 566, 39]\n",
    "list_numbers.sort()\n",
    "print(list_numbers)"
   ]
  },
  {
   "cell_type": "code",
   "execution_count": 80,
   "id": "5a1303ff",
   "metadata": {},
   "outputs": [
    {
     "name": "stdout",
     "output_type": "stream",
     "text": [
      "['Andri', 'Claire', 'Student_1', 'Student_2']\n",
      "['Andri', 'Claire']\n",
      "['Student_1', 'Student_2']\n",
      "['Andri', 'Claire']\n"
     ]
    }
   ],
   "source": [
    "# Indexing and slicing\n",
    "print(final_list)\n",
    "\n",
    "# The Tutors are on index 0 and 1. When slicing, the starting index is inclusive, the ending exclusive\n",
    "print(final_list[0:2])\n",
    "\n",
    "# The students: if you want to go up until the end, you don't have to specifiy the end explicitly\n",
    "print(final_list[2:])\n",
    "\n",
    "# Same counts for the begining, if you want to start in the front\n",
    "print(final_list[:2])"
   ]
  },
  {
   "cell_type": "code",
   "execution_count": 86,
   "id": "ee4e6d0b",
   "metadata": {},
   "outputs": [
    {
     "name": "stdout",
     "output_type": "stream",
     "text": [
      "Student_2\n",
      "['Claire', 'Student_1', 'Student_2']\n"
     ]
    }
   ],
   "source": [
    "# You can access list from the back\n",
    "print(final_list[-1])\n",
    "\n",
    "# the three last entries\n",
    "print(final_list[-3:])"
   ]
  },
  {
   "cell_type": "code",
   "execution_count": 90,
   "id": "3f0feeb0",
   "metadata": {},
   "outputs": [
    {
     "name": "stdout",
     "output_type": "stream",
     "text": [
      "['Andri', 'Claire']\n",
      "['Student_1', 'Student_2']\n",
      "Claire\n"
     ]
    }
   ],
   "source": [
    "# a nestes list\n",
    "people = [['Andri', 'Claire'], ['Student_1', 'Student_2']]\n",
    "\n",
    "# now, simple indexing delivers the sublists\n",
    "print(people[0])\n",
    "print(people[1])\n",
    "\n",
    "# to get \"Claire\" we need the first sublist (index 0) and within there the second name (index 1)\n",
    "print(people[0][1])"
   ]
  },
  {
   "cell_type": "markdown",
   "id": "7438ec89",
   "metadata": {},
   "source": [
    "**Arrays**\n",
    "\n",
    "Arrays are also mutable collections of different data elements. Compared to lists, however, arrays can only store one data type (i.e. only integers, floats, strings or else) and only elements of the same length. Additionally, the array's structure/size needs to be defined while inizializing it.\n",
    "In the most simplest case, an array is also just one list of elements. But arrays can also be multidimensional. \n",
    "\n",
    "In Python, there is no build in module for arrays, but we would recommend working with the NumPy-package. You can download and import it like:\n",
    "\n",
    "``pip install numpy\n",
    "import numpy as np``\n",
    "\n",
    "While arrays are somewhat more rigid in their structure (predefined size, same type and length of elements) they offer other benefits. Arrays are optimized for numerical operations and especially NumPy also provides vectorized (element-wise) operations.\n",
    "\n",
    "*Operations*:\n",
    "\n",
    "- Initialize an array: ``x = np.array([3, 6, 9])``\n",
    "- Access element at certain index position: ``x[0]`` = 3\n",
    "- Vectroized (element-wise) operations are possible, i.e. ``y = x/3`` = [1.0, 2.0, 3.0]\n",
    "- Initialize an array of ones with size 4: ``np.ones(4)``\n",
    "\n",
    "Arrays can also be **multidimensional**. \n",
    "\n",
    "For 2D-arrays, you can think of them as a table with rows and columns.\n",
    "- Inizialize an 2D-array of ones, with 3 rows and four columns: ``np.ones((3, 4))``\n",
    "- The above would be the same as ``np.array([[1, 1, 1, 1], [1, 1, 1, 1], [1, 1, 1, 1], [1, 1, 1, 1]])``\n",
    "\n",
    "A 3D-array can be thought of as a collection of several tables of the same layout. Such an array would be initialized like\n",
    "\n",
    "``np.array([[[1, 2, 3, 4],\n",
    "            [5, 6, 7, 8]],\n",
    "           [[1, 2, 3, 4],\n",
    "             [9, 10, 11, 12]]])``\n",
    "\n",
    "It can be read as two tables, stored behind each other. On the \"front\" table (layer) we have a table of two rows and four columns with the numbers 1-8. The second table *has to have* the same shape (2 rows, 4 columns) but this time with the values 1-4 and 9-12. \n"
   ]
  },
  {
   "cell_type": "code",
   "execution_count": null,
   "id": "031b1200",
   "metadata": {},
   "outputs": [],
   "source": [
    "# Array\n",
    "\n",
    "\n"
   ]
  },
  {
   "cell_type": "markdown",
   "id": "1ca6229d",
   "metadata": {},
   "source": [
    "**List vs. Array**\n",
    "\n",
    "![title](source/List_vs._Array.png)\n",
    "\n",
    "\n",
    "**Tuple**\n",
    "\n",
    "Tuples are immutable data structures. Once defined, their content/values inside can not be changed or manipulated anymore. Like lists, tuples can store heterogenous items and they are initialized by comma-separated elements in round brackets (or without brackets at all). Usecases would be, if you i.e. pass you data to someone else and you would like to make sure, the other person can use the data (for calculations etc) but can not change it.\n",
    "\n",
    "*Operations*\n",
    "\n",
    "- Initialization:\n",
    "    - ``x_tuple = 1, 2, 3, 4, 5``\n",
    "    - ``y_tuple = (\"t\", \"e\",  \"s\", \"t\", [1, 2, 3])``\n",
    "- Indexing and Slicing\n",
    "    - ``x_tuple[3]`` = 4\n",
    "    - ``y_tuple[0:3]`` = ('t', 'e', 's')\n",
    "- Iterable\n",
    "    - ``for x in x_tuple: print(x)`` = 1, 2, 3, 4, 5\n",
    "- Modification of values won't work!\n",
    "    - ``x_tuple[0] = 100``\n",
    "\n"
   ]
  },
  {
   "cell_type": "code",
   "execution_count": 92,
   "id": "ddd21971",
   "metadata": {},
   "outputs": [
    {
     "name": "stdout",
     "output_type": "stream",
     "text": [
      "The first color is: red\n",
      "The available colors are:\n",
      "- red\n",
      "- green\n",
      "- blue\n"
     ]
    }
   ],
   "source": [
    "# Tuples behave like lists in some cases \n",
    "\n",
    "colors = ('red', 'green', 'blue')\n",
    "print(\"The first color is: \" + colors[0])\n",
    "\n",
    "print(\"The available colors are:\")\n",
    "for color in colors:\n",
    "    print(\"- \" + color)"
   ]
  },
  {
   "cell_type": "code",
   "execution_count": 93,
   "id": "b7190f47",
   "metadata": {},
   "outputs": [
    {
     "ename": "AttributeError",
     "evalue": "'tuple' object has no attribute 'append'",
     "output_type": "error",
     "traceback": [
      "\u001b[1;31m---------------------------------------------------------------------------\u001b[0m",
      "\u001b[1;31mAttributeError\u001b[0m                            Traceback (most recent call last)",
      "\u001b[1;32m~\\AppData\\Local\\Temp\\ipykernel_820\\3093183594.py\u001b[0m in \u001b[0;36m<module>\u001b[1;34m\u001b[0m\n\u001b[0;32m      2\u001b[0m \u001b[1;33m\u001b[0m\u001b[0m\n\u001b[0;32m      3\u001b[0m \u001b[0mcolors\u001b[0m \u001b[1;33m=\u001b[0m \u001b[1;33m(\u001b[0m\u001b[1;34m'red'\u001b[0m\u001b[1;33m,\u001b[0m \u001b[1;34m'green'\u001b[0m\u001b[1;33m,\u001b[0m \u001b[1;34m'blue'\u001b[0m\u001b[1;33m)\u001b[0m\u001b[1;33m\u001b[0m\u001b[1;33m\u001b[0m\u001b[0m\n\u001b[1;32m----> 4\u001b[1;33m \u001b[0mcolors\u001b[0m\u001b[1;33m.\u001b[0m\u001b[0mappend\u001b[0m\u001b[1;33m(\u001b[0m\u001b[1;34m'purple'\u001b[0m\u001b[1;33m)\u001b[0m\u001b[1;33m\u001b[0m\u001b[1;33m\u001b[0m\u001b[0m\n\u001b[0m",
      "\u001b[1;31mAttributeError\u001b[0m: 'tuple' object has no attribute 'append'"
     ]
    }
   ],
   "source": [
    "# ... but they can not be changed (adding, removing, replacing values)\n",
    "\n",
    "colors = ('red', 'green', 'blue')\n",
    "colors.append('purple')"
   ]
  },
  {
   "cell_type": "markdown",
   "id": "89e5ad66",
   "metadata": {},
   "source": [
    "\n",
    "**Dictionary**\n",
    "\n",
    "Dictionaries are data structures that are in their working similar to i.e. a telephone book. Given you have a persons name, you can identify his/her phonenumber. Therefore, the name has to be a unique key and the value is ifentified over this unique key. \n",
    "\n",
    "Dictionaries are such unordered, mutable collections of key-value pairs. They are implemented using curly brackets ({}), the key-value pairs are separated by comma and the key is separated from the value using \":\".\n",
    "Note that the key might be any type (Strings, Integers, even mixed is possible) and the values can themselves also be arbitrarily complex (just an integer, a list, a nested list or another dictionary).\n",
    "\n",
    "Throughout this course you will also learn how to work with JSON-files. These special file-types have such a dictionary-structure, with nested dictionaries within others... Stay tuned. \n",
    "\n",
    "*Operations*\n",
    "- Initialization\n",
    "    - ``dict_1 = {'Andri' : 123456789, 'Claire': 987654321, 'Elena': 24681012}``\n",
    "    - ``dict_2 = {1: 'Hallo', 'String': [33, 22, 11], 3: {'key': 'value'}}`` (mixing key and value-types: a value can also be a list or another dictionary) \n",
    "- Acessing elements works by using squared brackets and the specific key inside:\n",
    "    - ``dict_1['Andri']`` = 123456789\n",
    "    - ``dict_2[1]`` = 'Hallo'\n",
    "    - ``dict_2['String']`` = [33, 22, 11]\n",
    "    - ``dict_2[3]`` = {'key': 'value'}\n",
    "- Delete elements using the key:\n",
    "    - ``del dict_2['String']`` = {1: 'Hallo', 3: {'key': 'value'}}\n",
    "    - ``dict_2.pop('String')`` = prints [33, 22, 11], and the dict_2 becomes {1: 'Hallo', 3: {'key': 'value'}}. ``.pop()`` deletes they specified key-value pair from the dictionary and returns the value from the specified key\n",
    "- Get all the keys of a dictionary:\n",
    "    - ``dict_1.keys()`` = dict_keys(['Andri', 'Claire', 'Elena'])\n",
    "- Get all the values of a dictionary:\n",
    "    - ``dict_1.values()`` = dict_values([123456789, 987654321, 24681012])\n",
    "- Get all the key-value pairs of a dictionary:\n",
    "    - ``dict_1.items()`` \n",
    "- Overwrite an existing key's value\n",
    "    - ``dict_1['Elena'] = 100100100`` = {'Andri' : 123456789, 'Claire': 987654321, 'Elena': 100100100}\n",
    "- Append a new key-value pair:\n",
    "    - ``dict_1['Max'] = 123123123`` Simply use a new unused key and the \"=\"-assignment\n",
    "\n"
   ]
  },
  {
   "cell_type": "code",
   "execution_count": 108,
   "id": "7e0bf039",
   "metadata": {},
   "outputs": [
    {
     "name": "stdout",
     "output_type": "stream",
     "text": [
      "dict_keys(['Andri', 'Claire', 'Elena'])\n",
      "dict_values([123456789, 987654321, 24681012])\n"
     ]
    },
    {
     "data": {
      "text/plain": [
       "123456789"
      ]
     },
     "execution_count": 108,
     "metadata": {},
     "output_type": "execute_result"
    }
   ],
   "source": [
    "# Dictionaries\n",
    "\n",
    "dict_1 = {'Andri' : 123456789, 'Claire': 987654321, 'Elena': 24681012}\n",
    "dict_2 = {1: 'Hallo', 'String': [33, 22, 11], 3: {'key': 'value'}}\n",
    "\n",
    "# The dictionary keys\n",
    "print(dict_1.keys())\n",
    "\n",
    "# The dictionary values\n",
    "print(dict_1.values())\n",
    "\n",
    "# Andris student id\n",
    "dict_1['Andri']"
   ]
  },
  {
   "cell_type": "code",
   "execution_count": 109,
   "id": "d7463cb3",
   "metadata": {},
   "outputs": [
    {
     "name": "stdout",
     "output_type": "stream",
     "text": [
      "24681012\n",
      "{'Andri': 123456789, 'Claire': 987654321}\n"
     ]
    }
   ],
   "source": [
    "# Remove from a dictionary\n",
    "\n",
    "print(dict_1.pop('Elena'))\n",
    "print(dict_1)"
   ]
  },
  {
   "cell_type": "code",
   "execution_count": 112,
   "id": "16c0d08d",
   "metadata": {},
   "outputs": [
    {
     "name": "stdout",
     "output_type": "stream",
     "text": [
      "{'Andri': 123456789, 'Claire': 987654321, 'Elena': '100100100'}\n"
     ]
    }
   ],
   "source": [
    "# Add a new entry\n",
    "\n",
    "dict_1['Elena'] = '100100100'\n",
    "print(dict_1)"
   ]
  },
  {
   "cell_type": "markdown",
   "id": "5dc4ae81",
   "metadata": {},
   "source": [
    "**Sets**\n",
    "\n",
    "Sets are a collection of the distinct/unique input-objects. This is helpful, if you i.e. want to find the unique values within a list. Sets are mutable and unordered.\n",
    "\n",
    "*Operations*:\n",
    "\n",
    "- Initialization\n",
    "    - ``set_1 = set(\"test\")``\n",
    "    - ``set_2 = set(\"hello\")``\n",
    "    - ``print(set_1)`` = {\"t\", \"s\", \"e\"} Unordered output. Upper and lower case letters would be distinct (i.e. T $\\neq$ t) \n",
    "- (Difference): Elements from `set_1` without those that are also in ``set_2`` \n",
    "    - ``print(set_1 - set_2)`` = {\"t\", \"s\"}\n",
    "- (Union): Elements from either ``set_1`` or ``set_2`` (or both)\n",
    "    - ``print(set_1 | set_2)`` = {\"t\", \"e\", \"s\", \"h\", \"l\", \"o\"}\n",
    "- (Intersection): Elements that are in both sets\n",
    "    - ``print(set_1 & set_2)`` = {\"e\"}\n",
    "- Elements that are only either in the one or other:\n",
    "    - ``print(set_1 ^ set_2)`` = {\"t\", \"s\", \"h\", \"l\", \"o\"}\n",
    "- (Subset) Are the elements from one set a subset of the other\n",
    "    - ``set_3 = set(1, 2, 3)`` and ``set_4 = set(2, 3)`` then: ``set_4 < set_3`` = True"
   ]
  },
  {
   "cell_type": "code",
   "execution_count": 96,
   "id": "67d7bb15",
   "metadata": {},
   "outputs": [
    {
     "name": "stdout",
     "output_type": "stream",
     "text": [
      "{8, 2, 3, 5}\n"
     ]
    }
   ],
   "source": [
    "# undordered but unique values:\n",
    "\n",
    "set_1 = set([2, 5, 3, 8, 3, 8, 2])\n",
    "print(set_1)"
   ]
  },
  {
   "cell_type": "code",
   "execution_count": 101,
   "id": "b7e0b6c0",
   "metadata": {},
   "outputs": [
    {
     "name": "stdout",
     "output_type": "stream",
     "text": [
      "{9, 3, 4, 7}\n",
      "{8, 2, 5}\n",
      "{2, 3, 4, 5, 7, 8, 9}\n",
      "{3}\n"
     ]
    }
   ],
   "source": [
    "set_2 = set([4, 7, 9, 3, 9])\n",
    "print(set_2)\n",
    "\n",
    "# Difference\n",
    "print(set_1 - set_2)\n",
    "\n",
    "# Union\n",
    "print(set_1 | set_2)\n",
    "\n",
    "# Intersection\n",
    "print(set_1 & set_2)"
   ]
  },
  {
   "cell_type": "markdown",
   "id": "eb3c6a53",
   "metadata": {},
   "source": [
    "**File**\n",
    "\n",
    "The last data structure to be mentioned here are files. Of course, you need to be able to read and modify or write files (from your desktop, a database etc) within your data science code. \n",
    "\n",
    "*Operations*:\n",
    "- Open file and store it in variable f\n",
    "    - ``f = open('filename', 'w')``\n",
    "    - the second argument defines if you only want to 'r' read a file, 'w' write, 'a' append or 'r+' read and write\n",
    "- Read entire files\n",
    "    - ``f.read()``\n",
    "- Read a single line only\n",
    "    - ``f.readline()``\n",
    "- Write a string to a file\n",
    "    - ``f.write('String to be written to file f.')``\n",
    "- Close a file\n",
    "    - ``f.close()``"
   ]
  },
  {
   "cell_type": "markdown",
   "id": "13a61e60",
   "metadata": {},
   "source": [
    "### __5. Advanced Techniques__\n",
    "### __5.1 Functions__\n",
    "\n",
    "Functions are routines of commands that are executed for a set of input variables.\n",
    "We already saw a coule of basic build in functions, like `print()` or `len()`.\n",
    "\n",
    "Of course, you can also define your own functions.\n",
    "The basic syntax is\n",
    "\n",
    "``def <Function> (<Input>):\n",
    "    <Expression>\n",
    "    return <Output>``\n",
    "    \n",
    "One example could be a function, that takes numbers as inputs and returns them to the power of two, i.e.\n",
    "\n",
    "``def power_of_two (x):\n",
    "    y = x * x\n",
    "    return y``\n",
    "    \n",
    "Functions\n",
    "- can take none to many different Inputs\n",
    "- can return none or many outputs\n",
    "\n",
    "It is good practice, to define a **docstring** (the red colored explanation) which explains the inputs the function takes, what the function computes and what it returns."
   ]
  },
  {
   "cell_type": "code",
   "execution_count": 119,
   "id": "80810561",
   "metadata": {},
   "outputs": [],
   "source": [
    "# Define a greeting-function\n",
    "\n",
    "def greet(person, location):\n",
    "    \n",
    "    \"\"\"\n",
    "    Function that greets people\n",
    "    \n",
    "    Parameters\n",
    "    ----------\n",
    "    location: String\n",
    "        Name of location\n",
    "        \n",
    "    person: String\n",
    "        Name of person\n",
    "    \n",
    "    Returns\n",
    "    -------\n",
    "    String\n",
    "        Welcome message\n",
    "    \n",
    "    \"\"\"\n",
    "    \n",
    "    print(\"Hello {} in {}! Nice to see you.\".format(person, location))\n"
   ]
  },
  {
   "cell_type": "code",
   "execution_count": 120,
   "id": "0ffe68d4",
   "metadata": {},
   "outputs": [
    {
     "name": "stdout",
     "output_type": "stream",
     "text": [
      "Hello Hanna in Uni! Nice to see you.\n",
      "Hello Paul in Cafe! Nice to see you.\n"
     ]
    }
   ],
   "source": [
    "greet(\"Hanna\", \"Uni\")\n",
    "greet(\"Paul\", \"Cafe\")"
   ]
  },
  {
   "cell_type": "markdown",
   "id": "acdc46c3",
   "metadata": {},
   "source": [
    "### __5.2 Loops and Control Flow__\n",
    "\n",
    "Often, we don't want to exectue all lines of code for all inputs.\n",
    "Certain commands might need to be repreated, other shall be skipped, based on certain criteria.\n",
    "Control Flow Statements help us to define such structure.\n",
    "\n",
    "\n",
    "In case of repeated executions, loops are the way to go.\n",
    "In a loop, a set/block of operations is performed for a certain, defined amout of repetitions. There are different types of loops.\n",
    "\n",
    "**for-Loops:**\n",
    "- repeat a block of operations for n times\n",
    "\n",
    "``for <Iterator> in range(n):\n",
    "            <Expression>``\n",
    "\n",
    "`` x = 1\n",
    "for i in range(10):\n",
    "    x += i\n",
    "``\n",
    "\n",
    "$\\to$ ranges over i from 0 to 9 and always adds i to x. \n",
    "\n",
    "- for loops can also run over lists, applying the operations on every element in the list, i.e.\n",
    "\n",
    "``for <Item> in L:\n",
    "    <Expression>``\n",
    "    \n",
    "``l = [\"a\", \"b\", \"c\"]\n",
    "for w in l:\n",
    "    print(w)``\n",
    "\n",
    "$\\to$ iterates over every item in the lists and prints it\n"
   ]
  },
  {
   "cell_type": "code",
   "execution_count": 113,
   "id": "b72141d4",
   "metadata": {},
   "outputs": [
    {
     "name": "stdout",
     "output_type": "stream",
     "text": [
      "[14, 15, 16, 17, 18]\n",
      "I am 14 years old and allowed to get water!\n",
      "I am 15 years old and allowed to get water!\n",
      "I am 16 years old and allowed to get water and beer!\n",
      "I am 17 years old and allowed to get water and beer!\n",
      "I am 18 years old and allowed to get water, beer and spirits!\n"
     ]
    }
   ],
   "source": [
    "# define ages\n",
    "ages = range(14, 19)\n",
    "\n",
    "# print ages\n",
    "print(list(ages))\n",
    "\n",
    "# for loop over ages\n",
    "for age in ages:\n",
    "    # check conditions and print results\n",
    "    if age < 16:\n",
    "        print(f'I am {age} years old and allowed to get water!')\n",
    "    elif age < 18: \n",
    "        print(f'I am {age} years old and allowed to get water and beer!')\n",
    "    else:\n",
    "        print(f'I am {age} years old and allowed to get water, beer and spirits!')"
   ]
  },
  {
   "cell_type": "markdown",
   "id": "6394ebf2",
   "metadata": {},
   "source": [
    "**while-Loops:**\n",
    "- repest a certain block of operations while a condition is True (until the condition is False)\n",
    "\n",
    "``while <Condition>:\n",
    "    <Expression>``\n",
    "    \n",
    "``x = 2\n",
    "while x < 1000:\n",
    "    x **= 2``\n",
    "\n",
    "$\\to$ x starts at 2. While it is smaller than 1000, x is always raised to the power of two.\n",
    "\n",
    "- you can also call a break statement from within the operations block:\n",
    "\n",
    "``while <Condition>:\n",
    "    <Expression>\n",
    "    if <Condition>:\n",
    "        break``\n",
    "        \n",
    "``x = 2\n",
    "while True:\n",
    "    x **= 2\n",
    "    if x > 1000:\n",
    "        break``\n",
    "\n",
    "$\\to$ does exactly the same as the loop above. But here, the first condition is always True. Only within the while loop we have another if-clause that checks if x is smaller than 1000. If thats false, a break is called and the loop stops.\n",
    "\n",
    "\n"
   ]
  },
  {
   "cell_type": "code",
   "execution_count": 31,
   "id": "e7e27e58",
   "metadata": {},
   "outputs": [
    {
     "name": "stdout",
     "output_type": "stream",
     "text": [
      "I am 0 years old and allowed to get water!\n",
      "I am 1 years old and allowed to get water!\n",
      "I am 2 years old and allowed to get water!\n",
      "I am 3 years old and allowed to get water!\n",
      "I am 4 years old and allowed to get water!\n",
      "I am 5 years old and allowed to get water!\n",
      "I am 6 years old and allowed to get water!\n",
      "I am 7 years old and allowed to get water!\n",
      "I am 8 years old and allowed to get water!\n",
      "I am 9 years old and allowed to get water!\n",
      "I am 10 years old and allowed to get water!\n",
      "I am 11 years old and allowed to get water!\n",
      "I am 12 years old and allowed to get water!\n",
      "I am 13 years old and allowed to get water!\n",
      "I am 14 years old and allowed to get water!\n",
      "I am 15 years old and allowed to get water!\n",
      "I am 16 years old and allowed to get water and beer!\n",
      "I am 17 years old and allowed to get water and beer!\n",
      "I am 18 years old and allowed to get water, beer and spirits!\n"
     ]
    }
   ],
   "source": [
    "# define ages\n",
    "age = 0\n",
    "\n",
    "# for loop over ages\n",
    "while age < 19:\n",
    "    # check conditions and print results\n",
    "    if age < 16:\n",
    "        print(\"I am {} years old and allowed to get water!\".format(age))\n",
    "    elif age < 18: \n",
    "        print(\"I am {} years old and allowed to get water and beer!\".format(age))\n",
    "    else:\n",
    "        print(\"I am {} years old and allowed to get water, beer and spirits!\".format(age))\n",
    "    # increment age\n",
    "    age += 1"
   ]
  },
  {
   "cell_type": "markdown",
   "id": "c2812be6",
   "metadata": {},
   "source": [
    "**Conditional Statements:**\n",
    "\n",
    "Besides loops, we can also have Conditional Statements.\n",
    "The most basic one is the if-statement.\n",
    "The statements clause will only be executed, if the condition is evaluated to `Ture`.\n",
    "\n",
    "Whenever the if-statements evaluates to `False`, the else-statement if executed.\n",
    "If you need to define more criteria, which shall be checked, `elif` is the (optional) command for it.\n",
    "\n",
    "- when defining conditional statements, you use the following syntax:\n",
    "\n",
    "``if <Condition>:\n",
    "    <Expression>\n",
    "elif <Condition>: # else if (not necessary)\n",
    "    <Expression>\n",
    "else:\n",
    "    <Expression>``\n",
    "    \n",
    "Example: you can combine several ``elif`` statements. These are checked subsequential, each after another. The first condition that is met defines the operations that will be performed. The ``return`` statements within each ``elif``-block ensure that the function breaks if this ``elif``- case was called. \n",
    "\n",
    "![title](source/Conditions_Example_Factorial.png)"
   ]
  },
  {
   "cell_type": "code",
   "execution_count": 30,
   "id": "1513383d",
   "metadata": {},
   "outputs": [
    {
     "name": "stdout",
     "output_type": "stream",
     "text": [
      "I am allowed to get water and beer!\n"
     ]
    }
   ],
   "source": [
    "# define age\n",
    "age = 17\n",
    "\n",
    "# check conditions and print results\n",
    "if age < 16:\n",
    "    print(\"I am allowed to get water!\")\n",
    "elif age < 18: \n",
    "    print(\"I am allowed to get water and beer!\")\n",
    "else:\n",
    "    print(\"I am allower to get water, beer and spirits!\")"
   ]
  },
  {
   "cell_type": "markdown",
   "id": "0bdb9368",
   "metadata": {},
   "source": [
    "### __5.3 Methods__\n",
    "\n",
    "Methods are somewhat like functions, but they are associated (meaning only applicable) to certain objects.\n",
    "For example, there are methods that work only on strings (the object) and do something (i.e. convert to upper case) to every instance (every letter) within the string:"
   ]
  },
  {
   "cell_type": "code",
   "execution_count": 1,
   "id": "3ca55311",
   "metadata": {},
   "outputs": [
    {
     "name": "stdout",
     "output_type": "stream",
     "text": [
      "I LOVE PYTHON!\n"
     ]
    }
   ],
   "source": [
    "# initialize string\n",
    "sentence = \"I love Python!\"\n",
    "\n",
    "# convert string in upper case\n",
    "sentence = sentence.upper()\n",
    "\n",
    "# print string\n",
    "print(sentence)"
   ]
  },
  {
   "cell_type": "code",
   "execution_count": 13,
   "id": "af5a5660",
   "metadata": {},
   "outputs": [
    {
     "name": "stdout",
     "output_type": "stream",
     "text": [
      "I hate R!\n"
     ]
    }
   ],
   "source": [
    "# initialize string\n",
    "sentence = \"I love Python!\"\n",
    "\n",
    "# replace values by other values\n",
    "sentence = sentence.replace(\"Python\", \"R\").replace(\"love\", \"hate\")\n",
    "\n",
    "# print string\n",
    "print(sentence)"
   ]
  },
  {
   "cell_type": "markdown",
   "id": "cda9b58a",
   "metadata": {},
   "source": [
    "There are also methods workling on lists, only:"
   ]
  },
  {
   "cell_type": "code",
   "execution_count": 14,
   "id": "c41e0827",
   "metadata": {},
   "outputs": [
    {
     "name": "stdout",
     "output_type": "stream",
     "text": [
      "[0, 1, 2, 3, 4, 5, 6, 7, 8, 9, 10, 11]\n"
     ]
    }
   ],
   "source": [
    "# initialize list\n",
    "points = [0, 1, 2, 3, 4, 5, 6, 7, 8, 9, 10]\n",
    "\n",
    "# add element to list\n",
    "points.append(11)\n",
    "\n",
    "# print list\n",
    "print(points)"
   ]
  },
  {
   "cell_type": "markdown",
   "id": "73b956f6",
   "metadata": {},
   "source": [
    "To get all methods, applicable to a certain object, you can use the function `dir()` applied to the variable:"
   ]
  },
  {
   "cell_type": "code",
   "execution_count": 19,
   "id": "611a9ba3",
   "metadata": {},
   "outputs": [
    {
     "name": "stdout",
     "output_type": "stream",
     "text": [
      "List Methods:  ['__add__', '__class__', '__class_getitem__', '__contains__', '__delattr__', '__delitem__', '__dir__', '__doc__', '__eq__', '__format__', '__ge__', '__getattribute__', '__getitem__', '__gt__', '__hash__', '__iadd__', '__imul__', '__init__', '__init_subclass__', '__iter__', '__le__', '__len__', '__lt__', '__mul__', '__ne__', '__new__', '__reduce__', '__reduce_ex__', '__repr__', '__reversed__', '__rmul__', '__setattr__', '__setitem__', '__sizeof__', '__str__', '__subclasshook__', 'append', 'clear', 'copy', 'count', 'extend', 'index', 'insert', 'pop', 'remove', 'reverse', 'sort']\n",
      "String Methods:  ['__add__', '__class__', '__contains__', '__delattr__', '__dir__', '__doc__', '__eq__', '__format__', '__ge__', '__getattribute__', '__getitem__', '__getnewargs__', '__gt__', '__hash__', '__init__', '__init_subclass__', '__iter__', '__le__', '__len__', '__lt__', '__mod__', '__mul__', '__ne__', '__new__', '__reduce__', '__reduce_ex__', '__repr__', '__rmod__', '__rmul__', '__setattr__', '__sizeof__', '__str__', '__subclasshook__', 'capitalize', 'casefold', 'center', 'count', 'encode', 'endswith', 'expandtabs', 'find', 'format', 'format_map', 'index', 'isalnum', 'isalpha', 'isascii', 'isdecimal', 'isdigit', 'isidentifier', 'islower', 'isnumeric', 'isprintable', 'isspace', 'istitle', 'isupper', 'join', 'ljust', 'lower', 'lstrip', 'maketrans', 'partition', 'removeprefix', 'removesuffix', 'replace', 'rfind', 'rindex', 'rjust', 'rpartition', 'rsplit', 'rstrip', 'split', 'splitlines', 'startswith', 'strip', 'swapcase', 'title', 'translate', 'upper', 'zfill']\n"
     ]
    }
   ],
   "source": [
    "# define a list\n",
    "points_list = [0, 1, 2, 3, 4, 5, 6, 7, 8, 9, 10]\n",
    "\n",
    "# print the methods for lists\n",
    "print(\"List Methods: \", dir(points_list))\n",
    "\n",
    "# define a string\n",
    "string = \"I love Python!\"\n",
    "\n",
    "# print the methods of strings\n",
    "print(\"String Methods: \", dir(string))"
   ]
  },
  {
   "cell_type": "markdown",
   "id": "546db000",
   "metadata": {},
   "source": [
    "### __5.4 List comprehension__\n",
    "\n",
    "List comprehensions are a useful and elegant technique if you need to create a new list based on another list. \n",
    "Imagine you have a list of integers and want to raise each of them to the power of two. \n",
    "OR you have a list of fruits and want to filter all fruits, that contain the letter \"a\". \n",
    "You could write such code using loops and conditions, as learned above. \n",
    "List comprehensions do exactly the same but in a more conpact/concise way.\n",
    "\n",
    "The general syntax is:\n",
    "- ``[<Expression> for <Item> in <List> (if <Condition>)]``\n",
    "\n",
    "Instead of ``<List>`` you often have range-objects, i.e.:\n",
    "- ``[<Expression> for <Item> in range(n, m) (if <Condition>)]``\n",
    "\n",
    "Examples would be:\n",
    "- ``[2 ** x for x in range(11)]`` creates a list, with the values $2^0$, $2^1$, $2^3$, ... until $2^{11}$ $\\to$ [1, 2, 4, 8, 16, ..., 512, 1024]\n",
    "- ``[x for x in range(11) if x%2 == 0]`` takes all the even numbers between 0 and 10, because these have a modulo 2 of zero (i.e. no rest after the division by two).\n",
    "- ``[x for x in \"abcd\"]`` creates a list of the single letters [\"a\", \"b\", \"c\", \"d\"]\n",
    "- ``[x*2 for x in [1, 2, 3, 4]]`` multiplies each integer by two, [2, 4, 6, 8]"
   ]
  },
  {
   "cell_type": "code",
   "execution_count": 121,
   "id": "071c7f87",
   "metadata": {},
   "outputs": [
    {
     "name": "stdout",
     "output_type": "stream",
     "text": [
      "['Ebo', 'Erik', 'Eli']\n"
     ]
    }
   ],
   "source": [
    "# define list of names\n",
    "names = [\"Ebo\", \"Jia\", \"Erik\", \"Ji-Woo\", \"Anna\", \"Eli\", \"Rümeysa\"]\n",
    "\n",
    "# use list comprehension to create a list consisting only of names that start with \"E\"\n",
    "selection = [x for x in names if x.startswith(\"E\")]\n",
    "\n",
    "# print list with E-names\n",
    "print(selection)"
   ]
  },
  {
   "cell_type": "code",
   "execution_count": 122,
   "id": "fc77bddf",
   "metadata": {},
   "outputs": [
    {
     "name": "stdout",
     "output_type": "stream",
     "text": [
      "['EBO', 'JIA', 'ERIK', 'JI-WOO', 'ANNA', 'ELI', 'RÜMEYSA']\n"
     ]
    }
   ],
   "source": [
    "# use list comprehension create a new list where every item of the old names list is replaced with its uppercase equivalent\n",
    "upper = [x.upper() for x in names]\n",
    "\n",
    "# print list with uppercase names\n",
    "print(upper)"
   ]
  },
  {
   "cell_type": "markdown",
   "id": "b103c7b1",
   "metadata": {},
   "source": [
    "<div class=\"alert alert-block alert-info\">\n",
    "    <b>Exercise 5 </b>: Using list comprehension, create a list with all integers from 1 to 8. \n",
    "</div>"
   ]
  },
  {
   "cell_type": "code",
   "execution_count": 14,
   "id": "8ee3d366",
   "metadata": {},
   "outputs": [],
   "source": [
    "# Let's get active!\n",
    "\n",
    "\n"
   ]
  },
  {
   "cell_type": "markdown",
   "id": "eef6d52f",
   "metadata": {},
   "source": [
    "<div class=\"alert alert-block alert-info\">\n",
    "    <b>Exercise 6 </b>: Take every value in that list to the power of two. \n",
    "</div>"
   ]
  },
  {
   "cell_type": "code",
   "execution_count": 13,
   "id": "9d7b768b",
   "metadata": {},
   "outputs": [],
   "source": [
    "# Let's get active!\n",
    "\n",
    "\n",
    "\n"
   ]
  },
  {
   "cell_type": "markdown",
   "id": "e7533b61",
   "metadata": {},
   "source": [
    "### __5.5 Lambda Functions__\n",
    "\n",
    "Lambda Functions are small, anonymous  functions that can take multiple inputs, but only has one expression.\n",
    "They are anonymous, because the functions are unnamed, not like in ``def my_function(<Input>)``.\n",
    "\n",
    "The basic syntax is:\n",
    "- ``lambda <Input>: <Expression>``\n",
    "\n",
    "You could for example write a function to always add 1 to the input x:\n",
    "- ``lambda x: x + 1``\n",
    "- if you surround this anonymous function in parenthesis and add an input in brackets behind, you immediately apply the function, i.e. ``(lambda x: x + 1)(2)`` = ``lambda 2 : 2 + 1 `` = 3\n",
    "\n",
    "Lambda functions can also take multiple arguments,. These are listed without parenthesis, separated by comma. When callsing the function, however, the inputs have to be declared in brackets.\n",
    "- ``lambda a, b : a * b``\n",
    "- ``(lambda a, b : a * b)(5, 6)`` = ``lambda 5, 6: 5 * 6`` = 30\n",
    "\n",
    "The power of lambda function is better shown, when they are nested within other function, as small, unnamed helper functions.\n",
    "\n",
    "You can use then together with the ``map()`` function. ``map(<Operation>, <List>)`` applies a certain operation to every item of a list.\n",
    "- ``list(map(lambda x: x**2, range(11)))``, due to ``map`` we apply the lambda function with input x to every item of the ``range(11)``elements. This means, every integer 0, 1, ..., 10 is once the x in the lambda function, being raised to the power of two. Finally ``list()`` makes a list out of the result. This could equivalently be done using list comprehension. \n",
    "\n",
    "Combined with ``filter()`` you could filter items from a list, based on a lambda function\n",
    "- ``list(filter(lambda x: x < 50, range(100)))`` returns a list of all numbers between 0 and 99, that are smaller than 50 (this is what the lambda function did).\n",
    "\n",
    "[Source](https://realpython.com/python-lambda/)"
   ]
  },
  {
   "cell_type": "code",
   "execution_count": 123,
   "id": "cd2f9d17",
   "metadata": {},
   "outputs": [
    {
     "name": "stdout",
     "output_type": "stream",
     "text": [
      "['01/05/2018', '02/04/2013', '13/02/2017', '28/07/2016', '30/09/2018']\n"
     ]
    }
   ],
   "source": [
    "# define list of dates\n",
    "dates = [\"13/02/2017\", \"28/07/2016\", \"02/04/2013\", \"30/09/2018\", \"01/05/2018\"]\n",
    "\n",
    "# sort by default\n",
    "dates = sorted(dates)\n",
    "\n",
    "# print sorted dates\n",
    "print(dates)"
   ]
  },
  {
   "cell_type": "markdown",
   "id": "f65622fe",
   "metadata": {},
   "source": [
    "The problem with this sorting is, that `sorted()` sorts by the first number, the day.\n",
    "If we want to sort by year, lambda functions can help:"
   ]
  },
  {
   "cell_type": "code",
   "execution_count": 125,
   "id": "36b0fe8b",
   "metadata": {},
   "outputs": [
    {
     "name": "stdout",
     "output_type": "stream",
     "text": [
      "['02/04/2013', '28/07/2016', '13/02/2017', '30/09/2018', '01/05/2018']\n"
     ]
    }
   ],
   "source": [
    "# define list of dates\n",
    "dates = [\"13/02/2017\", \"28/07/2016\", \"02/04/2013\", \"30/09/2018\", \"01/05/2018\"]\n",
    "\n",
    "# sort by year\n",
    "dates = sorted(dates, key=lambda x: x.split('/')[-1])\n",
    "\n",
    "# here the lambda function specifies that we split at every slash, \n",
    "# and take the last element of the resulting list, meaning the year.\n",
    "# The sorting is then done based on these years.\n",
    "# The result however, does not show that we splitted.\n",
    "\n",
    "# print dates sorted by year\n",
    "print(dates)"
   ]
  },
  {
   "cell_type": "code",
   "execution_count": 126,
   "id": "4ebcd8d0",
   "metadata": {},
   "outputs": [
    {
     "name": "stdout",
     "output_type": "stream",
     "text": [
      "[16, 4, 26, 14]\n"
     ]
    }
   ],
   "source": [
    "# Another example: filtering\n",
    "\n",
    "# define list of numbers\n",
    "numbers = [3, 5, 16, 4, 26, 35, 7, 14]\n",
    "\n",
    "# filter list to only keep even numbers (where the modulo is zero, no rest)\n",
    "filtered = list(filter(lambda x: (x % 2 == 0), numbers))\n",
    "\n",
    "# print list with even numbers\n",
    "print(filtered)"
   ]
  },
  {
   "cell_type": "markdown",
   "id": "254bd511",
   "metadata": {},
   "source": [
    "<div class=\"alert alert-block alert-info\">\n",
    "    <b>Exercise 7 </b>: Create a list with all odd integers from 1 to 30 (using lambda functions). \n",
    "</div>"
   ]
  },
  {
   "cell_type": "code",
   "execution_count": 5,
   "id": "0760e700",
   "metadata": {},
   "outputs": [
    {
     "data": {
      "text/plain": [
       "[1, 3, 5, 7, 9, 11, 13, 15, 17, 19, 21, 23, 25, 27, 29]"
      ]
     },
     "execution_count": 5,
     "metadata": {},
     "output_type": "execute_result"
    }
   ],
   "source": [
    "# Let's get active\n",
    "\n",
    "odd_numbers  = list(filter(lambda x: (x % 2 == 1),range(1,31)))\n",
    "odd_numbers\n"
   ]
  },
  {
   "cell_type": "markdown",
   "id": "e67307a8",
   "metadata": {},
   "source": [
    "<div class=\"alert alert-block alert-info\">\n",
    "    <b>Exercise 8 </b>: Create a lambda expression that filters and returns values > 20.\n",
    "</div>"
   ]
  },
  {
   "cell_type": "code",
   "execution_count": 7,
   "id": "14e304cf",
   "metadata": {},
   "outputs": [
    {
     "data": {
      "text/plain": [
       "[21, 22, 23, 24, 25, 26, 27, 28, 29, 30]"
      ]
     },
     "execution_count": 7,
     "metadata": {},
     "output_type": "execute_result"
    }
   ],
   "source": [
    "# Let's get active\n",
    "\n",
    "larger_20 = list(filter(lambda x: (x > 20),range(1,31)))\n",
    "larger_20\n"
   ]
  },
  {
   "cell_type": "markdown",
   "id": "9e228c4e",
   "metadata": {},
   "source": [
    "<div class=\"alert alert-block alert-info\">\n",
    "    <b>Exercise 9 </b>: Create a lambda expression that performs integer division by 3.\n",
    "</div>"
   ]
  },
  {
   "cell_type": "code",
   "execution_count": 16,
   "id": "1e3929a8",
   "metadata": {},
   "outputs": [],
   "source": [
    "# Let's get active\n",
    "\n",
    "\n"
   ]
  }
 ],
 "metadata": {
  "kernelspec": {
   "display_name": "Python 3",
   "language": "python",
   "name": "python3"
  },
  "language_info": {
   "codemirror_mode": {
    "name": "ipython",
    "version": 3
   },
   "file_extension": ".py",
   "mimetype": "text/x-python",
   "name": "python",
   "nbconvert_exporter": "python",
   "pygments_lexer": "ipython3",
   "version": "3.13.0"
  }
 },
 "nbformat": 4,
 "nbformat_minor": 5
}
