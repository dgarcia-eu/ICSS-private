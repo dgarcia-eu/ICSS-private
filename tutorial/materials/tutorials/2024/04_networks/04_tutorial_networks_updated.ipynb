{
 "cells": [
  {
   "cell_type": "markdown",
   "id": "b6672b26-2cf8-439d-af23-37d37ad3c6a0",
   "metadata": {},
   "source": [
    "<div style=\"text-align: center;\" >\n",
    "<h1 style=\"margin-top: 0.2em; margin-bottom: 0.1em;\">Network Analysis in Python</h1>\n",
    "<h4 style=\"margin-top: 0.7em; margin-bottom: 0.3em; font-style:italic\">Investigating relationships between entities.</h4>\n",
    "</div>\n",
    "<br>"
   ]
  },
  {
   "cell_type": "markdown",
   "id": "795c5d4c-d60e-4d0d-9858-49f8e88fba9e",
   "metadata": {},
   "source": [
    "This tutroial notebook is about network analysis. We are going to learn what a network is, the different options to model a network and how to do all that in Python. "
   ]
  },
  {
   "cell_type": "markdown",
   "id": "e55da940-ddce-4cdc-a303-88374437deac",
   "metadata": {},
   "source": [
    "## __Structure__\n",
    "\n",
    "1. Abstract Data Structures \n",
    "\n",
    "2. Graph Theory\n",
    "\n",
    "    2.1 Network Theory\n",
    "\n",
    "\n",
    "3. The NetworkX package\n",
    "\n",
    "    3.1 Building a Graph\n",
    "\n",
    "    3.2 Directed Graphs\n",
    "    \n",
    "    3.3 Multi Graphs\n",
    "    \n",
    "    3.4 Layout Options\n",
    "\n",
    "4. Interactive Example\n"
   ]
  },
  {
   "cell_type": "markdown",
   "id": "be73767a-6c07-49e0-bb0f-c2e4a958baec",
   "metadata": {},
   "source": [
    "## __1. Abstract Data Structures__\n",
    "\n",
    "Recap: \n",
    "- We already got to know different types of data. The primitive data types are boolean, bytes, integer, floating etc.\n",
    "- We also know different operations that can be performed (depending on the data type) like addition, multiplication, division, smaller/greater, equals or not, modulo, logical or bitwise operations.\n",
    "\n",
    "\n",
    "\n",
    "#### Data Structures: \n",
    "\n",
    "*Data types* together with *operations defined on these data* that enable and realize access to and management of these data.\n",
    "\n",
    "\n",
    "**Examples** of abstract data structures we already know (from the lecture):\n",
    "* Arrays: systematic arrangement, usually in rows and columns.\n",
    "* ((Doubly/Circular) Linked) Lists: Linear arrangement of data elements (called nodes), each with a pointer to the next node.\n",
    "* Dictionaries: collection of key-value pairs, where each key is unique (appears at most once in the collection.\n",
    "* Binary Trees: either empty or a structure that consists of one node which has at max. two children (the left and the right child), which are binary trees themselves. \n",
    "* Hash Tables\n",
    "\n",
    "Some **new abstract data structures** are:\n",
    "* Queues: linear data structure, following the First-In-First-Out principle (FIFO)\n",
    "    * Operations are enqueue and dequeue\n",
    "* Stacks: linear data structure, following the Last-In-First-Out principle (LIFO)\n",
    "    * Operations are push and pop\n",
    "* **Graphs**: very intuitive way of modeling networks or relations (interdependencies) between entities\n",
    "    * graphs consist of vertices and edges\n",
    "    * Vertices: represent any kind of entitiy and can be labeled or not i.e. cities\n",
    "    * Edges: represent the relationship (labeled or not, directed or undirected) between the vertices, i.e. roads between cities"
   ]
  },
  {
   "cell_type": "markdown",
   "id": "673f5409-db7c-4fba-87cc-a962039e5c75",
   "metadata": {},
   "source": [
    "## __2. Graph Theory__\n",
    "\n",
    "*Graph Theory* is the study of graphs, which are data structures to model relationships between objects or entities.\n",
    "\n",
    "Formally, a graph is defined as G = (V, E), where V is the set of all vertices and E the set of all edges.\n",
    "* If we have a **directed graph**, the tuples in E are ordered pairs (v_1, v_2) (--> edge from v_1 to v_2). \n",
    "* If the graph is **undirected**, the tuples are unordered, i.e. {v_1, v_2} \n",
    "\n",
    "In an abstract data structure, Graphs are represented by **adjacency matrices** or **adjacency lists** \n",
    "\n",
    "* Adjacency matrix read from row to column (arrow from row to column)\n",
    "* Adjacency list\n",
    "\n",
    "\n",
    "#### __2.1 Networks__\n",
    "\n",
    "*Network Theory* is a part of graph theory, where you define networks as graphs\n",
    "\n",
    "- A collection of interconnected entities (the nodes)\n",
    "- Edges express the relationship between these entities\n",
    "- Can be found in many contexts \n",
    "    * Social science: Social Media Networks or Friendships $\\to$ group dynamics/find key influencers, behaviour adaption, spread of ideas/knowledge\n",
    "    * Transportation: Streets/Railways connecting cities $\\to$ what are efficient routes, what are bottlenecks\n",
    "    * Technology: Laptops/technical devices being connected over i.e. the internet $\\to$ understand the structure of an organisation\n",
    "    * Biological systems: Cells or proteins and their (chemical) interactions\n",
    "\n",
    "- Networks can be analysed with respect to \n",
    "    * the type of connection (directed/undirected, weighted, how many edges?) \n",
    "    * how information/ideas are spread? How is influencing whom?\n",
    "    * the number of nodes they contain: how does the network change over i.e. time (new nodes coming in, old ones dropping out, how do the patters change?)\n",
    "    * the pattern: how close are nodes, are there communities or groups of individuals?\n",
    "\n",
    "- Analyzing networks can be done by\n",
    "    * network visualization: overall structure/organisation of the network (our focus today)\n",
    "    * centrality measures: how central/important is a certain node? (learn more i.e. in \"Social Media Data Analysis\" next semester)\n",
    "\n",
    "\n",
    "Graphic representation, Adjacency Matrix (read row to colum), Adjacency List\n",
    "\n",
    "![title](src/Network_Illustration.png)\n",
    "![title](src/Adjacency_Matrix.png)\n",
    "![title](src/Adjacency_List.png)\n"
   ]
  },
  {
   "cell_type": "markdown",
   "id": "2064dff6-ae19-46f8-9ff6-b76e8d6bf229",
   "metadata": {},
   "source": [
    "## __3. The NetworkX package__"
   ]
  },
  {
   "cell_type": "markdown",
   "id": "431f6178-8435-472b-bda4-fafd56d75ea0",
   "metadata": {},
   "source": [
    "The package we are going to use for our network analysis in Python is `networX`. See the [networX-Tutorial](https://networkx.org/documentation/stable/tutorial.html) for further information."
   ]
  },
  {
   "cell_type": "code",
   "execution_count": null,
   "id": "1d13e741",
   "metadata": {},
   "outputs": [],
   "source": [
    "# uncomment & run, in case you haven't installed it yet\n",
    "\n",
    "#!pip install networkx"
   ]
  },
  {
   "cell_type": "code",
   "execution_count": null,
   "id": "bffb5236-8e62-439f-88b8-8fad16c9ab34",
   "metadata": {},
   "outputs": [],
   "source": [
    "# Import the required packages\n",
    "import networkx as nx\n",
    "import pandas as pd\n",
    "import numpy as np\n",
    "\n",
    "# and later, for plotting\n",
    "import matplotlib.pyplot as plt\n",
    "import matplotlib"
   ]
  },
  {
   "cell_type": "markdown",
   "id": "29c7eb17-c0a4-42cf-bac3-b69acd664265",
   "metadata": {},
   "source": [
    "#### __3.1 Building a Graph:__\n",
    "\n",
    "In order to create a network we start of by inizialising an empty network without nodes or edges."
   ]
  },
  {
   "cell_type": "code",
   "execution_count": null,
   "id": "dd4df8f2-78f8-45f7-8b56-789d2817c414",
   "metadata": {},
   "outputs": [],
   "source": [
    "G = nx.Graph()\n",
    "\n",
    "# empty graph\n",
    "nx.draw(G)"
   ]
  },
  {
   "cell_type": "markdown",
   "id": "c990542b-eec2-4b4b-95c6-bf575cad76ec",
   "metadata": {},
   "source": [
    "__Adding nodes:__\n",
    "\n",
    "Since a network without nodes and edges is kind of useless and boring, we should start by adding nodes. \n",
    "Let's assume we are modelling a group of friends.\n",
    "\n",
    "Adding nodes (people) can be done either node, by node..."
   ]
  },
  {
   "cell_type": "code",
   "execution_count": null,
   "id": "dc5b764c-5e1e-47c1-9e67-42c0923089cb",
   "metadata": {},
   "outputs": [],
   "source": [
    "# Adding a first node\n",
    "G.add_node('Peter')\n",
    "\n",
    "# draw\n",
    "nx.draw(G, with_labels = True)"
   ]
  },
  {
   "cell_type": "code",
   "execution_count": null,
   "metadata": {},
   "outputs": [],
   "source": [
    "# Adding a second node\n",
    "G.add_node('Thomas')\n",
    "\n",
    "nx.draw(G, with_labels = True)"
   ]
  },
  {
   "cell_type": "markdown",
   "id": "0f097654-b616-471a-b764-ba1e26bf33c3",
   "metadata": {},
   "source": [
    "...or by adding the nodes from an iterable thing like lists:"
   ]
  },
  {
   "cell_type": "code",
   "execution_count": null,
   "id": "2ad35033-9f9c-4014-bda0-b9bde2b861b7",
   "metadata": {},
   "outputs": [],
   "source": [
    "# adding mutliple nodes (people) at once (from an iterable element, like a list)\n",
    "G.add_nodes_from(['Peter', 'Thomas', 'Anna'])\n",
    "\n",
    "nx.draw(G, with_labels = True)"
   ]
  },
  {
   "cell_type": "markdown",
   "metadata": {},
   "source": [
    "Using the `.nodes` method, we can see the currently present nodes in a graph. "
   ]
  },
  {
   "cell_type": "code",
   "execution_count": null,
   "metadata": {},
   "outputs": [],
   "source": [
    "# View nodes\n",
    "G.nodes"
   ]
  },
  {
   "cell_type": "markdown",
   "id": "236b0b7e-f743-4796-86e4-d2ae2f83e4b6",
   "metadata": {},
   "source": [
    "__Adding attributes:__\n",
    "\n",
    "Since nodes represent entities they can have certain characteristics: i.e. politicians have a party-affiliation, people have a gender, age etc.\n",
    "We might want to store these attributes/metadata along with the respective node.\n",
    "\n",
    "These attributes can also be passed on in iterables using 2-tuples `[(node, attribute), (node, attribute), (node, attribute), ...]`"
   ]
  },
  {
   "cell_type": "code",
   "execution_count": null,
   "id": "2c18d28f-7132-4a42-b7ac-00572d11b7d4",
   "metadata": {},
   "outputs": [],
   "source": [
    "# a new node with attribute\n",
    "G.add_node('Tabea', age='27')\n",
    "\n",
    "# adding an attribute to an existing node\n",
    "G.nodes['Thomas']['gender'] = 'male'\n",
    "\n",
    "# attributes for several nodes\n",
    "G.add_nodes_from([('Peter', {\"gender\": \"male\", \"age\" : \"23\"}), ('Anna', {\"gender\": \"female\"})])\n",
    "\n",
    "# get information on all nodes with attributes\n",
    "# node 1-3 have gender, node 4 has an age\n",
    "G.nodes.data()\n",
    "\n",
    "#G.nodes['Peter']\n",
    "#G.nodes(data = True) # equivalent"
   ]
  },
  {
   "cell_type": "code",
   "execution_count": null,
   "metadata": {},
   "outputs": [],
   "source": [
    "# nodes can also have multiple attributes\n",
    "# also adding Tabeas gender\n",
    "G.nodes['Tabea']['gender'] = 'female'\n",
    "\n",
    "# adding a favorite color of every person\n",
    "G.add_nodes_from([('Peter', {\"color\": \"blue\"}), ('Thomas', {'color' : 'purple'}), ('Anna', {\"color\": \"green\"}), ('Tabea', {'color' : 'orange'})])\n",
    "\n",
    "\n",
    "G.nodes.data()"
   ]
  },
  {
   "cell_type": "code",
   "execution_count": null,
   "id": "a73b1af3",
   "metadata": {},
   "outputs": [],
   "source": [
    "G.nodes()\n",
    "\n",
    "color_list = [c for n,c in G.nodes(data='color')]\n",
    "color_list"
   ]
  },
  {
   "cell_type": "code",
   "execution_count": null,
   "metadata": {},
   "outputs": [],
   "source": [
    "# in order to visualize the people in their favorite color, we first need to extract the colors from the nodes attributes into a list\n",
    "\n",
    "nx.draw(G, node_color = [c for n,c in G.nodes(data='color')], with_labels = True)"
   ]
  },
  {
   "cell_type": "code",
   "execution_count": null,
   "metadata": {},
   "outputs": [],
   "source": [
    "# Get nodes directly connected to another\n",
    "\n",
    "G.adj['Peter']  # or list(G.neighbors(1))\n",
    "\n",
    "# empty, we have to add edges!"
   ]
  },
  {
   "cell_type": "markdown",
   "id": "18ef03b9-33a2-48a8-a2b3-2758161c0e80",
   "metadata": {},
   "source": [
    "__Adding edges:__\n",
    "\n",
    "Well, usually we will construct networks to visualize relationships. So we need to add edges, representing these connections.\n",
    "In our example, we need to add the relationships between the people.\n",
    "\n",
    "Like nodes, edges can also be added to the graph step by step:"
   ]
  },
  {
   "cell_type": "code",
   "execution_count": null,
   "id": "b50ebf2d-ce0b-4e66-a818-615c5ac2eba4",
   "metadata": {},
   "outputs": [],
   "source": [
    "# add an edge from 1 to 2\n",
    "G.add_edge('Thomas', 'Peter')\n",
    "\n",
    "nx.draw(G, node_color = [c for n,c in G.nodes(data='color')], with_labels = True) "
   ]
  },
  {
   "cell_type": "markdown",
   "metadata": {},
   "source": [
    "Of course, also edges can have attributes, for example a weight, indicating how strong the connection is or the kind of relationships between people."
   ]
  },
  {
   "cell_type": "code",
   "execution_count": null,
   "metadata": {},
   "outputs": [],
   "source": [
    "# edge with an attribute indicating how close people (weight) are and what their relationship is (label)\n",
    "\n",
    "G.add_edge('Thomas', 'Peter', weight = 8, label = 'Kindergarden Friends')\n",
    "G.add_edge('Thomas', 'Anna', weight = 30, label = 'Siblings')\n",
    "\n",
    "nx.draw(G, node_color = [c for n,c in G.nodes(data='color')], with_labels = True)"
   ]
  },
  {
   "cell_type": "markdown",
   "metadata": {},
   "source": [
    "***\n",
    "### **Note on Edge Weights**\n",
    "\n",
    "In the plot above, the edge weights are not yet considered. This is, because we did not define a explicit layout algorithm that (can) account for weights. \n",
    "\n",
    "To my knowledge, the default random layout (default) does not consider weights. \n",
    "***\n",
    "\n",
    "\n"
   ]
  },
  {
   "cell_type": "markdown",
   "id": "4810fc4e",
   "metadata": {},
   "source": [
    "To visualize the relationships with their attributes, we need some extra steps:"
   ]
  },
  {
   "cell_type": "code",
   "execution_count": null,
   "metadata": {},
   "outputs": [],
   "source": [
    "# inspect edges\n",
    "G.edges(data = True)"
   ]
  },
  {
   "cell_type": "code",
   "execution_count": null,
   "metadata": {},
   "outputs": [],
   "source": [
    "# First, we need to extract the relationship labels for plotting into a separate dictionary\n",
    "# (loop over edges (consisting of person1, person2, attribut_dict) and extract p1 and p2 together with their relation (a['label]))\n",
    "\n",
    "edge_labels = dict([((p1, p2), a['label']) for p1, p2, a in G.edges(data=True)])\n",
    "\n",
    "edge_labels"
   ]
  },
  {
   "cell_type": "markdown",
   "id": "83e97d9b",
   "metadata": {},
   "source": [
    "***\n",
    "### **Visualize Edge Weights:**\n",
    "\n",
    "In order to visualize the edge weights, we now define an explicit layout, namely the spring layout (read more [here](https://networkx.org/documentation/latest/reference/generated/networkx.drawing.layout.spring_layout.html)).\n",
    "\n",
    "This layout does take weights into account. More specifically, the **weights influence the distance of nodes inversly**. This means:\n",
    "* if Thomas and Anna, as siblings, have a weight of i.e. 30, their distance will be 1/30, meaning they are relatively close\n",
    "* compared to that, Thomas and Peter, whose weight is 8, result in a 1/8 distance apart\n",
    "\n",
    "\n",
    "***\n",
    "Be aware that for other layout algorithms, i.e. [fruchterman_reingold_layout](https://networkx.org/documentation/networkx-1.11/reference/generated/networkx.drawing.layout.fruchterman_reingold_layout.html) and [kamada_kawai_layout](https://networkx.org/documentation/stable/reference/generated/networkx.drawing.layout.kamada_kawai_layout.html) this changes.\n",
    "\n",
    "Here, the **weights are interpreted as actual distance**, meaning a higher weight makes nodes further apart. \n",
    "To use edge weights inversely in these layouts, you'll need to explicitly define this: for example, extracting an edge weight and mapping its inverse to a new edge attribute 'distance', which can then be passed as the weight parameter in the layouts.\n",
    "\n",
    "```\n",
    "for node_1, node_2, dict in G.edges(data = True):\n",
    "   G[node_1][node_2]['distance'] = 1 / G[node_1][node_2]['weight']\n",
    "```\n",
    "***"
   ]
  },
  {
   "cell_type": "code",
   "execution_count": null,
   "metadata": {},
   "outputs": [],
   "source": [
    "# Second, we need to define a fixed layout, to ensure that the plotting of the \n",
    "# networks nodes and edge-labels happens in the same position\n",
    "\n",
    "layout = nx.spring_layout(G, weight='weight') # taking a layout that can consider weights\n",
    "\n",
    "# plot network\n",
    "nx.draw(G, pos = layout, node_color = [c for n,c in G.nodes(data='color')], with_labels = True)\n",
    "# add edge labels\n",
    "nx.draw_networkx_edge_labels(G, pos = layout, edge_labels = edge_labels, font_size=8)"
   ]
  },
  {
   "cell_type": "markdown",
   "id": "11bb0281-bc0e-4a13-b62a-c800dc54ebd2",
   "metadata": {},
   "source": [
    "Again, we can also using an iterable object of 2-tuples (the two nodes that shall be connected) or 3-tuples (having an additional attribute) to add edges:"
   ]
  },
  {
   "cell_type": "code",
   "execution_count": null,
   "id": "acf5ca18-eb63-41a4-a4ba-e53709d52c04",
   "metadata": {},
   "outputs": [],
   "source": [
    "# adding edges from iterables\n",
    "#G.add_edges_from([('Peter', 'Anna'), ('Peter', 'Tabea)])\n",
    "\n",
    "# and with attributes\n",
    "G.add_edges_from([('Peter', 'Anna', {'weight': 70, 'label' : 'Couple'}), ('Peter', 'Tabea', {'weight': 1, 'label' : 'Ex-Partner'})])\n",
    "\n",
    "\n",
    "# update relations-dictionary\n",
    "edge_labels = dict([((p1, p2), a['label']) for p1, p2, a in G.edges(data=True)])\n",
    "\n",
    "# plot\n",
    "nx.draw(G, pos = layout, node_color = [c for n,c in G.nodes(data='color')], with_labels = True)\n",
    "nx.draw_networkx_edge_labels(G, pos = layout, edge_labels = edge_labels, font_size=8)"
   ]
  },
  {
   "cell_type": "code",
   "execution_count": null,
   "metadata": {},
   "outputs": [],
   "source": [
    "# inspecting edges\n",
    "G.edges()\n",
    "\n",
    "\n",
    "\n",
    "print('Number of edges incident to node Peter: ', end='')\n",
    "print(G.degree['Peter'])  # the number of edges incident to 1 --> only node nr. 1\n"
   ]
  },
  {
   "cell_type": "markdown",
   "id": "dc9b96d7-679d-48d3-828a-6e0f23fe5e5d",
   "metadata": {},
   "source": [
    "__Removing nodes or edges:__\n",
    "\n",
    "In general, this works analogue to adding nodes or edges:\n",
    "\n",
    "Tabea is quiet far from the rest of the group. She and Peter broke off contact years ago, when Peter met Anna. Therefore, she is not relevant anymore and we can remove her from the network."
   ]
  },
  {
   "cell_type": "code",
   "execution_count": null,
   "id": "168d0da7-2e5d-4cc6-9966-674551c5a7fa",
   "metadata": {},
   "outputs": [],
   "source": [
    "# remove a single node\n",
    "G.remove_node('Tabea')\n",
    "\n",
    "# plot\n",
    "nx.draw(G, pos = layout, node_color = [c for n,c in G.nodes(data='color')], with_labels = True)\n",
    "nx.draw_networkx_edge_labels(G, pos = layout, edge_labels = edge_labels, font_size=8)"
   ]
  },
  {
   "cell_type": "code",
   "execution_count": null,
   "metadata": {},
   "outputs": [],
   "source": [
    "# removing all nodes and edges\n",
    "G.clear()"
   ]
  },
  {
   "cell_type": "code",
   "execution_count": null,
   "id": "a5c8afee",
   "metadata": {},
   "outputs": [],
   "source": [
    "nx.draw(G)"
   ]
  },
  {
   "cell_type": "markdown",
   "id": "14c2742e-a5f9-4f4d-aa7b-abae85abf5e2",
   "metadata": {},
   "source": [
    "#### __3.2 Directed Graphs:__\n",
    "\n",
    "[NetworkX](https://networkx.org/documentation/stable/reference/classes/digraph.html) also enables us to build directed graphs. This means the edges don't just connect two nodes (without a direction), but are an arrow pointing from the first node to the second one.\n",
    "\n",
    "For example, \n",
    "* While Peter is now in love with Anna (and vice versa), Tabea might still have feelings for him, but he does not have feelings for her.\n",
    "* If we were to model a Twitter network in terms of followers, for example, we would use directed graphs as a person A can follow B without B also following A.\n",
    "\n",
    "To see how to build such directed graphs, we now want to model a supply chain."
   ]
  },
  {
   "cell_type": "code",
   "execution_count": null,
   "id": "37d55b6f",
   "metadata": {},
   "outputs": [],
   "source": [
    "nx.relabel_nodes(G, {\"Peter\" : \"PETER\"})"
   ]
  },
  {
   "cell_type": "code",
   "execution_count": null,
   "id": "fc2cfc67-e487-4843-81fb-af54a2f35e68",
   "metadata": {},
   "outputs": [],
   "source": [
    "# initialize an empty directed graph\n",
    "DG = nx.DiGraph()\n",
    "\n",
    "# add edges (will also automatically add the nodes)\n",
    "DG.add_weighted_edges_from([('Supplier1', 'Production', 1), ('Supplier2', 'Production', 1), ('Production', 'Retailer', 1.5), ('Retailer', 'Customer', 1000)])\n",
    "\n",
    "\n",
    "layout = nx.random_layout(DG, seed = 28) # Set a seed to fix the random layout for reproducability --> in the random layout, weights are not considered1\n",
    "\n",
    "nx.draw(DG, pos = layout, with_labels = True)"
   ]
  },
  {
   "cell_type": "markdown",
   "id": "a9625e7e-2b32-4411-939d-e0c48fed0ee0",
   "metadata": {},
   "source": [
    "#### __3.3 Multi Graphs:__\n",
    "\n",
    "With [Multi Graphs](https://networkx.org/documentation/stable/reference/classes/multigraph.html) you can add several, distinct egdes connecting the same two nodes.\n",
    "\n",
    "[Multi Directed Graphs](https://networkx.org/documentation/stable/reference/classes/multidigraph.html) allow several, directed edges between two nodes.\n",
    "\n",
    "Visualizing these different edges can get quiet tricky. \n",
    "\n"
   ]
  },
  {
   "cell_type": "code",
   "execution_count": null,
   "id": "90167ca4-1daf-4600-bc2c-2243aea8c68f",
   "metadata": {},
   "outputs": [],
   "source": [
    "MG = nx.MultiGraph()\n",
    "\n",
    "MG.add_edges_from([(1, 2), (1, 2), (2, 3), (1, 3)])\n",
    "\n",
    "print(MG.edges) # there actually exist two edges between 1 and 2\n",
    "\n",
    "nx.draw(MG, with_labels = True)"
   ]
  },
  {
   "cell_type": "markdown",
   "id": "8ddfbbb3-a026-41bb-8ae9-c1f59d751248",
   "metadata": {},
   "source": [
    "#### __3.4 Layout Options__\n",
    "\n",
    "When visualizing the networks we constructed, a useful parameter is the 'pos' parameter, where you can specify a layout.\n",
    "The layout is an algorithm determining the nodes positioning in the drawing.\n",
    "If not specified, the layout will be chosen randomly (resultingly, graphs may look different with every code re-run).\n",
    "\n",
    "Layout options are: [more details](https://networkx.org/documentation/stable/reference/drawing.html)\n",
    "* `shell_layout` : position nodes in concentric circles\n",
    "* `circular_layout`: positions nodes on a circle\n",
    "* `planar_layout`: position nodes without edge intersections\n",
    "* `kamada_kawai_layout` : position nodes using Kamada-Kawai path-length cost-function -> good for community detection\n",
    "* `spring_layout`\n",
    "* `spectral_layout`\n",
    "\n",
    "Usually, you will need to research an appropriate layout for your current analysis or play around with different layouts until you reach an insightful plot."
   ]
  },
  {
   "cell_type": "markdown",
   "metadata": {},
   "source": [
    "***"
   ]
  },
  {
   "cell_type": "markdown",
   "metadata": {},
   "source": [
    "## __4. Interactive Tutorial Part__\n",
    "\n",
    "In this part we are going to investigate the network structre behind swiss politicans tweets. \n",
    "\n",
    "#### a) Import the data\n",
    "\n",
    "\n",
    "Import the two provided csv-files containing \n",
    "1. the user profiles\n",
    "2. the twitter timeline between 2021-07-12 and 2022-07-12\n",
    "\n",
    "Make sure to load the columns \n",
    "* \"id\" \n",
    "* \"author_id\" and \n",
    "* \"retweet_user_id\" \n",
    "as strings (loading them as integers might cause issues).\n",
    "\n",
    "*Hint:* the `converters` argument in pd.read_csv might be helpful"
   ]
  },
  {
   "cell_type": "code",
   "execution_count": null,
   "metadata": {},
   "outputs": [],
   "source": [
    "# import packages\n",
    "import networkx as nx\n",
    "import pandas as pd"
   ]
  },
  {
   "cell_type": "code",
   "execution_count": null,
   "metadata": {},
   "outputs": [],
   "source": [
    "# Let's get active\n",
    "\n",
    "users = pd.read_csv(\"data/users.csv\", converters={'id': str})\n",
    "timelines_all = pd.read_csv(\"data/timelines.csv\", converters = {'author_id' : str, 'retweet_user_id':str})"
   ]
  },
  {
   "cell_type": "code",
   "execution_count": null,
   "id": "63a0f75d",
   "metadata": {},
   "outputs": [],
   "source": [
    "users"
   ]
  },
  {
   "cell_type": "code",
   "execution_count": null,
   "id": "69938346",
   "metadata": {},
   "outputs": [],
   "source": [
    "timelines_all"
   ]
  },
  {
   "cell_type": "markdown",
   "metadata": {},
   "source": [
    "#### b) Filter out the irrelevant tweets from the timelines dataframe. \n",
    "\n",
    "Only those tweets should remain in the dataframe, where the \"retweet_user_id\" corresponds to the \"user_id\" of one of the politicians. \\\n",
    "*Hint:* the `.isin()` function might come in handy and you can find the \"user_id\" of the politicians in the \"users\" dataframe."
   ]
  },
  {
   "cell_type": "code",
   "execution_count": null,
   "metadata": {},
   "outputs": [],
   "source": [
    "# Let's get active\n"
   ]
  },
  {
   "cell_type": "markdown",
   "metadata": {},
   "source": [
    "#### c) Construct a list of vertices (nodes) \n",
    "\n",
    "The node attributes should containin the user ids, screen_names, and the political party label of the vertices.\n",
    "\n",
    "The node list should have the form:\n",
    "\n",
    "[('25254764', {'username': 'andreaskirstein', 'party': 'AL'}),\n",
    "('472372843', {'username': 'bergerwthur', 'party': 'AL'}),\n",
    "...]"
   ]
  },
  {
   "cell_type": "code",
   "execution_count": null,
   "metadata": {},
   "outputs": [],
   "source": [
    "# From looking at the df\n",
    "users\n",
    "# we can see that we are interested in the columns: id, username, party"
   ]
  },
  {
   "cell_type": "code",
   "execution_count": null,
   "metadata": {},
   "outputs": [],
   "source": [
    "# We can acces them as\n",
    "users['id']\n",
    "\n",
    "# and one entry\n",
    "users['id'].iloc[100]"
   ]
  },
  {
   "cell_type": "markdown",
   "metadata": {},
   "source": [
    "Utilize this to iterate over each user, and extract his/her id, username and party affiliation into the desired format (shown above)."
   ]
  },
  {
   "cell_type": "code",
   "execution_count": null,
   "metadata": {},
   "outputs": [],
   "source": [
    "# Let's get active\n",
    "vertices = []\n",
    "\n",
    "\n"
   ]
  },
  {
   "cell_type": "markdown",
   "metadata": {},
   "source": [
    "#### d) Then build a list of connections between politicians (the edges), \n",
    "\n",
    "Every edge is a pair of two users that exchanged *at least* one retweet with each other (*regardless* of the direction). \n",
    "\n",
    "The edge list should have the form: \n",
    "\n",
    "[('25254764', '2353332248'),\n",
    "('25254764', '778497337'),\n",
    "...]\n"
   ]
  },
  {
   "cell_type": "markdown",
   "metadata": {},
   "source": [
    "__Think for a moment:__\n",
    "\n",
    "How would you conceptually approach this task?\n",
    "\n",
    "* Where do you need to loop over? \n",
    "* What do you need to compare? \n",
    "* How can you ensure each pair is only listes once (independant of the order)?"
   ]
  },
  {
   "cell_type": "code",
   "execution_count": null,
   "metadata": {},
   "outputs": [],
   "source": [
    "# New list, to store the unique retweet-relations, the edges\n",
    "edges = []\n",
    "\n",
    "# Let's get active\n",
    "\n",
    "\n"
   ]
  },
  {
   "cell_type": "markdown",
   "metadata": {},
   "source": [
    "#### e) Create and empty graph object, and then add the nodes and the edges (from the list you created)."
   ]
  },
  {
   "cell_type": "code",
   "execution_count": null,
   "metadata": {},
   "outputs": [],
   "source": [
    "# Let's get active\n"
   ]
  },
  {
   "cell_type": "markdown",
   "metadata": {},
   "source": [
    "#### f) Plot the network. \n",
    "\n",
    "Make sure to color the nodes according to the political party label of the politician and add a legend to the plot.\n",
    "\n",
    "*Hint:* use the optional function parameters `nodelist` and `node_color` to pass a list of nodes and a list of corresponding colors to the drawing function.\n"
   ]
  },
  {
   "cell_type": "code",
   "execution_count": null,
   "metadata": {},
   "outputs": [],
   "source": [
    "# Import packages\n",
    "import matplotlib.pyplot as plt\n",
    "import matplotlib"
   ]
  },
  {
   "cell_type": "markdown",
   "metadata": {},
   "source": [
    "##### 1) Color-Dictionary depending on party"
   ]
  },
  {
   "cell_type": "code",
   "execution_count": null,
   "metadata": {},
   "outputs": [],
   "source": [
    "# Dictionary with the party colors (manually defined)\n",
    "colors = {'AL': \"firebrick\", 'BDP': 'yellow', 'CVP' : \"orange\", 'EDU': \"red\", 'EVP': \"gold\", \n",
    "          'FDP': 'deepskyblue', 'GLP' : \"limegreen\", 'Green' : \"greenyellow\", 'SP' : \"coral\", \n",
    "          'SVP' : \"seagreen\", 'UP' : \"goldenrod\"}\n"
   ]
  },
  {
   "cell_type": "markdown",
   "metadata": {},
   "source": [
    "##### 2) Create a list of colors, in the same order as the nodes (politicians) $\\to$ needed for plotting\n",
    "\n",
    "Therefore, you need to iterate over the vertices (nodes), get the party affiliation of the current politician and depending in that one, add the color from the dictionary."
   ]
  },
  {
   "cell_type": "code",
   "execution_count": null,
   "metadata": {},
   "outputs": [],
   "source": [
    "# List to store the colors\n",
    "node_color = []\n"
   ]
  },
  {
   "cell_type": "code",
   "execution_count": null,
   "metadata": {},
   "outputs": [],
   "source": [
    "# inspect the vertices, how can we access the party label of a single politician?\n",
    "\n",
    "vertices"
   ]
  },
  {
   "cell_type": "code",
   "execution_count": null,
   "metadata": {},
   "outputs": [],
   "source": [
    "# Let's get active\n"
   ]
  },
  {
   "cell_type": "markdown",
   "metadata": {},
   "source": [
    "Now, we have the nodes, the edges and the reffering color for each node (politician).\n",
    "\n",
    "We can start plotting!\n",
    "\n",
    "Play around with layouts, the `node_size` and `width` parameter and dont forget to add the colors."
   ]
  },
  {
   "cell_type": "code",
   "execution_count": null,
   "metadata": {},
   "outputs": [],
   "source": [
    "# Set a figure size\n",
    "plt.figure(figsize = (15, 10))\n",
    "\n",
    "\n",
    "\n",
    "# Choose/Play around with a layout \n",
    "\n",
    "\n",
    "\n",
    "# Plot the network\n",
    "\n"
   ]
  },
  {
   "cell_type": "markdown",
   "metadata": {},
   "source": [
    "To make the plot more comprehensive, you can also add a title as well as a legend, explaining the party colors "
   ]
  },
  {
   "cell_type": "code",
   "execution_count": null,
   "metadata": {},
   "outputs": [],
   "source": [
    "# set figure size\n",
    "plt.figure(figsize = (15, 10))\n",
    "\n",
    "\n",
    "# define a legend:\n",
    "\n",
    "\n",
    "# make the legend\n",
    "\n",
    "\n",
    "# set a title\n",
    "\n",
    "\n",
    "# draw\n",
    "\n"
   ]
  }
 ],
 "metadata": {
  "kernelspec": {
   "display_name": "base",
   "language": "python",
   "name": "python3"
  },
  "language_info": {
   "codemirror_mode": {
    "name": "ipython",
    "version": 3
   },
   "file_extension": ".py",
   "mimetype": "text/x-python",
   "name": "python",
   "nbconvert_exporter": "python",
   "pygments_lexer": "ipython3",
   "version": "3.12.4"
  }
 },
 "nbformat": 4,
 "nbformat_minor": 5
}
