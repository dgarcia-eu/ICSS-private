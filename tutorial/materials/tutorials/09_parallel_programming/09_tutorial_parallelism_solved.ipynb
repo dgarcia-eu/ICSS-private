{
 "cells": [
  {
   "cell_type": "markdown",
   "id": "b05abdd7-4583-4e74-9686-0ed93481d6a6",
   "metadata": {},
   "source": [
    "<div style=\"text-align: center;\" >\n",
    "<h1 style=\"margin-top: 0.2em; margin-bottom: 0.1em;\">Parallelism</h1>\n",
    "<img src=\"sources/parallel_meme.jpg\" alt=\"How can I finish this assignment faste?!\" style=\"width:400px;height:400px;\">\n",
    "</div>\n",
    "<br>"
   ]
  },
  {
   "cell_type": "markdown",
   "id": "63421bf9-0297-4734-a443-4ea6c68b0e01",
   "metadata": {},
   "source": [
    "***If you're looking at this notebook online (GitHub) the images won't load correctly. To view them please download/pull the the notebook along with the 'sources' folder and view the notebook on your local machine***"
   ]
  },
  {
   "cell_type": "markdown",
   "id": "f716f7a3-caf2-4b3c-b5a6-834ebdd3670e",
   "metadata": {},
   "source": [
    "***Please use the following link in order to take part in the in-session quizzes:***<br>\n",
    "https://strawpoll.com/wAg3QEJAdy8"
   ]
  },
  {
   "cell_type": "code",
   "execution_count": 3,
   "id": "8c671972-4d3d-40a0-8f7a-16eff0f18070",
   "metadata": {},
   "outputs": [],
   "source": [
    "import time               # used to track run times\n",
    "import threading          # used for multi threading\n",
    "import os                 # used to check for available computing cores\n",
    "import requests           # used for 'standard' web scraping\n",
    "import aiohttp            # used for multi threaded web scraping\n",
    "import asyncio            # used for writing async functions\n",
    "import json               # work with json files\n",
    "import multiprocessing    # used for multi processing"
   ]
  },
  {
   "cell_type": "markdown",
   "id": "80b8b75f-e0dc-4045-a914-ec49ec53e7ca",
   "metadata": {},
   "source": [
    "***Note: Depending on the IDE you use asyncio works a bit different. It has to do with something called 'event loop'. Check out this [post](https://stackoverflow.com/questions/55409641/asyncio-run-cannot-be-called-from-a-running-event-loop-when-using-jupyter-no) for more info regarding asyncio and jupyter.***"
   ]
  },
  {
   "cell_type": "markdown",
   "id": "4968866b-234a-4d3a-9b63-295336daa65e",
   "metadata": {},
   "source": [
    "***Note: Depending on your operating system (OS) multi processing in python works differently. This is due to some fundamental differences in how the different operating systems deal with multi processing. If you want to get some more info on the differences between Windows/Mac and Linux check out this [resource](https://pythonforthelab.com/blog/differences-between-multiprocessing-windows-and-linux/).***"
   ]
  },
  {
   "cell_type": "markdown",
   "id": "3360e8e2-45ee-46fb-964d-564ba5fcbcff",
   "metadata": {},
   "source": [
    "# Concurrency vs. Parallelism\n",
    "\n",
    "Often times it is not really noticeable for us humans whether something is run concurrently or in parallel. We're just to slow...<br>\n",
    "In simple terms, 'concurrency' means that different parts of a greater whole can be run out of order while still producing the same result. 'Parallelism' means that different parts of a greater whole are run at the exact same time in, well..., parallel."
   ]
  },
  {
   "cell_type": "markdown",
   "id": "ea38fb47-cb87-4a5a-ab7a-f2a847cd2b34",
   "metadata": {},
   "source": [
    "## Multi Threading - Concurrency\n",
    "\n",
    "Multiple threads are run after each other.<br>\n",
    "This happens so fast, though, that you might easily assume that they are run in parallel. A good example for this are Input/Output (IO) tasks where the different processes are (mostly) independent of each other. If you want to retrieve the content of a web page for example you will have to query the server for the information you need (the input). The server will then return the answer or information (the output) to you. While you are waiting for the server to respond and give you the output your machine is basically having a grand ol' time chilling and relaxing since there is nothing else to do than wait. Now, we can't have that of course! Every free minute needs to be invested into work, work, WORK...!<br>\n",
    "So... Instead of just letting our machine lounge around, we tell it to send another query to another web page while it is waiting for the first web page to answer. And while it is still waiting we tell it to send another query, and another, and another... until our machine wishes there were something like machine rights or a labor union for computers.<br>\n",
    "I hope you kinda get the point. We are not doing this stuff at the very same time but rather one step after the other. Since it only takes our machine a split second to send out a new query, though, we might get the impression that everything is working in parallel. Once the answers of the web pages are returned, they are for example stored and then printed.<br>\n",
    "\n",
    "Think of it like this:<br>\n",
    "You open your favorite browser and decide to watch a movie on the platform of your choice. So you enter in the address of the chosen web page. After you hit 'search' you realize that you do not know which movie you wanna watch. So you open a second tab and look for the best movies of your chosen genre while the first tab opening your streaming service is still loading. You decide on a movie and once you go back to your fist tab, it's finished loading and your good to go!"
   ]
  },
  {
   "cell_type": "markdown",
   "id": "739b0da5-c07b-47c7-ad18-44345e0313d8",
   "metadata": {},
   "source": [
    "<div style=\"text-align: center;\" >\n",
    "<img src=\"sources/multi_threading.png\" alt=\"Multi Threading Vis\">\n",
    "</div>"
   ]
  },
  {
   "cell_type": "markdown",
   "id": "a20c7b34-2c03-4d5e-a3f8-470e2c884a39",
   "metadata": {},
   "source": [
    "### Basic Example\n",
    "\n",
    "To start things of we'll just have a look at a simple function that counts down from a specified integer number. First we do this without any 'fancy pants stuff' and afterwards we'll see how a multi threading approach would look like."
   ]
  },
  {
   "cell_type": "code",
   "execution_count": 4,
   "id": "247e704a-4012-4375-a37d-981ec463bfc9",
   "metadata": {},
   "outputs": [],
   "source": [
    "count = 50_000_000\n",
    "\n",
    "def countdown(n):\n",
    "    while n > 0:\n",
    "        n -= 1"
   ]
  },
  {
   "cell_type": "code",
   "execution_count": 5,
   "id": "118e23ce-617a-4bdd-b8c7-618b7e92e175",
   "metadata": {},
   "outputs": [
    {
     "name": "stdout",
     "output_type": "stream",
     "text": [
      "Seconds: 1.9689574241638184\n"
     ]
    }
   ],
   "source": [
    "# Without multi threading\n",
    "start = time.time()\n",
    "countdown(count)\n",
    "end = time.time()\n",
    "\n",
    "print('Seconds:', end - start)"
   ]
  },
  {
   "cell_type": "markdown",
   "id": "19059a33-adf2-49a4-bc6d-475a908374fa",
   "metadata": {},
   "source": [
    "If we were to perform the same task using multi threading would the run time be:<br>\n",
    "A: faster<br>\n",
    "B: the same<br>\n",
    "C: slower<br>\n",
    "D: I don't know<br>\n",
    "\n",
    "Click [here](https://strawpoll.com/wAg3QEJAdy8) to vote!"
   ]
  },
  {
   "cell_type": "code",
   "execution_count": 6,
   "id": "931a8bed-af37-4dfe-a031-6d186c2b7b55",
   "metadata": {},
   "outputs": [
    {
     "name": "stdout",
     "output_type": "stream",
     "text": [
      "Seconds: 2.0053229331970215\n"
     ]
    }
   ],
   "source": [
    "# With multi threading\n",
    "t1 = threading.Thread(target=countdown, args=(count//3,))\n",
    "t2 = threading.Thread(target=countdown, args=(count//3,))\n",
    "t3 = threading.Thread(target=countdown, args=(count//3,))\n",
    "\n",
    "start = time.time()\n",
    "t1.start()\n",
    "t2.start()\n",
    "t3.start()\n",
    "t1.join()\n",
    "t2.join()\n",
    "t3.join()\n",
    "end = time.time()\n",
    "\n",
    "print('Seconds:', end - start)"
   ]
  },
  {
   "cell_type": "markdown",
   "id": "25660f1b-63e7-484c-a79b-52ae079482f6",
   "metadata": {},
   "source": [
    "Why is the multi threaded approach slower?<br>\n",
    "Well, remember when I explained that good examples for multi threaded solutions are IO tasks where the different processes are (mostly) independent of each other? That is exactly what causes this behavior.<br>\n",
    "Creating and managing the different threads costs some time. The 'normal' solution uses a single thread and just deducts 1 every iteration. This is basically the same as using three threads that also iteratively deduct 1. Since the threads are not running at the same time but rather each after the other (t1, t2, t3, t1, t2, t3,...) we do not see an improved run time. Because of the thread management we actually observe a slightly slower run time."
   ]
  },
  {
   "cell_type": "markdown",
   "id": "6a980ada-99c9-4a0d-aa1f-fd7ffdcbbf1b",
   "metadata": {},
   "source": [
    "### Web Requests"
   ]
  },
  {
   "cell_type": "markdown",
   "id": "d5ce92c5-78b6-48c0-92fd-3c8c5d828abb",
   "metadata": {},
   "source": [
    "For this part we are gonna deal with something a bit more advanced. The code below is copied and adapted from the [`aiohttp`](https://docs.aiohttp.org/en/stable/index.html) libraries documentation. First, let's try our 'standard' approach though:"
   ]
  },
  {
   "cell_type": "code",
   "execution_count": 7,
   "id": "41f89665-dc42-4481-9405-fe4b13222a9e",
   "metadata": {},
   "outputs": [],
   "source": [
    "websites = ['https://en.wikipedia.org/', 'https://www.python.org/', 'https://stackoverflow.com/', 'https://stackexchange.com/', 'https://www.uni-konstanz.de/',\n",
    "            'https://en.wikipedia.org/', 'https://www.python.org/', 'https://stackoverflow.com/', 'https://stackexchange.com/', 'https://www.uni-konstanz.de/',\n",
    "            'https://en.wikipedia.org/', 'https://www.python.org/', 'https://stackoverflow.com/', 'https://stackexchange.com/', 'https://www.uni-konstanz.de/']"
   ]
  },
  {
   "cell_type": "code",
   "execution_count": 8,
   "id": "4a2befc1-5d1e-4f7f-8f13-6a7d34b7068e",
   "metadata": {},
   "outputs": [
    {
     "name": "stdout",
     "output_type": "stream",
     "text": [
      "<Response [200]>\n",
      "First char of website html: <\n",
      "<Response [200]>\n",
      "First char of website html: <\n",
      "<Response [200]>\n",
      "First char of website html: \n",
      "\n",
      "<Response [200]>\n",
      "First char of website html: \n",
      "<Response [200]>\n",
      "First char of website html: <\n",
      "<Response [200]>\n",
      "First char of website html: <\n",
      "<Response [200]>\n",
      "First char of website html: <\n",
      "<Response [200]>\n",
      "First char of website html: \n",
      "\n",
      "<Response [200]>\n",
      "First char of website html: \n",
      "<Response [200]>\n",
      "First char of website html: <\n",
      "<Response [200]>\n",
      "First char of website html: <\n",
      "<Response [200]>\n",
      "First char of website html: <\n",
      "<Response [200]>\n",
      "First char of website html: \n",
      "\n",
      "<Response [200]>\n",
      "First char of website html: \n",
      "<Response [200]>\n",
      "First char of website html: <\n",
      "Seconds: 1.57224702835083\n"
     ]
    }
   ],
   "source": [
    "# Without multi threading\n",
    "start = time.time()\n",
    "for site in websites:\n",
    "    request = requests.get(site)\n",
    "    print(request)\n",
    "    html = request.text\n",
    "    print('First char of website html:', html[0])\n",
    "\n",
    "end = time.time()\n",
    "\n",
    "print('Seconds:', end - start)"
   ]
  },
  {
   "cell_type": "markdown",
   "id": "7c7f0cc2-c66e-4f37-935a-2c7a29cca039",
   "metadata": {},
   "source": [
    "If we were to perform the same task using multi threading would the run time be:<br>\n",
    "A: faster<br>\n",
    "B: the same<br>\n",
    "C: slower<br>\n",
    "D: I don't know<br>\n",
    "\n",
    "Click [here](https://strawpoll.com/wAg3QEJAdy8) to vote!"
   ]
  },
  {
   "cell_type": "code",
   "execution_count": 9,
   "id": "e920ac45-edc0-4980-9d14-14f2e4872cd2",
   "metadata": {},
   "outputs": [
    {
     "name": "stdout",
     "output_type": "stream",
     "text": [
      "Status: 200\n",
      "First char of website html: <\n",
      "Status: 200\n",
      "First char of website html: <\n",
      "Status: 200\n",
      "First char of website html: \n",
      "\n",
      "Status: 200\n",
      "First char of website html: \n",
      "Status: 200\n",
      "First char of website html: <\n",
      "Status: 200\n",
      "First char of website html: <\n",
      "Status: 200\n",
      "First char of website html: <\n",
      "Status: 200\n",
      "First char of website html: \n",
      "\n",
      "Status: 200\n",
      "First char of website html: \n",
      "Status: 200\n",
      "First char of website html: <\n",
      "Status: 200\n",
      "First char of website html: <\n",
      "Status: 200\n",
      "First char of website html: <\n",
      "Status: 200\n",
      "First char of website html: \n",
      "\n",
      "Status: 200\n",
      "First char of website html: \n",
      "Status: 200\n",
      "First char of website html: <\n",
      "Seconds: 1.5892350673675537\n"
     ]
    }
   ],
   "source": [
    "# With multi threading\n",
    "async def main(url):\n",
    "\n",
    "    async with aiohttp.ClientSession() as session:\n",
    "        async with session.get(url) as response:\n",
    "\n",
    "            print('Status:', response.status)\n",
    "            html = await response.text()\n",
    "            print('First char of website html:', html[0])\n",
    "\n",
    "start = time.time()\n",
    "for site in websites:\n",
    "    await main(site) # if you do not use jupyter you will need to use 'asyncio.run(main())' instead\n",
    "\n",
    "end = time.time()\n",
    "\n",
    "print('Seconds:', end - start)"
   ]
  },
  {
   "cell_type": "markdown",
   "id": "04bf99e3-1741-41f5-9b93-b3cd70e6c3dc",
   "metadata": {},
   "source": [
    "We see that a pretty simple rephrase of our initial function results in a more than twice as fast run time. There is still room to adapt and further maximize the efficiency of this 'web scrape' so feel free to play around and try to maximize your performance boost.<br>"
   ]
  },
  {
   "cell_type": "markdown",
   "id": "9e91eeb4-d395-4f5a-af3b-4e65b4554e25",
   "metadata": {},
   "source": [
    "### Race Condition"
   ]
  },
  {
   "cell_type": "markdown",
   "id": "5ed4ee36-83f1-456b-8ecc-1680af3677df",
   "metadata": {},
   "source": [
    "A race condition is a situation in which multiple instructions are executed at the same time. If the different instructions finish faster/slower than expected this can lead to problems. Have a look at the following code and then try to answer the question down below."
   ]
  },
  {
   "cell_type": "code",
   "execution_count": 10,
   "id": "d7b321ea-7348-443c-9fab-98efd7367d1a",
   "metadata": {},
   "outputs": [
    {
     "name": "stdout",
     "output_type": "stream",
     "text": [
      "Thread-13 (increment) increments x by 5 -> x: 15\n",
      "\n",
      "Thread-14 (increment) increments x by 10 -> x: 20\n",
      "\n",
      "The final value of x is 20\n"
     ]
    }
   ],
   "source": [
    "x = 10\n",
    " \n",
    "def increment(n):\n",
    "    global x\n",
    " \n",
    "    local_counter = x\n",
    "    local_counter += n\n",
    " \n",
    "    time.sleep(1)\n",
    " \n",
    "    x = local_counter\n",
    "    print(f'{threading.current_thread().name} increments x by {n} -> x: {x}\\n')\n",
    "\n",
    "# creating threads\n",
    "t1 = threading.Thread(target=increment, args=(5,))\n",
    "t2 = threading.Thread(target=increment, args=(10,))\n",
    " \n",
    "# starting the threads\n",
    "t1.start()\n",
    "\n",
    "t2.start()\n",
    " \n",
    "# waiting for the threads to complete\n",
    "t1.join()\n",
    "t2.join()\n",
    " \n",
    "print(f'The final value of x is {x}')"
   ]
  },
  {
   "cell_type": "markdown",
   "id": "d1ee8f27-b189-4cf7-97ef-dae47422e824",
   "metadata": {},
   "source": [
    "What is the final result of x, if we run the cell above:<br>\n",
    "A: 20<br>\n",
    "B: 25<br>\n",
    "C: None (we encounter an error)<br>\n",
    "D: I don't know<br>\n",
    "\n",
    "Click [here](https://strawpoll.com/wAg3QEJAdy8) to vote!"
   ]
  },
  {
   "cell_type": "markdown",
   "id": "3a95414f-799b-41ed-b58c-459166fa56bc",
   "metadata": {},
   "source": [
    "The correct answer is A - 20. This is not really what we want though. We want x to first be increased by 5 and then again by 10.<br>\n",
    "To remedy the bug apparent in the above code we can use a [`threading.Lock`](https://docs.python.org/3/library/threading.html) which prevents our code from skipping the 1 second sleep and therefore ensures that the final result is correct. The `threading.Lock()`object gets passed to the function `increment`, wherein the `.aquire()`method is called. This makes sure that another thread cannot race by our current thread until the `.release()`method is called. Because of this we first increment x by 5 and then by 10 resulting in 25.<br>\n",
    "If you code yourselves you need to keep in mind that sometimes multi threading can cause race conditions and they in turn may cause bugs. So be wary of the order your multi threading approaches are executed in!"
   ]
  },
  {
   "cell_type": "code",
   "execution_count": 11,
   "id": "fba88a98-df2a-44e9-90e2-0d558687c2d3",
   "metadata": {},
   "outputs": [
    {
     "name": "stdout",
     "output_type": "stream",
     "text": [
      "Thread-15 (increment) increments x by 5 -> x: 15\n",
      "Thread-16 (increment) increments x by 10 -> x: 25\n",
      "\n",
      "The final value of x is 25\n"
     ]
    }
   ],
   "source": [
    "x = 10\n",
    " \n",
    "def increment(n, lock):\n",
    "    global x\n",
    " \n",
    "    lock.acquire()\n",
    "    local_counter = x\n",
    "    local_counter += n\n",
    " \n",
    "    time.sleep(1)\n",
    " \n",
    "    x = local_counter\n",
    "    \n",
    "    lock.release()\n",
    "    print(f'{threading.current_thread().name} increments x by {n} -> x: {x}')\n",
    "\n",
    "# creating lock\n",
    "lock = threading.Lock()\n",
    "\n",
    "# creating threads\n",
    "t1 = threading.Thread(target=increment, args=(5, lock))\n",
    "t2 = threading.Thread(target=increment, args=(10, lock))\n",
    " \n",
    "# starting the threads\n",
    "t1.start()\n",
    "t2.start()\n",
    " \n",
    "# waiting for the threads to complete\n",
    "t1.join()\n",
    "t2.join()\n",
    " \n",
    "print(f'\\nThe final value of x is {x}')"
   ]
  },
  {
   "cell_type": "markdown",
   "id": "a47ea3b6-c377-4a21-b936-45349f448f56",
   "metadata": {},
   "source": [
    "***\n",
    "## Multi Processing - Parallelism\n",
    "\n",
    "Multiple cores, capable of running multiple threads, are running at the exactly same time.<br>\n",
    "This happens so fast, though, that you might easily assume that they are run in parallel and well, yes, they are! Good examples for this are processes that are a bit more taxing (or/and) can be split among multiple cores. Think of running a classification model for example. The goal is to classify a huge amount of data according to some rule set and the data can easily be broken into smaller subsets.<br>\n",
    "You simply provide multiple cores with the same instructions but slightly different data aka different subsets of your original data. Then each core starts classifying their respective subset of the data and once done you can collect the results from all cores and put them together. The beautiful part about this is, that you can also provide different instructions to different cores while providing all of your cores with the same data.<br>\n",
    "\n",
    "Think of it like this:<br>\n",
    "You have to calculators and the motor skills to use them both at the exact same time.<br>\n",
    "In one scenario you have a list of values (your data) and you want to perform some mathematical operation on those values. In order to halve the time needed to perform this operation split the list of values in two and use one calculator to run the operations on the first halve and the other calculator to run the operations on the second halve.<br>\n",
    "In the other scenario you have a list of values (your data) and you want to perform two different mathematical operations, A and B, on those values. So, naturally, you use one calculator to run operation A on all values and the other calculator to run operation B on all values. Thereby halving the time needed to complete the task."
   ]
  },
  {
   "cell_type": "markdown",
   "id": "6cffa77f-e45d-454d-9cb0-a5460ba45501",
   "metadata": {},
   "source": [
    "<div style=\"text-align: center;\" >\n",
    "<img src=\"sources/multi_processing.png\" alt=\"Multi Processing Vis\">\n",
    "</div>"
   ]
  },
  {
   "cell_type": "markdown",
   "id": "793de5ea-934d-4118-9003-e7397e5ef67c",
   "metadata": {},
   "source": [
    "### Basic Example\n",
    "\n",
    "We're gonna look at the same example as above. First without any multi blabla and then with a multi processing approach."
   ]
  },
  {
   "cell_type": "code",
   "execution_count": 12,
   "id": "9d61ca41-43fd-43e3-be60-8ff31395fc51",
   "metadata": {},
   "outputs": [
    {
     "name": "stdout",
     "output_type": "stream",
     "text": [
      "Seconds: 1.978933334350586\n"
     ]
    }
   ],
   "source": [
    "# Without multi processing\n",
    "start = time.time()\n",
    "countdown(count)\n",
    "end = time.time()\n",
    "\n",
    "print('Seconds:', end - start)"
   ]
  },
  {
   "cell_type": "markdown",
   "id": "5cb29fb1-8e54-46e5-93da-ecea31147ddd",
   "metadata": {},
   "source": [
    "If we were to perform the same task using multi processing would the run time be:<br>\n",
    "A: faster<br>\n",
    "B: the same<br>\n",
    "C: slower<br>\n",
    "D: I don't know<br>\n",
    "\n",
    "Click [here](https://strawpoll.com/wAg3QEJAdy8) to vote!"
   ]
  },
  {
   "cell_type": "code",
   "execution_count": 13,
   "id": "486fc48b-9459-4f88-ab5c-b7768835d282",
   "metadata": {},
   "outputs": [
    {
     "name": "stdout",
     "output_type": "stream",
     "text": [
      "Available cores: 6\n",
      "Seconds: 0.12221598625183105\n"
     ]
    }
   ],
   "source": [
    "print('Available cores:', os.cpu_count())\n",
    "\n",
    "# With multi processing \n",
    "p1 = multiprocessing.Process(target=countdown, args=(count//3,))\n",
    "p2 = multiprocessing.Process(target=countdown, args=(count//3,))\n",
    "p3 = multiprocessing.Process(target=countdown, args=(count//3,))\n",
    "\n",
    "start = time.time()\n",
    "p1.start()\n",
    "p2.start()\n",
    "p3.start()\n",
    "p1.join()\n",
    "p2.join()\n",
    "p3.join()\n",
    "end = time.time()\n",
    "\n",
    "print('Seconds:', end - start)"
   ]
  },
  {
   "cell_type": "markdown",
   "id": "69349fac-4ca1-4057-ab87-529ca3b9149a",
   "metadata": {},
   "source": [
    "Here we are actually seeing an improvement. A third of our countdown, respectively, is performed on one of three parallelly running cores which effectively reduces the run time to about a third. Some time is required to fire up the processes on three different cores but in the present example this is close to 0."
   ]
  }
 ],
 "metadata": {
  "kernelspec": {
   "display_name": "Python 3",
   "language": "python",
   "name": "python3"
  },
  "language_info": {
   "codemirror_mode": {
    "name": "ipython",
    "version": 3
   },
   "file_extension": ".py",
   "mimetype": "text/x-python",
   "name": "python",
   "nbconvert_exporter": "python",
   "pygments_lexer": "ipython3",
   "version": "3.13.0"
  }
 },
 "nbformat": 4,
 "nbformat_minor": 5
}
