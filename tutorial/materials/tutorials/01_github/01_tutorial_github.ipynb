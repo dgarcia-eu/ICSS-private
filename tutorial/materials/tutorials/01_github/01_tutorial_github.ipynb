{
 "cells": [
  {
   "cell_type": "markdown",
   "id": "2057c50d-c91e-4413-b798-f99eb2c95160",
   "metadata": {
    "tags": []
   },
   "source": [
    "<div style=\"text-align: center;\" >\n",
    "<h1 style=\"margin-top: 0.2em; margin-bottom: 0.1em;\">GitHub</h1>\n",
    "<h4 style=\"margin-top: 0.7em; margin-bottom: 0.3em; font-style:italic\">Git, gitgit, git, gitgitgit... Can you guess the song?</h4>\n",
    "</div>\n",
    "<br>"
   ]
  },
  {
   "cell_type": "markdown",
   "id": "8116fd5d-66e5-4ef4-a1be-461bb75cd9ac",
   "metadata": {},
   "source": [
    "***Notice: If you are viewing this file online via GitHub preview the included images won't load properly. To view the full and working notebook please download/pull the content to your local machine and open the notebook using your IDE (e.g. jupyter lab).***"
   ]
  },
  {
   "cell_type": "markdown",
   "id": "3f9678e0-4739-4086-8ab9-15ed9757b959",
   "metadata": {},
   "source": [
    "Ok, let's have a look at one of the most prominent platforms used for sharing code and collaborating with your friends, family, and (most probably) colleagues. You should have heard of it... I mean, I told you about having to setup your GitHub connection just last week.<br>\n",
    "Thankfully, setting up everything we need is 'pretty' simple: So let's git going!"
   ]
  },
  {
   "cell_type": "markdown",
   "id": "11863e01-ddd9-4815-b2f1-dfcc397dae2f",
   "metadata": {},
   "source": [
    "<h3>Setup SSH Connection</h3>"
   ]
  },
  {
   "cell_type": "markdown",
   "id": "ca52728a-8253-43a6-927d-9eb03f5a138d",
   "metadata": {},
   "source": [
    "We will now set up your machine to be able to communicate with your GitHub account. For this we have to follow a few steps:<br>\n",
    "1. Create a [GitHub account](https://github.com/join) (if you don't have one yet).\n",
    "2. Create an [SSH key pair](https://docs.github.com/en/authentication/connecting-to-github-with-ssh/generating-a-new-ssh-key-and-adding-it-to-the-ssh-agent) on your local machine (if you haven't already).\n",
    "3. Add your public [SSH key to your GitHub account](https://docs.github.com/en/authentication/connecting-to-github-with-ssh/adding-a-new-ssh-key-to-your-github-account).\n",
    "4. [Check connection](https://docs.github.com/en/authentication/connecting-to-github-with-ssh/testing-your-ssh-connection).\n",
    "\n",
    "***Note: The instructions in this notebook are the light version. For the full and detailed instructions presenting each individual step please see the notebook of our first session (00_tutorial_console.ipynb)***"
   ]
  },
  {
   "cell_type": "code",
   "execution_count": null,
   "id": "38ffeef5-afca-499e-acd0-6be201d793e4",
   "metadata": {
    "execution": {
     "iopub.execute_input": "2023-11-02T20:20:31.669213Z",
     "iopub.status.busy": "2023-11-02T20:20:31.669213Z",
     "iopub.status.idle": "2023-11-02T20:20:31.674070Z",
     "shell.execute_reply": "2023-11-02T20:20:31.673065Z",
     "shell.execute_reply.started": "2023-11-02T20:20:31.669213Z"
    }
   },
   "outputs": [],
   "source": [
    "# Time for action!\n"
   ]
  },
  {
   "cell_type": "markdown",
   "id": "75ee0d95-ff6b-4b61-8e94-877a2695bfad",
   "metadata": {},
   "source": [
    "<h3>Install Git</h3>"
   ]
  },
  {
   "cell_type": "markdown",
   "id": "a6a0be8b-d76e-4a6b-b02f-f37e2e8332eb",
   "metadata": {},
   "source": [
    "The next thing we will want to install is [git](https://git-scm.com/downloads). This will let us use [`git-commands`](https://training.github.com/downloads/github-git-cheat-sheet/) via the terminal. For those of you already familiar with GitHub Desktop this will be just another way of uploading/downloading stuff to your GitHub repositories.<br>\n",
    "¡Vamos!\n",
    "\n",
    "In the WS24/25, everyone should already have git on the laptop. On Linux and Mac it is usually pre-installed and Windows users should have gotten it by installing WSL. <br>\n",
    "If there are any issues you can find last years instructions on how to download git depending on your OS below:"
   ]
  },
  {
   "cell_type": "markdown",
   "id": "1692c089-3dca-4620-aea2-3fe9b16daccb",
   "metadata": {},
   "source": [
    "Visit the [git homepage](https://git-scm.com/downloads) and follow the instructions listed for your operating system to install git.<br>\n",
    "- `Windows`\n",
    "    - For Windows this is pretty straight forward since you only download the installer and execute it. Don't go fancy and choose `custom installation` unless you know what you are doing!\n",
    "- `MacOs`\n",
    "    - You'll need to install `homebrew`or `MacPorts` (I honestly haven't got a clue which one is 'better' or simpler...)\n",
    "    - Choose one of the above mentioned installs (I'll go with `homebrew`)\n",
    "    - Install [homebrew](https://brew.sh/)\n",
    "    - Once `homebrew`is installed just follow the instructions on the git installation page and enter `brew install git` into your terminal. (Restart your terminal after installing `homebrew`)\n",
    "- `Linux`\n",
    "    - Well you don't have to deal with that shit since git is preinstalled on probably every major Linux distro\n"
   ]
  },
  {
   "cell_type": "markdown",
   "id": "2cb7e183-033f-4308-aed4-24e8ed0e7d6f",
   "metadata": {},
   "source": [
    "In case you are using Windows there will come a point where git asks you whether it should use the default Windows terminal application for its execution. It will look like this:<br>\n",
    "\n",
    "![Git Terminal Integration Windows](sources/git_install.png)<br>\n",
    "\n",
    "Make sure that the option is enabled (it should be the default but you never know...)!"
   ]
  },
  {
   "cell_type": "code",
   "execution_count": 2,
   "id": "8fd8751b-a429-4342-bc33-949431f9d16f",
   "metadata": {
    "execution": {
     "iopub.execute_input": "2023-11-02T20:20:31.676070Z",
     "iopub.status.busy": "2023-11-02T20:20:31.676070Z",
     "iopub.status.idle": "2023-11-02T20:20:31.678764Z",
     "shell.execute_reply": "2023-11-02T20:20:31.678764Z",
     "shell.execute_reply.started": "2023-11-02T20:20:31.676070Z"
    }
   },
   "outputs": [],
   "source": [
    "# Time for action!\n"
   ]
  },
  {
   "cell_type": "markdown",
   "id": "2392cf1b",
   "metadata": {},
   "source": [
    "<h3>Git and GitHub Architecture</h3>"
   ]
  },
  {
   "cell_type": "markdown",
   "id": "68a72b57",
   "metadata": {},
   "source": [
    "Now that everything we need is installed on our machines, we can get into some pushing (uploading) and pulling (downloading) content to GitHub via the terminal.<br>\n",
    "\n",
    "Beforehand, just a short explanation of the architecture, how git (the version control) and GitHub (the platform, where you can collaborate on projects - or here in ICSS simply submit you assignments) work together.\n",
    "\n",
    "If that is easier for you, think of GitHub as a platform to synchronize your work (like you would do with a cloud service).\n",
    "Therefore, you first of all have to define, which folder on your local machine is supposed to be synchrionized with the remote service (here GitHub). Other than with cloud services like Google Drive or else, you do not select the folder on your local device and tell it to be uploaded to the cloud. \n",
    "\n",
    "Instead, you create a so called repository (in the end that is just a fancy name for a folder containing a project) on GitHub.\n",
    "Once this folder is created, it can be `cloned` (basically copied) to your local machine. <br>\n",
    "On the local machine (at the location where you cloned the repositors to), you can now find a folder being called the exact same way as the repository. Now, the \"sync\"-like connection is established - but don't be fooled: it's no real sync, where everything works automated in the background with you kicking up your shoes... <br> \n",
    "\n",
    "Instead, we are now able to download (called `pull`) things from the remote repository to the local machine or upload (calles `push`) work from local to the remote.\n",
    "\n",
    "\n",
    "\n"
   ]
  },
  {
   "cell_type": "markdown",
   "id": "e6c47c6e-e00a-43ab-8179-e969b10bd9c0",
   "metadata": {},
   "source": [
    "Ok, but let's take it a bit slower... We don't wanna rush things and risk you and git getting of on the wrong foot. We don't wanna jeopardize the might be love story of the millennia...<br>\n",
    "Most important for you will be pushing your solutions to GitHub. For this we need to cover five different steps:\n",
    "1. `git clone repositorySSHaddress`\n",
    "2. `git add .`\n",
    "3. `git commit -m 'some message'`\n",
    "4. `git push`\n",
    "5. `git pull` (optional)"
   ]
  },
  {
   "cell_type": "markdown",
   "id": "268d1447-f050-492e-bba0-fae498e3b41e",
   "metadata": {},
   "source": [
    "Those five steps are pretty simple to understand once you get a better feeling of how git does things.<br>\n",
    "\n",
    "1. So, the first one `git clone repsitorySSHaddress`is used to establish a connection between a directory on your computer and a repository on GitHub. You can read the command like this:\n",
    "- `git`: this tells your terminal to use a `git-command`\n",
    "- `clone`: this tells your terminal that you want it to use the `clone-command`\n",
    "- `repositorySSHaddress`: this tells the terminal which remote repository you wish to clone to your local machine. Obviously you don't wanna enter `repositorySSHaddress`but look up the SSH address of your repository on GitHub and use this"
   ]
  },
  {
   "cell_type": "code",
   "execution_count": 3,
   "id": "66501058-c887-4b72-adac-e8844397ab73",
   "metadata": {
    "execution": {
     "iopub.execute_input": "2023-11-02T20:20:31.679770Z",
     "iopub.status.busy": "2023-11-02T20:20:31.679770Z",
     "iopub.status.idle": "2023-11-02T20:20:31.682002Z",
     "shell.execute_reply": "2023-11-02T20:20:31.682002Z",
     "shell.execute_reply.started": "2023-11-02T20:20:31.679770Z"
    }
   },
   "outputs": [],
   "source": [
    "# Time for action!\n"
   ]
  },
  {
   "cell_type": "markdown",
   "id": "1e52d30b-742a-4cbb-aba2-8c1e59da2bf8",
   "metadata": {},
   "source": [
    "<h4>Quick Service Announcement</h4>"
   ]
  },
  {
   "cell_type": "markdown",
   "id": "529ddd6e-8c51-4f8b-bc85-ae3179492c2a",
   "metadata": {},
   "source": [
    "Now that you have cloned the repository to your computer let's get down to some administrative business. In order for an automated script to retreive all of your assignment submissions without problems we need you to adhere to a certain style of directory structure in your personal solutions repository.<br>\n",
    "Have a look at this template:<br>\n",
    "![Mandatory Directory Structure](sources/dir_structure.png)"
   ]
  },
  {
   "cell_type": "markdown",
   "id": "8d9c812a-69fe-4d28-a737-51f47b823f2d",
   "metadata": {},
   "source": [
    "As you can see, you will have to create a seperate directory/folder for each of the four assignments due in ICSS. You don't have to create those in advance... Just create them once you start working on the submissions.<br>\n",
    "In each of these directories/folders you will place the respective assignment as a `.ipynb` file. You don't have to get fancy whith the name... Just name the assignments: `assignment_1.ipynb`, `assignment_2.ipynb`, and so on. Once we are done grading your assignment we will push/upload a file called `feedback_1.txt`, `feedback_2.txt`, and so on to your repository where you can then pull/download it from.<br>"
   ]
  },
  {
   "cell_type": "markdown",
   "id": "10b7d73f-e750-4286-87e1-aabe209f31be",
   "metadata": {},
   "source": [
    "***Warning: If you do not follow these guidelines (directory structure and file names) the retreival script will not be able to pull/download your solutions... I'll let you think for yourself why this might be bad.***"
   ]
  },
  {
   "cell_type": "code",
   "execution_count": 4,
   "id": "14ce726d-b970-442d-a290-ffd8883a0819",
   "metadata": {
    "execution": {
     "iopub.execute_input": "2023-11-02T20:20:31.683008Z",
     "iopub.status.busy": "2023-11-02T20:20:31.683008Z",
     "iopub.status.idle": "2023-11-02T20:20:31.685900Z",
     "shell.execute_reply": "2023-11-02T20:20:31.685900Z",
     "shell.execute_reply.started": "2023-11-02T20:20:31.683008Z"
    }
   },
   "outputs": [],
   "source": [
    "# Time for action!\n"
   ]
  },
  {
   "cell_type": "markdown",
   "id": "bcc71a58-ac9e-4296-b483-19a7e3af2e50",
   "metadata": {},
   "source": [
    "Ok, let's get on with the `git-commands`.<br>\n",
    "\n",
    "2. Next is `git add .` It is responsible for adding the files/changes to files that you make to a list of stuff that will be uploaded to GitHub once you executer step 4. The command itself is split in three parts:\n",
    "- `git`: this tells your terminal that you want it to execute a `git-command`\n",
    "- `add`: this is the `git-command`that you want to execute\n",
    "- `.`: this tells `git add`what you want it to add to the upload list. You can type in the file paths/names of specific files you want to upload or you can just use `.` which tells `git add` to add everything that was created/changed to the upload list.\n",
    "\n",
    "3. The next one is `git commit -m 'some message'`. Again, the command can be broken down into smaller pieces:\n",
    "- `git` & `commit`: this tells the terminal that you want to use `git's` `commit-command`\n",
    "- `-m`: this is an option. It stands for 'message' and requires you to type in a mesage in quotation marks after it\n",
    "- `some message`: this is the upload message that you attach to your upload. In most cases this important when working with others to quickly tell them what you changed/added to your project\n",
    "\n",
    "4. Last, but super important is `git push`. You might already guess what it does? It pushes aka uploads the stuff you just added to your commit (upload list). The parts are:\n",
    "- `git`: this tells the terminal to use a `git-command`\n",
    "- `push`: this tells the terminal to use the `push-command`\n",
    "\n",
    "5. Wait?! I said 'last' above but there is still one more... `git pull` enters the stage! This one is strictly speaking not necessary to upload your solutions to GitHub but it is necessary to pull/download files from GitHub. Like `git push` it can be divided into two parts:\n",
    "- `git`: I think you might have gotten the gist by now\n",
    "- `pull`: this tells the terminal that you want to use the `pull-command`which pulls/downloads content from the remote GitHub repository"
   ]
  },
  {
   "cell_type": "code",
   "execution_count": 5,
   "id": "518ed061-2d95-4cbe-9b6d-5909efbb2495",
   "metadata": {
    "execution": {
     "iopub.execute_input": "2023-11-02T20:20:31.686905Z",
     "iopub.status.busy": "2023-11-02T20:20:31.685900Z",
     "iopub.status.idle": "2023-11-02T20:20:31.688992Z",
     "shell.execute_reply": "2023-11-02T20:20:31.688992Z",
     "shell.execute_reply.started": "2023-11-02T20:20:31.686905Z"
    }
   },
   "outputs": [],
   "source": [
    "# Time for action!\n"
   ]
  },
  {
   "cell_type": "markdown",
   "id": "adcd5623",
   "metadata": {},
   "source": [
    "![GitHub Local and Remote](sources/git_local_remote.png)<br>\n",
    "Illustration by CorrelAid\n",
    "\n",
    "![Git Commands](sources/git_commands.png)<br>\n",
    "Illustration by Allison Horst (https://twitter.com/allison_horst)"
   ]
  },
  {
   "cell_type": "markdown",
   "id": "fc359f75",
   "metadata": {},
   "source": [
    "In the illustration, you can see the factory called \"working directory\". In there, you are working on your code and solve the assignments.  \n",
    "\n",
    "* Once you are done with a task or the whole assignment, you save the Jupyter Notebook and using your terminal you tell git to `add` your changes. This `add` basically means that you pack up the new changes into a box for delivery and place it to be picked up.\n",
    "* Using `git commit -m 'some message'` you tell the delivery person to pick up the boxes and to transfer them from the local working directory to the local repository.\n",
    "* After the boxed arrived at the local version of your repository, wou cann tell git to `git push` these changes from the local to the remote repository version. Only now the files are synchronized between your local machine and the remote.\n",
    "* Now, the tutors can correct yur assignments and add a feedback file to the remote repository. In order to \"download\" this file, you need to tell git to `git pull` changes from the remote to your local directory. "
   ]
  },
  {
   "cell_type": "markdown",
   "id": "41673114-22d2-49df-92de-4ee00c959d96",
   "metadata": {},
   "source": [
    "There is way more stuff that you can do with git. You can fork shit, create new branches, create pull requests, bli-bla-bla... If this sounds like utter nonsense to you don't worry, you won't need stuff like that for ICSS but somewhere down the road you might need to work with it (jobs, projects, etc.).<br>"
   ]
  },
  {
   "cell_type": "markdown",
   "id": "8319c0a5-e538-49ed-bc19-065cbccca5db",
   "metadata": {},
   "source": [
    "***\n",
    "***Warning: Sometimes you will get error messages or warnings when trying to use `git-commands`. No matter how trivial stuff seems it's always a good idea to look up the error/warning with your favorite search engine. Once you understand what the error/warning means you can start working on a solution to your problem. NEVER just use brute force to try and fix a `git-problem`. You might crash EVERYTHING!***<br>\n",
    "Fixing shit like that is not fun!"
   ]
  },
  {
   "cell_type": "markdown",
   "id": "00f7eac7-a1bc-4767-991e-c76af0112a78",
   "metadata": {},
   "source": [
    "***Tip: A good way to avoid many minor hickups is to use `git pull`every time before you start adding, commiting, or pushing stuff to GitHub. This makes sure that content somebody else pushed to the repository (e.g. feedback for your assignments) is downloaded to your computer. After that add, commit, and push.***\n",
    "\n",
    "***"
   ]
  },
  {
   "cell_type": "markdown",
   "id": "2dc3edae-8b9a-40e0-ab4c-117aad67bebf",
   "metadata": {},
   "source": [
    "<h2>Doesn't work?!</h2>"
   ]
  },
  {
   "cell_type": "markdown",
   "id": "4a7cc1e8-6564-4258-bc91-1c799e3bb098",
   "metadata": {},
   "source": [
    "Well, don't worry, be happy! As always you're more than welcome to send emails, ask in person or just look up stuff on the web. Don't hesitate!"
   ]
  }
 ],
 "metadata": {
  "kernelspec": {
   "display_name": "base",
   "language": "python",
   "name": "python3"
  },
  "language_info": {
   "codemirror_mode": {
    "name": "ipython",
    "version": 3
   },
   "file_extension": ".py",
   "mimetype": "text/x-python",
   "name": "python",
   "nbconvert_exporter": "python",
   "pygments_lexer": "ipython3",
   "version": "3.12.4"
  }
 },
 "nbformat": 4,
 "nbformat_minor": 5
}
