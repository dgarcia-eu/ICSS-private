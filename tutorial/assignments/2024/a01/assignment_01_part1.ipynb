{
 "cells": [
  {
   "cell_type": "markdown",
   "id": "4379fd43-8c5e-4e2e-a4c5-4f53819b2b0b",
   "metadata": {
    "execution": {
     "iopub.execute_input": "2023-10-12T19:28:58.497573Z",
     "iopub.status.busy": "2023-10-12T19:28:58.496574Z",
     "iopub.status.idle": "2023-10-12T19:28:58.515065Z",
     "shell.execute_reply": "2023-10-12T19:28:58.513545Z",
     "shell.execute_reply.started": "2023-10-12T19:28:58.497573Z"
    },
    "tags": []
   },
   "source": [
    "<div style=\"text-align: center;\" >\n",
    "<h1 style=\"margin-top: 0.2em; margin-bottom: 0.1em;\">Introduction to Computation for the Social Sciences</h1>\n",
    "<h2 style=\"margin-top: 0.7em; margin-bottom: 0.3em;\">Assignment 1</h2>\n",
    "<h3 style=\"margin-top: 0.7em; margin-bottom: 0.3em;\">Deadline Part 1: Oct 29, 23:59</h3>\n",
    "<h3 style=\"margin-top: 0.7em; margin-bottom: 0.3em;\">Deadline Parts 2-4: Nov 10, 23:59</h3>\n",
    "\n",
    "</div>\n",
    "<br>"
   ]
  },
  {
   "cell_type": "markdown",
   "id": "7f1e2332-b04b-4772-a791-6239188ce41a",
   "metadata": {},
   "source": [
    "<h4 style=\"margin-top: 0.7em; margin-bottom: 0.3em; font-style:italic\">\n",
    "Please push your solutions to your personal repository in our <a href='https://classroom.github.com/a/tGD_7t85'>GitHub Classroom</a></h4><br>\n",
    "\n",
    "***"
   ]
  },
  {
   "cell_type": "markdown",
   "id": "271d6d5c-c2cf-4417-a79b-720c491d9d6b",
   "metadata": {},
   "source": [
    "<h3>Part 1 - GitHub Setup (hurra to you if you already managed during the tutorial session)</h3>\n"
   ]
  },
  {
   "cell_type": "markdown",
   "id": "b40c8297-1d92-463a-80b8-a00f0737b100",
   "metadata": {},
   "source": [
    "<h4>Task 1 - Create SSH key pair and add it to your GitHub account</h4>"
   ]
  },
  {
   "cell_type": "markdown",
   "id": "fb478bc2-48bf-4ec9-9a1b-fc42651e0e0f",
   "metadata": {},
   "source": [
    "- Use your terminal to generate an SSH key pair and add your public key to your GitHub user account. After adding your public SSH key to your GitHub account input the following comand into your terminal: `ssh -T git@github.com`. You should see the message `Hi USERNAME! You've successfully authenticated, but GitHub does not provide shell access`. If you do, everything works! "
   ]
  },
  {
   "cell_type": "markdown",
   "id": "3ed02058-e639-4777-9330-f5ea931dcd60",
   "metadata": {},
   "source": [
    "***Tip:*** If you are struggling with this check out the tutorial notebook (session 01) for detailed instructions."
   ]
  },
  {
   "cell_type": "markdown",
   "id": "dd49f464-29a2-4844-8951-de6bb1b9b229",
   "metadata": {},
   "source": [
    "<h4>Task 2 - Create a fork of 'ICSS-24/materials' and then clone this repository to your machine</h4>"
   ]
  },
  {
   "cell_type": "markdown",
   "id": "01a0f3e7-6345-4b42-8220-a06f9cbbed2f",
   "metadata": {},
   "source": [
    "You should have received two emails from GitHub/us. One containing an invitation to a GitHub Classroom (sender: C. J.) and another mail inviting you to the `ICSS-24/materials` repository (sender: C. J.). You will receive this second email a few days after you joined the GitHub classroom.<br>\n",
    "Please open the second email, the one inviting you to `ICSS-24/materials`, and accept the invitation we sent you. This will give you permission to pull (retrieve) content uploaded to the `ICSS-24/materials`repository. As you might guess this repository contains the ICSS assignments you will need to complete in this course."
   ]
  },
  {
   "cell_type": "markdown",
   "id": "44216b2d",
   "metadata": {},
   "source": [
    "To be able to work on the tutorial notebooks within this folder without overwriting your changes when pulling the repository on another occasion you should create a fork of the `ICSS-24/materials` repository. \n",
    "Go to the repository on github.com within your browser and click on `create a new fork` as can be seen in the following image.\n",
    "\n",
    "![](forking.png)\n",
    "\n",
    "\n",
    "Choose a repository name and click `create fork`. This will create a repository on your own GitHub under `USERNAME/forkname` (e.g. ClaireJordan-test/materials). \n",
    "\n",
    "You will need to synchronize this repository with the changes of `ICSS-24/materials` before pulling new materials. \n",
    "\n",
    "![](synchronization.png)\n"
   ]
  },
  {
   "cell_type": "markdown",
   "id": "6d529248-0394-4d13-a882-033ee8352153",
   "metadata": {},
   "source": [
    "- Now clone this repository to your local machine. You can find some instructions on how to do that [here](https://docs.github.com/en/repositories/creating-and-managing-repositories/cloning-a-repository).<br>\n",
    "***Tip:*** The instructions here show how to clone a repository using HTTPS. In task 1 you set up your SSH key and your meant to use that in order to clone the repository. See if you can't find a way to clone the repository using SSH instead of HTTPS."
   ]
  },
  {
   "cell_type": "markdown",
   "id": "d0fb784d-8ddf-49f7-9a0a-11a45e96bb32",
   "metadata": {},
   "source": [
    "If you succeded in cloning the repository you should be able to open the directory `assignments` and extract the jupyter notebook containing the additional tasks of this assignment from the folder `a01`."
   ]
  },
  {
   "cell_type": "markdown",
   "id": "65063133-cee9-4026-a637-e0c15a1375d2",
   "metadata": {},
   "source": [
    "<h2>This is not the end of the assignment! Pull (download) the remaining instructions from your 'USERNAME/materials' repository</h2>"
   ]
  },
  {
   "cell_type": "markdown",
   "id": "771b63de-5a86-4f45-bc4f-281a0a5e1976",
   "metadata": {},
   "source": [
    "<h4>Task 3 - Join our <a href='https://classroom.github.com/a/tGD_7t85'>GitHub Classroom</a> and clone your personal repository to your machine</h4>"
   ]
  },
  {
   "cell_type": "markdown",
   "id": "f101a062-9432-4726-92b6-c99ea8b44ae3",
   "metadata": {},
   "source": [
    "For this task please open the other email (sender: github-classroom[bot]) which contains an invitation to a so called GitHub Classroom. That will be the place where you hand in your assignment submissions. Please click on the link in the email and join our GitHub Classroom. Upon joining the classroom choose your name and confirm your choice when prompted. This will create a repository named `submissions-yourGitHubUserName`. Clone this repository to your machine using SSH.<br>\n",
    "\n",
    "***Note:*** The procedure here is exactly the same as above with the `USERNAME/materials` repository. Again, make sure you use SSH to clone the repo and not HTTPS.<br>\n",
    "\n",
    "Once the repository is cloned to your directory structure you are ready to pull (retrieve remote content from GitHub) and push (upload content to GitHub). Please create a `.txt` file in this (cloned) directory and push it to GitHub. The `.txt`file should contain your first and last name. For the purpose of exercise we encourage you to navigate your directory structure and create the `.txt`file using your terminal."
   ]
  },
  {
   "cell_type": "markdown",
   "id": "8f12930f-f226-425e-bfd1-6c12907bf35e",
   "metadata": {},
   "source": [
    "***Tip:*** Use `git add .`, `git commit -m 'first upload'`, and `git push` to upload the `.txt` file. You do not need to post a solution for this particular task here. If your upload to GitHub works as intended your uploaded submission will be solution enough for this task."
   ]
  },
  {
   "cell_type": "markdown",
   "id": "d74de4d2-0852-4d06-917c-98bc0dac6fa2",
   "metadata": {
    "execution": {
     "iopub.execute_input": "2023-10-13T11:15:16.767710Z",
     "iopub.status.busy": "2023-10-13T11:15:16.766712Z",
     "iopub.status.idle": "2023-10-13T11:15:16.786281Z",
     "shell.execute_reply": "2023-10-13T11:15:16.784271Z",
     "shell.execute_reply.started": "2023-10-13T11:15:16.767710Z"
    },
    "tags": []
   },
   "source": [
    "<h4>Task 4 - Establish required directory structure in your solutions repository</h4>"
   ]
  },
  {
   "cell_type": "markdown",
   "id": "768f46e9-ae66-4460-aaeb-ee8ea76c53d5",
   "metadata": {},
   "source": [
    "Now that you have cloned the `USERNAME/materials` & your personal `submissions-UserName` repository to your local machine let's make sure your submissions are formatted correctly.<br>\n",
    "For that we require you to navigate to your personal `submissions-UserName` repository in your local directory structure. Create a folder called `a01` for your submission of assignment 1. Do so for each upcoming assignemt as well but only once the time to submit them has arrived. For now the folder `a01` will be enough.<br>\n",
    "Once you have created the folder `a01` (`submissions-UserName/a01`) navigate to the `USERNAME/materials` repository you cloned in task 2 and open the directory `assignments` and then `assignment01`. In there you will find a jupyter notebook (.ipynb) and a PDF version of assignment 1. Copy the jupyter notebook (assignment_01.ipynb) to the folder `a01` you created in your personal `submissions-UserName` repository before.<br>\n",
    "To continue working on the assignment and upload it follow these two steps:"
   ]
  },
  {
   "cell_type": "markdown",
   "id": "30ad42f4-034f-4fe8-a898-d75172c171cb",
   "metadata": {},
   "source": [
    "- Open the file `submissions-UserName/a01/assignment_01.ipynb` with jupyter lab and solve the remaining tasks inside the notebook.\n",
    "- Once your ready to upload, use `git add .`, `git commit -m 'submission a01'`, and `git push` to upload your solution to GitHub. ***Don't forget to solve the tasks below BEFORE doing this!***"
   ]
  },
  {
   "cell_type": "markdown",
   "id": "2f496a24-34b1-4147-b427-459df8764394",
   "metadata": {},
   "source": [
    "<h1>Deadline for 'Part - 1' is October 29, 2024</h1>"
   ]
  },
  {
   "cell_type": "markdown",
   "id": "ec7d227c-6957-4681-8f3a-760fba6917d6",
   "metadata": {},
   "source": [
    "***"
   ]
  }
 ],
 "metadata": {
  "kernelspec": {
   "display_name": "Python 3",
   "language": "python",
   "name": "python3"
  },
  "language_info": {
   "codemirror_mode": {
    "name": "ipython",
    "version": 3
   },
   "file_extension": ".py",
   "mimetype": "text/x-python",
   "name": "python",
   "nbconvert_exporter": "python",
   "pygments_lexer": "ipython3",
   "version": "3.10.11"
  }
 },
 "nbformat": 4,
 "nbformat_minor": 5
}
