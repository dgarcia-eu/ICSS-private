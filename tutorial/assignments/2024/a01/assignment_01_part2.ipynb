{
 "cells": [
  {
   "cell_type": "markdown",
   "id": "4379fd43-8c5e-4e2e-a4c5-4f53819b2b0b",
   "metadata": {
    "execution": {
     "iopub.execute_input": "2023-10-12T19:28:58.497573Z",
     "iopub.status.busy": "2023-10-12T19:28:58.496574Z",
     "iopub.status.idle": "2023-10-12T19:28:58.515065Z",
     "shell.execute_reply": "2023-10-12T19:28:58.513545Z",
     "shell.execute_reply.started": "2023-10-12T19:28:58.497573Z"
    },
    "tags": []
   },
   "source": [
    "<div style=\"text-align: center;\" >\n",
    "<h1 style=\"margin-top: 0.2em; margin-bottom: 0.1em;\">Introduction to Computation for the Social Sciences</h1>\n",
    "<h2 style=\"margin-top: 0.7em; margin-bottom: 0.3em;\">Assignment 1</h2>\n",
    "<h3 style=\"margin-top: 0.7em; margin-bottom: 0.3em;\">Deadline Part 1: Oct 29, 23:59</h3>\n",
    "<h3 style=\"margin-top: 0.7em; margin-bottom: 0.3em;\">Deadline Parts 2-4: Nov 10, 23:59</h3>\n",
    "\n",
    "</div>\n",
    "<br>"
   ]
  },
  {
   "cell_type": "markdown",
   "id": "7f1e2332-b04b-4772-a791-6239188ce41a",
   "metadata": {},
   "source": [
    "<h4 style=\"margin-top: 0.7em; margin-bottom: 0.3em; font-style:italic\">\n",
    "Please push your solutions to your personal repository in our <a href='https://classroom.github.com/a/tGD_7t85'>GitHub Classroom</a></h4><br>\n",
    "\n",
    "***"
   ]
  },
  {
   "cell_type": "markdown",
   "id": "271d6d5c-c2cf-4417-a79b-720c491d9d6b",
   "metadata": {},
   "source": [
    "<h3>Part 1 - GitHub Setup</h3>\n"
   ]
  },
  {
   "cell_type": "markdown",
   "id": "b37d054a",
   "metadata": {},
   "source": [
    "If you got this second part, the first part of the assignment obviously worked. Well done!"
   ]
  },
  {
   "cell_type": "markdown",
   "id": "ec7d227c-6957-4681-8f3a-760fba6917d6",
   "metadata": {},
   "source": [
    "***"
   ]
  },
  {
   "cell_type": "markdown",
   "id": "72c6e642-70a4-4326-b010-71123fcca713",
   "metadata": {},
   "source": [
    "<h1>Deadline for the following Parts (2-4) is November 10, 2024</h1>"
   ]
  },
  {
   "cell_type": "markdown",
   "id": "76fb5f81-af9b-4fe8-90d3-4fc34212f791",
   "metadata": {},
   "source": [
    "<h3>Part 2 - Pandas Data Frames and Data Visualization</h3>"
   ]
  },
  {
   "cell_type": "markdown",
   "id": "b03adeee-97c5-4c67-9de1-02b7a1afb27d",
   "metadata": {},
   "source": [
    "<h4>Task 5</h4>"
   ]
  },
  {
   "cell_type": "markdown",
   "id": "f1bc8d61-b48b-45c2-bf20-35fac60bdc2f",
   "metadata": {},
   "source": [
    "***a) Import the csv-file on world population***\n",
    "\n",
    "In the Git Hub, where you pulled the assignment, you were also provided two csv-files. Please import the file on world population and store it as a data frame. Remember to load the pandas library first. "
   ]
  },
  {
   "cell_type": "code",
   "execution_count": null,
   "id": "9f97d906",
   "metadata": {},
   "outputs": [],
   "source": [
    "# Import first data set\n",
    "\n"
   ]
  },
  {
   "cell_type": "markdown",
   "id": "f6a44194-c785-419d-a0b7-846b712b171c",
   "metadata": {},
   "source": [
    "***b) Data Types***\n",
    "\n",
    "Familiarize yourself with the data on world population per country. \n",
    "\n",
    "Often, it might be useful to rename some columns or change the data type of values.\n",
    "Therefore, investigate what data types do the different columns have.\n"
   ]
  },
  {
   "cell_type": "code",
   "execution_count": null,
   "id": "699b7732",
   "metadata": {
    "tags": []
   },
   "outputs": [],
   "source": [
    "# Checking data types\n",
    "\n"
   ]
  },
  {
   "cell_type": "markdown",
   "id": "ed6a0d4d",
   "metadata": {},
   "source": [
    "Rename the columns using the following dictionary:\n",
    "\n",
    "`{'no' : 'Nr.', 'Country (or dependency)' : 'Country', 'Population 2020' : 'Population', 'Yearly Change' : 'Yearly_%_Change',\n",
    "'Net Change' : 'Net_Change', 'Density  (P/Km²)' : 'Density', 'Land Area (Km²)' : 'Area', 'Migrants (net)' : 'Net_Migrants',\n",
    "'Fert. Rate' : 'Fert_Rate', 'Med. Age' : 'Median_Age', 'Urban Pop %' : 'Urban_Pop_%', 'World Share' : 'World_Share'}`"
   ]
  },
  {
   "cell_type": "code",
   "execution_count": null,
   "id": "4cd1b19b",
   "metadata": {},
   "outputs": [],
   "source": [
    "# Renaming columns\n",
    "\n"
   ]
  },
  {
   "cell_type": "markdown",
   "id": "a654e170-bb43-4af6-8230-0643a9bb28f3",
   "metadata": {},
   "source": [
    "***c) Filter out all counties, that have missing values somewhere in the table. Do they contribute a relevant share to the world-population? If not, simply drop these rows (countires)***\n"
   ]
  },
  {
   "cell_type": "code",
   "execution_count": 1,
   "id": "57f2145b",
   "metadata": {},
   "outputs": [],
   "source": [
    "# Deal with NA-rows\n"
   ]
  },
  {
   "cell_type": "markdown",
   "id": "648db0ce",
   "metadata": {},
   "source": [
    "***d) Change the data type of all numeric columns to int (or float). Find a way to deal with the percentage-columns and comma.***\n"
   ]
  },
  {
   "cell_type": "code",
   "execution_count": null,
   "id": "554268a9",
   "metadata": {},
   "outputs": [],
   "source": [
    "# Changing data types\n"
   ]
  },
  {
   "cell_type": "markdown",
   "id": "fcc13ec4",
   "metadata": {},
   "source": [
    "***e) Import the second csv-file containing countries, their capital and continent. For nice visualisations later, please merge the information on continents on to your population-data-frame.***\n",
    "\n",
    "*Hint: use the pandas function `.merge()` and see the documentation [here](https://pandas.pydata.org/docs/reference/api/pandas.DataFrame.merge.html) for details*."
   ]
  },
  {
   "cell_type": "code",
   "execution_count": null,
   "id": "46351733",
   "metadata": {},
   "outputs": [],
   "source": [
    "# Merging Data Frames\n",
    "\n"
   ]
  },
  {
   "cell_type": "markdown",
   "id": "6dfaf76c",
   "metadata": {},
   "source": [
    "***f) For some basic descriptive statistics, please find the following countries:***\n",
    "\n",
    "- *Top 5* countries in absolute population numbers\n",
    "- The country with the *highest* population density\n",
    "- The counrty with the *highest* and *lowest* yearly %-change"
   ]
  },
  {
   "cell_type": "code",
   "execution_count": null,
   "id": "39ab14cb",
   "metadata": {},
   "outputs": [],
   "source": [
    "# 1. top 5\n"
   ]
  },
  {
   "cell_type": "code",
   "execution_count": null,
   "id": "cf7f2db0",
   "metadata": {},
   "outputs": [],
   "source": [
    "# 2. max()\n"
   ]
  },
  {
   "cell_type": "code",
   "execution_count": null,
   "id": "3a364036",
   "metadata": {},
   "outputs": [],
   "source": [
    "# 3. max() and min()\n"
   ]
  },
  {
   "cell_type": "markdown",
   "id": "db39203d",
   "metadata": {},
   "source": [
    "***g) Find the absolute population number, the mean population and %-share among the world-population, when grouping the countires on continent. Save the resulting table into a separate data frame.***\n",
    " "
   ]
  },
  {
   "cell_type": "code",
   "execution_count": null,
   "id": "12936bd7",
   "metadata": {},
   "outputs": [],
   "source": [
    "# Solution\n",
    "\n",
    "\n"
   ]
  },
  {
   "cell_type": "markdown",
   "id": "46f65df0",
   "metadata": {},
   "source": [
    "***h) Plot the absolute population per continent in descending order, using a bar chart. Don't forget to add a header, axis-labels, a legend (if required) and so on.***\n",
    " "
   ]
  },
  {
   "cell_type": "code",
   "execution_count": 2,
   "id": "301895a4",
   "metadata": {},
   "outputs": [],
   "source": [
    "# Bar chart\n",
    "\n"
   ]
  },
  {
   "cell_type": "markdown",
   "id": "81ae82da",
   "metadata": {},
   "source": [
    "***i) Visualize the distribution of the continents populations by using a violin plot (if you are not familiar with violin plots, read for example [here](https://mode.com/blog/violin-plot-examples/)). Describe your findings from the two plots in 2 - 3 sentences.***"
   ]
  },
  {
   "cell_type": "code",
   "execution_count": 1,
   "id": "514436a7",
   "metadata": {},
   "outputs": [],
   "source": [
    "# Violin plot\n",
    "\n"
   ]
  },
  {
   "cell_type": "markdown",
   "id": "8c277d18",
   "metadata": {},
   "source": [
    "***Interprete your plot here:***\n",
    "\n",
    "- \n"
   ]
  },
  {
   "cell_type": "markdown",
   "id": "41ffef9b-3dd9-485a-aca9-bf6ccc12ef67",
   "metadata": {},
   "source": [
    "<h3>Part 3 - Lambda Functions and List/Dictionary Comprehension</h3>"
   ]
  },
  {
   "cell_type": "markdown",
   "id": "ce19df07-430c-4f1b-811d-c59d1f6bdf29",
   "metadata": {},
   "source": [
    "<h4>Task 6</h4>"
   ]
  },
  {
   "cell_type": "markdown",
   "id": "67180c2b-85e6-4152-8266-2144efdfc34f",
   "metadata": {},
   "source": [
    "***a) Lambda Functions***\n",
    "\n",
    "Lambda functions are a handy way to define small, helpful functions. The basic syntax was: \n",
    "\n",
    "`lambda <parameter>, … : expression`\n",
    "\n",
    "Use a lambda function to obtain the dictionary representing the person closest to their 50th birthday from a list of dictionaries in the following form (if there are multiple people with the same distance, it is enough to return one):\n"
   ]
  },
  {
   "cell_type": "code",
   "execution_count": 1,
   "id": "3615b84c-0f77-4bdb-9852-08e1ade0911d",
   "metadata": {},
   "outputs": [
    {
     "data": {
      "text/plain": [
       "[{'name': 'Laurie Pineda', 'age': 39},\n",
       " {'name': 'Tommy Harper', 'age': 21},\n",
       " {'name': 'Jeffery Short', 'age': 54}]"
      ]
     },
     "execution_count": 1,
     "metadata": {},
     "output_type": "execute_result"
    }
   ],
   "source": [
    "people = [{'name': 'Laurie Pineda', 'age': 39}, {'name': 'Tommy Harper', 'age': 21}, \n",
    "                    {'name': 'Jeffery Short', 'age': 54}]\n",
    "\n",
    "people "
   ]
  },
  {
   "cell_type": "code",
   "execution_count": null,
   "id": "2f1190fd-d2b5-4ad9-b86f-72418782feca",
   "metadata": {},
   "outputs": [],
   "source": [
    "# Your solution can go here:\n",
    "\n",
    "\n"
   ]
  },
  {
   "cell_type": "markdown",
   "id": "fd716bdf-2edb-4f15-8c61-af5a19ff038f",
   "metadata": {},
   "source": [
    "***b) List Comprehension***\n",
    "\n",
    "We’ve also learned about list comprehension. Here, the syntax was:\n",
    "`L = [<element> for <element> in <list> if <Condition>]`\n",
    "\n",
    "Use list comprehensions to write a Python function `remove_long_words()` that:\n",
    "- accepts a sentence and an integer n as input parameters\n",
    "- uses the split() function of String objects to split the sentence into words\n",
    "- stores the individual words in a list\n",
    "- removes all words that are longer than n characters from the list, thereby creating a new list (*hint:* here, you need to use the list comprehension )\n",
    "- prints the new list\n",
    "\n",
    "Make sure to include comments and a function description."
   ]
  },
  {
   "cell_type": "code",
   "execution_count": null,
   "id": "a2f24fd9-71f1-42d7-a5d5-18c9b91d7b3b",
   "metadata": {},
   "outputs": [],
   "source": [
    "# Your solution can go here:\n",
    "\n",
    "def remove_long_words(): \n",
    "    \"\"\"\n",
    "    here: Doc String\n",
    "    \"\"\"\n",
    "    \n",
    "    ..."
   ]
  },
  {
   "cell_type": "markdown",
   "id": "8fb7b4fc-55e7-46a5-a4df-75752703bf66",
   "metadata": {},
   "source": [
    "<h4>Task 7 - Social Science Application</h4>\n",
    "\n",
    "\n",
    "***a) Senat Election Predictions***\n",
    "\n",
    "In the GitHub folder for the first assignment, you will find a JSON file containing the US Senate 2022 Midterm Election predictions from fivethirtyeight.com\n",
    "\n",
    "- Open and load the JSON file data into Python\n",
    "- Using list/dictionary comprehension and lambda functions, extract the state-code, name and party affiliation of the candidate with the highest winning probability (``winprob``) in each state.\n",
    "\n",
    "*Hints:*\n",
    "- Start by printing one dictionary (for one state), to get an idea of the nested structure\n",
    "    * Then, try to access each of the requested info for this first dictionary\n",
    "    * When you have the correct info from the first dictionary, built the comprehension, to run over all dictionaries\n",
    "- Ideally, you have one dictionary comprehension, running over all sub-dictionaries and extracting the desired information. Use a lambda-function to always find the candidate with the highest winning probability. \n"
   ]
  },
  {
   "cell_type": "code",
   "execution_count": null,
   "id": "76d3f91b-b449-4d6b-a448-5810acdb53f1",
   "metadata": {},
   "outputs": [],
   "source": [
    "# Your solution can go here:\n",
    "\n",
    "\n"
   ]
  },
  {
   "cell_type": "markdown",
   "id": "3c9caf67-06f6-4d25-bbf7-c539d36a93a6",
   "metadata": {},
   "source": [
    "***b) Senat Election Results***\n",
    "\n",
    "Additionally, you can find another JSON file with the (preliminary) US Senate Midterm Election results from “cnn.com”.\n",
    "- Also, open and load this data\n",
    "- Using a list/dictionary comprehension and lambda functions, extract the state-code, name and party affiliation of the winner in each state. \n",
    "    * Here, the same hints as in a) apply\n",
    "- Compare the results from the prediction and the result. How many percent of the states were predicted correctly?"
   ]
  },
  {
   "cell_type": "code",
   "execution_count": null,
   "id": "e4c890a1-938e-4761-89a9-9fd1aeb0168c",
   "metadata": {},
   "outputs": [],
   "source": [
    "# Your solution can go here:\n",
    "\n",
    "\n"
   ]
  },
  {
   "cell_type": "markdown",
   "id": "b3b2bc58-9b5d-4713-b7ae-aeecd5a53758",
   "metadata": {},
   "source": [
    "***"
   ]
  },
  {
   "cell_type": "markdown",
   "id": "c63ea9b7-8d3c-419c-8251-80da1ac7e1b1",
   "metadata": {},
   "source": [
    "<h3>Part 4 - Bonus</h3>"
   ]
  },
  {
   "cell_type": "markdown",
   "id": "63437813-4c31-4c07-9705-47f160c612f6",
   "metadata": {},
   "source": [
    "In the lecture, you discussed an algorithm that converts integer numbers in decimal representation to binary representation. You may use any suitable data type as output as long as the resulting number is clearly identifiable.\n",
    "\n",
    "***a) Number Conversion - Part 1***\n",
    "\n",
    "Write a corresponding algorithm decimal_int_to_octal() in Python to convert non-negative integer numbers in decimal representation to octal.\n"
   ]
  },
  {
   "cell_type": "code",
   "execution_count": null,
   "id": "237af379-0da2-43da-9041-95673660adfc",
   "metadata": {},
   "outputs": [],
   "source": []
  },
  {
   "cell_type": "markdown",
   "id": "db15efe4-50f3-4db3-895c-ba8413eab281",
   "metadata": {},
   "source": [
    "***b) Number Conversion - Part 2***\n",
    "\n",
    "Develop a more general algorithm decimal_to_octal() that also converts numbers that include decimal places from decimal representation to octal."
   ]
  },
  {
   "cell_type": "code",
   "execution_count": null,
   "id": "1486edc3-cb09-4b72-b939-e891a618a21f",
   "metadata": {},
   "outputs": [],
   "source": []
  },
  {
   "cell_type": "markdown",
   "id": "35864932-91c2-4142-beb5-1b69ae1581ea",
   "metadata": {},
   "source": [
    "***c) Counting bits***\n",
    "\n",
    "Write a program that counts the number of (non-zero) bits in a nonnegative integer. Do not use strings but bitwise operations (hint: Use bitshifts and masking)."
   ]
  },
  {
   "cell_type": "code",
   "execution_count": null,
   "id": "cf786487-1c9b-4fd2-9c6f-2e2658d69d7a",
   "metadata": {},
   "outputs": [],
   "source": []
  }
 ],
 "metadata": {
  "kernelspec": {
   "display_name": "Python 3 (ipykernel)",
   "language": "python",
   "name": "python3"
  },
  "language_info": {
   "codemirror_mode": {
    "name": "ipython",
    "version": 3
   },
   "file_extension": ".py",
   "mimetype": "text/x-python",
   "name": "python",
   "nbconvert_exporter": "python",
   "pygments_lexer": "ipython3",
   "version": "3.9.13"
  }
 },
 "nbformat": 4,
 "nbformat_minor": 5
}
