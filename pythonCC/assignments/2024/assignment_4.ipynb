{
 "cells": [
  {
   "cell_type": "markdown",
   "metadata": {},
   "source": [
    "# Assignment 4: Data exploratoin\n",
    "\n",
    "Taehee Kim, Claire Jordan, Elena Solar, Liane Strauch\n",
    "\n",
    "Winter Term 2024\n",
    "\n",
    "Total Score: 20 + 3 (Bonus)\n",
    "\n",
    "Submission Deadline: Thu, October 17, 23:59"
   ]
  },
  {
   "cell_type": "markdown",
   "metadata": {},
   "source": [
    "## Task 1-1. Pandas (Total: 5 Points)\n",
    "\n",
    "1. Load \"adult.csv\" into dataframe named adult_df (recognize \"?\" values as NA)\n",
    "2. Get a subset of the dataframe with columns \"age\", \"sex\", \"education\", \"hours-per-week\", \"capital-gain\". # 0.5 Point\n",
    "3. Rename column \"capital-gain\" to \"capital_gain\". # 1 Point\n",
    "4. Print the column names of adults_df. # 0.5 Point\n",
    "5. Print number of different values for the attribute education. # 1 Point\n",
    "6. Print the mean \"working time per week\". # 1 Point\n",
    "7. Print the max \"capital_gain\". # 1 Point"
   ]
  },
  {
   "cell_type": "code",
   "execution_count": null,
   "metadata": {},
   "outputs": [],
   "source": []
  },
  {
   "cell_type": "markdown",
   "metadata": {},
   "source": [
    "## Task 1-2. (Total: 6 Points)\n",
    "1. Use adult_df # 0 Point\n",
    "2. Get all persons with a Bachelor degree as their highest degree into 'bachelors' dataframe. # 1 Point\n",
    "3. Print the number of those persons. # 1 Point\n",
    "4. Print the sum of their capital_gain. # 1 Point\n",
    "5. How many of those persons male and female? # 1 Point\n",
    "6. Sort them according to their capital_gain and age in descending order and save in the same object. # 1 Point\n",
    "7. Print first 10 of those persons who has age between 20 and 40. # 1 Point"
   ]
  },
  {
   "cell_type": "code",
   "execution_count": null,
   "metadata": {},
   "outputs": [],
   "source": []
  },
  {
   "cell_type": "markdown",
   "metadata": {},
   "source": [
    "## Task 2. Arguments (5 Points)\n",
    "\n",
    "Write a function named **api_param** that returns a dictionary containing parameters to call data through an API. This function should satisfy the following conditions:\n",
    "\n",
    "- The function receives one argument, query, and any number of arbitrary keyword arguments.\n",
    "- The function returns a dictionary consisting of parameters (keys) and corresponding values passed to the function as arguments.\n",
    "- The returned dictionary must include a 'count' key. If a 'count' key-value pair is not provided as a function argument, the value for 'count' should default to 100.\n",
    "\n",
    "If we call function in the following way, \n",
    "\n",
    "```python\n",
    "api_param('election', lang='en')\n",
    "```\n",
    "\n",
    "The function should return in this way:\n",
    "\n",
    "```python\n",
    "{'lang': 'en', 'count': 100, 'query': 'election'} \n",
    "```"
   ]
  },
  {
   "cell_type": "code",
   "execution_count": null,
   "metadata": {},
   "outputs": [],
   "source": []
  },
  {
   "cell_type": "markdown",
   "metadata": {},
   "source": [
    "## Task 3. Read and Write a file (7 Points)"
   ]
  },
  {
   "cell_type": "markdown",
   "metadata": {},
   "source": [
    "1. Read 'example_ten_tweets.json' file. # 1 Point"
   ]
  },
  {
   "cell_type": "code",
   "execution_count": null,
   "metadata": {},
   "outputs": [],
   "source": []
  },
  {
   "cell_type": "markdown",
   "metadata": {},
   "source": [
    "2. This is a list of dictionaries. Print the number of dictionary in the list. # 1 Point\n",
    "3. Print the first dictionary and its keys. # 1 Point"
   ]
  },
  {
   "cell_type": "code",
   "execution_count": null,
   "metadata": {},
   "outputs": [],
   "source": []
  },
  {
   "cell_type": "markdown",
   "metadata": {},
   "source": [
    "4. Create a list named **ids** that contains all 10 id values from the dictionaries. Dictionary key for id is **id**. # 1 Point"
   ]
  },
  {
   "cell_type": "code",
   "execution_count": null,
   "metadata": {},
   "outputs": [],
   "source": []
  },
  {
   "cell_type": "markdown",
   "metadata": {},
   "source": [
    "5. Create a list named **retweet** that contains all retweet count values. Dictionary key for retweet count is 'retweet_count'. # 1 Point"
   ]
  },
  {
   "cell_type": "code",
   "execution_count": null,
   "metadata": {},
   "outputs": [],
   "source": []
  },
  {
   "cell_type": "markdown",
   "metadata": {},
   "source": [
    "6. Save id and retweet_count to a text file in the following format. Submit the text file along with your assignment notebook. # 2 Point\n",
    "   \n",
    "```python\n",
    "    1352140185828425729,4071\n",
    "    1352140112486809601,30687\n",
    "    1352002900000600064,58637\n",
    "    1351952354183061504,77420\n",
    "    1351951465674276869,58851\n",
    "    1351918910199631872,59256\n",
    "    1351906918667677696,39537\n",
    "    1351897267666608129,486578\n",
    "    1351731172989050882,50381\n",
    "    1351711040933830659,7514\n"
   ]
  },
  {
   "cell_type": "code",
   "execution_count": null,
   "metadata": {},
   "outputs": [],
   "source": []
  }
 ],
 "metadata": {
  "kernelspec": {
   "display_name": "gt",
   "language": "python",
   "name": "python3"
  },
  "language_info": {
   "codemirror_mode": {
    "name": "ipython",
    "version": 3
   },
   "file_extension": ".py",
   "mimetype": "text/x-python",
   "name": "python",
   "nbconvert_exporter": "python",
   "pygments_lexer": "ipython3",
   "version": "3.12.2"
  }
 },
 "nbformat": 4,
 "nbformat_minor": 2
}
