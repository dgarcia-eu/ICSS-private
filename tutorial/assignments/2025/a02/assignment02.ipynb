{
 "cells": [
  {
   "cell_type": "markdown",
   "id": "4379fd43-8c5e-4e2e-a4c5-4f53819b2b0b",
   "metadata": {
    "execution": {
     "iopub.execute_input": "2023-10-12T19:28:58.497573Z",
     "iopub.status.busy": "2023-10-12T19:28:58.496574Z",
     "iopub.status.idle": "2023-10-12T19:28:58.515065Z",
     "shell.execute_reply": "2023-10-12T19:28:58.513545Z",
     "shell.execute_reply.started": "2023-10-12T19:28:58.497573Z"
    },
    "tags": []
   },
   "source": [
    "<div style=\"text-align: center;\" >\n",
    "<h1 style=\"margin-top: 0.2em; margin-bottom: 0.1em;\">Introduction to Computation for the Social Sciences</h1>\n",
    "<h2 style=\"margin-top: 0.7em; margin-bottom: 0.3em;\">Assignment 2</h2>\n",
    "<h3 style=\"margin-top: 0.7em; margin-bottom: 0.3em;\">Deadline: Dec 1, 23:59</h3>\n",
    "\n",
    "</div>\n",
    "<br>"
   ]
  },
  {
   "cell_type": "markdown",
   "id": "7f1e2332-b04b-4772-a791-6239188ce41a",
   "metadata": {},
   "source": [
    "<h4 style=\"margin-top: 0.7em; margin-bottom: 0.3em; font-style:italic\">\n",
    "Please push your solutions to your personal repository in our <a href='https://classroom.github.com/a/tGD_7t85'>GitHub Classroom</a></h4><br>\n",
    "\n",
    "***"
   ]
  },
  {
   "cell_type": "markdown",
   "id": "3b355c40",
   "metadata": {},
   "source": [
    "In this assignment, we want to investigate potential network-structures among the Eurovision Song Contest.\n",
    "\n",
    "The Eurovision Song Contest is a yearly song contest between european countries. \n",
    "Each country can send one representative, performing a music act. \n",
    "The winner is determined by a voting system, where a countries inhabitants can vote for *other* countries musicians. \n",
    "Based on the number of calls from a certain country to a certain country, points (ranging between 0 and 12) are awarded.\n",
    "\n",
    "These final points determine the winner of the current year."
   ]
  },
  {
   "cell_type": "markdown",
   "id": "271d6d5c-c2cf-4417-a79b-720c491d9d6b",
   "metadata": {},
   "source": [
    "<h1>Part 1 - Scrape Eurovision Data from Wikipedia</h1>\n"
   ]
  },
  {
   "cell_type": "markdown",
   "id": "7e23f017",
   "metadata": {},
   "source": [
    "<h3>Task 1 - Scrape the years 2010 - 2013 using Beautiful Soup</h3>"
   ]
  },
  {
   "cell_type": "markdown",
   "id": "e27290e8",
   "metadata": {},
   "source": [
    "In this task, you are supposed to scrape the results from the Eurovision Song Contest for the following years: [2010](https://en.wikipedia.org/wiki/Eurovision_Song_Contest_2010), [2011](https://en.wikipedia.org/wiki/Eurovision_Song_Contest_2011), [2012](https://en.wikipedia.org/wiki/Eurovision_Song_Contest_2012), [2013](https://en.wikipedia.org/wiki/Eurovision_Song_Contest_2013). We selected these years, because for them the html-code is (mostly) of the same structure. This way, you can reuse your code. \n",
    "\n",
    "- We are interested in the assigned points in the final, which can be found in the table named something like *'Detailed voting results of the final'*. (be careful, this name might be slightly different for one or more of the years. Please write your code to match all options)\n",
    "- Try to write the code for scraping in a *convenient way* (meaning try not to copy and paste stuff for each year...)\n",
    "\n",
    "\n",
    "***Important***: We want you to scrape the resulting tables by using Beautiful Soup and html-tags and html-attributes. Please **do not use** the `pd.read_html()` function.\n"
   ]
  },
  {
   "cell_type": "markdown",
   "id": "8e526700",
   "metadata": {},
   "source": [
    "***a) Investigate the underlying html structure of the wikipedia pages. Where can you find the table of interest? How could you filter for it?***\n",
    "\n",
    "Access and request the wikipedia page. Deal with the response in a suitable way and filter for the html-code, reffering to our table of interest.\n",
    "\n",
    "*Hint:* One way to select the desired table is to use the tables caption and the `.parent` function."
   ]
  },
  {
   "cell_type": "code",
   "execution_count": null,
   "id": "79ada679",
   "metadata": {},
   "outputs": [],
   "source": [
    "# Scrape and filter for the table\n",
    "\n"
   ]
  },
  {
   "cell_type": "markdown",
   "id": "09d66110",
   "metadata": {},
   "source": [
    "***b) Scrape the content of the table***\n",
    "\n",
    "Once you restricted the response to the code of the table, start filtering out it's content. \n",
    "\n",
    "*Hint:* It might make sense to scrape the table using single lists/vectors for certain information and later recombine these into a data frame of the right format. "
   ]
  },
  {
   "cell_type": "code",
   "execution_count": null,
   "id": "a49085e3",
   "metadata": {},
   "outputs": [],
   "source": [
    "# Scrape for one year\n",
    "\n"
   ]
  },
  {
   "cell_type": "markdown",
   "id": "d2878c14",
   "metadata": {},
   "source": [
    "***c) Reuse your code conveniently to scrape not only one year, but the four years (2010 - 2013) into single data frames.***\n",
    "\n",
    "If you'd like to, you can additionally export the data frames as separate csv-files."
   ]
  },
  {
   "cell_type": "code",
   "execution_count": null,
   "id": "eee52210",
   "metadata": {},
   "outputs": [],
   "source": []
  },
  {
   "cell_type": "markdown",
   "id": "991ca1d5",
   "metadata": {},
   "source": [
    "<h3>Task 2 - Scrape information on each years aritsts using the 'read_html()' function.</h3>"
   ]
  },
  {
   "cell_type": "markdown",
   "id": "46176309",
   "metadata": {},
   "source": [
    "Now, you may use `pd.read_html()` to retreive the tables containing information on each countries artist, their song etc. These tables are called \"Participants of the Eurovision Song Contest 20xx\"\n",
    "\n",
    "Store them in separate data frames and make sure to modify them into suitable data types and format."
   ]
  },
  {
   "cell_type": "code",
   "execution_count": 1,
   "id": "92dd0742",
   "metadata": {},
   "outputs": [],
   "source": [
    "# Solution\n",
    "\n"
   ]
  },
  {
   "cell_type": "markdown",
   "id": "ec7d227c-6957-4681-8f3a-760fba6917d6",
   "metadata": {},
   "source": [
    "***"
   ]
  },
  {
   "cell_type": "markdown",
   "id": "76fb5f81-af9b-4fe8-90d3-4fc34212f791",
   "metadata": {},
   "source": [
    "<h1>Part 2 - Get data from an API</h1>\n",
    "\n"
   ]
  },
  {
   "cell_type": "markdown",
   "id": "5254fc47",
   "metadata": {},
   "source": [
    "To extend our analysis, we would now like you to retreive data from the Wikipedia API.\n",
    "\n",
    "For every artist competing in one year (you can choose one year between 2010-2013 yourself), we want to get the date, their wikipedia page was created. Using these dates we want to explore the hypothesis that the earlier an artist's wikipedia page was created - i.e. the more popular he/she already was prior to the Contest - the more points the country got."
   ]
  },
  {
   "cell_type": "markdown",
   "id": "b03adeee-97c5-4c67-9de1-02b7a1afb27d",
   "metadata": {},
   "source": [
    "<h3>Task 3 - Retreive Data from the <a href='https://xtools.wmcloud.org/api#/'>XTools Wikipedia-API</a></h3>"
   ]
  },
  {
   "cell_type": "markdown",
   "id": "f6a44194-c785-419d-a0b7-846b712b171c",
   "metadata": {},
   "source": [
    "***a) Access the API via the correct `GET request` and retrieve the creation date of each artist's wikipedia page.***\n",
    "\n",
    "You can use the sandbox available at https://xtools.wmcloud.org/api#/ for testing which GET request you need and how it works."
   ]
  },
  {
   "cell_type": "code",
   "execution_count": null,
   "id": "699b7732",
   "metadata": {
    "tags": []
   },
   "outputs": [],
   "source": [
    "# Solution\n",
    "\n"
   ]
  },
  {
   "cell_type": "markdown",
   "id": "7847a4c5",
   "metadata": {},
   "source": [
    "***b) Investigate if there exists a relationship between the creation date and the voting result.***\n",
    "\n",
    "Does the hypothesis, that artists whose Wikipedia page is created earlier ahead of the contest recieve higher scores, hold for your year? Create some nice visualization to back your findings!<br>\n",
    "Did you encounter any problems with your approach? If yes, name them and shortly explain their impact on your analysis."
   ]
  },
  {
   "cell_type": "code",
   "execution_count": null,
   "id": "f634b99c",
   "metadata": {},
   "outputs": [],
   "source": []
  },
  {
   "cell_type": "markdown",
   "id": "9d4ca344",
   "metadata": {},
   "source": [
    "***"
   ]
  },
  {
   "cell_type": "markdown",
   "id": "41ffef9b-3dd9-485a-aca9-bf6ccc12ef67",
   "metadata": {},
   "source": [
    "<h1>Part 3 - Network Visualization</h1>\n"
   ]
  },
  {
   "cell_type": "markdown",
   "id": "ce19df07-430c-4f1b-811d-c59d1f6bdf29",
   "metadata": {},
   "source": [
    "<h4>Task 4 - Vizualize the results in a network graph.</h4>\n",
    "\n",
    "Choose one of the years you scraped above (i.e. the year, for which you also got the artist-data) and visualize the voting results in a network plot. Play around with different layouts and mappings (for example: how do you indicate contestants vs. only voters, how could you visualize the overall points a country got, how can you display the assigned points?).\n",
    "\n",
    "*Hint:* It makes sense to restrict your plot on i.e. only the three highest points (8, 10, 12) to prevent it from becoming too cluttered."
   ]
  },
  {
   "cell_type": "markdown",
   "id": "67180c2b-85e6-4152-8266-2144efdfc34f",
   "metadata": {},
   "source": [
    "***a) Familiarize with Graphs***\n",
    "\n",
    "Extract i.e. the entities being mapped to the nodes and the entities being mapped to edges, etc."
   ]
  },
  {
   "cell_type": "code",
   "execution_count": 2,
   "id": "3615b84c-0f77-4bdb-9852-08e1ade0911d",
   "metadata": {},
   "outputs": [],
   "source": [
    "# Solution\n",
    "\n",
    "\n"
   ]
  },
  {
   "cell_type": "markdown",
   "id": "fd716bdf-2edb-4f15-8c61-af5a19ff038f",
   "metadata": {},
   "source": [
    "***b) Vizualize your choosen year***\n"
   ]
  },
  {
   "cell_type": "code",
   "execution_count": null,
   "id": "a2f24fd9-71f1-42d7-a5d5-18c9b91d7b3b",
   "metadata": {},
   "outputs": [],
   "source": [
    "# Solution\n",
    "\n",
    "\n"
   ]
  },
  {
   "cell_type": "markdown",
   "id": "862a9cf2",
   "metadata": {},
   "source": [
    "***"
   ]
  },
  {
   "cell_type": "markdown",
   "id": "c63ea9b7-8d3c-419c-8251-80da1ac7e1b1",
   "metadata": {},
   "source": [
    "<h1>Part 4 - Bonus</h1>\n"
   ]
  },
  {
   "cell_type": "markdown",
   "id": "63437813-4c31-4c07-9705-47f160c612f6",
   "metadata": {},
   "source": [
    "Unfortunately, the network plots for single years of the Eurovision Songcontest are not too revealing...\n",
    "\n",
    "This might change, if we aggregate data from several years. Then, we might be able to actually detect communities of countries within the data. That's what we would like you to investigate now.\n",
    "\n",
    "In the GitHib folder, we provided you Eurovision vote results from 10 years (2010 - 2020). "
   ]
  },
  {
   "cell_type": "markdown",
   "id": "190ef283",
   "metadata": {},
   "source": [
    "***a) Import the data files***\n",
    "\n",
    "Import the csv-files and aggregate the data by taking i.e. the sum or average of points a county A (in columns) assigned a country B (the rows) over the years. \n",
    "\n"
   ]
  },
  {
   "cell_type": "code",
   "execution_count": null,
   "id": "237af379-0da2-43da-9041-95673660adfc",
   "metadata": {},
   "outputs": [],
   "source": []
  },
  {
   "cell_type": "markdown",
   "id": "db15efe4-50f3-4db3-895c-ba8413eab281",
   "metadata": {},
   "source": [
    "***b) Visualize the result***\n",
    "\n",
    "Visualize these aggregated scores in a network plot. The layout type `kamada_kawai_layout` is suitable for detecting communities. Make sure to weight edges by the assigned number of points."
   ]
  },
  {
   "cell_type": "code",
   "execution_count": null,
   "id": "1486edc3-cb09-4b72-b939-e891a618a21f",
   "metadata": {},
   "outputs": [],
   "source": []
  },
  {
   "cell_type": "markdown",
   "metadata": {},
   "source": [
    "***c) Interprete your findings***\n",
    "\n",
    "Interprete your plot. Could you detect something?"
   ]
  },
  {
   "cell_type": "markdown",
   "metadata": {},
   "source": []
  }
 ],
 "metadata": {
  "kernelspec": {
   "display_name": "Python 3 (ipykernel)",
   "language": "python",
   "name": "python3"
  },
  "language_info": {
   "codemirror_mode": {
    "name": "ipython",
    "version": 3
   },
   "file_extension": ".py",
   "mimetype": "text/x-python",
   "name": "python",
   "nbconvert_exporter": "python",
   "pygments_lexer": "ipython3",
   "version": "3.12.0"
  }
 },
 "nbformat": 4,
 "nbformat_minor": 5
}
