{
 "cells": [
  {
   "cell_type": "markdown",
   "metadata": {},
   "source": [
    "# Exercise for Data visualization"
   ]
  },
  {
   "cell_type": "code",
   "execution_count": 1,
   "metadata": {},
   "outputs": [],
   "source": [
    "import numpy as np\n",
    "import matplotlib.pyplot as plt\n",
    "%matplotlib inline"
   ]
  },
  {
   "cell_type": "markdown",
   "metadata": {},
   "source": [
    "# Toy data"
   ]
  },
  {
   "cell_type": "markdown",
   "metadata": {},
   "source": [
    "## Create a scatter plot for the following data"
   ]
  },
  {
   "cell_type": "code",
   "execution_count": 2,
   "metadata": {},
   "outputs": [],
   "source": [
    "age = [32,34,19,33,57,15,62,65,32,17]\n",
    "income = [52000,27000,7000,23000,18500,50000,72000,22000,42000,0]"
   ]
  },
  {
   "cell_type": "code",
   "execution_count": null,
   "metadata": {},
   "outputs": [],
   "source": []
  },
  {
   "cell_type": "markdown",
   "metadata": {},
   "source": [
    "## Create a simple line plot with two lines comparing the following measurements\n"
   ]
  },
  {
   "cell_type": "code",
   "execution_count": 4,
   "metadata": {},
   "outputs": [],
   "source": [
    "weather_station_1 = [22,17,18,19,25,26,28,17,15,12]\n",
    "weather_station_2 = [24,19,17,18,24,27,29,15,14,10]"
   ]
  },
  {
   "cell_type": "code",
   "execution_count": null,
   "metadata": {},
   "outputs": [],
   "source": []
  },
  {
   "cell_type": "markdown",
   "metadata": {},
   "source": [
    "## Style this plot\n",
    "The line colors should be red and blue; Add a legend; set the visible area for the y-axis from -5 to 35"
   ]
  },
  {
   "cell_type": "code",
   "execution_count": null,
   "metadata": {},
   "outputs": [],
   "source": []
  },
  {
   "cell_type": "markdown",
   "metadata": {},
   "source": [
    "## Visualize the following election data with a paired bar chart"
   ]
  },
  {
   "cell_type": "code",
   "execution_count": 10,
   "metadata": {},
   "outputs": [],
   "source": [
    "parties = [\"CDU\",\"SPD\",\"AfD\", \"FDP\", \"DIE LINKE\", \"GRÜNE\", \"CSU\", \"Sonstige\"]\n",
    "result_2017 = [26.8,20.5,12.6,10.7,9.2,8.9,6.2,5.0]\n",
    "result_2013 = [34.1,25.7,4.7,4.8,8.6,8.4,7.4,6.2]"
   ]
  },
  {
   "cell_type": "code",
   "execution_count": null,
   "metadata": {},
   "outputs": [],
   "source": []
  },
  {
   "cell_type": "markdown",
   "metadata": {},
   "source": [
    "## Create two pie charts for the above election data"
   ]
  },
  {
   "cell_type": "code",
   "execution_count": null,
   "metadata": {
    "scrolled": false
   },
   "outputs": [],
   "source": []
  },
  {
   "cell_type": "markdown",
   "metadata": {},
   "source": [
    "# Quality of Government dataset"
   ]
  },
  {
   "cell_type": "code",
   "execution_count": 21,
   "metadata": {},
   "outputs": [],
   "source": [
    "import pandas as pd"
   ]
  },
  {
   "cell_type": "code",
   "execution_count": 22,
   "metadata": {},
   "outputs": [
    {
     "name": "stderr",
     "output_type": "stream",
     "text": [
      "/home/juhi/anaconda3/lib/python3.7/site-packages/pandas/core/generic.py:5096: SettingWithCopyWarning: \n",
      "A value is trying to be set on a copy of a slice from a DataFrame.\n",
      "Try using .loc[row_indexer,col_indexer] = value instead\n",
      "\n",
      "See the caveats in the documentation: http://pandas.pydata.org/pandas-docs/stable/indexing.html#indexing-view-versus-copy\n",
      "  self[name] = value\n"
     ]
    }
   ],
   "source": [
    "#read the data directly online:\n",
    "data = pd.read_csv (\"http://www.qogdata.pol.gu.se/dataarchive/qog_std_cs_jan17.csv\")\n",
    "df = data [[\"cname\", \"wdi_pop\", \"wdi_popgr\", \"wdi_gdpcapcur\", \"wdi_gdpcapgr\", \"wdi_area\", \"wdi_broadb\", \"ht_region\"]]\n",
    "df.columns = [\"name\", \"population\",\"population_growth\", \"gdp_per_capita\", \"gdp_growth\", \"area\", \"internet\", \"region\"]\n",
    "df.region = df.region.replace (range(1,11) , [\"Eastern Europe\", \"Latin America\", \"North Africa & Middle East\", \"Sub-Saharan Africa\", \"Western Europe and North America\", \"East Asia\",\"South-East Asia\", \"South Asia\", \"Pacific\", \"Caribbean\"])"
   ]
  },
  {
   "cell_type": "code",
   "execution_count": 23,
   "metadata": {},
   "outputs": [
    {
     "data": {
      "text/html": [
       "<div>\n",
       "<style scoped>\n",
       "    .dataframe tbody tr th:only-of-type {\n",
       "        vertical-align: middle;\n",
       "    }\n",
       "\n",
       "    .dataframe tbody tr th {\n",
       "        vertical-align: top;\n",
       "    }\n",
       "\n",
       "    .dataframe thead th {\n",
       "        text-align: right;\n",
       "    }\n",
       "</style>\n",
       "<table border=\"1\" class=\"dataframe\">\n",
       "  <thead>\n",
       "    <tr style=\"text-align: right;\">\n",
       "      <th></th>\n",
       "      <th>name</th>\n",
       "      <th>population</th>\n",
       "      <th>population_growth</th>\n",
       "      <th>gdp_per_capita</th>\n",
       "      <th>gdp_growth</th>\n",
       "      <th>area</th>\n",
       "      <th>internet</th>\n",
       "      <th>region</th>\n",
       "    </tr>\n",
       "  </thead>\n",
       "  <tbody>\n",
       "    <tr>\n",
       "      <th>0</th>\n",
       "      <td>Afghanistan</td>\n",
       "      <td>30682500.0</td>\n",
       "      <td>3.164336</td>\n",
       "      <td>666.795044</td>\n",
       "      <td>-1.216695</td>\n",
       "      <td>652860.0</td>\n",
       "      <td>0.004910</td>\n",
       "      <td>South Asia</td>\n",
       "    </tr>\n",
       "    <tr>\n",
       "      <th>1</th>\n",
       "      <td>Albania</td>\n",
       "      <td>2897366.0</td>\n",
       "      <td>-0.107730</td>\n",
       "      <td>4411.258301</td>\n",
       "      <td>1.218984</td>\n",
       "      <td>27400.0</td>\n",
       "      <td>5.752928</td>\n",
       "      <td>Eastern Europe</td>\n",
       "    </tr>\n",
       "    <tr>\n",
       "      <th>2</th>\n",
       "      <td>Algeria</td>\n",
       "      <td>38186136.0</td>\n",
       "      <td>1.974814</td>\n",
       "      <td>5491.614258</td>\n",
       "      <td>0.789805</td>\n",
       "      <td>2381740.0</td>\n",
       "      <td>3.264624</td>\n",
       "      <td>North Africa &amp; Middle East</td>\n",
       "    </tr>\n",
       "    <tr>\n",
       "      <th>3</th>\n",
       "      <td>Andorra</td>\n",
       "      <td>75902.0</td>\n",
       "      <td>-4.399684</td>\n",
       "      <td>42806.523438</td>\n",
       "      <td>4.431534</td>\n",
       "      <td>470.0</td>\n",
       "      <td>35.009720</td>\n",
       "      <td>Western Europe and North America</td>\n",
       "    </tr>\n",
       "    <tr>\n",
       "      <th>4</th>\n",
       "      <td>Angola</td>\n",
       "      <td>23448202.0</td>\n",
       "      <td>3.306205</td>\n",
       "      <td>5900.529785</td>\n",
       "      <td>NaN</td>\n",
       "      <td>1246700.0</td>\n",
       "      <td>0.350975</td>\n",
       "      <td>Sub-Saharan Africa</td>\n",
       "    </tr>\n",
       "  </tbody>\n",
       "</table>\n",
       "</div>"
      ],
      "text/plain": [
       "          name  population  population_growth  gdp_per_capita  gdp_growth  \\\n",
       "0  Afghanistan  30682500.0           3.164336      666.795044   -1.216695   \n",
       "1      Albania   2897366.0          -0.107730     4411.258301    1.218984   \n",
       "2      Algeria  38186136.0           1.974814     5491.614258    0.789805   \n",
       "3      Andorra     75902.0          -4.399684    42806.523438    4.431534   \n",
       "4       Angola  23448202.0           3.306205     5900.529785         NaN   \n",
       "\n",
       "        area   internet                            region  \n",
       "0   652860.0   0.004910                        South Asia  \n",
       "1    27400.0   5.752928                    Eastern Europe  \n",
       "2  2381740.0   3.264624        North Africa & Middle East  \n",
       "3      470.0  35.009720  Western Europe and North America  \n",
       "4  1246700.0   0.350975                Sub-Saharan Africa  "
      ]
     },
     "execution_count": 23,
     "metadata": {},
     "output_type": "execute_result"
    }
   ],
   "source": [
    "df.head()"
   ]
  },
  {
   "cell_type": "code",
   "execution_count": 24,
   "metadata": {},
   "outputs": [
    {
     "name": "stderr",
     "output_type": "stream",
     "text": [
      "/home/juhi/anaconda3/lib/python3.7/site-packages/ipykernel_launcher.py:2: SettingWithCopyWarning: \n",
      "A value is trying to be set on a copy of a slice from a DataFrame.\n",
      "Try using .loc[row_indexer,col_indexer] = value instead\n",
      "\n",
      "See the caveats in the documentation: http://pandas.pydata.org/pandas-docs/stable/indexing.html#indexing-view-versus-copy\n",
      "  \n"
     ]
    }
   ],
   "source": [
    "# lets pre-compute the population density for each country, we will need it a couple of times\n",
    "df [\"population_density\"] = df.population / df.area"
   ]
  },
  {
   "cell_type": "code",
   "execution_count": 25,
   "metadata": {},
   "outputs": [
    {
     "data": {
      "text/html": [
       "<div>\n",
       "<style scoped>\n",
       "    .dataframe tbody tr th:only-of-type {\n",
       "        vertical-align: middle;\n",
       "    }\n",
       "\n",
       "    .dataframe tbody tr th {\n",
       "        vertical-align: top;\n",
       "    }\n",
       "\n",
       "    .dataframe thead th {\n",
       "        text-align: right;\n",
       "    }\n",
       "</style>\n",
       "<table border=\"1\" class=\"dataframe\">\n",
       "  <thead>\n",
       "    <tr style=\"text-align: right;\">\n",
       "      <th></th>\n",
       "      <th>name</th>\n",
       "      <th>population</th>\n",
       "      <th>population_growth</th>\n",
       "      <th>gdp_per_capita</th>\n",
       "      <th>gdp_growth</th>\n",
       "      <th>area</th>\n",
       "      <th>internet</th>\n",
       "      <th>region</th>\n",
       "      <th>population_density</th>\n",
       "    </tr>\n",
       "  </thead>\n",
       "  <tbody>\n",
       "    <tr>\n",
       "      <th>0</th>\n",
       "      <td>Afghanistan</td>\n",
       "      <td>30682500.0</td>\n",
       "      <td>3.164336</td>\n",
       "      <td>666.795044</td>\n",
       "      <td>-1.216695</td>\n",
       "      <td>652860.0</td>\n",
       "      <td>0.004910</td>\n",
       "      <td>South Asia</td>\n",
       "      <td>46.997059</td>\n",
       "    </tr>\n",
       "    <tr>\n",
       "      <th>1</th>\n",
       "      <td>Albania</td>\n",
       "      <td>2897366.0</td>\n",
       "      <td>-0.107730</td>\n",
       "      <td>4411.258301</td>\n",
       "      <td>1.218984</td>\n",
       "      <td>27400.0</td>\n",
       "      <td>5.752928</td>\n",
       "      <td>Eastern Europe</td>\n",
       "      <td>105.743285</td>\n",
       "    </tr>\n",
       "    <tr>\n",
       "      <th>2</th>\n",
       "      <td>Algeria</td>\n",
       "      <td>38186136.0</td>\n",
       "      <td>1.974814</td>\n",
       "      <td>5491.614258</td>\n",
       "      <td>0.789805</td>\n",
       "      <td>2381740.0</td>\n",
       "      <td>3.264624</td>\n",
       "      <td>North Africa &amp; Middle East</td>\n",
       "      <td>16.032873</td>\n",
       "    </tr>\n",
       "    <tr>\n",
       "      <th>3</th>\n",
       "      <td>Andorra</td>\n",
       "      <td>75902.0</td>\n",
       "      <td>-4.399684</td>\n",
       "      <td>42806.523438</td>\n",
       "      <td>4.431534</td>\n",
       "      <td>470.0</td>\n",
       "      <td>35.009720</td>\n",
       "      <td>Western Europe and North America</td>\n",
       "      <td>161.493617</td>\n",
       "    </tr>\n",
       "    <tr>\n",
       "      <th>4</th>\n",
       "      <td>Angola</td>\n",
       "      <td>23448202.0</td>\n",
       "      <td>3.306205</td>\n",
       "      <td>5900.529785</td>\n",
       "      <td>NaN</td>\n",
       "      <td>1246700.0</td>\n",
       "      <td>0.350975</td>\n",
       "      <td>Sub-Saharan Africa</td>\n",
       "      <td>18.808215</td>\n",
       "    </tr>\n",
       "  </tbody>\n",
       "</table>\n",
       "</div>"
      ],
      "text/plain": [
       "          name  population  population_growth  gdp_per_capita  gdp_growth  \\\n",
       "0  Afghanistan  30682500.0           3.164336      666.795044   -1.216695   \n",
       "1      Albania   2897366.0          -0.107730     4411.258301    1.218984   \n",
       "2      Algeria  38186136.0           1.974814     5491.614258    0.789805   \n",
       "3      Andorra     75902.0          -4.399684    42806.523438    4.431534   \n",
       "4       Angola  23448202.0           3.306205     5900.529785         NaN   \n",
       "\n",
       "        area   internet                            region  population_density  \n",
       "0   652860.0   0.004910                        South Asia           46.997059  \n",
       "1    27400.0   5.752928                    Eastern Europe          105.743285  \n",
       "2  2381740.0   3.264624        North Africa & Middle East           16.032873  \n",
       "3      470.0  35.009720  Western Europe and North America          161.493617  \n",
       "4  1246700.0   0.350975                Sub-Saharan Africa           18.808215  "
      ]
     },
     "execution_count": 25,
     "metadata": {},
     "output_type": "execute_result"
    }
   ],
   "source": [
    "df.head()"
   ]
  },
  {
   "cell_type": "markdown",
   "metadata": {},
   "source": [
    "## Plot a bar chart of the population density in each country. Sort the bars in descending order of the population density\n",
    "\n"
   ]
  },
  {
   "cell_type": "code",
   "execution_count": null,
   "metadata": {},
   "outputs": [],
   "source": []
  },
  {
   "cell_type": "markdown",
   "metadata": {},
   "source": [
    "## Plot a bar chart for the population in each country. Test the effect of using a logarithmic scale on the y-axis"
   ]
  },
  {
   "cell_type": "code",
   "execution_count": null,
   "metadata": {
    "scrolled": false
   },
   "outputs": [],
   "source": []
  },
  {
   "cell_type": "markdown",
   "metadata": {},
   "source": [
    "## Plot a histogram for the attribute 'population_growth'"
   ]
  },
  {
   "cell_type": "code",
   "execution_count": null,
   "metadata": {},
   "outputs": [],
   "source": []
  },
  {
   "cell_type": "markdown",
   "metadata": {},
   "source": [
    "## Plot a bar chart of the (per country) average population density in each region. Sort the bars in descending order of the population density"
   ]
  },
  {
   "cell_type": "code",
   "execution_count": null,
   "metadata": {},
   "outputs": [],
   "source": []
  },
  {
   "cell_type": "markdown",
   "metadata": {},
   "source": [
    "### Optional: Add to that plot the percentage number as a description for each bar"
   ]
  },
  {
   "cell_type": "code",
   "execution_count": null,
   "metadata": {},
   "outputs": [],
   "source": []
  },
  {
   "cell_type": "markdown",
   "metadata": {},
   "source": [
    "## Compute the average (per country) population_growth and gdp_per_capita for each region. Plot these in a scatter plot against each other"
   ]
  },
  {
   "cell_type": "markdown",
   "metadata": {},
   "source": [
    "## Bonus: Add to the last plot a label  (region name) for each region"
   ]
  },
  {
   "cell_type": "code",
   "execution_count": null,
   "metadata": {},
   "outputs": [],
   "source": []
  }
 ],
 "metadata": {
  "kernelspec": {
   "display_name": "Python 3",
   "language": "python",
   "name": "python3"
  },
  "language_info": {
   "codemirror_mode": {
    "name": "ipython",
    "version": 3
   },
   "file_extension": ".py",
   "mimetype": "text/x-python",
   "name": "python",
   "nbconvert_exporter": "python",
   "pygments_lexer": "ipython3",
   "version": "3.7.3"
  },
  "nav_menu": {},
  "toc": {
   "base_numbering": 1,
   "nav_menu": {},
   "number_sections": true,
   "sideBar": true,
   "skip_h1_title": false,
   "title_cell": "Table of Contents",
   "title_sidebar": "Contents",
   "toc_cell": false,
   "toc_position": {},
   "toc_section_display": "block",
   "toc_window_display": true
  },
  "varInspector": {
   "cols": {
    "lenName": 16,
    "lenType": 16,
    "lenVar": 40
   },
   "kernels_config": {
    "python": {
     "delete_cmd_postfix": "",
     "delete_cmd_prefix": "del ",
     "library": "var_list.py",
     "varRefreshCmd": "print(var_dic_list())"
    },
    "r": {
     "delete_cmd_postfix": ") ",
     "delete_cmd_prefix": "rm(",
     "library": "var_list.r",
     "varRefreshCmd": "cat(var_dic_list()) "
    }
   },
   "types_to_exclude": [
    "module",
    "function",
    "builtin_function_or_method",
    "instance",
    "_Feature"
   ],
   "window_display": false
  }
 },
 "nbformat": 4,
 "nbformat_minor": 2
}
