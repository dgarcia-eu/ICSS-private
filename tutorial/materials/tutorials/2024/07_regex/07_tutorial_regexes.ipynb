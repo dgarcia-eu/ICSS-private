{
 "cells": [
  {
   "cell_type": "markdown",
   "id": "86b8020b-f7a3-4296-b2f7-1c2a0ba7a659",
   "metadata": {},
   "source": [
    "<div style=\"text-align: center;\" >\n",
    "<h1 style=\"margin-top: 0.2em; margin-bottom: 0.1em;\">Regular Expressions</h1>\n",
    "<h4 style=\"margin-top: 0.7em; margin-bottom: 0.3em; font-style:italic\">Why, how, and what the $@!* are they?</h4>\n",
    "</div>\n",
    "<br>"
   ]
  },
  {
   "cell_type": "markdown",
   "id": "6d08a3b9-963f-4de2-86c3-0bf8e522415c",
   "metadata": {},
   "source": [
    "***If you're looking at this notebook online (GitHub) the images won't load correctly. To view them please download/pull the the notebook along with the 'sources' folder and view the notebook on your local machine***"
   ]
  },
  {
   "cell_type": "code",
   "execution_count": 2,
   "id": "c036e711-0080-43f7-b9d1-bd9dec986ba6",
   "metadata": {
    "execution": {
     "iopub.execute_input": "2023-12-13T11:26:17.508432Z",
     "iopub.status.busy": "2023-12-13T11:26:17.508432Z",
     "iopub.status.idle": "2023-12-13T11:26:17.588249Z",
     "shell.execute_reply": "2023-12-13T11:26:17.588249Z",
     "shell.execute_reply.started": "2023-12-13T11:26:17.508432Z"
    },
    "tags": []
   },
   "outputs": [],
   "source": [
    "import re\n",
    "import numpy as np"
   ]
  },
  {
   "cell_type": "markdown",
   "id": "801535ef-f6ae-49b6-a9ac-ce84a082997d",
   "metadata": {},
   "source": [
    "## Extracting Text\n",
    "\n",
    "Sometimes when working with webscraping or text processing (to name but a few topics where regexes come in handy) we would like to extract some specific text from a larger corpus of text data. Imagine for example a data set of posts where you would like to extract all email addresses in an automated fashion without having to go through each post yourself.<br>\n",
    "Since we cannot just type: 'get me all email addresses', and python does the rest, we need to come up with a more sophisticated solution. That's were regexes come into play. Using regexes we can instruct our machine to look for certain patterns inside our data (e.g. the data set of posts) and extract all passages that match these patterns. Looking at our data set for example we could try to find a pattern that includes all email addresses but nothing else and pass that as an instruction to our machine.<br>\n",
    "Since such patterns can be quite complex and coming up with a solution yourselves can be taxing let's first go over some basics and easy examples to get you started."
   ]
  },
  {
   "cell_type": "code",
   "execution_count": 14,
   "id": "f014a7b7-7763-4955-afba-4901db5f4f5a",
   "metadata": {
    "execution": {
     "iopub.execute_input": "2023-12-13T11:26:17.589264Z",
     "iopub.status.busy": "2023-12-13T11:26:17.589264Z",
     "iopub.status.idle": "2023-12-13T11:26:17.591582Z",
     "shell.execute_reply": "2023-12-13T11:26:17.591582Z",
     "shell.execute_reply.started": "2023-12-13T11:26:17.589264Z"
    },
    "tags": []
   },
   "outputs": [],
   "source": [
    "string = 'Today is a wonderful day. Temperature lies at around 23°C or 75°F. For more info refer to www.weather.icss or contact us at weather@icss.icss.'"
   ]
  },
  {
   "cell_type": "markdown",
   "id": "c42e7624-face-4016-95ab-1241b9726700",
   "metadata": {},
   "source": [
    "### Literal Characters\n",
    "\n",
    "Literal characters are, well, just that... literal characters. There's not really much more to say about them. Of course, there are some applications where they come in handy but most of the time a regular expression gets the job done as well and might also be more useful. Still... they have their uses and one of the most relevant benefits of literal characters is definitely that they are EASY!"
   ]
  },
  {
   "cell_type": "code",
   "execution_count": 15,
   "id": "937f6001-8b39-4c1a-a868-061824c8fe78",
   "metadata": {
    "execution": {
     "iopub.execute_input": "2023-12-13T11:26:17.592587Z",
     "iopub.status.busy": "2023-12-13T11:26:17.592587Z",
     "iopub.status.idle": "2023-12-13T11:26:17.596462Z",
     "shell.execute_reply": "2023-12-13T11:26:17.596462Z",
     "shell.execute_reply.started": "2023-12-13T11:26:17.592587Z"
    },
    "tags": []
   },
   "outputs": [
    {
     "data": {
      "text/plain": [
       "<re.Match object; span=(0, 5), match='Today'>"
      ]
     },
     "execution_count": 15,
     "metadata": {},
     "output_type": "execute_result"
    }
   ],
   "source": [
    "re.search('Today', string)"
   ]
  },
  {
   "cell_type": "code",
   "execution_count": 16,
   "id": "2da76895-b7e2-4f93-be97-bc8012a2b0c8",
   "metadata": {
    "execution": {
     "iopub.execute_input": "2023-12-13T11:26:17.597467Z",
     "iopub.status.busy": "2023-12-13T11:26:17.597467Z",
     "iopub.status.idle": "2023-12-13T11:26:17.600133Z",
     "shell.execute_reply": "2023-12-13T11:26:17.600133Z",
     "shell.execute_reply.started": "2023-12-13T11:26:17.597467Z"
    },
    "tags": []
   },
   "outputs": [],
   "source": [
    "re.search('today', string)"
   ]
  },
  {
   "cell_type": "markdown",
   "id": "11203841-1a22-4922-bbb4-e24ccf4c184f",
   "metadata": {},
   "source": [
    "Suppose we want to extract the temperature from our string. We want to do so in one go, meaning that we want to retrieve the temperature in °C as well as °F at the same time. Using literal characters we will face an impass since the two temperature measures differ from each other."
   ]
  },
  {
   "cell_type": "code",
   "execution_count": 17,
   "id": "a085c179-3329-4596-9017-0af3e62641cb",
   "metadata": {
    "execution": {
     "iopub.execute_input": "2023-12-13T11:26:17.601140Z",
     "iopub.status.busy": "2023-12-13T11:26:17.601140Z",
     "iopub.status.idle": "2023-12-13T11:26:17.603959Z",
     "shell.execute_reply": "2023-12-13T11:26:17.603959Z",
     "shell.execute_reply.started": "2023-12-13T11:26:17.601140Z"
    },
    "tags": []
   },
   "outputs": [
    {
     "data": {
      "text/plain": [
       "<re.Match object; span=(55, 56), match='°'>"
      ]
     },
     "execution_count": 17,
     "metadata": {},
     "output_type": "execute_result"
    }
   ],
   "source": [
    "re.search('°', string)"
   ]
  },
  {
   "cell_type": "markdown",
   "id": "12508cf3-6831-4a02-9f02-6e4d98b87e94",
   "metadata": {},
   "source": [
    "First of all we face the problem that [`re.search`](https://docs.python.org/3/library/re.html) is greedy. That means, that it will look for the first match, return it and stop. It will not notice other matches and ignore them but just stop after it has found the first match.<br >\n",
    "So we need to use another method to achive our goal. Here let's try the [`re.findall`](https://docs.python.org/3/library/re.html) method.<br >\n",
    "In case you would like to look up all methods available refer to the `re` library's [documentation](https://docs.python.org/3/library/re.html)."
   ]
  },
  {
   "cell_type": "code",
   "execution_count": null,
   "id": "90e846d6-811e-4216-8169-b756588d1338",
   "metadata": {
    "execution": {
     "iopub.execute_input": "2023-12-13T11:26:17.604965Z",
     "iopub.status.busy": "2023-12-13T11:26:17.603959Z",
     "iopub.status.idle": "2023-12-13T11:26:17.607599Z",
     "shell.execute_reply": "2023-12-13T11:26:17.607599Z",
     "shell.execute_reply.started": "2023-12-13T11:26:17.604965Z"
    },
    "tags": []
   },
   "outputs": [],
   "source": [
    "re.findall('°', string)"
   ]
  },
  {
   "cell_type": "markdown",
   "id": "58d17f54-dd19-431b-b21d-2a13d5ca1b1e",
   "metadata": {},
   "source": [
    "Ok, so now we get two '°'-character matches. The [`re.findall`](https://docs.python.org/3/library/re.html) method, unlike [`re.search`](https://docs.python.org/3/library/re.html), is not greedy and will return every match in our string. Other than [`re.search`](https://docs.python.org/3/library/re.html), though, it does not return the position inside the string of our match but just a list containing the different matches in string representation.<br >\n",
    "Let's see if we can retreive both temperature measures this way."
   ]
  },
  {
   "cell_type": "code",
   "execution_count": 18,
   "id": "3de31c9e-3faa-4509-a8f4-8c4dc93986d1",
   "metadata": {
    "execution": {
     "iopub.execute_input": "2023-12-13T11:26:17.608604Z",
     "iopub.status.busy": "2023-12-13T11:26:17.608604Z",
     "iopub.status.idle": "2023-12-13T11:26:17.612195Z",
     "shell.execute_reply": "2023-12-13T11:26:17.612195Z",
     "shell.execute_reply.started": "2023-12-13T11:26:17.608604Z"
    },
    "tags": []
   },
   "outputs": [
    {
     "data": {
      "text/plain": [
       "['23°']"
      ]
     },
     "execution_count": 18,
     "metadata": {},
     "output_type": "execute_result"
    }
   ],
   "source": [
    "re.findall('23°', string)"
   ]
  },
  {
   "cell_type": "code",
   "execution_count": null,
   "id": "6ec8676a-85f7-43bd-ac4c-1a50fed0dbfa",
   "metadata": {
    "execution": {
     "iopub.execute_input": "2023-12-13T11:26:17.613200Z",
     "iopub.status.busy": "2023-12-13T11:26:17.613200Z",
     "iopub.status.idle": "2023-12-13T11:26:17.616306Z",
     "shell.execute_reply": "2023-12-13T11:26:17.616306Z",
     "shell.execute_reply.started": "2023-12-13T11:26:17.613200Z"
    },
    "tags": []
   },
   "outputs": [],
   "source": [
    "re.findall('75°', string)"
   ]
  },
  {
   "cell_type": "markdown",
   "id": "7887e863-cd59-43ad-acb1-b779486d12a0",
   "metadata": {},
   "source": [
    "Still no luck. The problem is that we are using literal characters. We are literally searching for '23°' and '75°' in our string. Since these two strings are not identical, we only get one temperature measure per query as result. We need some way to leave literal characters behind and go one step more abstract. We want to tell the machine: 'Find every sub string in our string that refers to a temperature measurement'. For this we need regexes."
   ]
  },
  {
   "cell_type": "markdown",
   "id": "f76bf002-cd8d-49c9-a61d-4c2fbdf3942c",
   "metadata": {},
   "source": [
    "### Regular Expressions\n",
    "\n",
    "Well, I hope you see why we might need something other than literal characters in order to extract the patterns we are looking for sometimes.<br>\n",
    "Enter regular expressions!<br>\n",
    "\n",
    "Regular expressions are different compared to literal characters in the way that they do not only specify exactly one specific case but rather a pattern, that matches any case that is related to this pattern. Depending on how we define our regular expression the cases that are matched by our pattern can be more/less abstract.<br>\n",
    "\n",
    "Let's take a look at a very simply example:"
   ]
  },
  {
   "cell_type": "code",
   "execution_count": null,
   "id": "a2360278-f9e1-4f4e-bfa1-de774b4bd053",
   "metadata": {
    "execution": {
     "iopub.execute_input": "2023-12-13T11:26:17.617313Z",
     "iopub.status.busy": "2023-12-13T11:26:17.616306Z",
     "iopub.status.idle": "2023-12-13T11:26:17.619839Z",
     "shell.execute_reply": "2023-12-13T11:26:17.619839Z",
     "shell.execute_reply.started": "2023-12-13T11:26:17.617313Z"
    },
    "tags": []
   },
   "outputs": [],
   "source": [
    "re.findall('[0-9]°', string)"
   ]
  },
  {
   "cell_type": "markdown",
   "id": "2f0fa24f-b1e5-46ee-9be2-af12764e50e6",
   "metadata": {},
   "source": [
    "We are slowly getting there. Now we find two instead of one match in our string. The problem is, that we are telling the machine: 'find all mentions of a digit (characters from 0-9) followed by a \"°\"'. This returns only the last digit before the '°' and the '°' itself. Suppose we are dealing with a winter day and temperatures lie between -9° and +9° this approach would be sufficient. For all other days where the temperature reaches double digits it is not enough. So we need to further specify the type of string(s) we would like to match.<br>\n",
    "Let's think about how temperatures are commonly represented as text. Most of the time we will find two digits followed by '°' and then either 'C' or 'F' depending on what kind of measurement is used. For the time being let's ignore negative and three digits temperatures.<br>\n",
    "So we need to include instuctions that make sure that two digits followed by '°' are matched. This can be done using curly braces `{}`. We position the curly braces right after the block where we instruct `re` to match digits (characters from 0-9) `[0-9]`. Inside the curly braces we specify how many characters matching the pattern specified in the squared brackets we wish to match. In our case `{2}`."
   ]
  },
  {
   "cell_type": "code",
   "execution_count": null,
   "id": "a2e6325e-3e54-44e5-83cf-79c9702293d8",
   "metadata": {
    "execution": {
     "iopub.execute_input": "2023-12-13T11:26:17.620846Z",
     "iopub.status.busy": "2023-12-13T11:26:17.620846Z",
     "iopub.status.idle": "2023-12-13T11:26:17.623428Z",
     "shell.execute_reply": "2023-12-13T11:26:17.623428Z",
     "shell.execute_reply.started": "2023-12-13T11:26:17.620846Z"
    },
    "tags": []
   },
   "outputs": [],
   "source": [
    "re.findall('[0-9]{2}°', string)"
   ]
  },
  {
   "cell_type": "markdown",
   "id": "ef3a186a-6809-4850-9b64-cc8dfa246f3e",
   "metadata": {},
   "source": [
    "Perfect! We now match both temperature measures and as a result of our [`re.findall`](https://docs.python.org/3/library/re.html) query we get a list of both measurements. Sadly we cannot tell which of the two measurements is is °C and which is °F. So we need specify that our temperature (two digits followed by '°') is followed by a letter. As with the specification of digits above, we can use square brackets to specifiy that we would like to match letters. This is done by using the following syntax `[a-z]`. That will match a single occurance of a letter from the alphabet."
   ]
  },
  {
   "cell_type": "code",
   "execution_count": null,
   "id": "34895aa8-6f2e-4173-b6c9-f8f3f317f67f",
   "metadata": {
    "execution": {
     "iopub.execute_input": "2023-12-13T11:26:17.624433Z",
     "iopub.status.busy": "2023-12-13T11:26:17.624433Z",
     "iopub.status.idle": "2023-12-13T11:26:17.626977Z",
     "shell.execute_reply": "2023-12-13T11:26:17.626977Z",
     "shell.execute_reply.started": "2023-12-13T11:26:17.624433Z"
    },
    "tags": []
   },
   "outputs": [],
   "source": [
    "re.findall('[0-9]{2}°[a-z]', string)"
   ]
  },
  {
   "cell_type": "markdown",
   "id": "1dbb4934-6a15-40f2-ab1e-c4c26568f104",
   "metadata": {},
   "source": [
    "Hmmm, what could have gone wrong. We implemented the specification that '°' should be followd by a single letter correctly. The problem is that `re.findall` along with most other `re` methods is case sensitive. Instead of telling `re` to match 'C' and 'F' (both upper case letters) we told `re` to match any letter from a-z but in lower case. To remedy this we simply convert the content of the second square brackets to upper case."
   ]
  },
  {
   "cell_type": "code",
   "execution_count": null,
   "id": "52ba93d6-0b28-4a88-a4a1-2d7588348b9b",
   "metadata": {
    "execution": {
     "iopub.execute_input": "2023-12-13T11:26:17.627981Z",
     "iopub.status.busy": "2023-12-13T11:26:17.627981Z",
     "iopub.status.idle": "2023-12-13T11:26:17.630757Z",
     "shell.execute_reply": "2023-12-13T11:26:17.630757Z",
     "shell.execute_reply.started": "2023-12-13T11:26:17.627981Z"
    }
   },
   "outputs": [],
   "source": [
    "re.findall('[0-9]{2}°[A-Z]', string)"
   ]
  },
  {
   "cell_type": "markdown",
   "id": "1abde32a-ed55-4193-a05e-3a4a17817b0e",
   "metadata": {},
   "source": [
    "Et voila... We have extracted both temperatures from our string and retained enough information to tell what kind of scale each of the two measurements is using.<br>\n",
    "Since we of course are quite perfectionist, we do not only want our code to do what it is supposed to do but also want it to look as good as possible. In our case this means that we want our code to be as easily understandable as possible. The two specifications inside our square brackets for example (`[0-9]` and `[A-Z]`) can be coded in a more intuitive manner. This brings us to the topic of so called 'Wildcards'."
   ]
  },
  {
   "cell_type": "markdown",
   "id": "ac018efb-bdbb-4135-a3a2-3cf303fcd6b7",
   "metadata": {
    "tags": []
   },
   "source": [
    "#### Wildcards\n",
    "\n",
    "Wildcards are essentially characters that can be used in order to substitute some other regex patters. We can use `[\\d]` for example to replace our `[0-9]` pattern, where `\\d` stands for any digit character. There are many other wildcards and much more detailed explanations of what exactly they are so do not take this as a complete definition. In the following the most important wildcards are listed but in case you want to dive in deeper check [this](https://developer.mozilla.org/en-US/docs/Web/JavaScript/Guide/Regular_Expressions/Cheatsheet) out."
   ]
  },
  {
   "cell_type": "markdown",
   "id": "6c4fce41-3191-4048-8351-beccc93eb799",
   "metadata": {},
   "source": [
    "![Character Wildcards](sources/regex_character_wildcards.png)\n",
    "![Occurance and Positional Wildcards](sources/regex_additional_wildcards.png)"
   ]
  },
  {
   "cell_type": "markdown",
   "id": "54a51eab-f123-439a-befe-f30c43e192ef",
   "metadata": {},
   "source": [
    "If we now incorporate the information about wildcards form the above table into our initial `re` query, we can restructure it to look as follows."
   ]
  },
  {
   "cell_type": "code",
   "execution_count": null,
   "id": "5043c4e1-0987-4911-affc-41ed4e678ed1",
   "metadata": {
    "execution": {
     "iopub.execute_input": "2023-12-13T11:26:17.631764Z",
     "iopub.status.busy": "2023-12-13T11:26:17.631764Z",
     "iopub.status.idle": "2023-12-13T11:26:17.635002Z",
     "shell.execute_reply": "2023-12-13T11:26:17.635002Z",
     "shell.execute_reply.started": "2023-12-13T11:26:17.631764Z"
    },
    "tags": []
   },
   "outputs": [],
   "source": [
    "re.findall(r'[\\d]{2}°[\\w]', string)"
   ]
  },
  {
   "cell_type": "markdown",
   "id": "0cf339bd-5268-445c-b921-8d0a0d5442fc",
   "metadata": {},
   "source": [
    "What we tell `re` to match here is pretty much the same as above. 'Match all sub strings where two digits are followed by \"°\" and a single alphanumeric (upper/lower case letters as well as digits) character'.<br>\n",
    "Notice that here we do not use `\\W` (an upper case letter) but stick with a lower case `w`. This is due to the fact that wildcards work a little different than literal patterns. `\\W` for example does not match upper case letters but is the exact negation of `\\w`. This means that it will match anything not matched by `\\w`, which means that it will match any character but upper/lower case letters and digits."
   ]
  },
  {
   "cell_type": "markdown",
   "id": "d910cf6e-053e-41be-8874-073f88b4ef7b",
   "metadata": {},
   "source": [
    "Let's have a look at a more complex string in order to elaborate a bit further on wildcards. For this we define a new string."
   ]
  },
  {
   "cell_type": "code",
   "execution_count": 4,
   "id": "237afe2b-11de-46c6-94e1-189e8f27f49a",
   "metadata": {
    "execution": {
     "iopub.execute_input": "2023-12-13T11:26:17.636008Z",
     "iopub.status.busy": "2023-12-13T11:26:17.636008Z",
     "iopub.status.idle": "2023-12-13T11:26:17.638092Z",
     "shell.execute_reply": "2023-12-13T11:26:17.638092Z",
     "shell.execute_reply.started": "2023-12-13T11:26:17.636008Z"
    }
   },
   "outputs": [],
   "source": [
    "difficult_string = '''The Flaming Mountains are said to be one of, if not, the hottest places on earth, with temperatures of up to +80°C in summer. \n",
    "The Eastern Antarctic Plateau on the other hand is one of the coldest places on earth, reaching up to -94°C at times. Still, this seems like peanuts when compared to absolute zero (-273.15°C), \n",
    "not to be confused with 0°C.\n",
    "'''"
   ]
  },
  {
   "cell_type": "markdown",
   "id": "fbd91a4d-cbc6-4af2-9296-1bb6479de414",
   "metadata": {},
   "source": [
    "We now face a more difficult task. Not only do we have measurements above and below zero but there is also one measurement containing decimal places. To correctly extract those temperatures we need to 'upgrade' our regex."
   ]
  },
  {
   "cell_type": "code",
   "execution_count": null,
   "id": "fe935fa8-5bc4-4e5e-9a2a-b1276af5d03a",
   "metadata": {
    "execution": {
     "iopub.execute_input": "2023-12-13T11:26:17.639097Z",
     "iopub.status.busy": "2023-12-13T11:26:17.639097Z",
     "iopub.status.idle": "2023-12-13T11:26:17.642326Z",
     "shell.execute_reply": "2023-12-13T11:26:17.642326Z",
     "shell.execute_reply.started": "2023-12-13T11:26:17.639097Z"
    }
   },
   "outputs": [],
   "source": [
    "re.findall(r'[\\d]{2}°[\\w]', difficult_string)"
   ]
  },
  {
   "cell_type": "markdown",
   "id": "a57c2a18-4fe6-4a73-a5f1-dd852a050d10",
   "metadata": {},
   "source": [
    "We see that our previous regex is pretty useless. We loose information about whether a measurement is above or below 0°C, we also get a wrong match for absolute zero (-273.15°C) and '0°C' is not matched at all. Let's try to improve our use of wildcards. First we try to match temperatures no matter how many digits."
   ]
  },
  {
   "cell_type": "code",
   "execution_count": null,
   "id": "6b864a51-5b30-4565-9769-da08677d18ae",
   "metadata": {
    "execution": {
     "iopub.execute_input": "2023-12-13T11:26:17.643333Z",
     "iopub.status.busy": "2023-12-13T11:26:17.642326Z",
     "iopub.status.idle": "2023-12-13T11:26:17.646173Z",
     "shell.execute_reply": "2023-12-13T11:26:17.646173Z",
     "shell.execute_reply.started": "2023-12-13T11:26:17.643333Z"
    }
   },
   "outputs": [],
   "source": [
    "re.findall(r'[\\d]+°[\\w]', difficult_string)"
   ]
  },
  {
   "cell_type": "markdown",
   "id": "fa5f2f6e-f4ca-441d-9ad9-9a24fe9f15ae",
   "metadata": {},
   "source": [
    "Instead of specifying the number of digits we want to match using curly braces (`{2}`) we now use the `+` wildcard. This signifies that we want to match each occurance of one or more digit(s) followed by '°' and a letter. As you can see, this matches '0°C' as well as the other temperatures. Still, absolute zero is not matched correctly. The problem here is that absolute zero includes a decimal point ('.'). This is not matched by our regex so far.<br>\n",
    "To match something like that we will need to introduce a conditional statement. We want to tell `re`: 'Match anything where a number (single/double/triple digit) is followed either by a decimal point, another number and then '°'... or  directly followed by '°'..."
   ]
  },
  {
   "cell_type": "code",
   "execution_count": null,
   "id": "a2462c2e-4a97-43f2-8fed-f7eddda71408",
   "metadata": {
    "execution": {
     "iopub.execute_input": "2023-12-13T11:26:17.647179Z",
     "iopub.status.busy": "2023-12-13T11:26:17.647179Z",
     "iopub.status.idle": "2023-12-13T11:26:17.650144Z",
     "shell.execute_reply": "2023-12-13T11:26:17.650144Z",
     "shell.execute_reply.started": "2023-12-13T11:26:17.647179Z"
    }
   },
   "outputs": [],
   "source": [
    "# short hands on\n",
    "\n"
   ]
  },
  {
   "cell_type": "markdown",
   "id": "49a8654a-957a-4352-8110-1416136b23c4",
   "metadata": {},
   "source": [
    "As you can see, the regex is getting quite complicated by now. Imagine what you have to do to extract phone numbers with different country codes or email addresses from different providers...<br>\n",
    "Let's brake it down. The regex can be broken into two parts. First `[\\d]+°[\\w]` and second `[\\d]+.[\\d]+°[\\w]` which are divided by `|`. The pipe `|` signals an or-statement. So we can translate the expression into: 'match either one ore more digits followed by \"°\"... or match one or more digits followed by a dot (decimal point), one or more digits, and \"°\"...'.<br>\n",
    "It is confusing in the beginning, yes, but sadly there is no 'easy' way. You will have to struggle through some regexes to get the hang of them. In case you would like to do some quick testing try [regex101.com](https://regex101.com/).<br>\n",
    "Now we still do not have the the sign for the respective temperatures. Let's see how you would deal with the problem. Try to modify the regex in such a way, that the sign (+/-) in front of the temperatures is also matched:"
   ]
  },
  {
   "cell_type": "code",
   "execution_count": null,
   "id": "4e1c18e6-3828-4b02-8b59-9da4b344b91a",
   "metadata": {
    "execution": {
     "iopub.execute_input": "2023-12-13T11:26:17.651151Z",
     "iopub.status.busy": "2023-12-13T11:26:17.651151Z",
     "iopub.status.idle": "2023-12-13T11:26:17.652906Z",
     "shell.execute_reply": "2023-12-13T11:26:17.652906Z",
     "shell.execute_reply.started": "2023-12-13T11:26:17.651151Z"
    },
    "tags": []
   },
   "outputs": [],
   "source": [
    "# Modify the regex from the code cell above\n"
   ]
  },
  {
   "cell_type": "code",
   "execution_count": null,
   "id": "47aeed57-5bfd-4099-be7b-7aa438e15ea8",
   "metadata": {
    "execution": {
     "iopub.execute_input": "2023-12-13T11:26:17.653912Z",
     "iopub.status.busy": "2023-12-13T11:26:17.653912Z",
     "iopub.status.idle": "2023-12-13T11:26:17.655713Z",
     "shell.execute_reply": "2023-12-13T11:26:17.655713Z",
     "shell.execute_reply.started": "2023-12-13T11:26:17.653912Z"
    }
   },
   "outputs": [],
   "source": [
    "# Solution in the 'solved' notebook"
   ]
  },
  {
   "cell_type": "markdown",
   "id": "4e7f4ff7-2821-4ee1-bcc5-6ebe97ebe1e3",
   "metadata": {},
   "source": [
    "Alright! I'm sure you did an awesome job and everything works perfectly!<br>\n",
    "In case you are looking at the version of the notebook without solutions just refer to the one containing the model solutions if you need a refresher or tip."
   ]
  },
  {
   "cell_type": "markdown",
   "id": "f235f81c-3f5a-49f5-9540-f740a6f97a23",
   "metadata": {},
   "source": [
    "Now that we have dealt with the `\\w` and `\\d` wildcards lets move on to another one: the `.`. The `.` is probably the most relaxed wildcard you will find. Relaxed in the sense of: it will match every character there is. So lets say you are looking for the sign of the temperatures in our example above. You might have modified the regex in such a way that it matches either a `+` or a `-`. This is of course perfectly valid. It is probably the most decisive solution since it will not match anything other than a `+` or a `-`.<br>\n",
    "In some cases though it is not as easy as in our example above. Sometimes you do not know what character you want to match or you are just a bit lazy and don't care to specify each exact scenario. In that case the `.` wildcard really shines. Let's just look at an example:<br>"
   ]
  },
  {
   "cell_type": "code",
   "execution_count": 3,
   "id": "3fbff885-ec5b-48d2-b860-786abaeb5052",
   "metadata": {
    "execution": {
     "iopub.execute_input": "2023-12-13T11:26:17.656718Z",
     "iopub.status.busy": "2023-12-13T11:26:17.655713Z",
     "iopub.status.idle": "2023-12-13T11:26:17.659434Z",
     "shell.execute_reply": "2023-12-13T11:26:17.659434Z",
     "shell.execute_reply.started": "2023-12-13T11:26:17.656718Z"
    },
    "tags": []
   },
   "outputs": [
    {
     "ename": "NameError",
     "evalue": "name 'difficult_string' is not defined",
     "output_type": "error",
     "traceback": [
      "\u001b[1;31m---------------------------------------------------------------------------\u001b[0m",
      "\u001b[1;31mNameError\u001b[0m                                 Traceback (most recent call last)",
      "Cell \u001b[1;32mIn[3], line 1\u001b[0m\n\u001b[1;32m----> 1\u001b[0m re\u001b[38;5;241m.\u001b[39mfindall(\u001b[38;5;124mr\u001b[39m\u001b[38;5;124m'\u001b[39m\u001b[38;5;124m.[\u001b[39m\u001b[38;5;124m\\\u001b[39m\u001b[38;5;124md]+°.|.[\u001b[39m\u001b[38;5;124m\\\u001b[39m\u001b[38;5;124md]+\u001b[39m\u001b[38;5;124m\\\u001b[39m\u001b[38;5;124m.[\u001b[39m\u001b[38;5;124m\\\u001b[39m\u001b[38;5;124md]+°.\u001b[39m\u001b[38;5;124m'\u001b[39m, \u001b[43mdifficult_string\u001b[49m)\n",
      "\u001b[1;31mNameError\u001b[0m: name 'difficult_string' is not defined"
     ]
    }
   ],
   "source": [
    "re.findall(r'.[\\d]+°.|.[\\d]+\\.[\\d]+°.', difficult_string)"
   ]
  },
  {
   "cell_type": "markdown",
   "id": "e7e3d119-d67f-46c6-b589-06253cbe24d0",
   "metadata": {},
   "source": [
    "There are multiple things happening here. First of all we include a `.` to match any sign that might precede our temperatures. Then we specify like above that we want to match 1 ore more digits followed by `°` and then a `.` again to match any kind of scale there might be. Who knows maybe there are some fancy scales in use somewhere like `°%` or whatever. In the second part we do the same thing again. First comes the sign, then one or more digits followed by a decimal point (note that something has changed here though... more on it in a sec), then we look for more digits followed by `°` and finally any kind of scale symbol.<br>\n",
    "Now... the part looking for the decimal point has changed. Do you spot it?<br>\n",
    "Instead of just using `.` which would match anything we use `\\.`. This is a special mechanic called `escaping`. Let me show you an example before we go into detail what exactly escaping is and what it is used for."
   ]
  },
  {
   "cell_type": "code",
   "execution_count": null,
   "id": "5a64a2c3-d7e2-4f47-9985-8125dbc4512b",
   "metadata": {
    "execution": {
     "iopub.execute_input": "2023-12-13T11:26:17.660438Z",
     "iopub.status.busy": "2023-12-13T11:26:17.659434Z",
     "iopub.status.idle": "2023-12-13T11:26:17.662283Z",
     "shell.execute_reply": "2023-12-13T11:26:17.662283Z",
     "shell.execute_reply.started": "2023-12-13T11:26:17.660438Z"
    },
    "tags": []
   },
   "outputs": [],
   "source": [
    "toy_string = 'The scientific subject 13G8° was reported to withstand temperatures of up to 99.54°C.'"
   ]
  },
  {
   "cell_type": "markdown",
   "id": "e986f33b-6023-4761-8ae8-145467a152f3",
   "metadata": {},
   "source": [
    "Using the `.` wildcard, we can create a pretty simple regex to match the temperature."
   ]
  },
  {
   "cell_type": "code",
   "execution_count": null,
   "id": "d1b28954-29ec-49e0-aaa9-e3ac310b403b",
   "metadata": {
    "execution": {
     "iopub.execute_input": "2023-12-13T11:26:17.665288Z",
     "iopub.status.busy": "2023-12-13T11:26:17.665288Z",
     "iopub.status.idle": "2023-12-13T11:26:17.668456Z",
     "shell.execute_reply": "2023-12-13T11:26:17.668456Z",
     "shell.execute_reply.started": "2023-12-13T11:26:17.665288Z"
    },
    "tags": []
   },
   "outputs": [],
   "source": [
    "re.findall(r'[\\d]+.[\\d]+°.', toy_string)"
   ]
  },
  {
   "cell_type": "markdown",
   "id": "712dc01f-3c75-4f15-8ff4-d5aeb417f345",
   "metadata": {},
   "source": [
    "The regex matches the temperature but it also matches the test subject `13G8°`. That is of course not what we want. We need a way to match only the literal character `.` but how do we do that if `.` is a wildcard and matches every character?<br>\n",
    "Well, we can use escaping. The escape character `\\` (backslash) basically does nothing else than to disable the wildcard function of a given wildcard. Instead of matching all characters `\\.` will only match the literal character `.`. The same goes for `\\+`, `\\$`, `\\^`, and all others. Putting the backslash in front of a given wildcard character will enable you to match the literal character. Note that `\\d` or `\\w` are different. Here the `d` and `w` are not wildcards themselves but are turned into such by the preceding `\\`.<br>\n",
    "So lets put that to a test:"
   ]
  },
  {
   "cell_type": "code",
   "execution_count": null,
   "id": "5070f2d6-42d3-446c-9a83-c006d98b910c",
   "metadata": {
    "execution": {
     "iopub.execute_input": "2023-12-13T11:26:17.669461Z",
     "iopub.status.busy": "2023-12-13T11:26:17.669461Z",
     "iopub.status.idle": "2023-12-13T11:26:17.672380Z",
     "shell.execute_reply": "2023-12-13T11:26:17.672380Z",
     "shell.execute_reply.started": "2023-12-13T11:26:17.669461Z"
    },
    "tags": []
   },
   "outputs": [],
   "source": [
    "re.findall(r'[\\d]+\\.[\\d]+°.', toy_string)"
   ]
  },
  {
   "cell_type": "markdown",
   "id": "37d15764-ef80-4e02-9c19-67605ce515d8",
   "metadata": {},
   "source": [
    "Voilá... See that we only changed one character in the whole regex. Ok, we didn't change it but inserted it. The `\\` in front of the `.` that is meant to match the decimal point. The result is a perfect match of our temperature without the nuisance of also matching the test subject 13G8°.<br>\n",
    "Of course you will have noticed that the examples here are kind of toy examples. They are pretty simple and you might not come into situations where there is a convenient fancy named, totally real, test subject 13G8° coincidentally appearing in your text just to mess up your regex(es). Still, all the stuff being explained here will have its uses at some point, given you will ever need to work with regexes and that you will definitively have to do in case you plan to finish ICSS."
   ]
  },
  {
   "cell_type": "markdown",
   "id": "5fb7a8d3-088e-425d-88f4-ed259fdea93d",
   "metadata": {},
   "source": [
    "I have already hinted at the `^` and `$` wildcards above but we are yet to see what they can do. First a quick explanation. The `^` wildcard signifies that you are looking for the start of a string while the `$` is the exact opposite and looks for the end of a string.<br>\n",
    "This is super helpful if you want to pluck some sub string out of a greater whole. Lets look at a string, in this case a 'normal' sentence and lets extract the first word and the whether the sentence is a question, an exclamation, or just a sentence."
   ]
  },
  {
   "cell_type": "code",
   "execution_count": 4,
   "id": "db262e18-e5d1-4083-9469-117e25f2b370",
   "metadata": {
    "execution": {
     "iopub.execute_input": "2023-12-13T11:26:17.673386Z",
     "iopub.status.busy": "2023-12-13T11:26:17.673386Z",
     "iopub.status.idle": "2023-12-13T11:26:17.676410Z",
     "shell.execute_reply": "2023-12-13T11:26:17.676410Z",
     "shell.execute_reply.started": "2023-12-13T11:26:17.673386Z"
    },
    "tags": []
   },
   "outputs": [
    {
     "data": {
      "text/plain": [
       "['Hey']"
      ]
     },
     "execution_count": 4,
     "metadata": {},
     "output_type": "execute_result"
    }
   ],
   "source": [
    "sentence_string = 'Hey, how are you doing?'\n",
    "\n",
    "re.findall(r'^[\\w]+', sentence_string)"
   ]
  },
  {
   "cell_type": "code",
   "execution_count": 5,
   "id": "6bc39276-8def-4506-af9d-f0462564d9c8",
   "metadata": {
    "execution": {
     "iopub.execute_input": "2023-12-13T11:26:17.677415Z",
     "iopub.status.busy": "2023-12-13T11:26:17.677415Z",
     "iopub.status.idle": "2023-12-13T11:26:17.680141Z",
     "shell.execute_reply": "2023-12-13T11:26:17.680141Z",
     "shell.execute_reply.started": "2023-12-13T11:26:17.677415Z"
    },
    "tags": []
   },
   "outputs": [
    {
     "data": {
      "text/plain": [
       "['?']"
      ]
     },
     "execution_count": 5,
     "metadata": {},
     "output_type": "execute_result"
    }
   ],
   "source": [
    "re.findall(r'.$', sentence_string)"
   ]
  },
  {
   "cell_type": "markdown",
   "id": "f34cefb0-3150-43fe-9939-eb95c59dfafb",
   "metadata": {},
   "source": [
    "We see that the sentence is a question ending on `?` and that the first word is `Hey`. That by itself is not very impressing but try to leave the `^` away for example and see how your output changes..."
   ]
  },
  {
   "cell_type": "code",
   "execution_count": 6,
   "id": "c4efa6d2-5c5b-4128-9654-c8c50e0f1345",
   "metadata": {
    "execution": {
     "iopub.execute_input": "2023-12-13T11:26:17.681146Z",
     "iopub.status.busy": "2023-12-13T11:26:17.681146Z",
     "iopub.status.idle": "2023-12-13T11:26:17.683909Z",
     "shell.execute_reply": "2023-12-13T11:26:17.683909Z",
     "shell.execute_reply.started": "2023-12-13T11:26:17.681146Z"
    },
    "tags": []
   },
   "outputs": [
    {
     "data": {
      "text/plain": [
       "['Hey', 'how', 'are', 'you', 'doing']"
      ]
     },
     "execution_count": 6,
     "metadata": {},
     "output_type": "execute_result"
    }
   ],
   "source": [
    "re.findall(r'[\\w]+', sentence_string)"
   ]
  },
  {
   "cell_type": "markdown",
   "id": "df72a720-191d-4ed6-a52d-609a4aab03f8",
   "metadata": {},
   "source": [
    "Still not super impressing but we are building up to something a little more advanced. If you have been able to follow until here with ease it's going to get a bit more challenging and in case you were struggling until now try and keep focused. The next sub chapter is definitively important since it makes a lot of stuff possible. And don't be discouraged... everything is documented here and you can revisit it whenever you feel the need. "
   ]
  },
  {
   "cell_type": "markdown",
   "id": "c2dad025-2a06-4882-9ca1-e633522c7278",
   "metadata": {},
   "source": [
    "### Some more Advanced Stuff\n",
    "\n",
    "Now that you have learned the basics of regexes like wildcards and escaping, it is time to look into some more advanced stuff."
   ]
  },
  {
   "cell_type": "markdown",
   "id": "c1710399-18ef-48b5-8146-bf6d0d7dcee9",
   "metadata": {},
   "source": [
    "#### Lookarounds\n",
    "\n",
    "Sometimes you want to match a sub string that is followed or preceded by something. In that case this and the next sub chapter are exactly what you need. First we will have a look at the so called lookahead.<br>\n",
    "\n",
    "##### Lookahead\n",
    "\n",
    "Generally speaking the syntax for this is **X(?=Y)**. You are looking for **X** which is ***followed*** by **Y**. So `.(?=$)`, using the example form above, would be the lookahead equivalent of finding the last character of your string."
   ]
  },
  {
   "cell_type": "code",
   "execution_count": 7,
   "id": "e8f699a9-d632-42a7-8315-4c73f43bc5fc",
   "metadata": {
    "execution": {
     "iopub.execute_input": "2023-12-13T11:26:17.684915Z",
     "iopub.status.busy": "2023-12-13T11:26:17.683909Z",
     "iopub.status.idle": "2023-12-13T11:26:17.687433Z",
     "shell.execute_reply": "2023-12-13T11:26:17.687433Z",
     "shell.execute_reply.started": "2023-12-13T11:26:17.684915Z"
    },
    "tags": []
   },
   "outputs": [
    {
     "data": {
      "text/plain": [
       "['?']"
      ]
     },
     "execution_count": 7,
     "metadata": {},
     "output_type": "execute_result"
    }
   ],
   "source": [
    "re.findall(r'.(?=$)', sentence_string)"
   ]
  },
  {
   "cell_type": "markdown",
   "id": "340dee15-2ffa-4ef5-8ec1-47630daabac6",
   "metadata": {},
   "source": [
    "Now, for a more social sciency example:<br>\n",
    "Have a look at the following email address string. Try to extract the 'name' of the sender. So, try to match the part of the whole email address that precedes the `@` character. For that task you could ignore the lookahead and use some other way of getting the result but try to achieve it with a lookahead."
   ]
  },
  {
   "cell_type": "code",
   "execution_count": 11,
   "id": "276b6ce4-f0db-4c8f-aa0d-6d073c0e9eb6",
   "metadata": {
    "execution": {
     "iopub.execute_input": "2023-12-13T11:26:17.688438Z",
     "iopub.status.busy": "2023-12-13T11:26:17.688438Z",
     "iopub.status.idle": "2023-12-13T11:26:17.690650Z",
     "shell.execute_reply": "2023-12-13T11:26:17.690650Z",
     "shell.execute_reply.started": "2023-12-13T11:26:17.688438Z"
    },
    "tags": []
   },
   "outputs": [],
   "source": [
    "email_string = 'nospam@forsure.to'"
   ]
  },
  {
   "cell_type": "code",
   "execution_count": 13,
   "id": "1d9429aa-2527-434b-a0aa-622bbf05cc3a",
   "metadata": {
    "execution": {
     "iopub.execute_input": "2023-12-13T11:26:17.691656Z",
     "iopub.status.busy": "2023-12-13T11:26:17.691656Z",
     "iopub.status.idle": "2023-12-13T11:26:17.694245Z",
     "shell.execute_reply": "2023-12-13T11:26:17.694245Z",
     "shell.execute_reply.started": "2023-12-13T11:26:17.691656Z"
    },
    "tags": []
   },
   "outputs": [
    {
     "data": {
      "text/plain": [
       "['nospam']"
      ]
     },
     "execution_count": 13,
     "metadata": {},
     "output_type": "execute_result"
    }
   ],
   "source": [
    "# Get the 'nospam' sub string preceding the '@' character using a lookahead\n",
    "re.findall(r'[^@]+(?=@)',email_string)"
   ]
  },
  {
   "cell_type": "code",
   "execution_count": null,
   "id": "af839bee-4ed8-45da-bc86-1517869f424e",
   "metadata": {
    "execution": {
     "iopub.execute_input": "2023-12-13T11:26:17.695249Z",
     "iopub.status.busy": "2023-12-13T11:26:17.695249Z",
     "iopub.status.idle": "2023-12-13T11:26:17.697322Z",
     "shell.execute_reply": "2023-12-13T11:26:17.697322Z",
     "shell.execute_reply.started": "2023-12-13T11:26:17.695249Z"
    }
   },
   "outputs": [],
   "source": [
    "# Solution in the 'solved' notebook"
   ]
  },
  {
   "cell_type": "markdown",
   "id": "486e6067-c6f1-4d43-b531-8b592aa28e4a",
   "metadata": {},
   "source": [
    "If you need a little help just have a look at the notebook containing the solutions. In case you have some questions about it let me know ;)"
   ]
  },
  {
   "cell_type": "markdown",
   "id": "bfa1f515-ba5b-41ee-a149-7bd9d282c91a",
   "metadata": {},
   "source": [
    "##### Lookbehind\n",
    "\n",
    "Same as with the lookahead it is also possible to look for some sub string that immediately ***follows*** a character or pattern. This is called a lookbehind. The syntax for this follows the pattern of **(?<=Y)X**. Again, **X** denotes the sub string you are actually looking for and **Y** signifies the sub string that **X** ***follows***. So, like with the example of matching the last character of our sentence we can use the lookbehind to find the first word of our sentence with `(?<=^)[\\w]+`. Translated into human this means: 'Give me one or more word characters directly followed by each other (so no whitespace) but only for those word characters that directly follow the start (`^`) of the string."
   ]
  },
  {
   "cell_type": "code",
   "execution_count": 9,
   "id": "014a3867-698d-4cca-9abe-dc3f8b1b65cb",
   "metadata": {
    "execution": {
     "iopub.execute_input": "2023-12-13T11:26:17.698328Z",
     "iopub.status.busy": "2023-12-13T11:26:17.698328Z",
     "iopub.status.idle": "2023-12-13T11:26:17.701258Z",
     "shell.execute_reply": "2023-12-13T11:26:17.701258Z",
     "shell.execute_reply.started": "2023-12-13T11:26:17.698328Z"
    },
    "tags": []
   },
   "outputs": [
    {
     "data": {
      "text/plain": [
       "['Hey']"
      ]
     },
     "execution_count": 9,
     "metadata": {},
     "output_type": "execute_result"
    }
   ],
   "source": [
    "re.findall(r'(?<=^)[\\w]+', sentence_string)"
   ]
  },
  {
   "cell_type": "markdown",
   "id": "1c3dff6b-b253-4bf9-8fcb-6b4d8ee1a6b7",
   "metadata": {},
   "source": [
    "Again, I would like to ask you to try it out yourself. Try and match the domain name (the part after the `@` character but without the domain suffix `.to`). So, basically try to match `forsure` without anything else."
   ]
  },
  {
   "cell_type": "code",
   "execution_count": null,
   "id": "ca6e327f-a745-46fb-a420-50d1a8ccb744",
   "metadata": {
    "execution": {
     "iopub.execute_input": "2023-12-13T11:26:17.702263Z",
     "iopub.status.busy": "2023-12-13T11:26:17.701258Z",
     "iopub.status.idle": "2023-12-13T11:26:17.704027Z",
     "shell.execute_reply": "2023-12-13T11:26:17.704027Z",
     "shell.execute_reply.started": "2023-12-13T11:26:17.702263Z"
    },
    "tags": []
   },
   "outputs": [],
   "source": [
    "# Match 'forsure' using a lookbehind"
   ]
  },
  {
   "cell_type": "code",
   "execution_count": null,
   "id": "7ed55b04-816f-4659-8b06-ea1ecc9c2842",
   "metadata": {
    "execution": {
     "iopub.execute_input": "2023-12-13T11:26:17.705033Z",
     "iopub.status.busy": "2023-12-13T11:26:17.705033Z",
     "iopub.status.idle": "2023-12-13T11:26:17.708634Z",
     "shell.execute_reply": "2023-12-13T11:26:17.707626Z",
     "shell.execute_reply.started": "2023-12-13T11:26:17.705033Z"
    }
   },
   "outputs": [],
   "source": [
    "# Solution in the 'solved' notebook"
   ]
  },
  {
   "cell_type": "markdown",
   "id": "cbf2204e-2823-4118-8380-2b95fbb2061c",
   "metadata": {},
   "source": [
    "The cool part about lookarounds is that they also work if you have a list of email addresses."
   ]
  },
  {
   "cell_type": "code",
   "execution_count": null,
   "id": "ba5cbde0-ada0-4cd1-a8fc-8d4206aa1e84",
   "metadata": {
    "execution": {
     "iopub.execute_input": "2023-12-13T11:26:17.710635Z",
     "iopub.status.busy": "2023-12-13T11:26:17.709633Z",
     "iopub.status.idle": "2023-12-13T11:26:17.715960Z",
     "shell.execute_reply": "2023-12-13T11:26:17.714953Z",
     "shell.execute_reply.started": "2023-12-13T11:26:17.710635Z"
    },
    "tags": []
   },
   "outputs": [],
   "source": [
    "emails_string = 'bucksinyoursleep@money.cc, girlfriendshatethistrick@omg.xx, yougothacked@WARNING.oo, bucksinyoursleep@money.cc'\n",
    "\n",
    "re.findall(r'(?<=@)[\\w]+', emails_string)"
   ]
  },
  {
   "cell_type": "markdown",
   "id": "30834a7f-5c40-4b36-8f33-986b68d74ce8",
   "metadata": {},
   "source": [
    "You see that the output gives you all domain names for the fake email addresses. You can also use the lookarounds to extract all the user names of the different senders. As you can see, one of them appears twice. Using [`numpy.unique()`](https://numpy.org/doc/stable/reference/generated/numpy.unique.html) we can remove all duplicate entries and get a list of all unique user names from our list of fake email addresses. That is just a little example of what you can to with it and I have had to do stuff like that multiple times. Extracting twitter handles of mentioned users, counting their appearances or just listing all unique users..."
   ]
  },
  {
   "cell_type": "code",
   "execution_count": null,
   "id": "4f50ab78-20b7-4951-ab56-6c6e7918ff10",
   "metadata": {
    "execution": {
     "iopub.execute_input": "2023-12-13T11:26:17.716961Z",
     "iopub.status.busy": "2023-12-13T11:26:17.716961Z",
     "iopub.status.idle": "2023-12-13T11:26:17.720300Z",
     "shell.execute_reply": "2023-12-13T11:26:17.720300Z",
     "shell.execute_reply.started": "2023-12-13T11:26:17.716961Z"
    },
    "tags": []
   },
   "outputs": [],
   "source": [
    "user_names = re.findall(r'[\\w]+(?=@)', emails_string)\n",
    "print(user_names)\n",
    "print(np.unique(user_names))"
   ]
  },
  {
   "cell_type": "markdown",
   "id": "17873a84-1c70-4a92-9ae1-4286201035eb",
   "metadata": {},
   "source": [
    "You might have noticed that up until now we have used only single characters or the start of a string as Y in our lookarounds. That is, of course, fine and might get you through some of the troubles ahead but you can also use the lookarounds to match something preceded or followed by a whole expression.<br>\n",
    "You might have a data set of some email addresses where you are especially interested in those addresses of a specific domain. Maybe you have some data set containing short instant messages sent by some users you can identify by their email address. Look at the following example:"
   ]
  },
  {
   "cell_type": "code",
   "execution_count": null,
   "id": "5f157c92-4353-45d7-978d-28637f2aa17e",
   "metadata": {
    "execution": {
     "iopub.execute_input": "2023-12-13T11:26:17.721307Z",
     "iopub.status.busy": "2023-12-13T11:26:17.721307Z",
     "iopub.status.idle": "2023-12-13T11:26:17.724158Z",
     "shell.execute_reply": "2023-12-13T11:26:17.724158Z",
     "shell.execute_reply.started": "2023-12-13T11:26:17.721307Z"
    },
    "tags": []
   },
   "outputs": [],
   "source": [
    "instant_messages_string = 'joy@mistery.com: I love your style today!; stern@business.com: Numbers are plummiting!; mad@business.com: We need to act right now!; ...'"
   ]
  },
  {
   "cell_type": "markdown",
   "id": "06474075-4d0a-45dc-9190-20f998be6fd3",
   "metadata": {},
   "source": [
    "Here you have one message sent by the `mistery` domain and two messages that were sent by users of the `business` domain. Maybe we are researching communications between employees of the same company. They might be corresponding with each other using their work email addresses, which are hosted by the same domain (like for example with students of the University of Constance... we all have the iconic ...@uni-konstanz.de email). You can use lookaheads to extract the messages sent by those users:"
   ]
  },
  {
   "cell_type": "code",
   "execution_count": null,
   "id": "711fba2e-8de4-49d1-83db-f9c27605456b",
   "metadata": {
    "execution": {
     "iopub.execute_input": "2023-12-13T11:26:17.725163Z",
     "iopub.status.busy": "2023-12-13T11:26:17.725163Z",
     "iopub.status.idle": "2023-12-13T11:26:17.728462Z",
     "shell.execute_reply": "2023-12-13T11:26:17.728462Z",
     "shell.execute_reply.started": "2023-12-13T11:26:17.725163Z"
    },
    "tags": []
   },
   "outputs": [],
   "source": [
    "re.findall(r'(?<=@business.com:)[a-zA-Z\\s!?\\.]*', instant_messages_string)"
   ]
  },
  {
   "cell_type": "markdown",
   "id": "bbdad578-d777-4c57-9aa9-6ed19fdfb18b",
   "metadata": {},
   "source": [
    "Lets have a closer look the code above. First we define the lookbehind. We want `[a-zA-Z\\s!?\\.]*` that follows `@business.com:`. Now what does the stuff after the lookbehind mean? Try to think about it for a moment and then we will take a look at the solution."
   ]
  },
  {
   "cell_type": "markdown",
   "id": "44e2f162-a3cf-4452-b22e-4f47cd30fa4b",
   "metadata": {
    "tags": []
   },
   "source": [
    "Well, `[a-zA-Z\\s!?\\.]*` actually means: match all characters in lower case and upper case ranging from `a-zA-Z`, additionally we would like to match `\\s` which denotes white space characters, and finally we also want to match punctuation at the end of the sentence `!?\\.`. See how we escaped the `.` at the end of the expression to match the literal `.` character. Last but not least we use the asterisk `*` to ensure that we match every number of the specified characters including 0.<br>\n",
    "Can you think of some situations where this regex might fail or something that does not look very nice at the moment?"
   ]
  },
  {
   "cell_type": "code",
   "execution_count": null,
   "id": "20c036b8-7503-422a-be8e-a1d2b54b7820",
   "metadata": {
    "execution": {
     "iopub.execute_input": "2023-12-13T11:26:17.729468Z",
     "iopub.status.busy": "2023-12-13T11:26:17.729468Z",
     "iopub.status.idle": "2023-12-13T11:26:17.731255Z",
     "shell.execute_reply": "2023-12-13T11:26:17.731255Z",
     "shell.execute_reply.started": "2023-12-13T11:26:17.729468Z"
    },
    "tags": []
   },
   "outputs": [],
   "source": [
    "# Give me some input\n"
   ]
  },
  {
   "cell_type": "markdown",
   "id": "48511ff0-2aab-4e9c-b9a9-40d5fd4c7c72",
   "metadata": {},
   "source": [
    "Lets say we have some texts with punctuation, specifically commas inside our instant messages. The regex above will not match those. How might we solve that problem?<br>\n",
    "You might have noticed that there are some unnecessary whitespace (whitespaces that do not separate words for example) at the start of our output strings (`'_Numbers are plummiting!'`). That does not look nice and it might cause some problems further down the line but there is a simple way of removing unnecessary whitspaces. Just use the [`str.strip()`](https://www.w3schools.com/python/ref_string_strip.asp) method on your string."
   ]
  },
  {
   "cell_type": "code",
   "execution_count": null,
   "id": "12c86e94-a9c7-4f3d-9953-c00c66b96b28",
   "metadata": {
    "execution": {
     "iopub.execute_input": "2023-12-13T11:26:17.732262Z",
     "iopub.status.busy": "2023-12-13T11:26:17.732262Z",
     "iopub.status.idle": "2023-12-13T11:26:17.734895Z",
     "shell.execute_reply": "2023-12-13T11:26:17.734895Z",
     "shell.execute_reply.started": "2023-12-13T11:26:17.732262Z"
    },
    "tags": []
   },
   "outputs": [],
   "source": [
    "re.findall(r'(?<=@business.com:)[a-zA-Z\\s!?\\.]*', instant_messages_string)[0].strip()"
   ]
  },
  {
   "cell_type": "code",
   "execution_count": null,
   "id": "7039dd9e-aede-4242-a33d-28665285a142",
   "metadata": {
    "execution": {
     "iopub.execute_input": "2023-12-13T11:26:17.735901Z",
     "iopub.status.busy": "2023-12-13T11:26:17.734895Z",
     "iopub.status.idle": "2023-12-13T11:26:17.738519Z",
     "shell.execute_reply": "2023-12-13T11:26:17.738519Z",
     "shell.execute_reply.started": "2023-12-13T11:26:17.735901Z"
    },
    "tags": []
   },
   "outputs": [],
   "source": [
    "# A bit simplified\n",
    "messages = re.findall(r'(?<=@business.com:)[a-zA-Z\\s!?\\.]*', instant_messages_string) # assign the messages to an object\n",
    "\n",
    "first_message = messages[0] # assign the first message to an object using list indices (0 for first element in list)\n",
    "\n",
    "first_message.strip() # apply the str.strip() method to the first message of our instant_messages_string"
   ]
  },
  {
   "cell_type": "code",
   "execution_count": null,
   "id": "32e3a3cb-d789-4a4d-bab1-14917e55447b",
   "metadata": {
    "execution": {
     "iopub.execute_input": "2023-12-13T11:26:17.739526Z",
     "iopub.status.busy": "2023-12-13T11:26:17.738519Z",
     "iopub.status.idle": "2023-12-13T11:26:17.741763Z",
     "shell.execute_reply": "2023-12-13T11:26:17.741763Z",
     "shell.execute_reply.started": "2023-12-13T11:26:17.739526Z"
    },
    "tags": []
   },
   "outputs": [],
   "source": [
    "# If you want to apply it to each message in the string\n",
    "for i in messages: # loop over messages (for each i (=item) in missages)\n",
    "    print(i.strip()) # print i(=item).strip()"
   ]
  },
  {
   "cell_type": "markdown",
   "id": "d2ef9ac9-786f-4a5a-9ad0-2ffc40cf148c",
   "metadata": {},
   "source": [
    "#### Negative Lookarounds\n",
    "\n",
    "Now, there is also something called negative lookarounds. They work a bit different than the normal lookarounds.\n",
    "\n",
    "##### Negative Lookahead\n",
    "\n",
    "We start with the so called negative lookahead. Basically, it lets you match something as long as it is ***not followed*** by some specific expression. The syntax goes like this: **X(?!Y)**. It means you want to match the sub string **X** as long as it is ***not followed*** by sub string **Y**. Using the email addresses from above again take a look at the following example:"
   ]
  },
  {
   "cell_type": "code",
   "execution_count": null,
   "id": "6bffe35e-08ad-45f5-b139-7e7651e2642d",
   "metadata": {
    "execution": {
     "iopub.execute_input": "2023-12-13T11:26:17.742770Z",
     "iopub.status.busy": "2023-12-13T11:26:17.742770Z",
     "iopub.status.idle": "2023-12-13T11:26:17.745666Z",
     "shell.execute_reply": "2023-12-13T11:26:17.745666Z",
     "shell.execute_reply.started": "2023-12-13T11:26:17.742770Z"
    },
    "tags": []
   },
   "outputs": [],
   "source": [
    "emails_string = 'bucksinyoursleep@money.cc, girlfriendshatethistrick@omg.xx, yougothacked@WARNING.oo, bucksinyoursleep@money.cc'\n",
    "\n",
    "re.findall(r'[\\w]+@(?!money.cc)', emails_string)"
   ]
  },
  {
   "cell_type": "markdown",
   "id": "d8f9aa2f-d621-4679-bb1a-dd0f6e97ebad",
   "metadata": {},
   "source": [
    "We are effectively trying to match each user name (including `@`) that is not followed by `money.cc`. So we are extracting all user names of emails not belonging to the `money` domain. Think about the effect of moving the position of the `@` character in our regex into the **Y** part of our negative lookahead (`[\\w]+(?!@money.cc)`).<br>\n",
    "What might happen?"
   ]
  },
  {
   "cell_type": "code",
   "execution_count": null,
   "id": "d726c6b8-d994-4444-b110-8f167abb9959",
   "metadata": {
    "execution": {
     "iopub.execute_input": "2023-12-13T11:26:17.746671Z",
     "iopub.status.busy": "2023-12-13T11:26:17.746671Z",
     "iopub.status.idle": "2023-12-13T11:26:17.748712Z",
     "shell.execute_reply": "2023-12-13T11:26:17.748712Z",
     "shell.execute_reply.started": "2023-12-13T11:26:17.746671Z"
    },
    "tags": []
   },
   "outputs": [],
   "source": [
    "# What happens if we move the '@' symbol in our regex\n",
    "#re.findall(r'[\\w]+(?!@money.cc)', emails_string)"
   ]
  },
  {
   "cell_type": "markdown",
   "id": "614951b1-27bb-4a13-84b1-6649f6bfc7b9",
   "metadata": {},
   "source": [
    "So you see that in this specific case it is a bit easier to leave the `@` character to appear in the output. Sometimes you might have to make a choice like that. What is easier? Coming up with a regex that does everything exactly the way you want it to or might it be faster to write a passable regex and remove unwanted sub strings (like the white spaces above or the `@` character in this example) afterwards.<br>\n",
    "In this case for example we can get rid of the `@` character very easily using the [`str.replace()`](https://www.w3schools.com/python/ref_string_replace.asp) method:"
   ]
  },
  {
   "cell_type": "code",
   "execution_count": null,
   "id": "e52fc98f-fe26-4e17-a312-546cefb163ec",
   "metadata": {
    "execution": {
     "iopub.execute_input": "2023-12-13T11:26:17.749717Z",
     "iopub.status.busy": "2023-12-13T11:26:17.749717Z",
     "iopub.status.idle": "2023-12-13T11:26:17.752143Z",
     "shell.execute_reply": "2023-12-13T11:26:17.752143Z",
     "shell.execute_reply.started": "2023-12-13T11:26:17.749717Z"
    },
    "tags": []
   },
   "outputs": [],
   "source": [
    "user_names_unclean = re.findall(r'[\\w]+@(?!money.cc)', emails_string) # assign the 'unclean' usernames to an object\n",
    "\n",
    "for i in user_names_unclean: # loop over the user_names_unlcean object\n",
    "    print(i.replace('@', '')) # use the str.replace() method to replace the '@' character with nothing ''"
   ]
  },
  {
   "cell_type": "markdown",
   "id": "a9badef7-413c-4fc7-bc37-35b918074631",
   "metadata": {},
   "source": [
    "##### Negative Lookbehind\n",
    "\n",
    "The negative lookbehind is the same thing to the lookbehind as the negative lookahead to the standard lookahead. We are basically trying to match everything that is ***not preceded*** by some specific sub string. The syntax looks as follows: **(?<!Y)X**. Here we want to match **X** as long as it is ***not preceded*** by **Y**. Lets say for example that we are interested in the suffixes (`.com, .de, ...`) of our email domains but we are a bit picky and do not want the suffix of a specific domain."
   ]
  },
  {
   "cell_type": "code",
   "execution_count": null,
   "id": "c1432b15-d32c-4315-9124-cd3c0b5501d9",
   "metadata": {
    "execution": {
     "iopub.execute_input": "2023-12-13T11:26:17.753149Z",
     "iopub.status.busy": "2023-12-13T11:26:17.753149Z",
     "iopub.status.idle": "2023-12-13T11:26:17.756311Z",
     "shell.execute_reply": "2023-12-13T11:26:17.756311Z",
     "shell.execute_reply.started": "2023-12-13T11:26:17.753149Z"
    },
    "tags": []
   },
   "outputs": [],
   "source": [
    "re.findall(r'(?<!money)\\.[\\w]{2,3}', emails_string)"
   ]
  },
  {
   "cell_type": "markdown",
   "id": "10ea8892-6c9d-4074-94bf-71f06bf8a6a1",
   "metadata": {},
   "source": [
    "You can see that `.cc` is not part of our result. That would be the suffix of our fictive `money` domain. Before you go on try to explain to yourself what exactly the regex in the code cell above does."
   ]
  },
  {
   "cell_type": "code",
   "execution_count": null,
   "id": "c4ab40c6-f0f3-404b-94a4-1f80d6a0ce6e",
   "metadata": {
    "execution": {
     "iopub.execute_input": "2023-12-13T11:26:17.757319Z",
     "iopub.status.busy": "2023-12-13T11:26:17.757319Z",
     "iopub.status.idle": "2023-12-13T11:26:17.759279Z",
     "shell.execute_reply": "2023-12-13T11:26:17.759279Z",
     "shell.execute_reply.started": "2023-12-13T11:26:17.757319Z"
    },
    "tags": []
   },
   "outputs": [],
   "source": [
    "# What does the regex do?\n"
   ]
  },
  {
   "cell_type": "markdown",
   "id": "740fe277-7650-4652-a159-78dab6fe1bd5",
   "metadata": {},
   "source": [
    "We are matching every occurrence of a `.` immediately followed by either 2 or 3 lower case alphanumeric (`[\\w]`) characters but we are only doing so as long as the suffix is not preceded by `money`. We are using 2 or 3 because there are some suffixes like `.de` that are only two characters long and others like `.com` span three characters.<br>\n",
    "Think about what would happen if we moved the `\\.` into the **Y** part of our negative lookbehind (`(?<!money\\.)[\\w]{2,3}`)."
   ]
  },
  {
   "cell_type": "code",
   "execution_count": null,
   "id": "fec486f5-eaf0-4f78-9967-6f7db9ab63e4",
   "metadata": {
    "execution": {
     "iopub.execute_input": "2023-12-13T11:26:17.760288Z",
     "iopub.status.busy": "2023-12-13T11:26:17.760288Z",
     "iopub.status.idle": "2023-12-13T11:26:17.763518Z",
     "shell.execute_reply": "2023-12-13T11:26:17.762507Z",
     "shell.execute_reply.started": "2023-12-13T11:26:17.760288Z"
    },
    "tags": []
   },
   "outputs": [],
   "source": [
    "# What happens if we move '\\.' into the negative lookbehind\n"
   ]
  },
  {
   "cell_type": "markdown",
   "id": "357ee445-0a39-4fe0-b834-a96d5e561ab4",
   "metadata": {},
   "source": [
    "Again, it is a bit easier to phrase the regex like above even though we receive output where each suffix is preceded by a `.`. Actually, in this case that might even be the desired outcome. I mean with the suffix it kind of makes sense to include the `.`.<br>\n",
    "In case you don't want that you can just remove it in an additional step using [`str.replace()`](https://www.w3schools.com/python/ref_string_replace.asp). Or you could rework you regex of course... be my guest!"
   ]
  },
  {
   "cell_type": "code",
   "execution_count": null,
   "id": "1b6f5403-ae25-446f-b16c-2b838247b3b7",
   "metadata": {
    "execution": {
     "iopub.execute_input": "2023-12-13T11:26:17.764520Z",
     "iopub.status.busy": "2023-12-13T11:26:17.763518Z",
     "iopub.status.idle": "2023-12-13T11:26:17.767166Z",
     "shell.execute_reply": "2023-12-13T11:26:17.767166Z",
     "shell.execute_reply.started": "2023-12-13T11:26:17.764520Z"
    },
    "tags": []
   },
   "outputs": [],
   "source": [
    "suffixes_unclean = re.findall(r'(?<!money)\\.[\\w]{2,3}', emails_string) # assign the 'unclean' suffixes to an object\n",
    "\n",
    "for i in suffixes_unclean: # loop over the suffixes_unclean object\n",
    "    print(i.replace('.', '')) # use the str.replace() method to replace the '.' character with nothing ''"
   ]
  },
  {
   "cell_type": "markdown",
   "id": "0d1c87ae-6d6e-4d27-9244-5d8aa1208322",
   "metadata": {},
   "source": [
    "### Work-Out Area\n",
    "\n",
    "Now that you have made it through all the regex stuff above, lets put your skills to a test using a real world example you might even run into during your Social and Economic Data Science studies.<br>\n",
    "\n",
    "Remember that you can use [regex101.com](https://regex101.com/) in case you wanna try out some regex stuff and get some feedback on why exactly the defined regex works like it does.<br>\n",
    "\n",
    "Ok, take a look at the following data. You are looking at a sample of tweets posted during the CDC Whistelblower campaign in the USA."
   ]
  },
  {
   "cell_type": "code",
   "execution_count": null,
   "id": "84416a60-b5b0-4c4f-bae5-ec2ddf189202",
   "metadata": {
    "execution": {
     "iopub.execute_input": "2023-12-13T11:26:17.768175Z",
     "iopub.status.busy": "2023-12-13T11:26:17.768175Z",
     "iopub.status.idle": "2023-12-13T11:26:17.771008Z",
     "shell.execute_reply": "2023-12-13T11:26:17.771008Z",
     "shell.execute_reply.started": "2023-12-13T11:26:17.768175Z"
    },
    "tags": []
   },
   "outputs": [],
   "source": [
    "with open('sources/tweets.txt', 'r', encoding=\"utf-8\") as f:\n",
    "    data = f.read()\n",
    "    \n",
    "f.close()"
   ]
  },
  {
   "cell_type": "code",
   "execution_count": null,
   "id": "1ac01fed-e879-4072-93b9-352407ac4f2b",
   "metadata": {
    "execution": {
     "iopub.execute_input": "2023-12-13T11:26:17.772019Z",
     "iopub.status.busy": "2023-12-13T11:26:17.772019Z",
     "iopub.status.idle": "2023-12-13T11:26:17.774775Z",
     "shell.execute_reply": "2023-12-13T11:26:17.774775Z",
     "shell.execute_reply.started": "2023-12-13T11:26:17.772019Z"
    },
    "tags": []
   },
   "outputs": [],
   "source": [
    "data"
   ]
  },
  {
   "cell_type": "markdown",
   "id": "471c4799-ca04-4646-ad53-2f3454c361e4",
   "metadata": {},
   "source": [
    "#### Tasks\n",
    "\n",
    "- Create a list of user handles mentioned in the data\n",
    "- Go on an create a list that contains the different urls appearing in the data\n",
    "- Last of all lets have a look at the hashtags. Create a list containing those\n",
    "\n",
    "As you might have noticed there appear a lot of `|` characters in the data. I added those to make it easier for you to tell the individual tweets apart from each other. They are not necessarily of any use in order to solve the tasks."
   ]
  },
  {
   "cell_type": "code",
   "execution_count": null,
   "id": "7d5eb3e4-f780-4c5e-8ce8-6561972c55fe",
   "metadata": {
    "execution": {
     "iopub.execute_input": "2023-12-13T11:26:17.775786Z",
     "iopub.status.busy": "2023-12-13T11:26:17.775786Z",
     "iopub.status.idle": "2023-12-13T11:26:17.777670Z",
     "shell.execute_reply": "2023-12-13T11:26:17.777670Z",
     "shell.execute_reply.started": "2023-12-13T11:26:17.775786Z"
    },
    "tags": []
   },
   "outputs": [],
   "source": [
    "# List of user handles\n"
   ]
  },
  {
   "cell_type": "code",
   "execution_count": null,
   "id": "72389c83-1665-40d0-829f-b8c1287dae18",
   "metadata": {
    "execution": {
     "iopub.execute_input": "2023-12-13T11:26:17.778682Z",
     "iopub.status.busy": "2023-12-13T11:26:17.778682Z",
     "iopub.status.idle": "2023-12-13T11:26:17.780813Z",
     "shell.execute_reply": "2023-12-13T11:26:17.780813Z",
     "shell.execute_reply.started": "2023-12-13T11:26:17.778682Z"
    },
    "tags": []
   },
   "outputs": [],
   "source": [
    "# List of urls\n"
   ]
  },
  {
   "cell_type": "code",
   "execution_count": null,
   "id": "2d5f77db-ca1a-46bc-a344-81ea56ed5bb9",
   "metadata": {
    "execution": {
     "iopub.execute_input": "2023-12-13T11:26:17.781822Z",
     "iopub.status.busy": "2023-12-13T11:26:17.780813Z",
     "iopub.status.idle": "2023-12-13T11:26:17.783613Z",
     "shell.execute_reply": "2023-12-13T11:26:17.783613Z",
     "shell.execute_reply.started": "2023-12-13T11:26:17.781822Z"
    }
   },
   "outputs": [],
   "source": [
    "# List of hashtags\n"
   ]
  }
 ],
 "metadata": {
  "kernelspec": {
   "display_name": "Python 3",
   "language": "python",
   "name": "python3"
  },
  "language_info": {
   "codemirror_mode": {
    "name": "ipython",
    "version": 3
   },
   "file_extension": ".py",
   "mimetype": "text/x-python",
   "name": "python",
   "nbconvert_exporter": "python",
   "pygments_lexer": "ipython3",
   "version": "3.13.0"
  }
 },
 "nbformat": 4,
 "nbformat_minor": 5
}
