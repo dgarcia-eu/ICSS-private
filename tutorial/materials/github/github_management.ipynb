{
 "cells": [
  {
   "cell_type": "markdown",
   "id": "5af1fc99-cf75-46a1-9cb9-740285b436f5",
   "metadata": {},
   "source": [
    "# Setup"
   ]
  },
  {
   "cell_type": "code",
   "execution_count": 1,
   "id": "fc9a8775",
   "metadata": {},
   "outputs": [
    {
     "name": "stdout",
     "output_type": "stream",
     "text": [
      "Collecting PyGithub\n",
      "  Downloading PyGithub-2.6.1-py3-none-any.whl.metadata (3.9 kB)\n",
      "Requirement already satisfied: pynacl>=1.4.0 in c:\\users\\3leso\\anaconda3\\lib\\site-packages (from PyGithub) (1.5.0)\n",
      "Requirement already satisfied: requests>=2.14.0 in c:\\users\\3leso\\anaconda3\\lib\\site-packages (from PyGithub) (2.32.2)\n",
      "Requirement already satisfied: pyjwt>=2.4.0 in c:\\users\\3leso\\anaconda3\\lib\\site-packages (from pyjwt[crypto]>=2.4.0->PyGithub) (2.8.0)\n",
      "Requirement already satisfied: typing-extensions>=4.0.0 in c:\\users\\3leso\\anaconda3\\lib\\site-packages (from PyGithub) (4.11.0)\n",
      "Requirement already satisfied: urllib3>=1.26.0 in c:\\users\\3leso\\anaconda3\\lib\\site-packages (from PyGithub) (2.2.2)\n",
      "Collecting Deprecated (from PyGithub)\n",
      "  Downloading Deprecated-1.2.18-py2.py3-none-any.whl.metadata (5.7 kB)\n",
      "Requirement already satisfied: cryptography>=3.4.0 in c:\\users\\3leso\\anaconda3\\lib\\site-packages (from pyjwt[crypto]>=2.4.0->PyGithub) (42.0.5)\n",
      "Requirement already satisfied: cffi>=1.4.1 in c:\\users\\3leso\\anaconda3\\lib\\site-packages (from pynacl>=1.4.0->PyGithub) (1.16.0)\n",
      "Requirement already satisfied: charset-normalizer<4,>=2 in c:\\users\\3leso\\anaconda3\\lib\\site-packages (from requests>=2.14.0->PyGithub) (2.0.4)\n",
      "Requirement already satisfied: idna<4,>=2.5 in c:\\users\\3leso\\anaconda3\\lib\\site-packages (from requests>=2.14.0->PyGithub) (3.7)\n",
      "Requirement already satisfied: certifi>=2017.4.17 in c:\\users\\3leso\\anaconda3\\lib\\site-packages (from requests>=2.14.0->PyGithub) (2024.8.30)\n",
      "Requirement already satisfied: wrapt<2,>=1.10 in c:\\users\\3leso\\anaconda3\\lib\\site-packages (from Deprecated->PyGithub) (1.14.1)\n",
      "Requirement already satisfied: pycparser in c:\\users\\3leso\\anaconda3\\lib\\site-packages (from cffi>=1.4.1->pynacl>=1.4.0->PyGithub) (2.21)\n",
      "Downloading PyGithub-2.6.1-py3-none-any.whl (410 kB)\n",
      "   ---------------------------------------- 0.0/410.5 kB ? eta -:--:--\n",
      "   --- ------------------------------------ 41.0/410.5 kB 1.9 MB/s eta 0:00:01\n",
      "   ----------------------------------- ---- 368.6/410.5 kB 5.7 MB/s eta 0:00:01\n",
      "   ---------------------------------------- 410.5/410.5 kB 6.4 MB/s eta 0:00:00\n",
      "Downloading Deprecated-1.2.18-py2.py3-none-any.whl (10.0 kB)\n",
      "Installing collected packages: Deprecated, PyGithub\n",
      "Successfully installed Deprecated-1.2.18 PyGithub-2.6.1\n"
     ]
    }
   ],
   "source": [
    "!pip install PyGithub\n"
   ]
  },
  {
   "cell_type": "code",
   "execution_count": 19,
   "id": "6a2de523",
   "metadata": {
    "tags": []
   },
   "outputs": [],
   "source": [
    "from github import Github, GithubException\n",
    "import os\n",
    "from tqdm import tqdm\n",
    "import pandas as pd\n",
    "import re\n",
    "from datetime import datetime\n",
    "import time\n",
    "import os.path\n",
    "import base64\n",
    "\n",
    "'''\n",
    "This notebook can be used to manage the github content of a github classroom created\n",
    "via a github organization. Pay attention to the first (this) chunk since there\n",
    "are many convenience parameters that can be set so the whole notebook might be run\n",
    "in one go for different tasks.\n",
    "'''\n",
    "\n",
    "# read in your github token\n",
    "\n",
    "with open(\"C:/Users/3leso/Nextcloud/sources/github_token.txt\", 'r') as f:\n",
    "    token = f.read()\n",
    "f.close()\n",
    "\n",
    "# retrieve at deadline\n",
    "delay = False\n",
    "deadline = datetime(2025, 5, 6, 23, 59, 59)\n",
    "\n",
    "# specify and adapt parameters accordingly\n",
    "\n",
    "assignment_number = 2\n",
    "total_points = 20\n",
    "\n",
    "org_name = 'SMDA-2025'\n",
    "ignore_users = ['elenasolar', 'dgarcia-eu', 'rutschmanna']\n",
    "\n",
    "ignore_repos = ['template', 'smda-2025-classroom-submission-template', 'forum']\n",
    "    \n",
    "g = Github(token)\n",
    "org = g.get_organization(org_name)\n",
    "    \n",
    "# specify if you want to pull/push\n",
    "pull = True # if pull is True push is False vice versa (alternate between the two)"
   ]
  },
  {
   "cell_type": "markdown",
   "id": "a750a275-a380-4257-a504-b9e8f407413e",
   "metadata": {
    "tags": []
   },
   "source": [
    "## Pull files from GitHub (atm only .ipynb)"
   ]
  },
  {
   "cell_type": "code",
   "execution_count": 20,
   "id": "ccd57aa2",
   "metadata": {
    "tags": []
   },
   "outputs": [],
   "source": [
    "def write_files(contents, path, repo):\n",
    "    \"\"\"\n",
    "    The function writes the files from the students github repository (or a folder in there)\n",
    "    to your local storage\n",
    "    \n",
    "    contents: a list of files/folders\n",
    "    file_path: the filepath where the files should be stored locally\n",
    "    repository: GitHub repository of the student\n",
    "    \"\"\"\n",
    "    \n",
    "    # if only one content, store it in a list\n",
    "    if not isinstance(contents, list):\n",
    "        contents = [contents]\n",
    "    \n",
    "    ignore = ['.DS_Store', '.Rhistory', '.ipynb_checkpoints']\n",
    "    accepted_files = r'.*\\.ipynb|.*\\.csv|.*\\.txt|.*\\.json|.*\\.png|.*\\.jpg|.*\\.jpeg|.*\\.py'\n",
    "    \n",
    "    # loop over content files/folders\n",
    "    for cont in contents:\n",
    "        \n",
    "        if cont.name in ignore:\n",
    "            continue\n",
    "        if cont.type == 'file' and not re.match(accepted_files, cont.name):\n",
    "            continue\n",
    "        \n",
    "        # try except, mostly to handle files which have wrong encoding, etc.\n",
    "        # TODO -> one could improve this, doesn't handle e.g. csv files well\n",
    "        # also fails for too large files\n",
    "        try:\n",
    "            \n",
    "            # if the content element is a file, write it to local storage\n",
    "            if cont.type == 'file':\n",
    "                with open(f'{path}/{cont.name}', 'wb') as f:\n",
    "                    f.write(cont.decoded_content)\n",
    "            \n",
    "            # else (if it's a folder) call the function recursively on the elements in it\n",
    "            elif cont.type == 'dir':\n",
    "                # if the folder doesn't exist yet, create it\n",
    "                if not os.path.exists(f'{path}/{cont.name}'):\n",
    "                    os.mkdir(f'{path}/{cont.name}')\n",
    "                write_files(repo.get_contents(cont.path), f'{path}/{cont.name}', repo)\n",
    "                \n",
    "        except AssertionError as e:\n",
    "            print(e, ': failed')\n",
    "            try:\n",
    "                # try with requests if pygithub fails\n",
    "                url = cont.download_url\n",
    "                resp = requests.get(url)\n",
    "                with open(f'{path}/{cont.name}', 'wb') as f:\n",
    "                    f.write(resp.content)\n",
    "            except:\n",
    "                continue"
   ]
  },
  {
   "cell_type": "code",
   "execution_count": 21,
   "id": "f718f389-dc76-4aa5-aad0-6afbf032e13e",
   "metadata": {
    "tags": []
   },
   "outputs": [],
   "source": [
    "def check_for_assignment(repo, folder_contents, assignment_number):\n",
    "    \"\"\"\n",
    "    This function recursively moves through all directories in a students\n",
    "    submission directory and checks if a .ipynb file for the current\n",
    "    assignment is present.\n",
    "    \n",
    "    repo: the repository of the student\n",
    "    folder_contents: the result of repo.get_contents('')\n",
    "    assignment_number: the current assignment\n",
    "    \"\"\"\n",
    "    \n",
    "    # make folder_contents iterable even if there is only one file\n",
    "    if not isinstance(folder_contents, list):\n",
    "        folder_contents = [folder_contents]\n",
    "        \n",
    "    # use regex to match current assignment notebook\n",
    "    match_string = fr'assignment_(0)?{assignment_number}.*\\.ipynb'\n",
    "    for content in folder_contents:\n",
    "        if content.type == 'file':\n",
    "            if re.match(match_string, content.name, re.IGNORECASE):\n",
    "                return True\n",
    "            else:\n",
    "                continue\n",
    "        elif content.type == 'dir':\n",
    "            if check_for_assignment(repo, repo.get_contents(content.path), assignment_number):\n",
    "                return True\n",
    "            else:\n",
    "                continue\n",
    "    # if after visiting all directories file is not found return false\n",
    "    return False"
   ]
  },
  {
   "cell_type": "code",
   "execution_count": 22,
   "id": "69602fb9",
   "metadata": {
    "tags": []
   },
   "outputs": [],
   "source": [
    "def fetch_assignments(repos, assignment_number, ignore):\n",
    "    \"\"\"\n",
    "    The function fetches the contents of the folder called folder_name from each repository in repos\n",
    "    and stores them locally, preserving the folder structure\n",
    "    \n",
    "    repos - list of student repositories\n",
    "    folder_name - name of the folder where the solution to the current assignment is stored (e.g. a11)\n",
    "    first - in the first assignment the solutions were stored differently (in a long text file), \n",
    "            feel free to remove that part\n",
    "            \n",
    "    returns: the name of the students whose submissions failed to be fetched \n",
    "             -> you might need to manually download those, or correct the folder name\n",
    "    \"\"\"\n",
    "    \n",
    "    # specify non-student contributors here -> needed to ignore some test repos + assignments repo\n",
    "    # list to store the name of the students where the function ran into an error\n",
    "    fails = []\n",
    "    # store the submissions in the submissions/assignment_name folder\n",
    "    folder = 'submissions'\n",
    "    \n",
    "    # create folder if it doesn't exist yet\n",
    "    if not os.path.exists(folder):\n",
    "        os.mkdir(folder)\n",
    "\n",
    "    # for each repository\n",
    "    for repo in tqdm(repos):\n",
    "        \n",
    "        # drop assignments (many colls) + David's repo\n",
    "        # for student repositories there should be exactly 1 collaborator except the tutors and the professor\n",
    "        colls = repo.get_collaborators()\n",
    "        colls = [col for col in colls if col.login not in ignore]\n",
    "        if len(colls) != 1:\n",
    "            continue\n",
    "        \n",
    "        # create a folder for the student's submission with their name (GitHub handle) as the folder name\n",
    "        student = colls[0].login\n",
    "        student_folder = f'{folder}/{student}'\n",
    "        \n",
    "        if not os.path.exists(student_folder):\n",
    "            os.mkdir(student_folder)\n",
    "        \n",
    "        # code might fail if the folder doesn't exist, or the repo is empty\n",
    "        try:\n",
    "            # get content files/folders inside the folder\n",
    "            folder_contents = repo.get_contents(f'') #a0{assignment_number}\n",
    "            \n",
    "            # check if the current assignment is present in the students submissions\n",
    "            if not isinstance(folder_contents, list):\n",
    "                folder_contents = [folder_contents]\n",
    "\n",
    "            # check for current assignment notebook in all subdirectories\n",
    "            if check_for_assignment(repo, folder_contents, assignment_number) == False:\n",
    "                fails.append(f'Assignment not found: {student}')\n",
    "\n",
    "            # if the fetching didn't fail, write the folders contents to the local storage\n",
    "            # current_assignment_folder = f'{student_folder}/a0{assignment_number}'\n",
    "            \n",
    "            # if not os.path.exists(current_assignment_folder):\n",
    "            #     os.mkdir(current_assignment_folder)\n",
    "            \n",
    "            write_files(folder_contents, student_folder, repo)\n",
    "\n",
    "        # empty repo\n",
    "        except GithubException as e:\n",
    "            fails.append(f'{e}: {student}')\n",
    "            # continue\n",
    "        \n",
    "    fails.sort(key=lambda entry: entry.upper())\n",
    "    return fails"
   ]
  },
  {
   "cell_type": "code",
   "execution_count": 23,
   "id": "08c76063-5749-45a8-b16e-df06969c3856",
   "metadata": {
    "scrolled": true
   },
   "outputs": [
    {
     "name": "stderr",
     "output_type": "stream",
     "text": [
      "  0%|          | 0/26 [00:00<?, ?it/s]"
     ]
    },
    {
     "name": "stdout",
     "output_type": "stream",
     "text": [
      "unsupported encoding: none : failed\n",
      "unsupported encoding: none : failed\n",
      "unsupported encoding: none : failed\n"
     ]
    },
    {
     "name": "stderr",
     "output_type": "stream",
     "text": [
      "  8%|▊         | 2/26 [00:18<03:43,  9.29s/it]"
     ]
    },
    {
     "name": "stdout",
     "output_type": "stream",
     "text": [
      "unsupported encoding: none : failed\n"
     ]
    },
    {
     "name": "stderr",
     "output_type": "stream",
     "text": [
      " 27%|██▋       | 7/26 [01:15<03:37, 11.46s/it]"
     ]
    },
    {
     "name": "stdout",
     "output_type": "stream",
     "text": [
      "unsupported encoding: none : failed\n"
     ]
    },
    {
     "name": "stderr",
     "output_type": "stream",
     "text": [
      " 31%|███       | 8/26 [01:34<04:11, 13.95s/it]"
     ]
    },
    {
     "name": "stdout",
     "output_type": "stream",
     "text": [
      "unsupported encoding: none : failed\n"
     ]
    },
    {
     "name": "stderr",
     "output_type": "stream",
     "text": [
      " 46%|████▌     | 12/26 [02:13<02:43, 11.69s/it]"
     ]
    },
    {
     "name": "stdout",
     "output_type": "stream",
     "text": [
      "unsupported encoding: none : failed\n"
     ]
    },
    {
     "name": "stderr",
     "output_type": "stream",
     "text": [
      " 50%|█████     | 13/26 [02:23<02:22, 10.96s/it]"
     ]
    },
    {
     "name": "stdout",
     "output_type": "stream",
     "text": [
      "unsupported encoding: none : failed\n"
     ]
    },
    {
     "name": "stderr",
     "output_type": "stream",
     "text": [
      " 54%|█████▍    | 14/26 [02:30<01:57,  9.79s/it]"
     ]
    },
    {
     "name": "stdout",
     "output_type": "stream",
     "text": [
      "unsupported encoding: none : failed\n",
      "unsupported encoding: none : failed\n"
     ]
    },
    {
     "name": "stderr",
     "output_type": "stream",
     "text": [
      " 58%|█████▊    | 15/26 [02:38<01:43,  9.40s/it]"
     ]
    },
    {
     "name": "stdout",
     "output_type": "stream",
     "text": [
      "unsupported encoding: none : failed\n",
      "unsupported encoding: none : failed\n"
     ]
    },
    {
     "name": "stderr",
     "output_type": "stream",
     "text": [
      " 62%|██████▏   | 16/26 [02:58<02:06, 12.64s/it]"
     ]
    },
    {
     "name": "stdout",
     "output_type": "stream",
     "text": [
      "unsupported encoding: none : failed\n"
     ]
    },
    {
     "name": "stderr",
     "output_type": "stream",
     "text": [
      " 73%|███████▎  | 19/26 [03:20<01:02,  8.91s/it]"
     ]
    },
    {
     "name": "stdout",
     "output_type": "stream",
     "text": [
      "unsupported encoding: none : failed\n"
     ]
    },
    {
     "name": "stderr",
     "output_type": "stream",
     "text": [
      " 77%|███████▋  | 20/26 [03:25<00:46,  7.68s/it]"
     ]
    },
    {
     "name": "stdout",
     "output_type": "stream",
     "text": [
      "unsupported encoding: none : failed\n"
     ]
    },
    {
     "name": "stderr",
     "output_type": "stream",
     "text": [
      " 81%|████████  | 21/26 [03:28<00:31,  6.26s/it]"
     ]
    },
    {
     "name": "stdout",
     "output_type": "stream",
     "text": [
      "unsupported encoding: none : failed\n"
     ]
    },
    {
     "name": "stderr",
     "output_type": "stream",
     "text": [
      " 85%|████████▍ | 22/26 [03:35<00:26,  6.52s/it]"
     ]
    },
    {
     "name": "stdout",
     "output_type": "stream",
     "text": [
      "unsupported encoding: none : failed\n"
     ]
    },
    {
     "name": "stderr",
     "output_type": "stream",
     "text": [
      " 96%|█████████▌| 25/26 [03:50<00:05,  5.36s/it]"
     ]
    },
    {
     "name": "stdout",
     "output_type": "stream",
     "text": [
      "unsupported encoding: none : failed\n"
     ]
    },
    {
     "name": "stderr",
     "output_type": "stream",
     "text": [
      "100%|██████████| 26/26 [03:53<00:00,  8.99s/it]"
     ]
    },
    {
     "name": "stdout",
     "output_type": "stream",
     "text": [
      "Assignment not found: anastasiasiebers\n",
      "Assignment not found: AnLeWe\n",
      "Assignment not found: Ari-manius\n",
      "Assignment not found: bacherni\n",
      "Assignment not found: cgl-04\n",
      "Assignment not found: cristinaflintoaca\n",
      "Assignment not found: ekaterinakabashko\n",
      "Assignment not found: fabioconsiglio\n",
      "Assignment not found: Guacabmole\n",
      "Assignment not found: jan-thiele7\n",
      "Assignment not found: Jonah879\n",
      "Assignment not found: Jonaschrade\n",
      "Assignment not found: KatrinSauter\n",
      "Assignment not found: KMayer24\n",
      "Assignment not found: lorenzrck\n",
      "Assignment not found: maitekuester\n",
      "Assignment not found: MaximilianWeiland\n",
      "Assignment not found: MouPas\n",
      "Assignment not found: NinaGeyer-KN\n",
      "Assignment not found: samrauh\n",
      "Assignment not found: sinamayer\n",
      "Assignment not found: TimothyGGGGG\n",
      "Assignment not found: vulonviing\n",
      "Assignment not found: xiaoxuanzhang1\n"
     ]
    },
    {
     "name": "stderr",
     "output_type": "stream",
     "text": [
      "\n"
     ]
    }
   ],
   "source": [
    "# Run script with or without delay\n",
    "if delay:\n",
    "    try:\n",
    "        now = datetime.now()\n",
    "        sleep = (deadline - now).total_seconds()\n",
    "        print(f'Waiting until: {deadline}; {sleep} seconds')\n",
    "        time.sleep(sleep)\n",
    "    except:\n",
    "        pass\n",
    "\n",
    "# Retrieve Assignments\n",
    "if pull:\n",
    "    org_repos = [repo for repo in list(org.get_repos()) if repo.name not in ignore_repos]\n",
    "\n",
    "    # fetch submissions\n",
    "    fails = fetch_assignments(repos=org_repos, assignment_number=assignment_number, ignore=ignore_users)\n",
    "    # show students for whom pull failed\n",
    "    for fail in fails:\n",
    "        print(fail)"
   ]
  },
  {
   "cell_type": "markdown",
   "id": "90f7a29a-0a8b-45a2-b26e-9078ec6e2639",
   "metadata": {},
   "source": [
    "## Create feedback files in local student directories"
   ]
  },
  {
   "cell_type": "code",
   "execution_count": 24,
   "id": "6450a7d6-de46-408e-9662-3f7b90e170fe",
   "metadata": {
    "tags": []
   },
   "outputs": [
    {
     "data": {
      "text/plain": [
       "{'bacherni': 'Bacher, Niklas',\n",
       " 'cristinaflintoaca': 'Flintoaca-Cojocea, Cristina Ioana',\n",
       " 'cgl-04': 'George-Lembach, Carl',\n",
       " 'NinaGeyer-KN': 'Geyer, Nina',\n",
       " 'Guacabmole': 'Giovanelli-Rosendo-Guimaraes, Samuel',\n",
       " 'TimothyGGGGG': 'Gunson, Timothy',\n",
       " 'Jonah879': 'Hartmann, Jonah',\n",
       " 'Ari-manius': 'Helten, Marius',\n",
       " 'DajanaHennig': 'Hennig, Dajana',\n",
       " 'ekaterinakabashko': 'Kabashko, Ekaterina',\n",
       " 'maitekuester': 'Küster, Maite',\n",
       " 'fabioconsiglio': 'Mahner, Fabian',\n",
       " 'KMayer24': 'Mayer, Katharina',\n",
       " 'sinamayer': 'Mayer, Sina-Marie',\n",
       " 'MouPas': 'Mounchid, Pascal',\n",
       " 'samrauh': 'Rauh, Samuel',\n",
       " 'lorenzrck': 'Rückert, Lorenz',\n",
       " 'KatrinSauter': 'Sauter, Katrin',\n",
       " 'Jonaschrade': 'Schrade, Jonas',\n",
       " 'anastasiasiebers': 'Siebers, Anastasia',\n",
       " 'jan-thiele7': 'Thiele, Jan',\n",
       " 'vulonviing': 'Ulu, Emrecan',\n",
       " 'MaximilianWeiland': 'Weiland, Maximilian',\n",
       " 'AnLeWe': 'Werner, Anna',\n",
       " 'xiaoxuanzhang1': 'Zhang, Xiaoxuan'}"
      ]
     },
     "execution_count": 24,
     "metadata": {},
     "output_type": "execute_result"
    }
   ],
   "source": [
    "# Create course specific idintifier dictionary with Git Classroom roster\n",
    "roster = pd.read_csv('sources/classroom_roster.csv')[['github_username', 'identifier']].replace(\n",
    "    to_replace=r'\"', value='', regex=True)\n",
    "\n",
    "identifier_dict = dict(roster.values)\n",
    "identifier_dict\n",
    "# if test:\n",
    "#    identifier_dict['jellyjoy-nobot'] = 'Jelly, Joy' # for testing"
   ]
  },
  {
   "cell_type": "markdown",
   "id": "a4877506-524d-4690-ab8b-33a47046cad7",
   "metadata": {},
   "source": [
    "### Please don't change your usernames guys!"
   ]
  },
  {
   "cell_type": "code",
   "execution_count": 27,
   "id": "1faf1907-68db-45c5-bfd4-b54ecfd33f9a",
   "metadata": {
    "tags": []
   },
   "outputs": [],
   "source": [
    "def create_feedback_files(folder, identifiers, assignment, total_points, schema):\n",
    "    '''\n",
    "    This function takes a folder (e.g. 'submissions') and an identifier dict\n",
    "    with students names and github handles to create a feedback.txt draft\n",
    "    in each student's personal submission folder for the current assignment.\n",
    "    \n",
    "    folder: the folder where the student submission folders are located\n",
    "    identifiers: dict of form {'githubHandle' : 'studentName'}\n",
    "    assignment: int # of the current assignment (e.g. 3)\n",
    "    total_points: int # of the assignment's total points\n",
    "    schema: string grading schema of the given assignment\n",
    "    '''\n",
    "    student_folders = [f.name for f in os.scandir(folder) if f.is_dir()]\n",
    "\n",
    "    overwrite = False\n",
    "    temp = []\n",
    "    \n",
    "    for student_folder in student_folders:\n",
    "        student_name = None\n",
    "        for key, value in identifiers.items():\n",
    "            if key == student_folder:\n",
    "                student_name = value\n",
    "        \n",
    "        header = f'Feedback Assignment {assignment}\\n-----\\n{student_name}: /{total_points} Points'#  \\nAchieved Bonus: '\n",
    "        header_undefined = f'Feedback Assignment {assignment}\\n-----\\n: /{total_points} Points'\n",
    "\n",
    "        if os.path.isfile(f'{folder}/{student_folder}/feedback_{assignment}.txt'):\n",
    "            if not overwrite and len(temp) == 0:\n",
    "                overwrite_file = input('Files already exist. Overwrite: ')\n",
    "                temp.append(1)\n",
    "                if overwrite_file == 'yes':\n",
    "                    overwrite = True\n",
    "\n",
    "        else:\n",
    "            if student_name != None:            \n",
    "                with open(f'{folder}/{student_folder}/feedback_{assignment}.txt', 'w', encoding='utf-8') as f:\n",
    "                    f.write(f'{header}\\n{schema}')\n",
    "                f.close()\n",
    "            \n",
    "            else:\n",
    "                with open(f'{folder}/{student_folder}/feedback_{assignment}.txt', 'w', encoding='utf-8') as f:\n",
    "                    f.write(f'{header_undefined}\\n{schema}')\n",
    "                f.close()\n",
    "        \n",
    "        if student_name != None:            \n",
    "            if overwrite:\n",
    "                with open(f'{folder}/{student_folder}/feedback_{assignment}.txt', 'w', encoding='utf-8') as f:\n",
    "                    f.write(f'{header}\\n{schema}')\n",
    "                f.close()\n",
    "        else:\n",
    "            if overwrite == 'yes':\n",
    "                with open(f'{folder}/{student_folder}/feedback_{assignment}.txt', 'w', encoding='utf-8') as f:\n",
    "                    f.write(f'{header_undefined}\\n{schema}')\n",
    "                f.close()"
   ]
  },
  {
   "cell_type": "code",
   "execution_count": 28,
   "id": "730c4c05-e294-4923-a924-c737cf49a099",
   "metadata": {
    "scrolled": true,
    "tags": []
   },
   "outputs": [],
   "source": [
    "# specify the text that is added to the feedback files\n",
    "with open('sources/grading_schema.txt', 'r') as f:\n",
    "    grading_schema = f.read()\n",
    "f.close()\n",
    "\n",
    "# Create the feedback files for each student\n",
    "if pull:\n",
    "    create_feedback_files(folder='submissions', \n",
    "                          identifiers=identifier_dict, \n",
    "                          assignment=assignment_number, \n",
    "                          total_points=total_points,\n",
    "                          schema=grading_schema)"
   ]
  },
  {
   "cell_type": "markdown",
   "id": "7e0c9215-ae16-44ad-9bb6-b297034815b7",
   "metadata": {},
   "source": [
    "## Push feedback from local to GitHub"
   ]
  },
  {
   "cell_type": "code",
   "execution_count": 14,
   "id": "6d7f314f",
   "metadata": {},
   "outputs": [
    {
     "data": {
      "text/plain": [
       "[Repository(full_name=\"SMDA-2025/submission-KatrinSauter\"),\n",
       " Repository(full_name=\"SMDA-2025/submission-anastasiasiebers\"),\n",
       " Repository(full_name=\"SMDA-2025/submission-bacherni\"),\n",
       " Repository(full_name=\"SMDA-2025/submission-ekaterinakabashko\"),\n",
       " Repository(full_name=\"SMDA-2025/submission-MaximilianWeiland\"),\n",
       " Repository(full_name=\"SMDA-2025/submission-MouPas\"),\n",
       " Repository(full_name=\"SMDA-2025/submission-Jonah879\"),\n",
       " Repository(full_name=\"SMDA-2025/submission-samrauh\"),\n",
       " Repository(full_name=\"SMDA-2025/submission-sinamayer\"),\n",
       " Repository(full_name=\"SMDA-2025/submission-cgl-04\"),\n",
       " Repository(full_name=\"SMDA-2025/submission-cristinaflintoaca\"),\n",
       " Repository(full_name=\"SMDA-2025/submission-NinaGeyer-KN\"),\n",
       " Repository(full_name=\"SMDA-2025/submission-AnLeWe\"),\n",
       " Repository(full_name=\"SMDA-2025/submission-vulonviing\"),\n",
       " Repository(full_name=\"SMDA-2025/submission-Jonaschrade\"),\n",
       " Repository(full_name=\"SMDA-2025/submission-KMayer24\"),\n",
       " Repository(full_name=\"SMDA-2025/submission-fabioconsiglio\"),\n",
       " Repository(full_name=\"SMDA-2025/submission-xiaoxuanzhang1\"),\n",
       " Repository(full_name=\"SMDA-2025/submission-Guacabmole\"),\n",
       " Repository(full_name=\"SMDA-2025/submission-jan-thiele7\"),\n",
       " Repository(full_name=\"SMDA-2025/submission-DajanaHennig\"),\n",
       " Repository(full_name=\"SMDA-2025/submission-lorenzrck\"),\n",
       " Repository(full_name=\"SMDA-2025/submission-Ari-manius\"),\n",
       " Repository(full_name=\"SMDA-2025/submission-TimothyGGGGG-1\"),\n",
       " Repository(full_name=\"SMDA-2025/submission-maitekuester\")]"
      ]
     },
     "execution_count": 14,
     "metadata": {},
     "output_type": "execute_result"
    }
   ],
   "source": [
    "ignore_repos = [\"submission-TimothyGGGGG\", \"template\", \"smda-2025-classroom-submission-template\", \"forum\"]\n",
    "#ignore_repos = []\n",
    "org_repos = [repo for repo in list(org.get_repos()) if repo.name not in ignore_repos]\n",
    "org_repos"
   ]
  },
  {
   "cell_type": "code",
   "execution_count": 15,
   "id": "794cbd0f",
   "metadata": {},
   "outputs": [
    {
     "data": {
      "text/plain": [
       "Repository(full_name=\"SMDA-2025/submission-TimothyGGGGG-1\")"
      ]
     },
     "execution_count": 15,
     "metadata": {},
     "output_type": "execute_result"
    }
   ],
   "source": [
    "ignore_users\n",
    "\n",
    "org_repos[23]"
   ]
  },
  {
   "cell_type": "code",
   "execution_count": 16,
   "id": "31cdbaa4",
   "metadata": {},
   "outputs": [
    {
     "data": {
      "text/plain": [
       "[NamedUser(login=\"TimothyGGGGG\")]"
      ]
     },
     "execution_count": 16,
     "metadata": {},
     "output_type": "execute_result"
    }
   ],
   "source": [
    "collaborators = org_repos[23].get_collaborators()\n",
    "[col for col in collaborators if col.login not in ignore_users]"
   ]
  },
  {
   "cell_type": "code",
   "execution_count": 17,
   "id": "937426f7-8df4-4d64-88de-9d5b37428fea",
   "metadata": {
    "tags": []
   },
   "outputs": [],
   "source": [
    "def push_feedback(repos, folder, assignment, ignore):\n",
    "    '''\n",
    "    This function pushes the feedback files for a given assignment to\n",
    "    the students' personal github repositories.\n",
    "    \n",
    "    repos: the organization repositories (each students personal repo)\n",
    "    folder: string of folder where student repos are stored locally\n",
    "    assignment: int # of the current assignment\n",
    "    ignore: list of githandles that should be ignored (e.g. admins)\n",
    "    '''\n",
    "    fails = []\n",
    "    \n",
    "    for repo in tqdm(repos):\n",
    "        fail = False\n",
    "        collaborators = repo.get_collaborators()\n",
    "        collaborators = [col for col in collaborators if col.login not in ignore]\n",
    "        \n",
    "        \n",
    "        student = collaborators[0].login\n",
    "        student_folder = f'{folder}/{student}'\n",
    "        feedback_file = f'feedback_{assignment}.txt'\n",
    "        feedback_file_path = f'{student_folder}/{feedback_file}'\n",
    "        \n",
    "        try:\n",
    "            with open(feedback_file_path, 'r') as f:\n",
    "                feedback_content = f.read()\n",
    "            f.close()\n",
    "            if re.match(r'.*\\n-----\\n.+,.+: \\/\\d{2} Points.*', feedback_content, re.MULTILINE):\n",
    "                feedback_content = False\n",
    "        except:\n",
    "            feedback_content = False            \n",
    "            \n",
    "        commit_message = f'uploaded feedback_{assignment}'\n",
    "        \n",
    "        if not feedback_content:\n",
    "            fail = f'Empty feedback file: {student}'\n",
    "        else:\n",
    "            try:\n",
    "                repo.create_file(feedback_file, content=feedback_content, message=commit_message)\n",
    "            except:\n",
    "                fail = f'Git error: {student}'\n",
    "        \n",
    "        if fail != False:\n",
    "            fails.append(fail)\n",
    "    \n",
    "    fails.sort(key=lambda entry: entry.upper())\n",
    "    return fails"
   ]
  },
  {
   "cell_type": "code",
   "execution_count": 18,
   "id": "9beaff45-4bdc-4891-a6d1-3e7df74a26fa",
   "metadata": {
    "scrolled": true,
    "tags": []
   },
   "outputs": [
    {
     "name": "stderr",
     "output_type": "stream",
     "text": [
      "100%|██████████| 25/25 [00:34<00:00,  1.38s/it]"
     ]
    },
    {
     "name": "stdout",
     "output_type": "stream",
     "text": [
      "['Git error: anastasiasiebers', 'Git error: AnLeWe', 'Git error: Ari-manius', 'Git error: bacherni', 'Git error: cgl-04', 'Git error: cristinaflintoaca', 'Git error: DajanaHennig', 'Git error: ekaterinakabashko', 'Git error: fabioconsiglio', 'Git error: Guacabmole', 'Git error: jan-thiele7', 'Git error: Jonah879', 'Git error: Jonaschrade', 'Git error: KatrinSauter', 'Git error: KMayer24', 'Git error: lorenzrck', 'Git error: MaximilianWeiland', 'Git error: MouPas', 'Git error: NinaGeyer-KN', 'Git error: samrauh', 'Git error: sinamayer', 'Git error: vulonviing', 'Git error: xiaoxuanzhang1']\n",
      "['Git error: anastasiasiebers', 'Git error: AnLeWe', 'Git error: Ari-manius', 'Git error: bacherni', 'Git error: cgl-04', 'Git error: cristinaflintoaca', 'Git error: DajanaHennig', 'Git error: ekaterinakabashko', 'Git error: fabioconsiglio', 'Git error: Guacabmole', 'Git error: jan-thiele7', 'Git error: Jonah879', 'Git error: Jonaschrade', 'Git error: KatrinSauter', 'Git error: KMayer24', 'Git error: lorenzrck', 'Git error: MaximilianWeiland', 'Git error: MouPas', 'Git error: NinaGeyer-KN', 'Git error: samrauh', 'Git error: sinamayer', 'Git error: vulonviing', 'Git error: xiaoxuanzhang1']\n",
      "['Git error: anastasiasiebers', 'Git error: AnLeWe', 'Git error: Ari-manius', 'Git error: bacherni', 'Git error: cgl-04', 'Git error: cristinaflintoaca', 'Git error: DajanaHennig', 'Git error: ekaterinakabashko', 'Git error: fabioconsiglio', 'Git error: Guacabmole', 'Git error: jan-thiele7', 'Git error: Jonah879', 'Git error: Jonaschrade', 'Git error: KatrinSauter', 'Git error: KMayer24', 'Git error: lorenzrck', 'Git error: MaximilianWeiland', 'Git error: MouPas', 'Git error: NinaGeyer-KN', 'Git error: samrauh', 'Git error: sinamayer', 'Git error: vulonviing', 'Git error: xiaoxuanzhang1']\n",
      "['Git error: anastasiasiebers', 'Git error: AnLeWe', 'Git error: Ari-manius', 'Git error: bacherni', 'Git error: cgl-04', 'Git error: cristinaflintoaca', 'Git error: DajanaHennig', 'Git error: ekaterinakabashko', 'Git error: fabioconsiglio', 'Git error: Guacabmole', 'Git error: jan-thiele7', 'Git error: Jonah879', 'Git error: Jonaschrade', 'Git error: KatrinSauter', 'Git error: KMayer24', 'Git error: lorenzrck', 'Git error: MaximilianWeiland', 'Git error: MouPas', 'Git error: NinaGeyer-KN', 'Git error: samrauh', 'Git error: sinamayer', 'Git error: vulonviing', 'Git error: xiaoxuanzhang1']\n",
      "['Git error: anastasiasiebers', 'Git error: AnLeWe', 'Git error: Ari-manius', 'Git error: bacherni', 'Git error: cgl-04', 'Git error: cristinaflintoaca', 'Git error: DajanaHennig', 'Git error: ekaterinakabashko', 'Git error: fabioconsiglio', 'Git error: Guacabmole', 'Git error: jan-thiele7', 'Git error: Jonah879', 'Git error: Jonaschrade', 'Git error: KatrinSauter', 'Git error: KMayer24', 'Git error: lorenzrck', 'Git error: MaximilianWeiland', 'Git error: MouPas', 'Git error: NinaGeyer-KN', 'Git error: samrauh', 'Git error: sinamayer', 'Git error: vulonviing', 'Git error: xiaoxuanzhang1']\n",
      "['Git error: anastasiasiebers', 'Git error: AnLeWe', 'Git error: Ari-manius', 'Git error: bacherni', 'Git error: cgl-04', 'Git error: cristinaflintoaca', 'Git error: DajanaHennig', 'Git error: ekaterinakabashko', 'Git error: fabioconsiglio', 'Git error: Guacabmole', 'Git error: jan-thiele7', 'Git error: Jonah879', 'Git error: Jonaschrade', 'Git error: KatrinSauter', 'Git error: KMayer24', 'Git error: lorenzrck', 'Git error: MaximilianWeiland', 'Git error: MouPas', 'Git error: NinaGeyer-KN', 'Git error: samrauh', 'Git error: sinamayer', 'Git error: vulonviing', 'Git error: xiaoxuanzhang1']\n",
      "['Git error: anastasiasiebers', 'Git error: AnLeWe', 'Git error: Ari-manius', 'Git error: bacherni', 'Git error: cgl-04', 'Git error: cristinaflintoaca', 'Git error: DajanaHennig', 'Git error: ekaterinakabashko', 'Git error: fabioconsiglio', 'Git error: Guacabmole', 'Git error: jan-thiele7', 'Git error: Jonah879', 'Git error: Jonaschrade', 'Git error: KatrinSauter', 'Git error: KMayer24', 'Git error: lorenzrck', 'Git error: MaximilianWeiland', 'Git error: MouPas', 'Git error: NinaGeyer-KN', 'Git error: samrauh', 'Git error: sinamayer', 'Git error: vulonviing', 'Git error: xiaoxuanzhang1']\n",
      "['Git error: anastasiasiebers', 'Git error: AnLeWe', 'Git error: Ari-manius', 'Git error: bacherni', 'Git error: cgl-04', 'Git error: cristinaflintoaca', 'Git error: DajanaHennig', 'Git error: ekaterinakabashko', 'Git error: fabioconsiglio', 'Git error: Guacabmole', 'Git error: jan-thiele7', 'Git error: Jonah879', 'Git error: Jonaschrade', 'Git error: KatrinSauter', 'Git error: KMayer24', 'Git error: lorenzrck', 'Git error: MaximilianWeiland', 'Git error: MouPas', 'Git error: NinaGeyer-KN', 'Git error: samrauh', 'Git error: sinamayer', 'Git error: vulonviing', 'Git error: xiaoxuanzhang1']\n",
      "['Git error: anastasiasiebers', 'Git error: AnLeWe', 'Git error: Ari-manius', 'Git error: bacherni', 'Git error: cgl-04', 'Git error: cristinaflintoaca', 'Git error: DajanaHennig', 'Git error: ekaterinakabashko', 'Git error: fabioconsiglio', 'Git error: Guacabmole', 'Git error: jan-thiele7', 'Git error: Jonah879', 'Git error: Jonaschrade', 'Git error: KatrinSauter', 'Git error: KMayer24', 'Git error: lorenzrck', 'Git error: MaximilianWeiland', 'Git error: MouPas', 'Git error: NinaGeyer-KN', 'Git error: samrauh', 'Git error: sinamayer', 'Git error: vulonviing', 'Git error: xiaoxuanzhang1']\n",
      "['Git error: anastasiasiebers', 'Git error: AnLeWe', 'Git error: Ari-manius', 'Git error: bacherni', 'Git error: cgl-04', 'Git error: cristinaflintoaca', 'Git error: DajanaHennig', 'Git error: ekaterinakabashko', 'Git error: fabioconsiglio', 'Git error: Guacabmole', 'Git error: jan-thiele7', 'Git error: Jonah879', 'Git error: Jonaschrade', 'Git error: KatrinSauter', 'Git error: KMayer24', 'Git error: lorenzrck', 'Git error: MaximilianWeiland', 'Git error: MouPas', 'Git error: NinaGeyer-KN', 'Git error: samrauh', 'Git error: sinamayer', 'Git error: vulonviing', 'Git error: xiaoxuanzhang1']\n",
      "['Git error: anastasiasiebers', 'Git error: AnLeWe', 'Git error: Ari-manius', 'Git error: bacherni', 'Git error: cgl-04', 'Git error: cristinaflintoaca', 'Git error: DajanaHennig', 'Git error: ekaterinakabashko', 'Git error: fabioconsiglio', 'Git error: Guacabmole', 'Git error: jan-thiele7', 'Git error: Jonah879', 'Git error: Jonaschrade', 'Git error: KatrinSauter', 'Git error: KMayer24', 'Git error: lorenzrck', 'Git error: MaximilianWeiland', 'Git error: MouPas', 'Git error: NinaGeyer-KN', 'Git error: samrauh', 'Git error: sinamayer', 'Git error: vulonviing', 'Git error: xiaoxuanzhang1']\n",
      "['Git error: anastasiasiebers', 'Git error: AnLeWe', 'Git error: Ari-manius', 'Git error: bacherni', 'Git error: cgl-04', 'Git error: cristinaflintoaca', 'Git error: DajanaHennig', 'Git error: ekaterinakabashko', 'Git error: fabioconsiglio', 'Git error: Guacabmole', 'Git error: jan-thiele7', 'Git error: Jonah879', 'Git error: Jonaschrade', 'Git error: KatrinSauter', 'Git error: KMayer24', 'Git error: lorenzrck', 'Git error: MaximilianWeiland', 'Git error: MouPas', 'Git error: NinaGeyer-KN', 'Git error: samrauh', 'Git error: sinamayer', 'Git error: vulonviing', 'Git error: xiaoxuanzhang1']\n",
      "['Git error: anastasiasiebers', 'Git error: AnLeWe', 'Git error: Ari-manius', 'Git error: bacherni', 'Git error: cgl-04', 'Git error: cristinaflintoaca', 'Git error: DajanaHennig', 'Git error: ekaterinakabashko', 'Git error: fabioconsiglio', 'Git error: Guacabmole', 'Git error: jan-thiele7', 'Git error: Jonah879', 'Git error: Jonaschrade', 'Git error: KatrinSauter', 'Git error: KMayer24', 'Git error: lorenzrck', 'Git error: MaximilianWeiland', 'Git error: MouPas', 'Git error: NinaGeyer-KN', 'Git error: samrauh', 'Git error: sinamayer', 'Git error: vulonviing', 'Git error: xiaoxuanzhang1']\n",
      "['Git error: anastasiasiebers', 'Git error: AnLeWe', 'Git error: Ari-manius', 'Git error: bacherni', 'Git error: cgl-04', 'Git error: cristinaflintoaca', 'Git error: DajanaHennig', 'Git error: ekaterinakabashko', 'Git error: fabioconsiglio', 'Git error: Guacabmole', 'Git error: jan-thiele7', 'Git error: Jonah879', 'Git error: Jonaschrade', 'Git error: KatrinSauter', 'Git error: KMayer24', 'Git error: lorenzrck', 'Git error: MaximilianWeiland', 'Git error: MouPas', 'Git error: NinaGeyer-KN', 'Git error: samrauh', 'Git error: sinamayer', 'Git error: vulonviing', 'Git error: xiaoxuanzhang1']\n",
      "['Git error: anastasiasiebers', 'Git error: AnLeWe', 'Git error: Ari-manius', 'Git error: bacherni', 'Git error: cgl-04', 'Git error: cristinaflintoaca', 'Git error: DajanaHennig', 'Git error: ekaterinakabashko', 'Git error: fabioconsiglio', 'Git error: Guacabmole', 'Git error: jan-thiele7', 'Git error: Jonah879', 'Git error: Jonaschrade', 'Git error: KatrinSauter', 'Git error: KMayer24', 'Git error: lorenzrck', 'Git error: MaximilianWeiland', 'Git error: MouPas', 'Git error: NinaGeyer-KN', 'Git error: samrauh', 'Git error: sinamayer', 'Git error: vulonviing', 'Git error: xiaoxuanzhang1']\n",
      "['Git error: anastasiasiebers', 'Git error: AnLeWe', 'Git error: Ari-manius', 'Git error: bacherni', 'Git error: cgl-04', 'Git error: cristinaflintoaca', 'Git error: DajanaHennig', 'Git error: ekaterinakabashko', 'Git error: fabioconsiglio', 'Git error: Guacabmole', 'Git error: jan-thiele7', 'Git error: Jonah879', 'Git error: Jonaschrade', 'Git error: KatrinSauter', 'Git error: KMayer24', 'Git error: lorenzrck', 'Git error: MaximilianWeiland', 'Git error: MouPas', 'Git error: NinaGeyer-KN', 'Git error: samrauh', 'Git error: sinamayer', 'Git error: vulonviing', 'Git error: xiaoxuanzhang1']\n",
      "['Git error: anastasiasiebers', 'Git error: AnLeWe', 'Git error: Ari-manius', 'Git error: bacherni', 'Git error: cgl-04', 'Git error: cristinaflintoaca', 'Git error: DajanaHennig', 'Git error: ekaterinakabashko', 'Git error: fabioconsiglio', 'Git error: Guacabmole', 'Git error: jan-thiele7', 'Git error: Jonah879', 'Git error: Jonaschrade', 'Git error: KatrinSauter', 'Git error: KMayer24', 'Git error: lorenzrck', 'Git error: MaximilianWeiland', 'Git error: MouPas', 'Git error: NinaGeyer-KN', 'Git error: samrauh', 'Git error: sinamayer', 'Git error: vulonviing', 'Git error: xiaoxuanzhang1']\n",
      "['Git error: anastasiasiebers', 'Git error: AnLeWe', 'Git error: Ari-manius', 'Git error: bacherni', 'Git error: cgl-04', 'Git error: cristinaflintoaca', 'Git error: DajanaHennig', 'Git error: ekaterinakabashko', 'Git error: fabioconsiglio', 'Git error: Guacabmole', 'Git error: jan-thiele7', 'Git error: Jonah879', 'Git error: Jonaschrade', 'Git error: KatrinSauter', 'Git error: KMayer24', 'Git error: lorenzrck', 'Git error: MaximilianWeiland', 'Git error: MouPas', 'Git error: NinaGeyer-KN', 'Git error: samrauh', 'Git error: sinamayer', 'Git error: vulonviing', 'Git error: xiaoxuanzhang1']\n",
      "['Git error: anastasiasiebers', 'Git error: AnLeWe', 'Git error: Ari-manius', 'Git error: bacherni', 'Git error: cgl-04', 'Git error: cristinaflintoaca', 'Git error: DajanaHennig', 'Git error: ekaterinakabashko', 'Git error: fabioconsiglio', 'Git error: Guacabmole', 'Git error: jan-thiele7', 'Git error: Jonah879', 'Git error: Jonaschrade', 'Git error: KatrinSauter', 'Git error: KMayer24', 'Git error: lorenzrck', 'Git error: MaximilianWeiland', 'Git error: MouPas', 'Git error: NinaGeyer-KN', 'Git error: samrauh', 'Git error: sinamayer', 'Git error: vulonviing', 'Git error: xiaoxuanzhang1']\n",
      "['Git error: anastasiasiebers', 'Git error: AnLeWe', 'Git error: Ari-manius', 'Git error: bacherni', 'Git error: cgl-04', 'Git error: cristinaflintoaca', 'Git error: DajanaHennig', 'Git error: ekaterinakabashko', 'Git error: fabioconsiglio', 'Git error: Guacabmole', 'Git error: jan-thiele7', 'Git error: Jonah879', 'Git error: Jonaschrade', 'Git error: KatrinSauter', 'Git error: KMayer24', 'Git error: lorenzrck', 'Git error: MaximilianWeiland', 'Git error: MouPas', 'Git error: NinaGeyer-KN', 'Git error: samrauh', 'Git error: sinamayer', 'Git error: vulonviing', 'Git error: xiaoxuanzhang1']\n",
      "['Git error: anastasiasiebers', 'Git error: AnLeWe', 'Git error: Ari-manius', 'Git error: bacherni', 'Git error: cgl-04', 'Git error: cristinaflintoaca', 'Git error: DajanaHennig', 'Git error: ekaterinakabashko', 'Git error: fabioconsiglio', 'Git error: Guacabmole', 'Git error: jan-thiele7', 'Git error: Jonah879', 'Git error: Jonaschrade', 'Git error: KatrinSauter', 'Git error: KMayer24', 'Git error: lorenzrck', 'Git error: MaximilianWeiland', 'Git error: MouPas', 'Git error: NinaGeyer-KN', 'Git error: samrauh', 'Git error: sinamayer', 'Git error: vulonviing', 'Git error: xiaoxuanzhang1']\n",
      "['Git error: anastasiasiebers', 'Git error: AnLeWe', 'Git error: Ari-manius', 'Git error: bacherni', 'Git error: cgl-04', 'Git error: cristinaflintoaca', 'Git error: DajanaHennig', 'Git error: ekaterinakabashko', 'Git error: fabioconsiglio', 'Git error: Guacabmole', 'Git error: jan-thiele7', 'Git error: Jonah879', 'Git error: Jonaschrade', 'Git error: KatrinSauter', 'Git error: KMayer24', 'Git error: lorenzrck', 'Git error: MaximilianWeiland', 'Git error: MouPas', 'Git error: NinaGeyer-KN', 'Git error: samrauh', 'Git error: sinamayer', 'Git error: vulonviing', 'Git error: xiaoxuanzhang1']\n",
      "['Git error: anastasiasiebers', 'Git error: AnLeWe', 'Git error: Ari-manius', 'Git error: bacherni', 'Git error: cgl-04', 'Git error: cristinaflintoaca', 'Git error: DajanaHennig', 'Git error: ekaterinakabashko', 'Git error: fabioconsiglio', 'Git error: Guacabmole', 'Git error: jan-thiele7', 'Git error: Jonah879', 'Git error: Jonaschrade', 'Git error: KatrinSauter', 'Git error: KMayer24', 'Git error: lorenzrck', 'Git error: MaximilianWeiland', 'Git error: MouPas', 'Git error: NinaGeyer-KN', 'Git error: samrauh', 'Git error: sinamayer', 'Git error: vulonviing', 'Git error: xiaoxuanzhang1']\n"
     ]
    },
    {
     "name": "stderr",
     "output_type": "stream",
     "text": [
      "\n"
     ]
    }
   ],
   "source": [
    "# Push Feedback\n",
    "\n",
    "if not pull:\n",
    "    org_repos = [repo for repo in list(org.get_repos()) if repo.name not in ignore_repos]\n",
    "    \n",
    "    # fetch submissions\n",
    "    feedback_fails = push_feedback(repos=org_repos, folder='submissions', assignment=assignment_number, ignore=ignore_users)\n",
    "    # show students for whom push failed\n",
    "    for fail in feedback_fails:\n",
    "        print(feedback_fails)"
   ]
  },
  {
   "cell_type": "markdown",
   "id": "8f4feedf-6b86-40d5-b590-8500a657cddf",
   "metadata": {},
   "source": [
    "## Create .gitignore File in Student Repos"
   ]
  },
  {
   "cell_type": "code",
   "execution_count": null,
   "id": "6b4f20f3-c59c-4d95-bc66-751c08901de4",
   "metadata": {},
   "outputs": [],
   "source": [
    "# if test:\n",
    "#     org_repos = [repo for repo in list(org.get_repos()) if repo.name not in ignore_repos][:1]\n",
    "# else:\n",
    "#     org_repos = [repo for repo in list(org.get_repos()) if repo.name not in ignore_repos]\n",
    "\n",
    "# fails = []\n",
    "\n",
    "# for repo in tqdm(org_repos):\n",
    "#     try:\n",
    "#         repo.create_file('.gitignore', content='.ipynb_checkpoints/', message='uploaded .gitignore')\n",
    "#     except:\n",
    "#         fails.append(repo)\n",
    "\n",
    "# for fail in fails:\n",
    "#     print(fail)"
   ]
  }
 ],
 "metadata": {
  "kernelspec": {
   "display_name": "base",
   "language": "python",
   "name": "python3"
  },
  "language_info": {
   "codemirror_mode": {
    "name": "ipython",
    "version": 3
   },
   "file_extension": ".py",
   "mimetype": "text/x-python",
   "name": "python",
   "nbconvert_exporter": "python",
   "pygments_lexer": "ipython3",
   "version": "3.12.4"
  }
 },
 "nbformat": 4,
 "nbformat_minor": 5
}
