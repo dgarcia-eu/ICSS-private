{
 "cells": [
  {
   "cell_type": "markdown",
   "id": "b6672b26-2cf8-439d-af23-37d37ad3c6a0",
   "metadata": {},
   "source": [
    "<div style=\"text-align: center;\" >\n",
    "<h1 style=\"margin-top: 0.2em; margin-bottom: 0.1em;\">Network Analysis in Python</h1>\n",
    "<h4 style=\"margin-top: 0.7em; margin-bottom: 0.3em; font-style:italic\">Investigating relationships between entities.</h4>\n",
    "</div>\n",
    "<br>"
   ]
  },
  {
   "cell_type": "markdown",
   "id": "795c5d4c-d60e-4d0d-9858-49f8e88fba9e",
   "metadata": {},
   "source": [
    "This tutroial notebook is about network analysis. We are going to learn what a network is, the different options to model a network and how to do all that in Python. "
   ]
  },
  {
   "cell_type": "markdown",
   "id": "e55da940-ddce-4cdc-a303-88374437deac",
   "metadata": {},
   "source": [
    "## __Structure__\n",
    "\n",
    "1. Abstract Data Structures \n",
    "\n",
    "2. Graph Theory\n",
    "\n",
    "    2.1 Network Theory\n",
    "\n",
    "\n",
    "3. The NetworkX package\n",
    "\n",
    "    3.1 Building a Graph\n",
    "\n",
    "    3.2 Directed Graphs\n",
    "    \n",
    "    3.3 Multi Graphs\n",
    "    \n",
    "    3.4 Layout Options\n",
    "\n",
    "4. Interactive Example\n"
   ]
  },
  {
   "cell_type": "markdown",
   "id": "be73767a-6c07-49e0-bb0f-c2e4a958baec",
   "metadata": {},
   "source": [
    "## __1. Abstract Data Structures__\n",
    "\n",
    "Recap: \n",
    "- We already got to know different types of data. The primitive data types are boolean, bytes, integer, floating etc.\n",
    "- We also know different operations that can be performed (depending on the data type) like addition, multiplication, division, smaller/greater, equals or not, modulo, logical or bitwise operations.\n",
    "\n",
    "\n",
    "\n",
    "#### Data Structures: \n",
    "\n",
    "*Data types* together with *operations defined on these data* that enable and realize access to and management of these data.\n",
    "\n",
    "\n",
    "**Examples** of abstract data structures we already know (from the lecture):\n",
    "* Arrays: systematic arrangement, usually in rows and columns.\n",
    "* ((Doubly/Circular) Linked) Lists: Linear arrangement of data elements (called nodes), each with a pointer to the next node.\n",
    "* Dictionaries: collection of key-value pairs, where each key is unique (appears at most once in the collection.\n",
    "* Binary Trees: either empty or a structure that consists of one node which has at max. two children (the left and the right child), which are binary trees themselves. \n",
    "* Hash Tables\n",
    "\n",
    "Some **new abstract data structures** are:\n",
    "* Queues: linear data structure, following the First-In-First-Out principle (FIFO)\n",
    "    * Operations are enqueue and dequeue\n",
    "* Stacks: linear data structure, following the Last-In-First-Out principle (LIFO)\n",
    "    * Operations are push and pop\n",
    "* **Graphs**: very intuitive way of modeling networks or relations (interdependencies) between entities\n",
    "    * graphs consist of vertices and edges\n",
    "    * Vertices: represent any kind of entitiy and can be labeled or not i.e. cities\n",
    "    * Edges: represent the relationship (labeled or not, directed or undirected) between the vertices, i.e. roads between cities"
   ]
  },
  {
   "cell_type": "markdown",
   "id": "673f5409-db7c-4fba-87cc-a962039e5c75",
   "metadata": {},
   "source": [
    "## __2. Graph Theory__\n",
    "\n",
    "*Graph Theory* is the study of graphs, which are data structures to model relationships between objects or entities.\n",
    "\n",
    "Formally, a graph is defined as G = (V, E), where V is the set of all vertices and E the set of all edges.\n",
    "* If we have a **directed graph**, the tuples in E are ordered pairs (v_1, v_2) (--> edge from v_1 to v_2). \n",
    "* If the graph is **undirected**, the tuples are unordered, i.e. {v_1, v_2} \n",
    "\n",
    "In an abstract data structure, Graphs are represented by **adjacency matrices** or **adjacency lists** \n",
    "\n",
    "* Adjacency matrix read from row to column (arrow from row to column)\n",
    "* Adjacency list\n",
    "\n",
    "\n",
    "#### __2.1 Networks__\n",
    "\n",
    "*Network Theory* is a part of graph theory, where you define networks as graphs\n",
    "\n",
    "- A collection of interconnected entities (the nodes)\n",
    "- Edges express the relationship between these entities\n",
    "- Can be found in many contexts \n",
    "    * Social science: Social Media Networks or Friendships $\\to$ group dynamics/find key influencers, behaviour adaption, spread of ideas/knowledge\n",
    "    * Transportation: Streets/Railways connecting cities $\\to$ what are efficient routes, what are bottlenecks\n",
    "    * Technology: Laptops/technical devices being connected over i.e. the internet $\\to$ understand the structure of an organisation\n",
    "    * Biological systems: Cells or proteins and their (chemical) interactions\n",
    "\n",
    "- Networks can be analysed with respect to \n",
    "    * the type of connection (directed/undirected, weighted, how many edges?) \n",
    "    * how information/ideas are spread? How is influencing whom?\n",
    "    * the number of nodes they contain: how does the network change over i.e. time (new nodes coming in, old ones dropping out, how do the patters change?)\n",
    "    * the pattern: how close are nodes, are there communities or groups of individuals?\n",
    "\n",
    "- Analyzing networks can be done by\n",
    "    * network visualization: overall structure/organisation of the network (our focus today)\n",
    "    * centrality measures: how central/important is a certain node? (learn more i.e. in \"Social Media Data Analysis\" next semester)\n",
    "\n",
    "\n",
    "Graphic representation, Adjacency Matrix (read row to colum), Adjacency List\n",
    "\n",
    "![title](src/Network_Illustration.png)\n",
    "![title](src/Adjacency_Matrix.png)\n",
    "![title](src/Adjacency_List.png)\n"
   ]
  },
  {
   "cell_type": "markdown",
   "id": "2064dff6-ae19-46f8-9ff6-b76e8d6bf229",
   "metadata": {},
   "source": [
    "## __3. The NetworkX package__"
   ]
  },
  {
   "cell_type": "markdown",
   "id": "431f6178-8435-472b-bda4-fafd56d75ea0",
   "metadata": {},
   "source": [
    "The package we are going to use for our network analysis in Python is `networX`. See the [networX-Tutorial](https://networkx.org/documentation/stable/tutorial.html) for further information."
   ]
  },
  {
   "cell_type": "code",
   "execution_count": 3,
   "id": "bffb5236-8e62-439f-88b8-8fad16c9ab34",
   "metadata": {},
   "outputs": [],
   "source": [
    "# Import the required packages\n",
    "import networkx as nx\n",
    "import pandas as pd\n",
    "import numpy as np\n",
    "\n",
    "# and later, for plotting\n",
    "import matplotlib.pyplot as plt\n",
    "import matplotlib"
   ]
  },
  {
   "cell_type": "markdown",
   "id": "29c7eb17-c0a4-42cf-bac3-b69acd664265",
   "metadata": {},
   "source": [
    "#### __3.1 Building a Graph:__\n",
    "\n",
    "In order to create a network we start of by inizialising an empty network without nodes or edges."
   ]
  },
  {
   "cell_type": "code",
   "execution_count": 4,
   "id": "dd4df8f2-78f8-45f7-8b56-789d2817c414",
   "metadata": {},
   "outputs": [
    {
     "data": {
      "image/png": "[encoded data removed]",
      "text/plain": [
       "<Figure size 640x480 with 1 Axes>"
      ]
     },
     "metadata": {},
     "output_type": "display_data"
    }
   ],
   "source": [
    "G = nx.Graph()\n",
    "\n",
    "# empty graph\n",
    "nx.draw(G)"
   ]
  },
  {
   "cell_type": "markdown",
   "id": "c990542b-eec2-4b4b-95c6-bf575cad76ec",
   "metadata": {},
   "source": [
    "__Adding nodes:__\n",
    "\n",
    "Since a network without nodes and edges is kind of useless and boring, we should start by adding nodes. \n",
    "Let's assume we are modelling a group of friends.\n",
    "\n",
    "Adding nodes (people) can be done either node, by node..."
   ]
  },
  {
   "cell_type": "code",
   "execution_count": 5,
   "id": "dc5b764c-5e1e-47c1-9e67-42c0923089cb",
   "metadata": {},
   "outputs": [
    {
     "data": {
      "image/png": "[encoded data removed]",
      "text/plain": [
       "<Figure size 640x480 with 1 Axes>"
      ]
     },
     "metadata": {},
     "output_type": "display_data"
    }
   ],
   "source": [
    "# Adding a first node\n",
    "G.add_node('Peter')\n",
    "\n",
    "# draw\n",
    "nx.draw(G, with_labels = True)"
   ]
  },
  {
   "cell_type": "code",
   "execution_count": 6,
   "metadata": {},
   "outputs": [
    {
     "data": {
      "image/png": "[encoded data removed]",
      "text/plain": [
       "<Figure size 640x480 with 1 Axes>"
      ]
     },
     "metadata": {},
     "output_type": "display_data"
    }
   ],
   "source": [
    "# Adding a second node\n",
    "G.add_node('Thomas')\n",
    "\n",
    "nx.draw(G, with_labels = True)"
   ]
  },
  {
   "cell_type": "markdown",
   "id": "0f097654-b616-471a-b764-ba1e26bf33c3",
   "metadata": {},
   "source": [
    "...or by adding the nodes from an iterable thing like lists:"
   ]
  },
  {
   "cell_type": "code",
   "execution_count": 7,
   "id": "2ad35033-9f9c-4014-bda0-b9bde2b861b7",
   "metadata": {},
   "outputs": [
    {
     "data": {
      "image/png": "[encoded data removed]",
      "text/plain": [
       "<Figure size 640x480 with 1 Axes>"
      ]
     },
     "metadata": {},
     "output_type": "display_data"
    }
   ],
   "source": [
    "# adding mutliple nodes (people) at once (from an iterable element, like a list)\n",
    "G.add_nodes_from(['Peter', 'Thomas', 'Anna'])\n",
    "\n",
    "nx.draw(G, with_labels = True)"
   ]
  },
  {
   "cell_type": "markdown",
   "metadata": {},
   "source": [
    "Using the `.nodes` method, we can see the currently present nodes in a graph. "
   ]
  },
  {
   "cell_type": "code",
   "execution_count": 8,
   "metadata": {},
   "outputs": [
    {
     "data": {
      "text/plain": [
       "NodeView(('Peter', 'Thomas', 'Anna'))"
      ]
     },
     "execution_count": 8,
     "metadata": {},
     "output_type": "execute_result"
    }
   ],
   "source": [
    "# View nodes\n",
    "G.nodes"
   ]
  },
  {
   "cell_type": "markdown",
   "id": "236b0b7e-f743-4796-86e4-d2ae2f83e4b6",
   "metadata": {},
   "source": [
    "__Adding attributes:__\n",
    "\n",
    "Since nodes represent entities they can have certain characteristics: i.e. politicians have a party-affiliation, people have a gender, age etc.\n",
    "We might want to store these attributes/metadata along with the respective node.\n",
    "\n",
    "These attributes can also be passed on in iterables using 2-tuples `[(node, attribute), (node, attribute), (node, attribute), ...]`"
   ]
  },
  {
   "cell_type": "code",
   "execution_count": 9,
   "id": "2c18d28f-7132-4a42-b7ac-00572d11b7d4",
   "metadata": {},
   "outputs": [
    {
     "data": {
      "text/plain": [
       "NodeDataView({'Peter': {'gender': 'male'}, 'Thomas': {'gender': 'male'}, 'Anna': {'gender': 'female'}, 'Tabea': {'age': '27'}})"
      ]
     },
     "execution_count": 9,
     "metadata": {},
     "output_type": "execute_result"
    }
   ],
   "source": [
    "# a new node with attribute\n",
    "G.add_node('Tabea', age='27')\n",
    "\n",
    "# adding an attribute to an existing node\n",
    "G.nodes['Thomas']['gender'] = 'male'\n",
    "\n",
    "# attributes for several nodes\n",
    "G.add_nodes_from([('Peter', {\"gender\": \"male\"}), ('Anna', {\"gender\": \"female\"})])\n",
    "\n",
    "# get information on all nodes with attributes\n",
    "# node 1-3 have gender, node 4 has an age\n",
    "G.nodes.data()\n",
    "\n",
    "G.nodes(data = True) # equivalent"
   ]
  },
  {
   "cell_type": "code",
   "execution_count": 10,
   "metadata": {},
   "outputs": [
    {
     "data": {
      "text/plain": [
       "NodeDataView({'Peter': {'gender': 'male', 'color': 'blue'}, 'Thomas': {'gender': 'male', 'color': 'purple'}, 'Anna': {'gender': 'female', 'color': 'green'}, 'Tabea': {'age': '27', 'gender': 'female', 'color': 'orange'}})"
      ]
     },
     "execution_count": 10,
     "metadata": {},
     "output_type": "execute_result"
    }
   ],
   "source": [
    "# nodes can also have multiple attributes\n",
    "# also adding Tabeas gender\n",
    "G.nodes['Tabea']['gender'] = 'female'\n",
    "\n",
    "# adding a favorite color of every person\n",
    "G.add_nodes_from([('Peter', {\"color\": \"blue\"}), ('Thomas', {'color' : 'purple'}), ('Anna', {\"color\": \"green\"}), ('Tabea', {'color' : 'orange'})])\n",
    "\n",
    "\n",
    "G.nodes.data()"
   ]
  },
  {
   "cell_type": "code",
   "execution_count": 11,
   "id": "a73b1af3",
   "metadata": {},
   "outputs": [
    {
     "data": {
      "text/plain": [
       "['blue', 'purple', 'green', 'orange']"
      ]
     },
     "execution_count": 11,
     "metadata": {},
     "output_type": "execute_result"
    }
   ],
   "source": [
    "G.nodes()\n",
    "[c for n,c in G.nodes(data='color')]"
   ]
  },
  {
   "cell_type": "code",
   "execution_count": 12,
   "metadata": {},
   "outputs": [
    {
     "data": {
      "image/png": "[encoded data removed]",
      "text/plain": [
       "<Figure size 640x480 with 1 Axes>"
      ]
     },
     "metadata": {},
     "output_type": "display_data"
    }
   ],
   "source": [
    "# in order to visualize the people in their favorite color, we first need to extract the colors from the nodes attributes into a list\n",
    "\n",
    "nx.draw(G, node_color = [c for n,c in G.nodes(data='color')], with_labels = True)"
   ]
  },
  {
   "cell_type": "code",
   "execution_count": 13,
   "metadata": {},
   "outputs": [
    {
     "data": {
      "text/plain": [
       "AtlasView({})"
      ]
     },
     "execution_count": 13,
     "metadata": {},
     "output_type": "execute_result"
    }
   ],
   "source": [
    "# Get nodes directly connected to another\n",
    "G.adj['Peter']  # or list(G.neighbors(1))\n",
    "\n",
    "# empty, we have to add edges!"
   ]
  },
  {
   "cell_type": "markdown",
   "id": "18ef03b9-33a2-48a8-a2b3-2758161c0e80",
   "metadata": {},
   "source": [
    "__Adding edges:__\n",
    "\n",
    "Well, usually we will construct networks to visualize relationships. So we need to add edges, representing these connections.\n",
    "In our example, we need to add the relationships between the people.\n",
    "\n",
    "Like nodes, edges can also be added to the graph step by step:"
   ]
  },
  {
   "cell_type": "code",
   "execution_count": 14,
   "id": "b50ebf2d-ce0b-4e66-a818-615c5ac2eba4",
   "metadata": {},
   "outputs": [
    {
     "data": {
      "image/png": "[encoded data removed]",
      "text/plain": [
       "<Figure size 640x480 with 1 Axes>"
      ]
     },
     "metadata": {},
     "output_type": "display_data"
    }
   ],
   "source": [
    "# add an edge from 1 to 2\n",
    "G.add_edge('Thomas', 'Peter')\n",
    "\n",
    "nx.draw(G, node_color = [c for n,c in G.nodes(data='color')], with_labels = True) "
   ]
  },
  {
   "cell_type": "markdown",
   "metadata": {},
   "source": [
    "Of course, also edges can have attributes, for example a weight, indicating how strong the connection is or the kind of relationships between people."
   ]
  },
  {
   "cell_type": "code",
   "execution_count": 15,
   "metadata": {},
   "outputs": [
    {
     "data": {
      "image/png": "[encoded data removed]",
      "text/plain": [
       "<Figure size 640x480 with 1 Axes>"
      ]
     },
     "metadata": {},
     "output_type": "display_data"
    }
   ],
   "source": [
    "# edge with an attribute indicating how close people (weight) are and what their relationship is (label)\n",
    "\n",
    "G.add_edge('Thomas', 'Peter', weight = 2, label = 'Kindergarden Friends')\n",
    "G.add_edge('Thomas', 'Anna', weight = 5, label = 'Siblings')\n",
    "\n",
    "nx.draw(G, node_color = [c for n,c in G.nodes(data='color')], with_labels = True)"
   ]
  },
  {
   "cell_type": "markdown",
   "metadata": {},
   "source": [
    "To visualize the relationships with their attributes, we need some extra steps:"
   ]
  },
  {
   "cell_type": "code",
   "execution_count": 16,
   "metadata": {},
   "outputs": [
    {
     "data": {
      "text/plain": [
       "EdgeDataView([('Peter', 'Thomas', {'weight': 2, 'label': 'Kindergarden Friends'}), ('Thomas', 'Anna', {'weight': 5, 'label': 'Siblings'})])"
      ]
     },
     "execution_count": 16,
     "metadata": {},
     "output_type": "execute_result"
    }
   ],
   "source": [
    "# inspect edges\n",
    "G.edges(data = True)"
   ]
  },
  {
   "cell_type": "code",
   "execution_count": 17,
   "metadata": {},
   "outputs": [
    {
     "data": {
      "text/plain": [
       "{('Peter', 'Thomas'): 'Kindergarden Friends', ('Thomas', 'Anna'): 'Siblings'}"
      ]
     },
     "execution_count": 17,
     "metadata": {},
     "output_type": "execute_result"
    }
   ],
   "source": [
    "# First, we need to extract the relationship labels for plotting into a separate dictionary\n",
    "# (loop over edges (consisting of person1, person2, attribut_dict) and extract p1 and p2 together with their relation (a['label]))\n",
    "\n",
    "edge_labels = dict([((p1, p2), a['label']) for p1, p2, a in G.edges(data=True)])\n",
    "\n",
    "edge_labels"
   ]
  },
  {
   "cell_type": "code",
   "execution_count": 18,
   "metadata": {},
   "outputs": [
    {
     "data": {
      "text/plain": [
       "{('Peter',\n",
       "  'Thomas'): Text(0.49282865122301667, 0.2306242070393489, 'Kindergarden Friends'),\n",
       " ('Thomas', 'Anna'): Text(0.4850157153352591, 0.3828290761541419, 'Siblings')}"
      ]
     },
     "execution_count": 18,
     "metadata": {},
     "output_type": "execute_result"
    },
    {
     "data": {
      "image/png": "[encoded data removed]",
      "text/plain": [
       "<Figure size 640x480 with 1 Axes>"
      ]
     },
     "metadata": {},
     "output_type": "display_data"
    }
   ],
   "source": [
    "# Second, we need to define a fixed layout (set a seed to the random generation), to ensure that the plotting of the \n",
    "# networks nodes and edge-labels happens in the same position\n",
    "layout = nx.random_layout(G, seed = 2) \n",
    "\n",
    "\n",
    "# plot network\n",
    "nx.draw(G, pos = layout, node_color = [c for n,c in G.nodes(data='color')], with_labels = True)\n",
    "# add edge labels\n",
    "nx.draw_networkx_edge_labels(G, pos = layout, edge_labels = edge_labels, font_size=8)"
   ]
  },
  {
   "cell_type": "markdown",
   "id": "11bb0281-bc0e-4a13-b62a-c800dc54ebd2",
   "metadata": {},
   "source": [
    "Again, we can also using an iterable object of 2-tuples (the two nodes that shall be connected) or 3-tuples (having an additional attribute) to add edges:"
   ]
  },
  {
   "cell_type": "code",
   "execution_count": 19,
   "id": "acf5ca18-eb63-41a4-a4ba-e53709d52c04",
   "metadata": {},
   "outputs": [
    {
     "data": {
      "text/plain": [
       "{('Peter',\n",
       "  'Thomas'): Text(0.4928286453444129, 0.23062418586639963, 'Kindergarden Friends'),\n",
       " ('Peter', 'Anna'): Text(0.42818133242634443, 0.17813086920031035, 'Couple'),\n",
       " ('Peter',\n",
       "  'Tabea'): Text(0.3203223812877303, 0.3225970156504928, 'Ex-Partner'),\n",
       " ('Thomas',\n",
       "  'Anna'): Text(0.48501520658171904, 0.38282866304499014, 'Siblings')}"
      ]
     },
     "execution_count": 19,
     "metadata": {},
     "output_type": "execute_result"
    },
    {
     "data": {
      "image/png": "[encoded data removed]",
      "text/plain": [
       "<Figure size 640x480 with 1 Axes>"
      ]
     },
     "metadata": {},
     "output_type": "display_data"
    }
   ],
   "source": [
    "# adding edges from iterables\n",
    "#G.add_edges_from([('Peter', 'Anna'), ('Peter', 'Tabea)])\n",
    "\n",
    "# and with attributes\n",
    "G.add_edges_from([('Peter', 'Anna', {'weight': 1, 'label' : 'Couple'}), ('Peter', 'Tabea', {'weight': 10, 'label' : 'Ex-Partner'})])\n",
    "\n",
    "\n",
    "# update relations-dictionary\n",
    "edge_labels = dict([((p1, p2), a['label']) for p1, p2, a in G.edges(data=True)])\n",
    "\n",
    "# plot\n",
    "nx.draw(G, pos = layout, node_color = [c for n,c in G.nodes(data='color')], with_labels = True)\n",
    "nx.draw_networkx_edge_labels(G, pos = layout, edge_labels = edge_labels, font_size=8)"
   ]
  },
  {
   "cell_type": "markdown",
   "metadata": {},
   "source": [
    "While in general the edge weights influence the positioning of nodes in a graph, there can still be layouts, in which Peter and Anna aren't the closest two nodes (although they have a weight of 1). In the background, however, a specified weight will always influence the positioning algorithm.\n",
    "\n",
    "I needed to played around with the seed for generating the random layout, until I got a matching and readable layout."
   ]
  },
  {
   "cell_type": "code",
   "execution_count": 20,
   "metadata": {},
   "outputs": [
    {
     "name": "stdout",
     "output_type": "stream",
     "text": [
      "Number of edges incident to node Peter: 3\n"
     ]
    }
   ],
   "source": [
    "# inspecting edges\n",
    "G.edges()\n",
    "\n",
    "\n",
    "print('Number of edges incident to node Peter: ', end='')\n",
    "print(G.degree['Peter'])  # the number of edges incident to 1 --> only node nr. 1\n"
   ]
  },
  {
   "cell_type": "markdown",
   "id": "dc9b96d7-679d-48d3-828a-6e0f23fe5e5d",
   "metadata": {},
   "source": [
    "__Removing nodes or edges:__\n",
    "\n",
    "In general, this works analogue to adding nodes or edges:\n",
    "\n",
    "Tabea is quiet far from the rest of the group. She and Peter broke off contact years ago, when Peter met Anna. Therefore, she is not relevant anymore and we can remove her from the network."
   ]
  },
  {
   "cell_type": "code",
   "execution_count": 21,
   "id": "168d0da7-2e5d-4cc6-9966-674551c5a7fa",
   "metadata": {},
   "outputs": [
    {
     "data": {
      "text/plain": [
       "{('Peter',\n",
       "  'Thomas'): Text(0.4928289760249688, 0.23062537687756146, 'Kindergarden Friends'),\n",
       " ('Peter', 'Anna'): Text(0.4281813984753911, 0.17812958259471517, 'Couple'),\n",
       " ('Peter',\n",
       "  'Tabea'): Text(0.3203216851345203, 0.32259880110768147, 'Ex-Partner'),\n",
       " ('Thomas',\n",
       "  'Anna'): Text(0.48501493337881035, 0.38282844120354237, 'Siblings')}"
      ]
     },
     "execution_count": 21,
     "metadata": {},
     "output_type": "execute_result"
    },
    {
     "data": {
      "image/png": "[encoded data removed]",
      "text/plain": [
       "<Figure size 640x480 with 1 Axes>"
      ]
     },
     "metadata": {},
     "output_type": "display_data"
    }
   ],
   "source": [
    "# remove a single node\n",
    "G.remove_node('Tabea')\n",
    "\n",
    "# plot\n",
    "nx.draw(G, pos = layout, node_color = [c for n,c in G.nodes(data='color')], with_labels = True)\n",
    "nx.draw_networkx_edge_labels(G, pos = layout, edge_labels = edge_labels, font_size=8)"
   ]
  },
  {
   "cell_type": "code",
   "execution_count": 22,
   "metadata": {},
   "outputs": [],
   "source": [
    "# removing all nodes and edges\n",
    "G.clear()"
   ]
  },
  {
   "cell_type": "markdown",
   "id": "14c2742e-a5f9-4f4d-aa7b-abae85abf5e2",
   "metadata": {},
   "source": [
    "#### __3.2 Directed Graphs:__\n",
    "\n",
    "[NetworkX](https://networkx.org/documentation/stable/reference/classes/digraph.html) also enables us to build directed graphs. This means the edges don't just connect two nodes (without a direction), but are an arrow pointing from the first node to the second one.\n",
    "\n",
    "For example, \n",
    "* While Peter is now in love with Anna (and vice versa), Tabea might still have feelings for him, but he does not have feelings for her.\n",
    "* If we were to model a Twitter network in terms of followers, for example, we would use directed graphs as a person A can follow B without B also following A.\n",
    "\n",
    "To see how to build such directed graphs, we now want to model a supply chain."
   ]
  },
  {
   "cell_type": "code",
   "execution_count": 23,
   "id": "fc2cfc67-e487-4843-81fb-af54a2f35e68",
   "metadata": {},
   "outputs": [
    {
     "data": {
      "image/png": "[encoded data removed]",
      "text/plain": [
       "<Figure size 640x480 with 1 Axes>"
      ]
     },
     "metadata": {},
     "output_type": "display_data"
    }
   ],
   "source": [
    "# initialize an empty directed graph\n",
    "DG = nx.DiGraph()\n",
    "\n",
    "# add edges (will also automatically add the nodes)\n",
    "DG.add_weighted_edges_from([('Supplier1', 'Production', 1), ('Supplier2', 'Production', 1), ('Production', 'Retailer', 1.5), ('Retailer', 'Customer', 0.5)])\n",
    "\n",
    "\n",
    "layout = nx.random_layout(DG, seed = 28) # I again, needed to play around with the seed. This time, I did not found a layout matching the weights. \n",
    "\n",
    "nx.draw(DG, pos = layout, with_labels = True)"
   ]
  },
  {
   "cell_type": "markdown",
   "id": "a9625e7e-2b32-4411-939d-e0c48fed0ee0",
   "metadata": {},
   "source": [
    "#### __3.3 Multi Graphs:__\n",
    "\n",
    "With [Multi Graphs](https://networkx.org/documentation/stable/reference/classes/multigraph.html) you can add several, distinct egdes connecting the same two nodes.\n",
    "\n",
    "[Multi Directed Graphs](https://networkx.org/documentation/stable/reference/classes/multidigraph.html) allow several, directed edges between two nodes.\n",
    "\n",
    "Visualizing these different edges can get quiet tricky. \n",
    "\n"
   ]
  },
  {
   "cell_type": "code",
   "execution_count": 24,
   "id": "90167ca4-1daf-4600-bc2c-2243aea8c68f",
   "metadata": {},
   "outputs": [
    {
     "name": "stdout",
     "output_type": "stream",
     "text": [
      "[(1, 2, 0), (1, 2, 1), (1, 3, 0), (2, 3, 0)]\n"
     ]
    },
    {
     "data": {
      "image/png": "[encoded data removed]",
      "text/plain": [
       "<Figure size 640x480 with 1 Axes>"
      ]
     },
     "metadata": {},
     "output_type": "display_data"
    }
   ],
   "source": [
    "MG = nx.MultiGraph()\n",
    "\n",
    "MG.add_edges_from([(1, 2), (1, 2), (2, 3), (1, 3)])\n",
    "\n",
    "print(MG.edges) # there actually exist two edges between 1 and 2\n",
    "\n",
    "nx.draw(MG, with_labels = True)"
   ]
  },
  {
   "cell_type": "markdown",
   "id": "8ddfbbb3-a026-41bb-8ae9-c1f59d751248",
   "metadata": {},
   "source": [
    "#### __3.4 Layout Options__\n",
    "\n",
    "When visualizing the networks we constructed, a useful parameter is the 'pos' parameter, where you can specify a layout.\n",
    "The layout is an algorithm determining the nodes positioning in the drawing.\n",
    "If not specified, the layout will be chosen randomly (resultingly, graphs may look different with every code re-run).\n",
    "\n",
    "Layout options are: [more details](https://networkx.org/documentation/stable/reference/drawing.html)\n",
    "* `shell_layout` : position nodes in concentric circles\n",
    "* `circular_layout`: positions nodes on a circle\n",
    "* `planar_layout`: position nodes without edge intersections\n",
    "* `kamada_kawai_layout` : position nodes using Kamada-Kawai path-length cost-function -> good for community detection\n",
    "* `spring_layout`\n",
    "* `spectral_layout`\n",
    "\n",
    "Usually, you will need to research an appropriate layout for your current analysis or play around with different layouts until you reach an insightful plot."
   ]
  },
  {
   "cell_type": "markdown",
   "metadata": {},
   "source": [
    "***"
   ]
  },
  {
   "cell_type": "markdown",
   "metadata": {},
   "source": [
    "## __4. Interactive Tutorial Part__\n",
    "\n",
    "In this part we are going to investigate the network structre behind swiss politicans tweets. \n",
    "\n",
    "#### a) Import the data\n",
    "\n",
    "\n",
    "Import the two provided csv-files containing \n",
    "1. the user profiles\n",
    "2. the twitter timeline between 2021-07-12 and 2022-07-12\n",
    "\n",
    "Make sure to load the columns \n",
    "* \"id\" \n",
    "* \"author_id\" and \n",
    "* \"retweet_user_id\" \n",
    "as strings (loading them as integers might cause issues).\n",
    "\n",
    "*Hint:* the `converters` argument in pd.read_csv might be helpful"
   ]
  },
  {
   "cell_type": "code",
   "execution_count": 1,
   "metadata": {},
   "outputs": [],
   "source": [
    "# import packages\n",
    "import networkx as nx\n",
    "import pandas as pd"
   ]
  },
  {
   "cell_type": "code",
   "execution_count": 7,
   "metadata": {},
   "outputs": [],
   "source": [
    "# Let's get active\n",
    "\n",
    "users = pd.read_csv(\"data/users.csv\",converters={\"id\":str})\n",
    "timelines_all = pd.read_csv(\"data/timelines.csv\",converters={\"author_id\":str,\"retweet_user_id\":str})"
   ]
  },
  {
   "cell_type": "markdown",
   "metadata": {},
   "source": [
    "#### b) Filter out the irrelevant tweets from the timelines dataframe. \n",
    "\n",
    "Only those tweets should remain in the dataframe, where the \"retweet_user_id\" corresponds to the \"user_id\" of one of the politicians. \\\n",
    "*Hint:* the `.isin()` function might come in handy and you can find the \"user_id\" of the politicians in the \"users\" dataframe."
   ]
  },
  {
   "cell_type": "code",
   "execution_count": 8,
   "metadata": {},
   "outputs": [],
   "source": [
    "# Let's get active\n",
    "relevant_tweets = timelines_all[timelines_all[\"retweet_user_id\"].isin(users[\"id\"])]\n",
    "\n"
   ]
  },
  {
   "cell_type": "markdown",
   "metadata": {},
   "source": [
    "#### c) Construct a list of vertices (nodes) \n",
    "\n",
    "The node attributes should containin the user ids, screen_names, and the political party label of the vertices.\n",
    "\n",
    "The node list should have the form:\n",
    "\n",
    "[('25254764', {'username': 'andreaskirstein', 'party': 'AL'}),\n",
    "('472372843', {'username': 'bergerwthur', 'party': 'AL'}),\n",
    "...]"
   ]
  },
  {
   "cell_type": "code",
   "execution_count": 9,
   "metadata": {},
   "outputs": [
    {
     "data": {
      "text/html": [
       "<div>\n",
       "<style scoped>\n",
       "    .dataframe tbody tr th:only-of-type {\n",
       "        vertical-align: middle;\n",
       "    }\n",
       "\n",
       "    .dataframe tbody tr th {\n",
       "        vertical-align: top;\n",
       "    }\n",
       "\n",
       "    .dataframe thead th {\n",
       "        text-align: right;\n",
       "    }\n",
       "</style>\n",
       "<table border=\"1\" class=\"dataframe\">\n",
       "  <thead>\n",
       "    <tr style=\"text-align: right;\">\n",
       "      <th></th>\n",
       "      <th>pinned_tweet_id</th>\n",
       "      <th>id</th>\n",
       "      <th>description</th>\n",
       "      <th>name</th>\n",
       "      <th>protected</th>\n",
       "      <th>verified</th>\n",
       "      <th>created_at</th>\n",
       "      <th>location</th>\n",
       "      <th>profile_image_url</th>\n",
       "      <th>username</th>\n",
       "      <th>...</th>\n",
       "      <th>public_metrics.followers_count</th>\n",
       "      <th>public_metrics.following_count</th>\n",
       "      <th>public_metrics.tweet_count</th>\n",
       "      <th>public_metrics.listed_count</th>\n",
       "      <th>entities.url.urls</th>\n",
       "      <th>entities.description.mentions</th>\n",
       "      <th>entities.description.urls</th>\n",
       "      <th>entities.description.hashtags</th>\n",
       "      <th>screenName</th>\n",
       "      <th>party</th>\n",
       "    </tr>\n",
       "  </thead>\n",
       "  <tbody>\n",
       "    <tr>\n",
       "      <th>0</th>\n",
       "      <td>1.180884e+18</td>\n",
       "      <td>25254764</td>\n",
       "      <td>Gemeinderat. Arbeitet in der ETH-Bibliothek. T...</td>\n",
       "      <td>Andreas Kirstein</td>\n",
       "      <td>False</td>\n",
       "      <td>False</td>\n",
       "      <td>2009-03-19T07:21:05.000Z</td>\n",
       "      <td>Zürich</td>\n",
       "      <td>https://pbs.twimg.com/profile_images/149375950...</td>\n",
       "      <td>andreaskirstein</td>\n",
       "      <td>...</td>\n",
       "      <td>734.0</td>\n",
       "      <td>518.0</td>\n",
       "      <td>13312.0</td>\n",
       "      <td>37.0</td>\n",
       "      <td>[{'start': 0, 'end': 23, 'url': 'https://t.co/...</td>\n",
       "      <td>NaN</td>\n",
       "      <td>NaN</td>\n",
       "      <td>NaN</td>\n",
       "      <td>andreaskirstein</td>\n",
       "      <td>AL</td>\n",
       "    </tr>\n",
       "    <tr>\n",
       "      <th>1</th>\n",
       "      <td>1.489913e+18</td>\n",
       "      <td>472372843</td>\n",
       "      <td>Alt-Gemeinderat Winterthur (Alternative Liste)...</td>\n",
       "      <td>David B. aus W. 📠 🚱🦬✭</td>\n",
       "      <td>False</td>\n",
       "      <td>False</td>\n",
       "      <td>2012-01-23T21:48:27.000Z</td>\n",
       "      <td>Winterthur</td>\n",
       "      <td>https://pbs.twimg.com/profile_images/131178937...</td>\n",
       "      <td>bergerwthur</td>\n",
       "      <td>...</td>\n",
       "      <td>525.0</td>\n",
       "      <td>373.0</td>\n",
       "      <td>8182.0</td>\n",
       "      <td>17.0</td>\n",
       "      <td>[{'start': 0, 'end': 23, 'url': 'https://t.co/...</td>\n",
       "      <td>NaN</td>\n",
       "      <td>NaN</td>\n",
       "      <td>NaN</td>\n",
       "      <td>bergerwthur</td>\n",
       "      <td>AL</td>\n",
       "    </tr>\n",
       "    <tr>\n",
       "      <th>2</th>\n",
       "      <td>NaN</td>\n",
       "      <td>1948049047</td>\n",
       "      <td>NaN</td>\n",
       "      <td>Martin Jucker</td>\n",
       "      <td>False</td>\n",
       "      <td>False</td>\n",
       "      <td>2013-10-08T22:14:11.000Z</td>\n",
       "      <td>NaN</td>\n",
       "      <td>https://pbs.twimg.com/profile_images/378800000...</td>\n",
       "      <td>maenij</td>\n",
       "      <td>...</td>\n",
       "      <td>5.0</td>\n",
       "      <td>21.0</td>\n",
       "      <td>4.0</td>\n",
       "      <td>0.0</td>\n",
       "      <td>NaN</td>\n",
       "      <td>NaN</td>\n",
       "      <td>NaN</td>\n",
       "      <td>NaN</td>\n",
       "      <td>maenij</td>\n",
       "      <td>AL</td>\n",
       "    </tr>\n",
       "    <tr>\n",
       "      <th>3</th>\n",
       "      <td>NaN</td>\n",
       "      <td>778497337</td>\n",
       "      <td>Seit 2002 Mitglied des Gemeinderats. Leiter Ko...</td>\n",
       "      <td>Walter Angst</td>\n",
       "      <td>False</td>\n",
       "      <td>False</td>\n",
       "      <td>2012-08-24T16:14:11.000Z</td>\n",
       "      <td>Zürich</td>\n",
       "      <td>https://pbs.twimg.com/profile_images/143018923...</td>\n",
       "      <td>walterangst</td>\n",
       "      <td>...</td>\n",
       "      <td>1025.0</td>\n",
       "      <td>762.0</td>\n",
       "      <td>2032.0</td>\n",
       "      <td>26.0</td>\n",
       "      <td>[{'start': 0, 'end': 23, 'url': 'https://t.co/...</td>\n",
       "      <td>[{'start': 63, 'end': 74, 'username': 'MV_Zuer...</td>\n",
       "      <td>NaN</td>\n",
       "      <td>NaN</td>\n",
       "      <td>walterangst</td>\n",
       "      <td>AL</td>\n",
       "    </tr>\n",
       "    <tr>\n",
       "      <th>4</th>\n",
       "      <td>NaN</td>\n",
       "      <td>383803341</td>\n",
       "      <td>Regierungsrätin/Finanzdirektorin</td>\n",
       "      <td>Astrid Bärtschi</td>\n",
       "      <td>False</td>\n",
       "      <td>False</td>\n",
       "      <td>2011-10-02T15:04:58.000Z</td>\n",
       "      <td>NaN</td>\n",
       "      <td>https://pbs.twimg.com/profile_images/148132495...</td>\n",
       "      <td>asba_j</td>\n",
       "      <td>...</td>\n",
       "      <td>1472.0</td>\n",
       "      <td>1447.0</td>\n",
       "      <td>5800.0</td>\n",
       "      <td>53.0</td>\n",
       "      <td>NaN</td>\n",
       "      <td>NaN</td>\n",
       "      <td>NaN</td>\n",
       "      <td>NaN</td>\n",
       "      <td>asba_j</td>\n",
       "      <td>BDP</td>\n",
       "    </tr>\n",
       "    <tr>\n",
       "      <th>...</th>\n",
       "      <td>...</td>\n",
       "      <td>...</td>\n",
       "      <td>...</td>\n",
       "      <td>...</td>\n",
       "      <td>...</td>\n",
       "      <td>...</td>\n",
       "      <td>...</td>\n",
       "      <td>...</td>\n",
       "      <td>...</td>\n",
       "      <td>...</td>\n",
       "      <td>...</td>\n",
       "      <td>...</td>\n",
       "      <td>...</td>\n",
       "      <td>...</td>\n",
       "      <td>...</td>\n",
       "      <td>...</td>\n",
       "      <td>...</td>\n",
       "      <td>...</td>\n",
       "      <td>...</td>\n",
       "      <td>...</td>\n",
       "      <td>...</td>\n",
       "    </tr>\n",
       "    <tr>\n",
       "      <th>328</th>\n",
       "      <td>NaN</td>\n",
       "      <td>1307125520</td>\n",
       "      <td>SVP-Nationalrätin TG, Geschäftsfrau</td>\n",
       "      <td>Verena Herzog</td>\n",
       "      <td>False</td>\n",
       "      <td>False</td>\n",
       "      <td>2013-03-27T10:26:07.000Z</td>\n",
       "      <td>Frauenfeld</td>\n",
       "      <td>https://pbs.twimg.com/profile_images/343740423...</td>\n",
       "      <td>verenaherzog</td>\n",
       "      <td>...</td>\n",
       "      <td>1835.0</td>\n",
       "      <td>901.0</td>\n",
       "      <td>1407.0</td>\n",
       "      <td>107.0</td>\n",
       "      <td>[{'start': 0, 'end': 22, 'url': 'http://t.co/B...</td>\n",
       "      <td>NaN</td>\n",
       "      <td>NaN</td>\n",
       "      <td>NaN</td>\n",
       "      <td>verenaherzog</td>\n",
       "      <td>SVP</td>\n",
       "    </tr>\n",
       "    <tr>\n",
       "      <th>329</th>\n",
       "      <td>NaN</td>\n",
       "      <td>1017350089</td>\n",
       "      <td>Seit 1993 in der Schweiz, verheiratet, 1 Kind,...</td>\n",
       "      <td>Yvette Estermann</td>\n",
       "      <td>False</td>\n",
       "      <td>False</td>\n",
       "      <td>2012-12-17T12:15:21.000Z</td>\n",
       "      <td>Schweiz</td>\n",
       "      <td>https://pbs.twimg.com/profile_images/644400819...</td>\n",
       "      <td>yvette67yvette</td>\n",
       "      <td>...</td>\n",
       "      <td>1948.0</td>\n",
       "      <td>176.0</td>\n",
       "      <td>576.0</td>\n",
       "      <td>113.0</td>\n",
       "      <td>[{'start': 0, 'end': 20, 'url': 'http://t.co/I...</td>\n",
       "      <td>NaN</td>\n",
       "      <td>NaN</td>\n",
       "      <td>NaN</td>\n",
       "      <td>yvette67yvette</td>\n",
       "      <td>SVP</td>\n",
       "    </tr>\n",
       "    <tr>\n",
       "      <th>330</th>\n",
       "      <td>1.446920e+18</td>\n",
       "      <td>121068845</td>\n",
       "      <td>Give me Liberty, or give me Death!\\n\\nDer Staa...</td>\n",
       "      <td>Claudio Zanetti</td>\n",
       "      <td>False</td>\n",
       "      <td>False</td>\n",
       "      <td>2010-03-08T10:36:57.000Z</td>\n",
       "      <td>Gossau (ZH), Schweiz</td>\n",
       "      <td>https://pbs.twimg.com/profile_images/153241242...</td>\n",
       "      <td>zac1967</td>\n",
       "      <td>...</td>\n",
       "      <td>14642.0</td>\n",
       "      <td>10026.0</td>\n",
       "      <td>149896.0</td>\n",
       "      <td>242.0</td>\n",
       "      <td>[{'start': 0, 'end': 23, 'url': 'https://t.co/...</td>\n",
       "      <td>NaN</td>\n",
       "      <td>NaN</td>\n",
       "      <td>NaN</td>\n",
       "      <td>zac1967</td>\n",
       "      <td>SVP</td>\n",
       "    </tr>\n",
       "    <tr>\n",
       "      <th>331</th>\n",
       "      <td>1.367472e+18</td>\n",
       "      <td>606601702</td>\n",
       "      <td>Doch, das kann man schon machen. Gehe den Weg ...</td>\n",
       "      <td>Christoph Stampfli</td>\n",
       "      <td>False</td>\n",
       "      <td>False</td>\n",
       "      <td>2012-06-12T20:05:11.000Z</td>\n",
       "      <td>Zürich, Schweiz</td>\n",
       "      <td>https://pbs.twimg.com/profile_images/132736255...</td>\n",
       "      <td>chstampfli</td>\n",
       "      <td>...</td>\n",
       "      <td>1257.0</td>\n",
       "      <td>601.0</td>\n",
       "      <td>5370.0</td>\n",
       "      <td>29.0</td>\n",
       "      <td>NaN</td>\n",
       "      <td>[{'start': 89, 'end': 101, 'username': 'HayekC...</td>\n",
       "      <td>NaN</td>\n",
       "      <td>NaN</td>\n",
       "      <td>chstampfli</td>\n",
       "      <td>UP</td>\n",
       "    </tr>\n",
       "    <tr>\n",
       "      <th>332</th>\n",
       "      <td>NaN</td>\n",
       "      <td>238913030</td>\n",
       "      <td>Präsident @lp_schweiz. Steuerberater bei @swis...</td>\n",
       "      <td>Silvan Amberg</td>\n",
       "      <td>False</td>\n",
       "      <td>False</td>\n",
       "      <td>2011-01-16T09:49:34.000Z</td>\n",
       "      <td>Panama</td>\n",
       "      <td>https://pbs.twimg.com/profile_images/152554589...</td>\n",
       "      <td>silvan_amberg</td>\n",
       "      <td>...</td>\n",
       "      <td>1794.0</td>\n",
       "      <td>396.0</td>\n",
       "      <td>10762.0</td>\n",
       "      <td>43.0</td>\n",
       "      <td>NaN</td>\n",
       "      <td>[{'start': 10, 'end': 21, 'username': 'lp_schw...</td>\n",
       "      <td>NaN</td>\n",
       "      <td>[{'start': 138, 'end': 148, 'tag': 'coronasyl'}]</td>\n",
       "      <td>silvan_amberg</td>\n",
       "      <td>UP</td>\n",
       "    </tr>\n",
       "  </tbody>\n",
       "</table>\n",
       "<p>333 rows × 21 columns</p>\n",
       "</div>"
      ],
      "text/plain": [
       "     pinned_tweet_id          id  \\\n",
       "0       1.180884e+18    25254764   \n",
       "1       1.489913e+18   472372843   \n",
       "2                NaN  1948049047   \n",
       "3                NaN   778497337   \n",
       "4                NaN   383803341   \n",
       "..               ...         ...   \n",
       "328              NaN  1307125520   \n",
       "329              NaN  1017350089   \n",
       "330     1.446920e+18   121068845   \n",
       "331     1.367472e+18   606601702   \n",
       "332              NaN   238913030   \n",
       "\n",
       "                                           description                   name  \\\n",
       "0    Gemeinderat. Arbeitet in der ETH-Bibliothek. T...       Andreas Kirstein   \n",
       "1    Alt-Gemeinderat Winterthur (Alternative Liste)...  David B. aus W. 📠 🚱🦬✭   \n",
       "2                                                  NaN          Martin Jucker   \n",
       "3    Seit 2002 Mitglied des Gemeinderats. Leiter Ko...           Walter Angst   \n",
       "4                     Regierungsrätin/Finanzdirektorin        Astrid Bärtschi   \n",
       "..                                                 ...                    ...   \n",
       "328                SVP-Nationalrätin TG, Geschäftsfrau          Verena Herzog   \n",
       "329  Seit 1993 in der Schweiz, verheiratet, 1 Kind,...       Yvette Estermann   \n",
       "330  Give me Liberty, or give me Death!\\n\\nDer Staa...        Claudio Zanetti   \n",
       "331  Doch, das kann man schon machen. Gehe den Weg ...     Christoph Stampfli   \n",
       "332  Präsident @lp_schweiz. Steuerberater bei @swis...          Silvan Amberg   \n",
       "\n",
       "     protected  verified                created_at              location  \\\n",
       "0        False     False  2009-03-19T07:21:05.000Z                Zürich   \n",
       "1        False     False  2012-01-23T21:48:27.000Z            Winterthur   \n",
       "2        False     False  2013-10-08T22:14:11.000Z                   NaN   \n",
       "3        False     False  2012-08-24T16:14:11.000Z                Zürich   \n",
       "4        False     False  2011-10-02T15:04:58.000Z                   NaN   \n",
       "..         ...       ...                       ...                   ...   \n",
       "328      False     False  2013-03-27T10:26:07.000Z            Frauenfeld   \n",
       "329      False     False  2012-12-17T12:15:21.000Z               Schweiz   \n",
       "330      False     False  2010-03-08T10:36:57.000Z  Gossau (ZH), Schweiz   \n",
       "331      False     False  2012-06-12T20:05:11.000Z       Zürich, Schweiz   \n",
       "332      False     False  2011-01-16T09:49:34.000Z                Panama   \n",
       "\n",
       "                                     profile_image_url         username  ...  \\\n",
       "0    https://pbs.twimg.com/profile_images/149375950...  andreaskirstein  ...   \n",
       "1    https://pbs.twimg.com/profile_images/131178937...      bergerwthur  ...   \n",
       "2    https://pbs.twimg.com/profile_images/378800000...           maenij  ...   \n",
       "3    https://pbs.twimg.com/profile_images/143018923...      walterangst  ...   \n",
       "4    https://pbs.twimg.com/profile_images/148132495...           asba_j  ...   \n",
       "..                                                 ...              ...  ...   \n",
       "328  https://pbs.twimg.com/profile_images/343740423...     verenaherzog  ...   \n",
       "329  https://pbs.twimg.com/profile_images/644400819...   yvette67yvette  ...   \n",
       "330  https://pbs.twimg.com/profile_images/153241242...          zac1967  ...   \n",
       "331  https://pbs.twimg.com/profile_images/132736255...       chstampfli  ...   \n",
       "332  https://pbs.twimg.com/profile_images/152554589...    silvan_amberg  ...   \n",
       "\n",
       "    public_metrics.followers_count  public_metrics.following_count  \\\n",
       "0                            734.0                           518.0   \n",
       "1                            525.0                           373.0   \n",
       "2                              5.0                            21.0   \n",
       "3                           1025.0                           762.0   \n",
       "4                           1472.0                          1447.0   \n",
       "..                             ...                             ...   \n",
       "328                         1835.0                           901.0   \n",
       "329                         1948.0                           176.0   \n",
       "330                        14642.0                         10026.0   \n",
       "331                         1257.0                           601.0   \n",
       "332                         1794.0                           396.0   \n",
       "\n",
       "     public_metrics.tweet_count  public_metrics.listed_count  \\\n",
       "0                       13312.0                         37.0   \n",
       "1                        8182.0                         17.0   \n",
       "2                           4.0                          0.0   \n",
       "3                        2032.0                         26.0   \n",
       "4                        5800.0                         53.0   \n",
       "..                          ...                          ...   \n",
       "328                      1407.0                        107.0   \n",
       "329                       576.0                        113.0   \n",
       "330                    149896.0                        242.0   \n",
       "331                      5370.0                         29.0   \n",
       "332                     10762.0                         43.0   \n",
       "\n",
       "                                     entities.url.urls  \\\n",
       "0    [{'start': 0, 'end': 23, 'url': 'https://t.co/...   \n",
       "1    [{'start': 0, 'end': 23, 'url': 'https://t.co/...   \n",
       "2                                                  NaN   \n",
       "3    [{'start': 0, 'end': 23, 'url': 'https://t.co/...   \n",
       "4                                                  NaN   \n",
       "..                                                 ...   \n",
       "328  [{'start': 0, 'end': 22, 'url': 'http://t.co/B...   \n",
       "329  [{'start': 0, 'end': 20, 'url': 'http://t.co/I...   \n",
       "330  [{'start': 0, 'end': 23, 'url': 'https://t.co/...   \n",
       "331                                                NaN   \n",
       "332                                                NaN   \n",
       "\n",
       "                         entities.description.mentions  \\\n",
       "0                                                  NaN   \n",
       "1                                                  NaN   \n",
       "2                                                  NaN   \n",
       "3    [{'start': 63, 'end': 74, 'username': 'MV_Zuer...   \n",
       "4                                                  NaN   \n",
       "..                                                 ...   \n",
       "328                                                NaN   \n",
       "329                                                NaN   \n",
       "330                                                NaN   \n",
       "331  [{'start': 89, 'end': 101, 'username': 'HayekC...   \n",
       "332  [{'start': 10, 'end': 21, 'username': 'lp_schw...   \n",
       "\n",
       "    entities.description.urls  \\\n",
       "0                         NaN   \n",
       "1                         NaN   \n",
       "2                         NaN   \n",
       "3                         NaN   \n",
       "4                         NaN   \n",
       "..                        ...   \n",
       "328                       NaN   \n",
       "329                       NaN   \n",
       "330                       NaN   \n",
       "331                       NaN   \n",
       "332                       NaN   \n",
       "\n",
       "                        entities.description.hashtags       screenName party  \n",
       "0                                                 NaN  andreaskirstein    AL  \n",
       "1                                                 NaN      bergerwthur    AL  \n",
       "2                                                 NaN           maenij    AL  \n",
       "3                                                 NaN      walterangst    AL  \n",
       "4                                                 NaN           asba_j   BDP  \n",
       "..                                                ...              ...   ...  \n",
       "328                                               NaN     verenaherzog   SVP  \n",
       "329                                               NaN   yvette67yvette   SVP  \n",
       "330                                               NaN          zac1967   SVP  \n",
       "331                                               NaN       chstampfli    UP  \n",
       "332  [{'start': 138, 'end': 148, 'tag': 'coronasyl'}]    silvan_amberg    UP  \n",
       "\n",
       "[333 rows x 21 columns]"
      ]
     },
     "execution_count": 9,
     "metadata": {},
     "output_type": "execute_result"
    }
   ],
   "source": [
    "# From looking at the df\n",
    "users\n",
    "# we can see that we are interested in the columns: id, username, party"
   ]
  },
  {
   "cell_type": "code",
   "execution_count": 10,
   "metadata": {},
   "outputs": [
    {
     "data": {
      "text/plain": [
       "'2352090884'"
      ]
     },
     "execution_count": 10,
     "metadata": {},
     "output_type": "execute_result"
    }
   ],
   "source": [
    "# We can acces them as\n",
    "users['id']\n",
    "\n",
    "# and one entry\n",
    "users['id'].iloc[100]"
   ]
  },
  {
   "cell_type": "markdown",
   "metadata": {},
   "source": [
    "Utilize this to iterate over each user, and extract his/her id, username and party affiliation into the desired format (shown above)."
   ]
  },
  {
   "cell_type": "code",
   "execution_count": 13,
   "metadata": {},
   "outputs": [
    {
     "data": {
      "text/plain": [
       "[('25254764', {'username': 'andreaskirstein', 'party': 'AL'}),\n",
       " ('472372843', {'username': 'bergerwthur', 'party': 'AL'}),\n",
       " ('1948049047', {'username': 'maenij', 'party': 'AL'}),\n",
       " ('778497337', {'username': 'walterangst', 'party': 'AL'}),\n",
       " ('383803341', {'username': 'asba_j', 'party': 'BDP'}),\n",
       " ('891735564', {'username': 'beining_bdp', 'party': 'BDP'}),\n",
       " ('113616426', {'username': 'bernhardguhl', 'party': 'BDP'}),\n",
       " ('327334911', {'username': 'boschettisteen', 'party': 'BDP'}),\n",
       " ('894109866', {'username': 'charlespiguet', 'party': 'BDP'}),\n",
       " ('98725334', {'username': 'enea_martinelli', 'party': 'BDP'}),\n",
       " ('275182338', {'username': 'fa_b_au', 'party': 'BDP'}),\n",
       " ('1117756470', {'username': 'hubertackermann', 'party': 'BDP'}),\n",
       " ('490318804', {'username': 'jangnaegi', 'party': 'BDP'}),\n",
       " ('1543019749', {'username': 'lorenzhess', 'party': 'BDP'}),\n",
       " ('366183985', {'username': 'l_thurnherr', 'party': 'BDP'}),\n",
       " ('279572642', {'username': 'lukaswopmann', 'party': 'BDP'}),\n",
       " ('313901005', {'username': 'maberner', 'party': 'BDP'}),\n",
       " ('1044821581', {'username': 'marcel_erhard', 'party': 'BDP'}),\n",
       " ('280891535', {'username': 'markusdietschi', 'party': 'BDP'}),\n",
       " ('1110088908', {'username': 'martinkrumm', 'party': 'BDP'}),\n",
       " ('428852601', {'username': 'michaelmerkli', 'party': 'BDP'}),\n",
       " ('1507081720679608327', {'username': 'nataschawinkler', 'party': 'BDP'}),\n",
       " ('3235941796', {'username': 'ninazosso', 'party': 'BDP'}),\n",
       " ('2834845605', {'username': 'patrickcaminada', 'party': 'BDP'}),\n",
       " ('3130974321', {'username': 'philipkohli', 'party': 'BDP'}),\n",
       " ('357461846', {'username': 'phtschopp', 'party': 'BDP'}),\n",
       " ('1110140305', {'username': 'rolandweiner', 'party': 'BDP'}),\n",
       " ('1432396646273404935', {'username': 'sandraborgeaud', 'party': 'BDP'}),\n",
       " ('133430591', {'username': 'scoutsky', 'party': 'BDP'}),\n",
       " ('84531913', {'username': 'virginieheyer', 'party': 'BDP'}),\n",
       " ('3294132370', {'username': 'aebischer_fr', 'party': 'CVP'}),\n",
       " ('3261853661', {'username': 'anaisgirardin', 'party': 'CVP'}),\n",
       " ('2842999804', {'username': 'aoz86', 'party': 'CVP'}),\n",
       " ('2581264719', {'username': 'arotzetter', 'party': 'CVP'}),\n",
       " ('3009770681', {'username': 'avaida10', 'party': 'CVP'}),\n",
       " ('278262326', {'username': 'barazzoneg', 'party': 'CVP'}),\n",
       " ('469549703', {'username': 'bindermarianne', 'party': 'CVP'}),\n",
       " ('2281050907', {'username': 'blaisefasel', 'party': 'CVP'}),\n",
       " ('372868572', {'username': 'bucherralf', 'party': 'CVP'}),\n",
       " ('1360306513', {'username': 'bulliardmarbach', 'party': 'CVP'}),\n",
       " ('15045769', {'username': 'bwertli', 'party': 'CVP'}),\n",
       " ('56680979', {'username': 'chantaldon', 'party': 'CVP'}),\n",
       " ('327254073', {'username': 'ch_lohr', 'party': 'CVP'}),\n",
       " ('220694516', {'username': 'daphinoff', 'party': 'CVP'}),\n",
       " ('627501106', {'username': 'ddebuman', 'party': 'CVP'}),\n",
       " ('2373285084', {'username': 'doutazjp', 'party': 'CVP'}),\n",
       " ('2462559213', {'username': 'dtschuempi', 'party': 'CVP'}),\n",
       " ('1679199847', {'username': 'epprene', 'party': 'CVP'}),\n",
       " ('1229406704', {'username': 'fabienpeiry', 'party': 'CVP'}),\n",
       " ('991720068', {'username': 'fregazzi', 'party': 'CVP'}),\n",
       " ('3291242279', {'username': 'gerhardpfister', 'party': 'CVP'}),\n",
       " ('1546945862412259328', {'username': 'glenn_steiger', 'party': 'CVP'}),\n",
       " ('40891237', {'username': 'guymettan', 'party': 'CVP'}),\n",
       " ('2287088816', {'username': 'handyverkaufer', 'party': 'CVP'}),\n",
       " ('320691293', {'username': 'jonashufschmid', 'party': 'CVP'}),\n",
       " ('387799111', {'username': 'karinemarti2950', 'party': 'CVP'}),\n",
       " ('1374146013204713473', {'username': 'katzenstrecker', 'party': 'CVP'}),\n",
       " ('107704740', {'username': 'konradhaedener', 'party': 'CVP'}),\n",
       " ('1917702372', {'username': 'ljelmini', 'party': 'CVP'}),\n",
       " ('766428638', {'username': 'm8werner', 'party': 'CVP'}),\n",
       " ('50262858', {'username': 'marcoromanoppd', 'party': 'CVP'}),\n",
       " ('265864436', {'username': 'martinschwegler', 'party': 'CVP'}),\n",
       " ('410365074', {'username': 'mederiton', 'party': 'CVP'}),\n",
       " ('76610992', {'username': 'mfpj', 'party': 'CVP'}),\n",
       " ('250160994', {'username': 'musikdorf_ernen', 'party': 'CVP'}),\n",
       " ('22144198', {'username': 'nadiaswiss', 'party': 'CVP'}),\n",
       " ('1039391222', {'username': 'nmy1986', 'party': 'CVP'}),\n",
       " ('19857816', {'username': 'pascalsieber', 'party': 'CVP'}),\n",
       " ('1155352670', {'username': 'piccoliadriano', 'party': 'CVP'}),\n",
       " ('1694773740', {'username': 'pierreportmann', 'party': 'CVP'}),\n",
       " ('96339142', {'username': 'pmbregy', 'party': 'CVP'}),\n",
       " ('68384070', {'username': 'sandro_morelli', 'party': 'CVP'}),\n",
       " ('487603423', {'username': 'schneidertino', 'party': 'CVP'}),\n",
       " ('1171720065911349248', {'username': 'shpetimxhemaili', 'party': 'CVP'}),\n",
       " ('945757002', {'username': 'sophiebuchs', 'party': 'CVP'}),\n",
       " ('829085641', {'username': 'svenrossier', 'party': 'CVP'}),\n",
       " ('3302607988', {'username': 'th_ammann', 'party': 'CVP'}),\n",
       " ('1681557823', {'username': 'thibautvultier', 'party': 'CVP'}),\n",
       " ('72560162', {'username': 'violapamherd', 'party': 'CVP'}),\n",
       " ('822019374', {'username': 'wylergut', 'party': 'CVP'}),\n",
       " ('1501253489472724993', {'username': 'yayaso5', 'party': 'CVP'}),\n",
       " ('2380493820', {'username': 'yvonnebuergin', 'party': 'CVP'}),\n",
       " ('2204581354', {'username': 'benjamincarisch', 'party': 'EDU'}),\n",
       " ('1150269242', {'username': 'samuelkullmann', 'party': 'EDU'}),\n",
       " ('3256832229', {'username': 'anhewe', 'party': 'EVP'}),\n",
       " ('30185757', {'username': 'baba08', 'party': 'EVP'}),\n",
       " ('222115979', {'username': 'elialeiser', 'party': 'EVP'}),\n",
       " ('237767765', {'username': 'familienmann', 'party': 'EVP'}),\n",
       " ('152392775', {'username': 'jaschamueller', 'party': 'EVP'}),\n",
       " ('237719055', {'username': 'joelblunier', 'party': 'EVP'}),\n",
       " ('111710939', {'username': 'marcjost', 'party': 'EVP'}),\n",
       " ('2226700633', {'username': 'mariannestreiff', 'party': 'EVP'}),\n",
       " ('319605397', {'username': 'urspluess', 'party': 'EVP'}),\n",
       " ('492370783', {'username': 'valerieoppliger', 'party': 'EVP'}),\n",
       " ('3076789331', {'username': 'wenger_markus', 'party': 'EVP'}),\n",
       " ('3251284443', {'username': 'adrian_schoop', 'party': 'FDP'}),\n",
       " ('1425976159', {'username': 'alains1991', 'party': 'FDP'}),\n",
       " ('196051480', {'username': 'ammannsi', 'party': 'FDP'}),\n",
       " ('2191394055', {'username': 'arnogrueter', 'party': 'FDP'}),\n",
       " ('25859409', {'username': 'badertscher_b', 'party': 'FDP'}),\n",
       " ('2352090884', {'username': 'birgittsiegrist', 'party': 'FDP'}),\n",
       " ('226887947', {'username': 'cesseiva', 'party': 'FDP'}),\n",
       " ('3361914917', {'username': 'charly_freitag', 'party': 'FDP'}),\n",
       " ('226922317', {'username': 'christamarkwald', 'party': 'FDP'}),\n",
       " ('2912625905', {'username': 'cluscher', 'party': 'FDP'}),\n",
       " ('50444931', {'username': 'cwasi', 'party': 'FDP'}),\n",
       " ('2380297398', {'username': 'danygygli', 'party': 'FDP'}),\n",
       " ('15037028', {'username': 'david_puippe', 'party': 'FDP'}),\n",
       " ('372267716', {'username': 'dominikzehnder', 'party': 'FDP'}),\n",
       " ('915454916', {'username': 'd_stolz', 'party': 'FDP'}),\n",
       " ('108776027', {'username': 'eliasmaier', 'party': 'FDP'}),\n",
       " ('571036558', {'username': 'fabiengrognuz', 'party': 'FDP'}),\n",
       " ('1882314842', {'username': 'fritzglauser', 'party': 'FDP'}),\n",
       " ('218599193', {'username': 'gregorbachmann', 'party': 'FDP'}),\n",
       " ('35465127', {'username': 'hhiltpold', 'party': 'FDP'}),\n",
       " ('208975633', {'username': 'hoppschoop', 'party': 'FDP'}),\n",
       " ('270609583', {'username': 'ignaziocassis', 'party': 'FDP'}),\n",
       " ('716002872', {'username': 'jauslinmatthias', 'party': 'FDP'}),\n",
       " ('201021337', {'username': 'jcfrei', 'party': 'FDP'}),\n",
       " ('541700459', {'username': 'jrizzi1', 'party': 'FDP'}),\n",
       " ('447357042', {'username': 'laurentnaville', 'party': 'FDP'}),\n",
       " ('526475487', {'username': 'luciomaron', 'party': 'FDP'}),\n",
       " ('474779455', {'username': 'lukasmanser', 'party': 'FDP'}),\n",
       " ('1377145082516627459', {'username': 'maheer92', 'party': 'FDP'}),\n",
       " ('3166981397', {'username': 'majariniker', 'party': 'FDP'}),\n",
       " ('964618177', {'username': 'mariannemeister', 'party': 'FDP'}),\n",
       " ('131777731', {'username': 'mauruszeier', 'party': 'FDP'}),\n",
       " ('1489153199567257603', {'username': 'max_ammann', 'party': 'FDP'}),\n",
       " ('534772439', {'username': 'michelaris', 'party': 'FDP'}),\n",
       " ('315127472', {'username': 'michellosey', 'party': 'FDP'}),\n",
       " ('3115174017', {'username': 'nadinegobet', 'party': 'FDP'}),\n",
       " ('3288858424', {'username': 'nazmije_fdp', 'party': 'FDP'}),\n",
       " ('1523004824605892609', {'username': 'odi87', 'party': 'FDP'}),\n",
       " ('121476812', {'username': 'orianeengel', 'party': 'FDP'}),\n",
       " ('365423665', {'username': 'petragoessi', 'party': 'FDP'}),\n",
       " ('225455856', {'username': 'phil_haerri', 'party': 'FDP'}),\n",
       " ('17210003', {'username': 'pmollet', 'party': 'FDP'}),\n",
       " ('2708785556', {'username': 'priscakoller', 'party': 'FDP'}),\n",
       " ('361833256', {'username': 'roccocattaneo', 'party': 'FDP'}),\n",
       " ('2690397324', {'username': 'roland_mahler', 'party': 'FDP'}),\n",
       " ('36623123', {'username': 'rolinwavre', 'party': 'FDP'}),\n",
       " ('1174328328', {'username': 'saviomichellod', 'party': 'FDP'}),\n",
       " ('1275837576', {'username': 'sennhaus', 'party': 'FDP'}),\n",
       " ('39053037', {'username': 'sennpascal', 'party': 'FDP'}),\n",
       " ('906382573', {'username': 'staehelip', 'party': 'FDP'}),\n",
       " ('50084415', {'username': 'st_mumenthaler', 'party': 'FDP'}),\n",
       " ('2157178127', {'username': 'sveninaebnit', 'party': 'FDP'}),\n",
       " ('1538444729569927169', {'username': 'thommenmarc', 'party': 'FDP'}),\n",
       " ('3292661121', {'username': 'urscadruvi', 'party': 'FDP'}),\n",
       " ('988406912', {'username': 'vincentdaher', 'party': 'FDP'}),\n",
       " ('3311908468', {'username': 'antgrandjean', 'party': 'GLP'}),\n",
       " ('123362849', {'username': 'beatflach', 'party': 'GLP'}),\n",
       " ('1451658652654448643', {'username': 'chameleonish', 'party': 'GLP'}),\n",
       " ('560233693', {'username': 'claude_grosjean', 'party': 'GLP'}),\n",
       " ('348698553', {'username': 'dennisbriechle', 'party': 'GLP'}),\n",
       " ('32182383', {'username': 'dominikpeter', 'party': 'GLP'}),\n",
       " ('508402001', {'username': 'dtruessel', 'party': 'GLP'}),\n",
       " ('380203773', {'username': 'fschoeni', 'party': 'GLP'}),\n",
       " ('3344116936', {'username': 'hannabyland', 'party': 'GLP'}),\n",
       " ('797039359', {'username': 'hildmac', 'party': 'GLP'}),\n",
       " ('32445225', {'username': 'jgasserbeck', 'party': 'GLP'}),\n",
       " ('15583129', {'username': 'johleut', 'party': 'GLP'}),\n",
       " ('463149099', {'username': 'juerg_grossen', 'party': 'GLP'}),\n",
       " ('2913929512', {'username': 'kathrinbertschy', 'party': 'GLP'}),\n",
       " ('3130578568', {'username': 'klemenzsomm', 'party': 'GLP'}),\n",
       " ('322771412', {'username': 'kopplaura', 'party': 'GLP'}),\n",
       " ('150405182', {'username': 'lukasmuellerme', 'party': 'GLP'}),\n",
       " ('2838221926', {'username': 'mariocozzio', 'party': 'GLP'}),\n",
       " ('2852052946', {'username': 'm_bangerter', 'party': 'GLP'}),\n",
       " ('67149451', {'username': 'michael_koepfli', 'party': 'GLP'}),\n",
       " ('322591414', {'username': 'm_kobel', 'party': 'GLP'}),\n",
       " ('910631641', {'username': 'mkottelat', 'party': 'GLP'}),\n",
       " ('293040714', {'username': 'nilsrickert', 'party': 'GLP'}),\n",
       " ('2687317038', {'username': 'orunp', 'party': 'GLP'}),\n",
       " ('255044183', {'username': 'ralphhess', 'party': 'GLP'}),\n",
       " ('2706684398', {'username': 'rigicrack', 'party': 'GLP'}),\n",
       " ('2576805210', {'username': 'rjosch3', 'party': 'GLP'}),\n",
       " ('462391307', {'username': 'salome_mathys', 'party': 'GLP'}),\n",
       " ('90717216', {'username': 'schnedom', 'party': 'GLP'}),\n",
       " ('3064079890', {'username': 'tobias_bruderer', 'party': 'GLP'}),\n",
       " ('444095399', {'username': 'uelifisch', 'party': 'GLP'}),\n",
       " ('264811652', {'username': 'alinetrede', 'party': 'Green'}),\n",
       " ('3293000393', {'username': 'amstutzpierre', 'party': 'Green'}),\n",
       " ('18119052', {'username': 'anderageru', 'party': 'Green'}),\n",
       " ('41081201', {'username': 'anlustenberger', 'party': 'Green'}),\n",
       " ('3043551741', {'username': 'antoniobauen', 'party': 'Green'}),\n",
       " ('2782771610', {'username': 'bavarelc', 'party': 'Green'}),\n",
       " ('14675346', {'username': 'bglaettli', 'party': 'Green'}),\n",
       " ('1623070765', {'username': 'blaisekropf', 'party': 'Green'}),\n",
       " ('627412337', {'username': 'brunovanoni1', 'party': 'Green'}),\n",
       " ('389455382', {'username': 'bwyssf', 'party': 'Green'}),\n",
       " ('102620846', {'username': 'conniefauver', 'party': 'Green'}),\n",
       " ('3083459956', {'username': 'cvansinger', 'party': 'Green'}),\n",
       " ('599505796', {'username': 'esterhartmannge', 'party': 'Green'}),\n",
       " ('3127901095', {'username': 'fahmarco', 'party': 'Green'}),\n",
       " ('18983525', {'username': 'ffivaz', 'party': 'Green'}),\n",
       " ('2951837405', {'username': 'flobrenzikofer', 'party': 'Green'}),\n",
       " ('182760916', {'username': 'frickerjonas', 'party': 'Green'}),\n",
       " ('3236860221', {'username': 'heidimueck', 'party': 'Green'}),\n",
       " ('353099559', {'username': 'irinastudhalter', 'party': 'Green'}),\n",
       " ('3081163757', {'username': 'janremund', 'party': 'Green'}),\n",
       " ('153567833', {'username': 'jeanrossiaud', 'party': 'Green'}),\n",
       " ('400170885', {'username': 'jolandaoberle', 'party': 'Green'}),\n",
       " ('2977817361', {'username': 'kaelinirene', 'party': 'Green'}),\n",
       " ('2441812039', {'username': 'kilian_baumann', 'party': 'Green'}),\n",
       " ('2945863024', {'username': 'klauskirchmayr', 'party': 'Green'}),\n",
       " ('2374449524', {'username': 'lena_fra', 'party': 'Green'}),\n",
       " ('324967174', {'username': 'leonoreporchet', 'party': 'Green'}),\n",
       " ('303060420', {'username': 'mbossard13', 'party': 'Green'}),\n",
       " ('2867489266', {'username': 'mirjamballmer', 'party': 'Green'}),\n",
       " ('446465450', {'username': 'mirjko', 'party': 'Green'}),\n",
       " ('2353332248', {'username': 'mtoengi', 'party': 'Green'}),\n",
       " ('108401646', {'username': 'natalieimboden', 'party': 'Green'}),\n",
       " ('3018353182', {'username': 'nicole_bardet', 'party': 'Green'}),\n",
       " ('3059318854', {'username': 'pierreeckert', 'party': 'Green'}),\n",
       " ('2292598170', {'username': 'raffaela_hanaer', 'party': 'Green'}),\n",
       " ('1530247224', {'username': 'regularytz', 'party': 'Green'}),\n",
       " ('1459541623', {'username': 'sandereggen', 'party': 'Green'}),\n",
       " ('3257088023', {'username': 'sibelarslanbs', 'party': 'Green'}),\n",
       " ('2998021035', {'username': 'varaceline', 'party': 'Green'}),\n",
       " ('107695453', {'username': 'yvonnegilli', 'party': 'Green'}),\n",
       " ('250650617', {'username': 'adsangines', 'party': 'SP'}),\n",
       " ('72811364', {'username': 'alein93', 'party': 'SP'}),\n",
       " ('2200152908', {'username': 'ameliebargetzi', 'party': 'SP'}),\n",
       " ('410678629', {'username': 'andrealuthi', 'party': 'SP'}),\n",
       " ('3064480845', {'username': 'anetleh', 'party': 'SP'}),\n",
       " ('442530817', {'username': 'anundfuereuch', 'party': 'SP'}),\n",
       " ('562728765', {'username': 'arseneperroud', 'party': 'SP'}),\n",
       " ('561224752', {'username': 'atoebak', 'party': 'SP'}),\n",
       " ('3027684674', {'username': 'aureliewidmer', 'party': 'SP'}),\n",
       " ('2536865558', {'username': 'bagysi', 'party': 'SP'}),\n",
       " ('90186360', {'username': 'ballymag', 'party': 'SP'}),\n",
       " ('67100346', {'username': 'beaheim', 'party': 'SP'}),\n",
       " ('703578574', {'username': 'bedabaumgartner', 'party': 'SP'}),\n",
       " ('157431387', {'username': 'carlosommaruga', 'party': 'SP'}),\n",
       " ('21436172', {'username': 'cedricwermuth', 'party': 'SP'}),\n",
       " ('2739009069', {'username': 'christina_burgi', 'party': 'SP'}),\n",
       " ('2696249536', {'username': 'claufriedl', 'party': 'SP'}),\n",
       " ('89185270', {'username': 'daroth', 'party': 'SP'}),\n",
       " ('131606659', {'username': 'david_bonny', 'party': 'SP'}),\n",
       " ('703348634', {'username': 'desiree_jaun', 'party': 'SP'}),\n",
       " ('2369622853', {'username': 'dominiquespaeth', 'party': 'SP'}),\n",
       " ('246714911', {'username': 'edithgraf', 'party': 'SP'}),\n",
       " ('1052528581', {'username': 'enussbi', 'party': 'SP'}),\n",
       " ('217706717', {'username': 'eviallemann', 'party': 'SP'}),\n",
       " ('12392362', {'username': 'felixzrh', 'party': 'SP'}),\n",
       " ('100600286', {'username': 'flovolution', 'party': 'SP'}),\n",
       " ('921948812', {'username': 'fwasserfallen', 'party': 'SP'}),\n",
       " ('100220618', {'username': 'gaelribordy', 'party': 'SP'}),\n",
       " ('3156300123', {'username': 'gaetanemonet', 'party': 'SP'}),\n",
       " ('1454590644', {'username': 'gauthierglassey', 'party': 'SP'}),\n",
       " ('125446338', {'username': 'gendergirl', 'party': 'SP'}),\n",
       " ('1349080068', {'username': 'giopardini', 'party': 'SP'}),\n",
       " ('2955140206', {'username': 'gkubski', 'party': 'SP'}),\n",
       " ('394015947', {'username': 'gujermia', 'party': 'SP'}),\n",
       " ('835164259', {'username': 'g_zaugg', 'party': 'SP'}),\n",
       " ('278156382', {'username': 'ha_bay', 'party': 'SP'}),\n",
       " ('70925530', {'username': 'hurnib', 'party': 'SP'}),\n",
       " ('2962642473', {'username': 'j_brandenburger', 'party': 'SP'}),\n",
       " ('244437560', {'username': 'jcschwaab', 'party': 'SP'}),\n",
       " ('1106353656', {'username': 'jknbaumgartner', 'party': 'SP'}),\n",
       " ('116451792', {'username': 'jonpult', 'party': 'SP'}),\n",
       " ('372274029', {'username': 'karinschwiter', 'party': 'SP'}),\n",
       " ('113604696', {'username': 'ka_schweizer', 'party': 'SP'}),\n",
       " ('142740018', {'username': 'kimachtacht', 'party': 'SP'}),\n",
       " ('463801306', {'username': 'kinddesregens', 'party': 'SP'}),\n",
       " ('701519132', {'username': 'klopfenleona', 'party': 'SP'}),\n",
       " ('391605203', {'username': 'krisschuepbach', 'party': 'SP'}),\n",
       " ('1277355908', {'username': 'krumartkrumart', 'party': 'SP'}),\n",
       " ('1272294386', {'username': 'lauraperret2', 'party': 'SP'}),\n",
       " ('720549679', {'username': 'l_muhlemann', 'party': 'SP'}),\n",
       " ('573597528', {'username': 'luk_schumacher', 'party': 'SP'}),\n",
       " ('2299620997', {'username': 'ma_aebersold', 'party': 'SP'}),\n",
       " ('280789941', {'username': 'm_aebischer', 'party': 'SP'}),\n",
       " ('815578430', {'username': 'mairejack', 'party': 'SP'}),\n",
       " ('485885985', {'username': 'manueltornare', 'party': 'SP'}),\n",
       " ('780565772', {'username': 'martinamunz', 'party': 'SP'}),\n",
       " ('521214214', {'username': 'matthieu_loup', 'party': 'SP'}),\n",
       " ('3208802783', {'username': 'meretschindler', 'party': 'SP'}),\n",
       " ('1575630127', {'username': 'miriam_locher', 'party': 'SP'}),\n",
       " ('2963698324', {'username': 'mirjamkohler', 'party': 'SP'}),\n",
       " ('409328046', {'username': 'moijeanluc', 'party': 'SP'}),\n",
       " ('1228066279', {'username': 'nmasshardt', 'party': 'SP'}),\n",
       " ('778644518', {'username': 'nordmannroger', 'party': 'SP'}),\n",
       " ('146871559', {'username': 'pascalbassu', 'party': 'SP'}),\n",
       " ('75777484', {'username': 'philipphadorn', 'party': 'SP'}),\n",
       " ('572650692', {'username': 'pierremauron', 'party': 'SP'}),\n",
       " ('1425476995', {'username': 'rafaelmoergeli', 'party': 'SP'}),\n",
       " ('2462089760', {'username': 'raphaellejavet', 'party': 'SP'}),\n",
       " ('282036814', {'username': 'rogerdeneys', 'party': 'SP'}),\n",
       " ('1690746518', {'username': 'samiramarti', 'party': 'SP'}),\n",
       " ('308991012', {'username': 'sarah_wyss', 'party': 'SP'}),\n",
       " ('1972886172', {'username': 'scheckig', 'party': 'SP'}),\n",
       " ('303319566', {'username': 'schenkersilvia', 'party': 'SP'}),\n",
       " ('54567499', {'username': 'scythez', 'party': 'SP'}),\n",
       " ('869615587', {'username': 'simonzurich', 'party': 'SP'}),\n",
       " ('205452545', {'username': 'steiertjf', 'party': 'SP'}),\n",
       " ('332184640', {'username': 'susanneslo', 'party': 'SP'}),\n",
       " ('2748626978', {'username': 'suter_gabriela', 'party': 'SP'}),\n",
       " ('271491742', {'username': 'swerlen', 'party': 'SP'}),\n",
       " ('231102861', {'username': 'thomaswenger', 'party': 'SP'}),\n",
       " ('3195312010', {'username': 'thtanquerel', 'party': 'SP'}),\n",
       " ('2336695268', {'username': 'timrue', 'party': 'SP'}),\n",
       " ('3014722408', {'username': 'urshuber1', 'party': 'SP'}),\n",
       " ('621159422', {'username': 'valerie_piller', 'party': 'SP'}),\n",
       " ('712258374', {'username': 'virginiakoepfli', 'party': 'SP'}),\n",
       " ('304432144', {'username': 'vivianehoesli', 'party': 'SP'}),\n",
       " ('227087638', {'username': 'yferi', 'party': 'SP'}),\n",
       " ('3096372447', {'username': 'yrb_nr2015', 'party': 'SP'}),\n",
       " ('20409342', {'username': 'yvesaeschbacher', 'party': 'SP'}),\n",
       " ('1351458116', {'username': 'acgraber', 'party': 'SVP'}),\n",
       " ('2395783423', {'username': 'adrianamstutz', 'party': 'SVP'}),\n",
       " ('385293664', {'username': 'babasteinemann', 'party': 'SVP'}),\n",
       " ('1191463865395109890', {'username': 'benjaminkasper', 'party': 'SVP'}),\n",
       " ('2172700965', {'username': 'buehler4bern', 'party': 'SVP'}),\n",
       " ('222903677', {'username': 'christianimark', 'party': 'SVP'}),\n",
       " ('1280965525', {'username': 'dianagutjahr1', 'party': 'SVP'}),\n",
       " ('1371100894482329600', {'username': 'fgrueter', 'party': 'SVP'}),\n",
       " ('1891136730', {'username': 'horstmarkus', 'party': 'SVP'}),\n",
       " ('2817964771', {'username': 'joshua_lutz97', 'party': 'SVP'}),\n",
       " ('114183852', {'username': 'lukaslanzrein', 'party': 'SVP'}),\n",
       " ('2968753979', {'username': 'nicibretscher', 'party': 'SVP'}),\n",
       " ('1311150493', {'username': '_nicolastocker', 'party': 'SVP'}),\n",
       " ('42466723', {'username': 'oliverstraub', 'party': 'SVP'}),\n",
       " ('991128949', {'username': 'peterbrandch', 'party': 'SVP'}),\n",
       " ('1225713308407357442', {'username': 'pschaefli', 'party': 'SVP'}),\n",
       " ('556256043', {'username': 'sasollberger', 'party': 'SVP'}),\n",
       " ('2370410863', {'username': 'valerie55820879', 'party': 'SVP'}),\n",
       " ('1307125520', {'username': 'verenaherzog', 'party': 'SVP'}),\n",
       " ('1017350089', {'username': 'yvette67yvette', 'party': 'SVP'}),\n",
       " ('121068845', {'username': 'zac1967', 'party': 'SVP'}),\n",
       " ('606601702', {'username': 'chstampfli', 'party': 'UP'}),\n",
       " ('238913030', {'username': 'silvan_amberg', 'party': 'UP'})]"
      ]
     },
     "execution_count": 13,
     "metadata": {},
     "output_type": "execute_result"
    }
   ],
   "source": [
    "# Let's get active\n",
    "\n",
    "vertices = []\n",
    "\n",
    "for row in range(0,len(users)):\n",
    "\n",
    "    id = users[\"id\"].iloc[row]\n",
    "    username = users[\"username\"].iloc[row]\n",
    "    party = users[\"party\"].iloc[row]\n",
    "\n",
    "    vertices.append((id,{\"username\":username,\"party\":party}))\n",
    "\n",
    "vertices"
   ]
  },
  {
   "cell_type": "markdown",
   "metadata": {},
   "source": [
    "#### d) Then build a list of connections between politicians (the edges), \n",
    "\n",
    "Every edge is a pair of two users that exchanged *at least* one retweet with each other (*regardless* of the direction). \n",
    "\n",
    "The edge list should have the form: \n",
    "\n",
    "[('25254764', '2353332248'),\n",
    "('25254764', '778497337'),\n",
    "...]\n"
   ]
  },
  {
   "cell_type": "markdown",
   "metadata": {},
   "source": [
    "__Think for a moment:__\n",
    "\n",
    "How would you conceptually approach this task?\n",
    "\n",
    "* Where do you need to loop over? \n",
    "* What do you need to compare? \n",
    "* How can you ensure each pair is only listes once (independant of the order)?"
   ]
  },
  {
   "cell_type": "code",
   "execution_count": 17,
   "metadata": {},
   "outputs": [
    {
     "ename": "ValueError",
     "evalue": "The truth value of a Series is ambiguous. Use a.empty, a.bool(), a.item(), a.any() or a.all().",
     "output_type": "error",
     "traceback": [
      "\u001b[1;31m---------------------------------------------------------------------------\u001b[0m",
      "\u001b[1;31mValueError\u001b[0m                                Traceback (most recent call last)",
      "\u001b[1;32m~\\AppData\\Local\\Temp\\ipykernel_11720\\3729832966.py\u001b[0m in \u001b[0;36m?\u001b[1;34m()\u001b[0m\n\u001b[0;32m      6\u001b[0m \u001b[1;32mfor\u001b[0m \u001b[0mindex\u001b[0m\u001b[1;33m,\u001b[0m \u001b[0mrow\u001b[0m \u001b[1;32min\u001b[0m \u001b[0menumerate\u001b[0m\u001b[1;33m(\u001b[0m\u001b[0mrelevant_tweets\u001b[0m\u001b[1;33m)\u001b[0m\u001b[1;33m:\u001b[0m\u001b[1;33m\u001b[0m\u001b[1;33m\u001b[0m\u001b[0m\n\u001b[0;32m      7\u001b[0m     \u001b[0mA\u001b[0m \u001b[1;33m=\u001b[0m \u001b[0mrelevant_tweets\u001b[0m\u001b[1;33m[\u001b[0m\u001b[1;34m\"author_id\"\u001b[0m\u001b[1;33m]\u001b[0m\u001b[1;33m\u001b[0m\u001b[1;33m\u001b[0m\u001b[0m\n\u001b[0;32m      8\u001b[0m     \u001b[0mB\u001b[0m \u001b[1;33m=\u001b[0m \u001b[0mrelevant_tweets\u001b[0m\u001b[1;33m[\u001b[0m\u001b[1;34m\"retweet_user_id\"\u001b[0m\u001b[1;33m]\u001b[0m\u001b[1;33m\u001b[0m\u001b[1;33m\u001b[0m\u001b[0m\n\u001b[0;32m      9\u001b[0m \u001b[1;33m\u001b[0m\u001b[0m\n\u001b[1;32m---> 10\u001b[1;33m     \u001b[1;32mif\u001b[0m \u001b[1;33m(\u001b[0m\u001b[0mA\u001b[0m \u001b[1;33m!=\u001b[0m \u001b[0mB\u001b[0m \u001b[1;32mand\u001b[0m \u001b[1;33m(\u001b[0m\u001b[0mA\u001b[0m\u001b[1;33m,\u001b[0m\u001b[0mB\u001b[0m\u001b[1;33m)\u001b[0m \u001b[1;32mnot\u001b[0m \u001b[1;32min\u001b[0m \u001b[0medges\u001b[0m \u001b[1;32mand\u001b[0m \u001b[1;33m(\u001b[0m\u001b[0mB\u001b[0m\u001b[1;33m,\u001b[0m\u001b[0mA\u001b[0m\u001b[1;33m)\u001b[0m \u001b[1;32mnot\u001b[0m \u001b[1;32min\u001b[0m \u001b[0medges\u001b[0m\u001b[1;33m)\u001b[0m\u001b[1;33m:\u001b[0m\u001b[1;33m\u001b[0m\u001b[1;33m\u001b[0m\u001b[0m\n\u001b[0m\u001b[0;32m     11\u001b[0m         \u001b[0medges\u001b[0m\u001b[1;33m.\u001b[0m\u001b[0mappend\u001b[0m\u001b[1;33m(\u001b[0m\u001b[1;33m(\u001b[0m\u001b[0mA\u001b[0m\u001b[1;33m,\u001b[0m\u001b[0mB\u001b[0m\u001b[1;33m)\u001b[0m\u001b[1;33m)\u001b[0m\u001b[1;33m\u001b[0m\u001b[1;33m\u001b[0m\u001b[0m\n\u001b[0;32m     12\u001b[0m \u001b[1;33m\u001b[0m\u001b[0m\n\u001b[0;32m     13\u001b[0m \u001b[0medges\u001b[0m\u001b[1;33m\u001b[0m\u001b[1;33m\u001b[0m\u001b[0m\n",
      "\u001b[1;32mc:\\Users\\bache\\AppData\\Local\\Programs\\Python\\Python313\\Lib\\site-packages\\pandas\\core\\generic.py\u001b[0m in \u001b[0;36m?\u001b[1;34m(self)\u001b[0m\n\u001b[0;32m   1575\u001b[0m     \u001b[1;33m@\u001b[0m\u001b[0mfinal\u001b[0m\u001b[1;33m\u001b[0m\u001b[1;33m\u001b[0m\u001b[0m\n\u001b[0;32m   1576\u001b[0m     \u001b[1;32mdef\u001b[0m \u001b[0m__nonzero__\u001b[0m\u001b[1;33m(\u001b[0m\u001b[0mself\u001b[0m\u001b[1;33m)\u001b[0m \u001b[1;33m->\u001b[0m \u001b[0mNoReturn\u001b[0m\u001b[1;33m:\u001b[0m\u001b[1;33m\u001b[0m\u001b[1;33m\u001b[0m\u001b[0m\n\u001b[1;32m-> 1577\u001b[1;33m         raise ValueError(\n\u001b[0m\u001b[0;32m   1578\u001b[0m             \u001b[1;33mf\"\u001b[0m\u001b[1;33mThe truth value of a \u001b[0m\u001b[1;33m{\u001b[0m\u001b[0mtype\u001b[0m\u001b[1;33m(\u001b[0m\u001b[0mself\u001b[0m\u001b[1;33m)\u001b[0m\u001b[1;33m.\u001b[0m\u001b[0m__name__\u001b[0m\u001b[1;33m}\u001b[0m\u001b[1;33m is ambiguous. \u001b[0m\u001b[1;33m\"\u001b[0m\u001b[1;33m\u001b[0m\u001b[1;33m\u001b[0m\u001b[0m\n\u001b[0;32m   1579\u001b[0m             \u001b[1;34m\"Use a.empty, a.bool(), a.item(), a.any() or a.all().\"\u001b[0m\u001b[1;33m\u001b[0m\u001b[1;33m\u001b[0m\u001b[0m\n\u001b[0;32m   1580\u001b[0m         \u001b[1;33m)\u001b[0m\u001b[1;33m\u001b[0m\u001b[1;33m\u001b[0m\u001b[0m\n",
      "\u001b[1;31mValueError\u001b[0m: The truth value of a Series is ambiguous. Use a.empty, a.bool(), a.item(), a.any() or a.all()."
     ]
    }
   ],
   "source": [
    "# New list, to store the unique retweet-relations, the edges\n",
    "edges = []\n",
    "\n",
    "# Let's get active\n",
    "\n",
    "for index, row in enumerate(relevant_tweets):\n",
    "    A = relevant_tweets[\"author_id\"]\n",
    "    B = relevant_tweets[\"retweet_user_id\"]\n",
    "\n",
    "    if (A != B and (A,B) not in edges and (B,A) not in edges):\n",
    "        edges.append((A,B))\n",
    "\n",
    "edges"
   ]
  },
  {
   "cell_type": "markdown",
   "metadata": {},
   "source": [
    "#### e) Create and empty graph object, and then add the nodes and the edges (from the list you created)."
   ]
  },
  {
   "cell_type": "code",
   "execution_count": null,
   "metadata": {},
   "outputs": [],
   "source": [
    "# Let's get active\n",
    "\n"
   ]
  },
  {
   "cell_type": "markdown",
   "metadata": {},
   "source": [
    "#### f) Plot the network. \n",
    "\n",
    "Make sure to color the nodes according to the political party label of the politician and add a legend to the plot.\n",
    "\n",
    "*Hint:* use the optional function parameters `nodelist` and `node_color` to pass a list of nodes and a list of corresponding colors to the drawing function.\n"
   ]
  },
  {
   "cell_type": "code",
   "execution_count": null,
   "metadata": {},
   "outputs": [],
   "source": [
    "# Import packages\n",
    "import matplotlib.pyplot as plt\n",
    "import matplotlib"
   ]
  },
  {
   "cell_type": "markdown",
   "metadata": {},
   "source": [
    "##### 1) Color-Dictionary depending on party"
   ]
  },
  {
   "cell_type": "code",
   "execution_count": null,
   "metadata": {},
   "outputs": [],
   "source": [
    "# Dictionary with the party colors (manually defined)\n",
    "colors = {'AL': \"firebrick\", 'BDP': 'yellow', 'CVP' : \"orange\", 'EDU': \"red\", 'EVP': \"gold\", \n",
    "          'FDP': 'deepskyblue', 'GLP' : \"limegreen\", 'Green' : \"greenyellow\", 'SP' : \"coral\", \n",
    "          'SVP' : \"seagreen\", 'UP' : \"goldenrod\"}\n"
   ]
  },
  {
   "cell_type": "markdown",
   "metadata": {},
   "source": [
    "##### 2) Create a list of colors, in the same order as the nodes (politicians) $\\to$ needed for plotting\n",
    "\n",
    "Therefore, you need to iterate over the vertices (nodes), get the party affiliation of the current politician and depending in that one, add the color from the dictionary."
   ]
  },
  {
   "cell_type": "code",
   "execution_count": null,
   "metadata": {},
   "outputs": [],
   "source": [
    "# List to store the colors\n",
    "node_color = []\n"
   ]
  },
  {
   "cell_type": "code",
   "execution_count": null,
   "metadata": {},
   "outputs": [],
   "source": [
    "# inspect the vertices, how can we access the party label of a single politician?\n",
    "\n",
    "vertices"
   ]
  },
  {
   "cell_type": "code",
   "execution_count": null,
   "metadata": {},
   "outputs": [],
   "source": [
    "# Let's get active\n"
   ]
  },
  {
   "cell_type": "markdown",
   "metadata": {},
   "source": [
    "Now, we have the nodes, the edges and the reffering color for each node (politician).\n",
    "\n",
    "We can start plotting!\n",
    "\n",
    "Play around with layouts, the `node_size` and `width` parameter and dont forget to add the colors."
   ]
  },
  {
   "cell_type": "code",
   "execution_count": null,
   "metadata": {},
   "outputs": [],
   "source": [
    "# Set a figure size\n",
    "plt.figure(figsize = (15, 10))\n",
    "\n",
    "\n",
    "\n",
    "# Choose/Play around with a layout \n",
    "\n",
    "\n",
    "\n",
    "# Plot the network\n",
    "\n"
   ]
  },
  {
   "cell_type": "markdown",
   "metadata": {},
   "source": [
    "To make the plot more comprehensive, you can also add a title as well as a legend, explaining the party colors "
   ]
  },
  {
   "cell_type": "code",
   "execution_count": null,
   "metadata": {},
   "outputs": [],
   "source": [
    "# set figure size\n",
    "plt.figure(figsize = (15, 10))\n",
    "\n",
    "\n",
    "# define a legend:\n",
    "\n",
    "\n",
    "# make the legend\n",
    "\n",
    "\n",
    "# set a title\n",
    "\n",
    "\n",
    "# draw\n",
    "\n"
   ]
  }
 ],
 "metadata": {
  "kernelspec": {
   "display_name": "Python 3",
   "language": "python",
   "name": "python3"
  },
  "language_info": {
   "codemirror_mode": {
    "name": "ipython",
    "version": 3
   },
   "file_extension": ".py",
   "mimetype": "text/x-python",
   "name": "python",
   "nbconvert_exporter": "python",
   "pygments_lexer": "ipython3",
   "version": "3.13.0"
  }
 },
 "nbformat": 4,
 "nbformat_minor": 5
}
